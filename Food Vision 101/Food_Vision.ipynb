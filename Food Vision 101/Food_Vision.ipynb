{
  "cells": [
    {
      "cell_type": "markdown",
      "metadata": {
        "id": "view-in-github",
        "colab_type": "text"
      },
      "source": [
        "<a href=\"https://colab.research.google.com/github/ImSouritra/Deep-Learning-and-Neural-Networks/blob/master/Food%20Vision%20101/Food_Vision.ipynb\" target=\"_parent\"><img src=\"https://colab.research.google.com/assets/colab-badge.svg\" alt=\"Open In Colab\"/></a>"
      ]
    },
    {
      "cell_type": "markdown",
      "metadata": {
        "id": "HTp95QFcFfqT"
      },
      "source": [
        "# Food Vision Big"
      ]
    },
    {
      "cell_type": "code",
      "execution_count": 1,
      "metadata": {
        "colab": {
          "base_uri": "https://localhost:8080/"
        },
        "id": "K4SjP3txEvus",
        "outputId": "c3a46f1b-03bc-473e-8967-72910ce6c1a5"
      },
      "outputs": [
        {
          "output_type": "stream",
          "name": "stdout",
          "text": [
            "GPU 0: Tesla T4 (UUID: GPU-fa5c8b80-5340-678b-9e17-36bf971e9aa9)\n"
          ]
        }
      ],
      "source": [
        "!nvidia-smi -L"
      ]
    },
    {
      "cell_type": "markdown",
      "metadata": {
        "id": "F-V8ykSjGUo7"
      },
      "source": [
        "## Getting helper functions\n",
        "\n",
        "I've created few helper functions and uploaded them on github to avoid reusing the same functions over and over again\n"
      ]
    },
    {
      "cell_type": "code",
      "execution_count": 2,
      "metadata": {
        "colab": {
          "base_uri": "https://localhost:8080/"
        },
        "id": "u3EQz-eDFO0g",
        "outputId": "f396d102-f9a8-4452-c64b-c0209ea98c6c"
      },
      "outputs": [
        {
          "output_type": "stream",
          "name": "stdout",
          "text": [
            "--2022-10-21 04:23:18--  https://raw.githubusercontent.com/ImSouritra/Deep-Learning-and-Neural-Networks/master/helper_functions.py\n",
            "Resolving raw.githubusercontent.com (raw.githubusercontent.com)... 185.199.111.133, 185.199.110.133, 185.199.108.133, ...\n",
            "Connecting to raw.githubusercontent.com (raw.githubusercontent.com)|185.199.111.133|:443... connected.\n",
            "HTTP request sent, awaiting response... 200 OK\n",
            "Length: 7705 (7.5K) [text/plain]\n",
            "Saving to: ‘helper_functions.py’\n",
            "\n",
            "helper_functions.py 100%[===================>]   7.52K  --.-KB/s    in 0s      \n",
            "\n",
            "2022-10-21 04:23:18 (91.3 MB/s) - ‘helper_functions.py’ saved [7705/7705]\n",
            "\n"
          ]
        }
      ],
      "source": [
        "!wget https://raw.githubusercontent.com/ImSouritra/Deep-Learning-and-Neural-Networks/master/helper_functions.py"
      ]
    },
    {
      "cell_type": "code",
      "execution_count": 3,
      "metadata": {
        "id": "IPQTiYoXH1o1"
      },
      "outputs": [],
      "source": [
        "from helper_functions import *\n",
        "import matplotlib.pyplot as plt\n",
        "import tensorflow as tf\n",
        "from tensorflow import keras"
      ]
    },
    {
      "cell_type": "markdown",
      "metadata": {
        "id": "E68ACBgNIbOU"
      },
      "source": [
        "## Use Tensorflow datasets to get data"
      ]
    },
    {
      "cell_type": "code",
      "execution_count": 4,
      "metadata": {
        "id": "GMQ1p6tUIBak"
      },
      "outputs": [],
      "source": [
        "import tensorflow_datasets as tfds"
      ]
    },
    {
      "cell_type": "code",
      "execution_count": 5,
      "metadata": {
        "colab": {
          "base_uri": "https://localhost:8080/"
        },
        "id": "0ikJwMH6JBmc",
        "outputId": "492d8708-a965-48d4-ed41-393af6eb165a"
      },
      "outputs": [
        {
          "output_type": "stream",
          "name": "stdout",
          "text": [
            "True\n"
          ]
        }
      ],
      "source": [
        "dataset_list = tfds.list_builders()\n",
        "print(\"food101\" in dataset_list)"
      ]
    },
    {
      "cell_type": "code",
      "execution_count": 6,
      "metadata": {
        "colab": {
          "base_uri": "https://localhost:8080/",
          "height": 168,
          "referenced_widgets": [
            "ae12e2aeae2940dba57da9afb44374a9",
            "088ff8b74a3c45feb36617f0898c0887",
            "285681d015794f79a1359b04fca75a23",
            "4b6836fce9a54faba09b3c040da90ca9",
            "7cd5f3e0da2744f9bf35afbdb4cf0176",
            "9a8891ba0fbf4810994a863eebfc62f5",
            "721bd68073654d24b02f559b545d5ed5",
            "89340b76bcee4d28a964c30732cc6e94",
            "62eaac56044748d4989e0eae0c47ab39",
            "fc5b28340cff4508a8a24b5e5849f07b",
            "d662efba313349c3b68844228593d25f",
            "48b1a889dca4439880ec7cb845797688",
            "5537017e392e487aa02682e6286a038f",
            "d2980bbb3b36441396e48a9d78641e97",
            "08b357fb1b9c426d8218cfe66b5c79e3",
            "74d3c81316b54658898f8f609a24d421",
            "0bd48358d53142f4b7c312a1566a8f58",
            "b97df6c6311d4fe6a9cc92a232f6f37d",
            "b81672ac2de44bc1ae5434f67733dcd1",
            "c071a14a126f4a7890f3e5e794c997d3",
            "6043a1fe4a3c4ca4ab516e1b9178edb7",
            "ddc835c6111841e8af22e6c033a9a563",
            "a67887a7b2a946c7ba6e08f0ea066004",
            "773cdfcd16a5432e9c6367137524465a",
            "fa592e1c376846228e197e91546d30a4",
            "cad19285dd234a74b96fb3ff4993f361",
            "72807f73a540489a9b967a914b2731cc",
            "ed41ea9911044844a51159865f97f7ba",
            "0384925d6c3c4e6e939892e4321511cc",
            "8b048a728088433994356421dd72fc3a",
            "b23fc2e6b43a4c36a0d23009f9d18354",
            "dd4b9788194b4f81be518c72c0b1d5f3",
            "0e897335861e45a093d33e01490f6a0e",
            "1f298dc9aa3f4cac897a13dc223576c7",
            "1cd6853cdd7341b4810ae8a8c3b6309d",
            "9499d97c577f4e658138604d4601e383",
            "b6af818e1024471d82a9ffb228091ca2",
            "b262d0a7e3354d0380e14e974dc4a538",
            "20f4d4a37e50429ba315c17762ad87ef",
            "75bf1f1c195b45d09f0f08e6b1309e60",
            "e829d5e383fe4c54a15290260a64957e",
            "48b36c1f968c47ae91669cbe6100bbd1",
            "73b6aba4feca499dbbc3db66e5cd9092",
            "b3e3ebc29d93405ca1835a6e8f51bcba",
            "c35416c50f134c48b5391200595b1204",
            "42500622563247bcbdb1d25d89240b7b",
            "345a875bd8474ccda2dc3003b9079e1c",
            "adc21cc754c549269b8b5d7cc184522d",
            "633b5c036a51428c967d83dbd4c3186a",
            "e58b8da173764ae9a33775dca9607a1b",
            "7b5e4b562547410a893176b7b0769844",
            "5c9122c992a84df58bcd4d0dbe9de9fe",
            "3a3b648fee1541539e8a5e89caaae69c",
            "bdb6f8b89add4b209f6a3af1dc4d2644",
            "da079facdde4496d8e866431595998bd",
            "1e4992fdba3d4bf6a560391efd295019",
            "054686aac7a74f638e7942be209388ce",
            "b4130112f9d4496ab2594b159b0945fa",
            "7fb8cb0625674393b22dc4814c66f99d",
            "12559f5f2ba5442b927a1bf380812a78",
            "42c2896b8d514d079de23f487ad024ae",
            "177482252fcd49279df019d6b8d830a8",
            "8647408373a248f9b4828fd3e5609b91",
            "1f1cdf1e133246308763fdbe4e38ddb2",
            "197513211d6942c89607b3b580df1b9e",
            "d9b70a943eb943c8b2c90d14d025fb16",
            "e55b4362e87b4f04b9c5226c245f3caf",
            "42253f9908764df38f36f6e5dd407120",
            "bcd9c75caba14befb9a5dc1c33880d65",
            "7de6fb2f868449848199e1d95fc661f6",
            "b8757f7e863f4780bdb6cc2bc9c91658",
            "979c2e00a3c643fd8ed3cd9f0305df32",
            "c6bc586d5da74f5cab66c9b2d0ca7878",
            "d74cf954478645228f475638594dc002",
            "36be08961b1d44f0b7f38f20b551366e",
            "5ffb8cf2c4314e7ba71e44d919094c0f",
            "f83aec215493444db9148bece7319943",
            "f7c5044350714fa1a13a8a71c0c32e2a",
            "4912ed276db1416f8e722e6b8fae569b",
            "38a34f6b0ac04640958646966cd27d21",
            "aa1a65c8e47743469198e48fb06ee3ee",
            "cd4323b69edf4036b2edd3eda7012120",
            "f7f50ae6552a49ecaf0cf0126cdde7da",
            "53169e01c7074cd5996b343fe7a5710e",
            "dfadabf7e45b44418472aee251a3ed27",
            "5a99a1cdd0bd4432bfb0ef0452326162",
            "3ac92e8b58dc42938e2ee9107b79db09",
            "07da9b05a45e4b78b4cbd43740fea9e1"
          ]
        },
        "id": "8Ks273PjJHQi",
        "outputId": "e1d1e9bb-5e64-4836-f20e-d6a7fb567f9e"
      },
      "outputs": [
        {
          "output_type": "stream",
          "name": "stdout",
          "text": [
            "\u001b[1mDownloading and preparing dataset 4.65 GiB (download: 4.65 GiB, generated: Unknown size, total: 4.65 GiB) to ~/tensorflow_datasets/food101/2.0.0...\u001b[0m\n"
          ]
        },
        {
          "output_type": "display_data",
          "data": {
            "text/plain": [
              "Dl Completed...: 0 url [00:00, ? url/s]"
            ],
            "application/vnd.jupyter.widget-view+json": {
              "version_major": 2,
              "version_minor": 0,
              "model_id": "ae12e2aeae2940dba57da9afb44374a9"
            }
          },
          "metadata": {}
        },
        {
          "output_type": "display_data",
          "data": {
            "text/plain": [
              "Dl Size...: 0 MiB [00:00, ? MiB/s]"
            ],
            "application/vnd.jupyter.widget-view+json": {
              "version_major": 2,
              "version_minor": 0,
              "model_id": "48b1a889dca4439880ec7cb845797688"
            }
          },
          "metadata": {}
        },
        {
          "output_type": "display_data",
          "data": {
            "text/plain": [
              "Extraction completed...: 0 file [00:00, ? file/s]"
            ],
            "application/vnd.jupyter.widget-view+json": {
              "version_major": 2,
              "version_minor": 0,
              "model_id": "a67887a7b2a946c7ba6e08f0ea066004"
            }
          },
          "metadata": {}
        },
        {
          "output_type": "display_data",
          "data": {
            "text/plain": [
              "Generating splits...:   0%|          | 0/2 [00:00<?, ? splits/s]"
            ],
            "application/vnd.jupyter.widget-view+json": {
              "version_major": 2,
              "version_minor": 0,
              "model_id": "1f298dc9aa3f4cac897a13dc223576c7"
            }
          },
          "metadata": {}
        },
        {
          "output_type": "display_data",
          "data": {
            "text/plain": [
              "Generating train examples...:   0%|          | 0/75750 [00:00<?, ? examples/s]"
            ],
            "application/vnd.jupyter.widget-view+json": {
              "version_major": 2,
              "version_minor": 0,
              "model_id": "c35416c50f134c48b5391200595b1204"
            }
          },
          "metadata": {}
        },
        {
          "output_type": "display_data",
          "data": {
            "text/plain": [
              "Shuffling ~/tensorflow_datasets/food101/2.0.0.incomplete13ZBUU/food101-train.tfrecord*...:   0%|          | 0/…"
            ],
            "application/vnd.jupyter.widget-view+json": {
              "version_major": 2,
              "version_minor": 0,
              "model_id": "1e4992fdba3d4bf6a560391efd295019"
            }
          },
          "metadata": {}
        },
        {
          "output_type": "display_data",
          "data": {
            "text/plain": [
              "Generating validation examples...:   0%|          | 0/25250 [00:00<?, ? examples/s]"
            ],
            "application/vnd.jupyter.widget-view+json": {
              "version_major": 2,
              "version_minor": 0,
              "model_id": "e55b4362e87b4f04b9c5226c245f3caf"
            }
          },
          "metadata": {}
        },
        {
          "output_type": "display_data",
          "data": {
            "text/plain": [
              "Shuffling ~/tensorflow_datasets/food101/2.0.0.incomplete13ZBUU/food101-validation.tfrecord*...:   0%|         …"
            ],
            "application/vnd.jupyter.widget-view+json": {
              "version_major": 2,
              "version_minor": 0,
              "model_id": "f7c5044350714fa1a13a8a71c0c32e2a"
            }
          },
          "metadata": {}
        },
        {
          "output_type": "stream",
          "name": "stdout",
          "text": [
            "\u001b[1mDataset food101 downloaded and prepared to ~/tensorflow_datasets/food101/2.0.0. Subsequent calls will reuse this data.\u001b[0m\n"
          ]
        }
      ],
      "source": [
        "(train_data, test_data), ds_info = tfds.load(name=\"food101\",\n",
        "                                             split=[\"train\",\"validation\"],\n",
        "                                             shuffle_files=True,\n",
        "                                             as_supervised=True,\n",
        "                                             with_info=True)"
      ]
    },
    {
      "cell_type": "markdown",
      "metadata": {
        "id": "R-uGSl2OPrJw"
      },
      "source": [
        "## Exploring the Food101 from Tensorflow datasets\n",
        "To become one with the data we want to find:\n",
        "* Class names\n",
        "* The shape of your input data \n",
        "* The datatype of input data\n",
        "* What the labels look like (Are they one-hot encoded or are they label encoded)\n",
        "* Do the labels match up with the class names"
      ]
    },
    {
      "cell_type": "code",
      "execution_count": 7,
      "metadata": {
        "colab": {
          "base_uri": "https://localhost:8080/"
        },
        "id": "WRmFR_k8Novn",
        "outputId": "94dfc604-f765-4f32-ed58-4e455b65d80f"
      },
      "outputs": [
        {
          "output_type": "execute_result",
          "data": {
            "text/plain": [
              "FeaturesDict({\n",
              "    'image': Image(shape=(None, None, 3), dtype=tf.uint8),\n",
              "    'label': ClassLabel(shape=(), dtype=tf.int64, num_classes=101),\n",
              "})"
            ]
          },
          "metadata": {},
          "execution_count": 7
        }
      ],
      "source": [
        "ds_info.features"
      ]
    },
    {
      "cell_type": "code",
      "execution_count": 8,
      "metadata": {
        "colab": {
          "base_uri": "https://localhost:8080/"
        },
        "id": "OoU-TbQ_QQtf",
        "outputId": "68e1604c-678d-4b90-c529-77c6d27f01f4"
      },
      "outputs": [
        {
          "output_type": "execute_result",
          "data": {
            "text/plain": [
              "['apple_pie',\n",
              " 'baby_back_ribs',\n",
              " 'baklava',\n",
              " 'beef_carpaccio',\n",
              " 'beef_tartare',\n",
              " 'beet_salad',\n",
              " 'beignets',\n",
              " 'bibimbap',\n",
              " 'bread_pudding',\n",
              " 'breakfast_burrito']"
            ]
          },
          "metadata": {},
          "execution_count": 8
        }
      ],
      "source": [
        "class_names = ds_info.features[\"label\"].names\n",
        "class_names[:10]"
      ]
    },
    {
      "cell_type": "code",
      "execution_count": 9,
      "metadata": {
        "colab": {
          "base_uri": "https://localhost:8080/"
        },
        "id": "SBUuTut4QWyo",
        "outputId": "0216b464-95c0-4139-bb7b-0871a794ab2b"
      },
      "outputs": [
        {
          "output_type": "execute_result",
          "data": {
            "text/plain": [
              "<TakeDataset element_spec=(TensorSpec(shape=(None, None, 3), dtype=tf.uint8, name=None), TensorSpec(shape=(), dtype=tf.int64, name=None))>"
            ]
          },
          "metadata": {},
          "execution_count": 9
        }
      ],
      "source": [
        "# Take one sample of train data\n",
        "train_one_sample = train_data.take(1)\n",
        "train_one_sample"
      ]
    },
    {
      "cell_type": "code",
      "execution_count": 10,
      "metadata": {
        "colab": {
          "base_uri": "https://localhost:8080/",
          "height": 298
        },
        "id": "HZKhXOfZRHA7",
        "outputId": "436f80d0-2933-44b6-bb8c-aa0ea12a4cb0"
      },
      "outputs": [
        {
          "output_type": "stream",
          "name": "stdout",
          "text": [
            "Image Shape : (512, 512, 3), Label: chocolate_cake\n"
          ]
        },
        {
          "output_type": "display_data",
          "data": {
            "text/plain": [
              "<Figure size 432x288 with 1 Axes>"
            ],
            "image/png": "[encoded data removed]"
          },
          "metadata": {
            "needs_background": "light"
          }
        }
      ],
      "source": [
        "# what does one sample of our train data look like\n",
        "for image, label in train_one_sample:\n",
        "  print(f\"Image Shape : {image.shape}, Label: {class_names[label]}\")\n",
        "  plt.imshow(image)\n",
        "  plt.title(class_names[label])"
      ]
    },
    {
      "cell_type": "code",
      "execution_count": 11,
      "metadata": {
        "colab": {
          "base_uri": "https://localhost:8080/"
        },
        "id": "_8fXstNnR8w-",
        "outputId": "46e56a81-be47-49fb-a727-ef0309ea9a3d"
      },
      "outputs": [
        {
          "output_type": "execute_result",
          "data": {
            "text/plain": [
              "(<tf.Tensor: shape=(), dtype=uint8, numpy=0>,\n",
              " <tf.Tensor: shape=(), dtype=uint8, numpy=255>)"
            ]
          },
          "metadata": {},
          "execution_count": 11
        }
      ],
      "source": [
        "tf.reduce_min(image), tf.reduce_max(image)"
      ]
    },
    {
      "cell_type": "markdown",
      "metadata": {
        "id": "JOQUoI57UGVv"
      },
      "source": [
        "## Creating preprocessing functions for our data\n",
        "We need to do the following:\n",
        "* Reshape all the images to same shape\n",
        "* Convert datatype 'uint8' to 'float32'"
      ]
    },
    {
      "cell_type": "code",
      "execution_count": 12,
      "metadata": {
        "id": "Fprgtoc8TJtG"
      },
      "outputs": [],
      "source": [
        "def preprocess_image(image,label,img_shape=[224,224]):\n",
        "  image = tf.image.resize(image,size=img_shape)\n",
        "  image = tf.image.convert_image_dtype(image,dtype=tf.float32)\n",
        "  return (image,label)"
      ]
    },
    {
      "cell_type": "code",
      "execution_count": 13,
      "metadata": {
        "colab": {
          "base_uri": "https://localhost:8080/"
        },
        "id": "cCVQb-McWmLe",
        "outputId": "566d9ad1-154e-4517-91d2-0a8fac8a5c88"
      },
      "outputs": [
        {
          "output_type": "execute_result",
          "data": {
            "text/plain": [
              "(<tf.Tensor: shape=(224, 224, 3), dtype=float32, numpy=\n",
              " array([[[2.9198980e+01, 1.1198979e+01, 0.0000000e+00],\n",
              "         [2.8285715e+01, 1.2285714e+01, 0.0000000e+00],\n",
              "         [3.0852041e+01, 1.5494898e+01, 2.8061217e-01],\n",
              "         ...,\n",
              "         [5.2933601e+01, 3.2505074e+01, 8.7193365e+00],\n",
              "         [5.4025528e+01, 3.4025528e+01, 1.0025528e+01],\n",
              "         [5.3800972e+01, 3.3800972e+01, 9.5713587e+00]],\n",
              " \n",
              "        [[3.3096939e+01, 1.5096939e+01, 1.1938781e+00],\n",
              "         [3.3785713e+01, 1.7785715e+01, 2.7857151e+00],\n",
              "         [3.1785713e+01, 1.6428572e+01, 1.2142859e+00],\n",
              "         ...,\n",
              "         [6.3602058e+01, 4.2530632e+01, 1.5346998e+01],\n",
              "         [6.1647934e+01, 4.0785702e+01, 1.3928558e+01],\n",
              "         [6.0785713e+01, 4.1714287e+01, 1.2020403e+01]],\n",
              " \n",
              "        [[3.1576530e+01, 1.3576531e+01, 6.4285755e-01],\n",
              "         [3.3357147e+01, 1.7357143e+01, 2.3571434e+00],\n",
              "         [3.6168365e+01, 2.0811226e+01, 5.5969391e+00],\n",
              "         ...,\n",
              "         [6.7688797e+01, 4.4474506e+01, 1.0852092e+01],\n",
              "         [6.9959167e+01, 4.6943893e+01, 1.1984691e+01],\n",
              "         [6.7994888e+01, 4.7566319e+01, 1.1280604e+01]],\n",
              " \n",
              "        ...,\n",
              " \n",
              "        [[1.3714288e+02, 8.0142876e+01, 1.1428789e+00],\n",
              "         [1.3314285e+02, 7.6142853e+01, 0.0000000e+00],\n",
              "         [1.3516840e+02, 7.8168396e+01, 1.6837212e-01],\n",
              "         ...,\n",
              "         [1.0168355e+01, 5.2601728e+00, 0.0000000e+00],\n",
              "         [8.8010435e+00, 3.8010435e+00, 0.0000000e+00],\n",
              "         [9.8622665e+00, 4.8622665e+00, 0.0000000e+00]],\n",
              " \n",
              "        [[1.3318881e+02, 7.8188812e+01, 4.5926780e-02],\n",
              "         [1.3600511e+02, 8.1005119e+01, 1.0051163e+00],\n",
              "         [1.3709691e+02, 8.2096916e+01, 2.1122262e+00],\n",
              "         ...,\n",
              "         [1.0000000e+01, 5.0000000e+00, 0.0000000e+00],\n",
              "         [1.2071442e+01, 5.0714417e+00, 0.0000000e+00],\n",
              "         [1.3000000e+01, 6.0000000e+00, 0.0000000e+00]],\n",
              " \n",
              "        [[1.3641321e+02, 8.1413208e+01, 1.4132080e+00],\n",
              "         [1.3535707e+02, 8.0357071e+01, 6.8873799e-01],\n",
              "         [1.3393880e+02, 7.8938789e+01, 0.0000000e+00],\n",
              "         ...,\n",
              "         [1.0785736e+01, 5.7857361e+00, 0.0000000e+00],\n",
              "         [1.3357178e+01, 6.3571777e+00, 3.5717773e-01],\n",
              "         [1.3357178e+01, 6.3571777e+00, 3.5717773e-01]]], dtype=float32)>,\n",
              " <tf.Tensor: shape=(), dtype=int64, numpy=21>)"
            ]
          },
          "metadata": {},
          "execution_count": 13
        }
      ],
      "source": [
        "preprocess_image(image,label)"
      ]
    },
    {
      "cell_type": "markdown",
      "metadata": {
        "id": "CbK55JA9B7mG"
      },
      "source": [
        "## Batch and prepare datasets"
      ]
    },
    {
      "cell_type": "code",
      "execution_count": 14,
      "metadata": {
        "id": "jnHNqN7-_ZHG"
      },
      "outputs": [],
      "source": [
        "# Map preprocessing function to training data\n",
        "train_data = train_data.map(map_func=preprocess_image,num_parallel_calls=tf.data.AUTOTUNE)\n",
        "# Shuffle train_data and turn them into  batches\n",
        "train_data = train_data.shuffle(buffer_size=1000).batch(batch_size=32).prefetch(buffer_size=tf.data.AUTOTUNE)\n"
      ]
    },
    {
      "cell_type": "code",
      "execution_count": 15,
      "metadata": {
        "id": "UCokKjPU_as-"
      },
      "outputs": [],
      "source": [
        "# Map Preprocessing function to test data\n",
        "test_data = test_data.map(map_func=preprocess_image,num_parallel_calls=tf.data.AUTOTUNE)\n",
        "# Shuffle test data and turn them into batches\n",
        "test_data = test_data.shuffle(buffer_size=1000).batch(batch_size=32).prefetch(buffer_size=tf.data.AUTOTUNE)"
      ]
    },
    {
      "cell_type": "code",
      "execution_count": 16,
      "metadata": {
        "colab": {
          "base_uri": "https://localhost:8080/"
        },
        "id": "u-Z-KDki_a0G",
        "outputId": "b534ef8b-983c-40ee-caed-76e513129183"
      },
      "outputs": [
        {
          "output_type": "execute_result",
          "data": {
            "text/plain": [
              "(2368, 790)"
            ]
          },
          "metadata": {},
          "execution_count": 16
        }
      ],
      "source": [
        "len(train_data), len(test_data)"
      ]
    },
    {
      "cell_type": "markdown",
      "metadata": {
        "id": "XdsJvqkPGvAX"
      },
      "source": [
        "## Creating modelling callbacks\n",
        "\n",
        "We're going to create a couple callbacks to help us while our model train\n",
        "* Tensorboard callbacks to visualize loss and accuracy of train and valid data\n",
        "* Model checkpoint callback to save the progress of a model while training"
      ]
    },
    {
      "cell_type": "code",
      "execution_count": 17,
      "metadata": {
        "id": "2HZ7vSbYECqH"
      },
      "outputs": [],
      "source": [
        "# Checkpoint Callback\n",
        "checkpoint_path = \"model_checkpoints/checkpoint.ckpt\"\n",
        "checkpoint_callback = tf.keras.callbacks.ModelCheckpoint(checkpoint_path,\n",
        "                                                         monitor='val_acc',\n",
        "                                                         save_best_only=True,\n",
        "                                                         save_weights_only=True,\n",
        "                                                         verbose=1)"
      ]
    },
    {
      "cell_type": "code",
      "execution_count": 18,
      "metadata": {
        "id": "8Egx-4bSIYsJ"
      },
      "outputs": [],
      "source": [
        "# Setup mixed precision training\n",
        "from keras import mixed_precision\n",
        "mixed_precision.set_global_policy(\"mixed_float16\")"
      ]
    },
    {
      "cell_type": "code",
      "execution_count": 19,
      "metadata": {
        "colab": {
          "base_uri": "https://localhost:8080/"
        },
        "id": "LwzMI7h1JrQK",
        "outputId": "4c478269-396e-40e2-e7f0-7105b919fe63"
      },
      "outputs": [
        {
          "output_type": "execute_result",
          "data": {
            "text/plain": [
              "<Policy \"mixed_float16\">"
            ]
          },
          "metadata": {},
          "execution_count": 19
        }
      ],
      "source": [
        "mixed_precision.global_policy()"
      ]
    },
    {
      "cell_type": "code",
      "execution_count": null,
      "metadata": {
        "colab": {
          "background_save": true,
          "base_uri": "https://localhost:8080/"
        },
        "id": "lST0ZUzFLQuK",
        "outputId": "2cf64fad-429e-4931-ce48-b4d733e35504"
      },
      "outputs": [
        {
          "name": "stdout",
          "output_type": "stream",
          "text": [
            "Downloading data from https://storage.googleapis.com/tensorflow/keras-applications/efficientnet_v2/efficientnetv2-b0_notop.h5\n",
            "24274472/24274472 [==============================] - 0s 0us/step\n",
            "Creating tensorboard log file in logs/model_12022$m$d-044336\n",
            "Epoch 1/5\n",
            "2368/2368 [==============================] - 241s 95ms/step - loss: 1.7474 - accuracy: 0.5763 - val_loss: 1.1518 - val_accuracy: 0.6927\n",
            "Epoch 2/5\n",
            "2368/2368 [==============================] - 232s 97ms/step - loss: 1.2117 - accuracy: 0.6863 - val_loss: 1.0371 - val_accuracy: 0.7214\n",
            "Epoch 3/5\n",
            "2368/2368 [==============================] - 222s 93ms/step - loss: 1.0643 - accuracy: 0.7228 - val_loss: 0.9965 - val_accuracy: 0.7289\n",
            "Epoch 4/5\n",
            "2368/2368 [==============================] - 220s 92ms/step - loss: 0.9678 - accuracy: 0.7470 - val_loss: 0.9767 - val_accuracy: 0.7326\n",
            "Epoch 5/5\n",
            "2368/2368 [==============================] - 221s 93ms/step - loss: 0.8978 - accuracy: 0.7630 - val_loss: 0.9586 - val_accuracy: 0.7388\n"
          ]
        }
      ],
      "source": [
        "base_model = tf.keras.applications.efficientnet_v2.EfficientNetV2B0(include_top=False)\n",
        "base_model.trainable=False\n",
        "\n",
        "inputs = tf.keras.layers.Input(shape=(224,224,3), name=\"input_layer\")\n",
        "x = base_model(inputs,training=False)\n",
        "x = tf.keras.layers.GlobalAveragePooling2D(name=\"global_average_pooling_layer\")(x)\n",
        "x = tf.keras.layers.Dense(len(class_names))(x)\n",
        "outputs = tf.keras.layers.Activation(\"softmax\",dtype=tf.float32)(x)\n",
        "model_1 = tf.keras.Model(inputs,outputs)\n",
        "model_1.compile(loss=tf.keras.losses.SparseCategoricalCrossentropy(),optimizer=tf.keras.optimizers.Adam(learning_rate=0.001),metrics=[\"accuracy\"])\n",
        "history_1 = model_1.fit(train_data,epochs=5,steps_per_epoch=len(train_data),validation_data=test_data,validation_steps=len(test_data),callbacks=[create_tensorboard_callback(\"logs\",\"model_1\")])\n"
      ]
    },
    {
      "cell_type": "code",
      "execution_count": null,
      "metadata": {
        "colab": {
          "background_save": true
        },
        "id": "b5V3D0blOtbi",
        "outputId": "6c886d5e-0aa2-4b8c-fab4-8d2eae114917"
      },
      "outputs": [
        {
          "data": {
            "image/png": "[encoded data removed]",
            "text/plain": [
              "<Figure size 432x288 with 1 Axes>"
            ]
          },
          "metadata": {},
          "output_type": "display_data"
        },
        {
          "data": {
            "image/png": "[encoded data removed]",
            "text/plain": [
              "<Figure size 432x288 with 1 Axes>"
            ]
          },
          "metadata": {},
          "output_type": "display_data"
        }
      ],
      "source": [
        "plot_loss_curves(history_1)"
      ]
    },
    {
      "cell_type": "code",
      "execution_count": null,
      "metadata": {
        "colab": {
          "background_save": true
        },
        "id": "TlW52YfOgEfD",
        "outputId": "93adf416-321e-48a9-d646-1c04200d6853"
      },
      "outputs": [
        {
          "name": "stdout",
          "output_type": "stream",
          "text": [
            "Model: \"model\"\n",
            "_________________________________________________________________\n",
            " Layer (type)                Output Shape              Param #   \n",
            "=================================================================\n",
            " input_layer (InputLayer)    [(None, 224, 224, 3)]     0         \n",
            "                                                                 \n",
            " efficientnetv2-b0 (Function  (None, None, None, 1280)  5919312  \n",
            " al)                                                             \n",
            "                                                                 \n",
            " global_average_pooling_laye  (None, 1280)             0         \n",
            " r (GlobalAveragePooling2D)                                      \n",
            "                                                                 \n",
            " dense (Dense)               (None, 101)               129381    \n",
            "                                                                 \n",
            " activation (Activation)     (None, 101)               0         \n",
            "                                                                 \n",
            "=================================================================\n",
            "Total params: 6,048,693\n",
            "Trainable params: 129,381\n",
            "Non-trainable params: 5,919,312\n",
            "_________________________________________________________________\n"
          ]
        }
      ],
      "source": [
        "model_1.summary()"
      ]
    },
    {
      "cell_type": "markdown",
      "metadata": {
        "id": "DqzVRdM0Zuck"
      },
      "source": [
        "## Checking layers in our feature extraction model"
      ]
    },
    {
      "cell_type": "code",
      "execution_count": null,
      "metadata": {
        "colab": {
          "background_save": true
        },
        "id": "o-Jh-_1BZ8VY",
        "outputId": "88f6dbbb-25a7-43a0-89b0-4c1b00138f16"
      },
      "outputs": [
        {
          "name": "stdout",
          "output_type": "stream",
          "text": [
            "0 input_1 float32 <Policy \"float32\">\n",
            "1 rescaling float32 <Policy \"mixed_float16\">\n",
            "2 normalization float32 <Policy \"mixed_float16\">\n",
            "3 stem_conv float32 <Policy \"mixed_float16\">\n",
            "4 stem_bn float32 <Policy \"mixed_float16\">\n",
            "5 stem_activation float32 <Policy \"mixed_float16\">\n",
            "6 block1a_project_conv float32 <Policy \"mixed_float16\">\n",
            "7 block1a_project_bn float32 <Policy \"mixed_float16\">\n",
            "8 block1a_project_activation float32 <Policy \"mixed_float16\">\n",
            "9 block2a_expand_conv float32 <Policy \"mixed_float16\">\n",
            "10 block2a_expand_bn float32 <Policy \"mixed_float16\">\n",
            "11 block2a_expand_activation float32 <Policy \"mixed_float16\">\n",
            "12 block2a_project_conv float32 <Policy \"mixed_float16\">\n",
            "13 block2a_project_bn float32 <Policy \"mixed_float16\">\n",
            "14 block2b_expand_conv float32 <Policy \"mixed_float16\">\n",
            "15 block2b_expand_bn float32 <Policy \"mixed_float16\">\n",
            "16 block2b_expand_activation float32 <Policy \"mixed_float16\">\n",
            "17 block2b_project_conv float32 <Policy \"mixed_float16\">\n",
            "18 block2b_project_bn float32 <Policy \"mixed_float16\">\n",
            "19 block2b_drop float32 <Policy \"mixed_float16\">\n",
            "20 block2b_add float32 <Policy \"mixed_float16\">\n",
            "21 block3a_expand_conv float32 <Policy \"mixed_float16\">\n",
            "22 block3a_expand_bn float32 <Policy \"mixed_float16\">\n",
            "23 block3a_expand_activation float32 <Policy \"mixed_float16\">\n",
            "24 block3a_project_conv float32 <Policy \"mixed_float16\">\n",
            "25 block3a_project_bn float32 <Policy \"mixed_float16\">\n",
            "26 block3b_expand_conv float32 <Policy \"mixed_float16\">\n",
            "27 block3b_expand_bn float32 <Policy \"mixed_float16\">\n",
            "28 block3b_expand_activation float32 <Policy \"mixed_float16\">\n",
            "29 block3b_project_conv float32 <Policy \"mixed_float16\">\n",
            "30 block3b_project_bn float32 <Policy \"mixed_float16\">\n",
            "31 block3b_drop float32 <Policy \"mixed_float16\">\n",
            "32 block3b_add float32 <Policy \"mixed_float16\">\n",
            "33 block4a_expand_conv float32 <Policy \"mixed_float16\">\n",
            "34 block4a_expand_bn float32 <Policy \"mixed_float16\">\n",
            "35 block4a_expand_activation float32 <Policy \"mixed_float16\">\n",
            "36 block4a_dwconv2 float32 <Policy \"mixed_float16\">\n",
            "37 block4a_bn float32 <Policy \"mixed_float16\">\n",
            "38 block4a_activation float32 <Policy \"mixed_float16\">\n",
            "39 block4a_se_squeeze float32 <Policy \"mixed_float16\">\n",
            "40 block4a_se_reshape float32 <Policy \"mixed_float16\">\n",
            "41 block4a_se_reduce float32 <Policy \"mixed_float16\">\n",
            "42 block4a_se_expand float32 <Policy \"mixed_float16\">\n",
            "43 block4a_se_excite float32 <Policy \"mixed_float16\">\n",
            "44 block4a_project_conv float32 <Policy \"mixed_float16\">\n",
            "45 block4a_project_bn float32 <Policy \"mixed_float16\">\n",
            "46 block4b_expand_conv float32 <Policy \"mixed_float16\">\n",
            "47 block4b_expand_bn float32 <Policy \"mixed_float16\">\n",
            "48 block4b_expand_activation float32 <Policy \"mixed_float16\">\n",
            "49 block4b_dwconv2 float32 <Policy \"mixed_float16\">\n",
            "50 block4b_bn float32 <Policy \"mixed_float16\">\n",
            "51 block4b_activation float32 <Policy \"mixed_float16\">\n",
            "52 block4b_se_squeeze float32 <Policy \"mixed_float16\">\n",
            "53 block4b_se_reshape float32 <Policy \"mixed_float16\">\n",
            "54 block4b_se_reduce float32 <Policy \"mixed_float16\">\n",
            "55 block4b_se_expand float32 <Policy \"mixed_float16\">\n",
            "56 block4b_se_excite float32 <Policy \"mixed_float16\">\n",
            "57 block4b_project_conv float32 <Policy \"mixed_float16\">\n",
            "58 block4b_project_bn float32 <Policy \"mixed_float16\">\n",
            "59 block4b_drop float32 <Policy \"mixed_float16\">\n",
            "60 block4b_add float32 <Policy \"mixed_float16\">\n",
            "61 block4c_expand_conv float32 <Policy \"mixed_float16\">\n",
            "62 block4c_expand_bn float32 <Policy \"mixed_float16\">\n",
            "63 block4c_expand_activation float32 <Policy \"mixed_float16\">\n",
            "64 block4c_dwconv2 float32 <Policy \"mixed_float16\">\n",
            "65 block4c_bn float32 <Policy \"mixed_float16\">\n",
            "66 block4c_activation float32 <Policy \"mixed_float16\">\n",
            "67 block4c_se_squeeze float32 <Policy \"mixed_float16\">\n",
            "68 block4c_se_reshape float32 <Policy \"mixed_float16\">\n",
            "69 block4c_se_reduce float32 <Policy \"mixed_float16\">\n",
            "70 block4c_se_expand float32 <Policy \"mixed_float16\">\n",
            "71 block4c_se_excite float32 <Policy \"mixed_float16\">\n",
            "72 block4c_project_conv float32 <Policy \"mixed_float16\">\n",
            "73 block4c_project_bn float32 <Policy \"mixed_float16\">\n",
            "74 block4c_drop float32 <Policy \"mixed_float16\">\n",
            "75 block4c_add float32 <Policy \"mixed_float16\">\n",
            "76 block5a_expand_conv float32 <Policy \"mixed_float16\">\n",
            "77 block5a_expand_bn float32 <Policy \"mixed_float16\">\n",
            "78 block5a_expand_activation float32 <Policy \"mixed_float16\">\n",
            "79 block5a_dwconv2 float32 <Policy \"mixed_float16\">\n",
            "80 block5a_bn float32 <Policy \"mixed_float16\">\n",
            "81 block5a_activation float32 <Policy \"mixed_float16\">\n",
            "82 block5a_se_squeeze float32 <Policy \"mixed_float16\">\n",
            "83 block5a_se_reshape float32 <Policy \"mixed_float16\">\n",
            "84 block5a_se_reduce float32 <Policy \"mixed_float16\">\n",
            "85 block5a_se_expand float32 <Policy \"mixed_float16\">\n",
            "86 block5a_se_excite float32 <Policy \"mixed_float16\">\n",
            "87 block5a_project_conv float32 <Policy \"mixed_float16\">\n",
            "88 block5a_project_bn float32 <Policy \"mixed_float16\">\n",
            "89 block5b_expand_conv float32 <Policy \"mixed_float16\">\n",
            "90 block5b_expand_bn float32 <Policy \"mixed_float16\">\n",
            "91 block5b_expand_activation float32 <Policy \"mixed_float16\">\n",
            "92 block5b_dwconv2 float32 <Policy \"mixed_float16\">\n",
            "93 block5b_bn float32 <Policy \"mixed_float16\">\n",
            "94 block5b_activation float32 <Policy \"mixed_float16\">\n",
            "95 block5b_se_squeeze float32 <Policy \"mixed_float16\">\n",
            "96 block5b_se_reshape float32 <Policy \"mixed_float16\">\n",
            "97 block5b_se_reduce float32 <Policy \"mixed_float16\">\n",
            "98 block5b_se_expand float32 <Policy \"mixed_float16\">\n",
            "99 block5b_se_excite float32 <Policy \"mixed_float16\">\n",
            "100 block5b_project_conv float32 <Policy \"mixed_float16\">\n",
            "101 block5b_project_bn float32 <Policy \"mixed_float16\">\n",
            "102 block5b_drop float32 <Policy \"mixed_float16\">\n",
            "103 block5b_add float32 <Policy \"mixed_float16\">\n",
            "104 block5c_expand_conv float32 <Policy \"mixed_float16\">\n",
            "105 block5c_expand_bn float32 <Policy \"mixed_float16\">\n",
            "106 block5c_expand_activation float32 <Policy \"mixed_float16\">\n",
            "107 block5c_dwconv2 float32 <Policy \"mixed_float16\">\n",
            "108 block5c_bn float32 <Policy \"mixed_float16\">\n",
            "109 block5c_activation float32 <Policy \"mixed_float16\">\n",
            "110 block5c_se_squeeze float32 <Policy \"mixed_float16\">\n",
            "111 block5c_se_reshape float32 <Policy \"mixed_float16\">\n",
            "112 block5c_se_reduce float32 <Policy \"mixed_float16\">\n",
            "113 block5c_se_expand float32 <Policy \"mixed_float16\">\n",
            "114 block5c_se_excite float32 <Policy \"mixed_float16\">\n",
            "115 block5c_project_conv float32 <Policy \"mixed_float16\">\n",
            "116 block5c_project_bn float32 <Policy \"mixed_float16\">\n",
            "117 block5c_drop float32 <Policy \"mixed_float16\">\n",
            "118 block5c_add float32 <Policy \"mixed_float16\">\n",
            "119 block5d_expand_conv float32 <Policy \"mixed_float16\">\n",
            "120 block5d_expand_bn float32 <Policy \"mixed_float16\">\n",
            "121 block5d_expand_activation float32 <Policy \"mixed_float16\">\n",
            "122 block5d_dwconv2 float32 <Policy \"mixed_float16\">\n",
            "123 block5d_bn float32 <Policy \"mixed_float16\">\n",
            "124 block5d_activation float32 <Policy \"mixed_float16\">\n",
            "125 block5d_se_squeeze float32 <Policy \"mixed_float16\">\n",
            "126 block5d_se_reshape float32 <Policy \"mixed_float16\">\n",
            "127 block5d_se_reduce float32 <Policy \"mixed_float16\">\n",
            "128 block5d_se_expand float32 <Policy \"mixed_float16\">\n",
            "129 block5d_se_excite float32 <Policy \"mixed_float16\">\n",
            "130 block5d_project_conv float32 <Policy \"mixed_float16\">\n",
            "131 block5d_project_bn float32 <Policy \"mixed_float16\">\n",
            "132 block5d_drop float32 <Policy \"mixed_float16\">\n",
            "133 block5d_add float32 <Policy \"mixed_float16\">\n",
            "134 block5e_expand_conv float32 <Policy \"mixed_float16\">\n",
            "135 block5e_expand_bn float32 <Policy \"mixed_float16\">\n",
            "136 block5e_expand_activation float32 <Policy \"mixed_float16\">\n",
            "137 block5e_dwconv2 float32 <Policy \"mixed_float16\">\n",
            "138 block5e_bn float32 <Policy \"mixed_float16\">\n",
            "139 block5e_activation float32 <Policy \"mixed_float16\">\n",
            "140 block5e_se_squeeze float32 <Policy \"mixed_float16\">\n",
            "141 block5e_se_reshape float32 <Policy \"mixed_float16\">\n",
            "142 block5e_se_reduce float32 <Policy \"mixed_float16\">\n",
            "143 block5e_se_expand float32 <Policy \"mixed_float16\">\n",
            "144 block5e_se_excite float32 <Policy \"mixed_float16\">\n",
            "145 block5e_project_conv float32 <Policy \"mixed_float16\">\n",
            "146 block5e_project_bn float32 <Policy \"mixed_float16\">\n",
            "147 block5e_drop float32 <Policy \"mixed_float16\">\n",
            "148 block5e_add float32 <Policy \"mixed_float16\">\n",
            "149 block6a_expand_conv float32 <Policy \"mixed_float16\">\n",
            "150 block6a_expand_bn float32 <Policy \"mixed_float16\">\n",
            "151 block6a_expand_activation float32 <Policy \"mixed_float16\">\n",
            "152 block6a_dwconv2 float32 <Policy \"mixed_float16\">\n",
            "153 block6a_bn float32 <Policy \"mixed_float16\">\n",
            "154 block6a_activation float32 <Policy \"mixed_float16\">\n",
            "155 block6a_se_squeeze float32 <Policy \"mixed_float16\">\n",
            "156 block6a_se_reshape float32 <Policy \"mixed_float16\">\n",
            "157 block6a_se_reduce float32 <Policy \"mixed_float16\">\n",
            "158 block6a_se_expand float32 <Policy \"mixed_float16\">\n",
            "159 block6a_se_excite float32 <Policy \"mixed_float16\">\n",
            "160 block6a_project_conv float32 <Policy \"mixed_float16\">\n",
            "161 block6a_project_bn float32 <Policy \"mixed_float16\">\n",
            "162 block6b_expand_conv float32 <Policy \"mixed_float16\">\n",
            "163 block6b_expand_bn float32 <Policy \"mixed_float16\">\n",
            "164 block6b_expand_activation float32 <Policy \"mixed_float16\">\n",
            "165 block6b_dwconv2 float32 <Policy \"mixed_float16\">\n",
            "166 block6b_bn float32 <Policy \"mixed_float16\">\n",
            "167 block6b_activation float32 <Policy \"mixed_float16\">\n",
            "168 block6b_se_squeeze float32 <Policy \"mixed_float16\">\n",
            "169 block6b_se_reshape float32 <Policy \"mixed_float16\">\n",
            "170 block6b_se_reduce float32 <Policy \"mixed_float16\">\n",
            "171 block6b_se_expand float32 <Policy \"mixed_float16\">\n",
            "172 block6b_se_excite float32 <Policy \"mixed_float16\">\n",
            "173 block6b_project_conv float32 <Policy \"mixed_float16\">\n",
            "174 block6b_project_bn float32 <Policy \"mixed_float16\">\n",
            "175 block6b_drop float32 <Policy \"mixed_float16\">\n",
            "176 block6b_add float32 <Policy \"mixed_float16\">\n",
            "177 block6c_expand_conv float32 <Policy \"mixed_float16\">\n",
            "178 block6c_expand_bn float32 <Policy \"mixed_float16\">\n",
            "179 block6c_expand_activation float32 <Policy \"mixed_float16\">\n",
            "180 block6c_dwconv2 float32 <Policy \"mixed_float16\">\n",
            "181 block6c_bn float32 <Policy \"mixed_float16\">\n",
            "182 block6c_activation float32 <Policy \"mixed_float16\">\n",
            "183 block6c_se_squeeze float32 <Policy \"mixed_float16\">\n",
            "184 block6c_se_reshape float32 <Policy \"mixed_float16\">\n",
            "185 block6c_se_reduce float32 <Policy \"mixed_float16\">\n",
            "186 block6c_se_expand float32 <Policy \"mixed_float16\">\n",
            "187 block6c_se_excite float32 <Policy \"mixed_float16\">\n",
            "188 block6c_project_conv float32 <Policy \"mixed_float16\">\n",
            "189 block6c_project_bn float32 <Policy \"mixed_float16\">\n",
            "190 block6c_drop float32 <Policy \"mixed_float16\">\n",
            "191 block6c_add float32 <Policy \"mixed_float16\">\n",
            "192 block6d_expand_conv float32 <Policy \"mixed_float16\">\n",
            "193 block6d_expand_bn float32 <Policy \"mixed_float16\">\n",
            "194 block6d_expand_activation float32 <Policy \"mixed_float16\">\n",
            "195 block6d_dwconv2 float32 <Policy \"mixed_float16\">\n",
            "196 block6d_bn float32 <Policy \"mixed_float16\">\n",
            "197 block6d_activation float32 <Policy \"mixed_float16\">\n",
            "198 block6d_se_squeeze float32 <Policy \"mixed_float16\">\n",
            "199 block6d_se_reshape float32 <Policy \"mixed_float16\">\n",
            "200 block6d_se_reduce float32 <Policy \"mixed_float16\">\n",
            "201 block6d_se_expand float32 <Policy \"mixed_float16\">\n",
            "202 block6d_se_excite float32 <Policy \"mixed_float16\">\n",
            "203 block6d_project_conv float32 <Policy \"mixed_float16\">\n",
            "204 block6d_project_bn float32 <Policy \"mixed_float16\">\n",
            "205 block6d_drop float32 <Policy \"mixed_float16\">\n",
            "206 block6d_add float32 <Policy \"mixed_float16\">\n",
            "207 block6e_expand_conv float32 <Policy \"mixed_float16\">\n",
            "208 block6e_expand_bn float32 <Policy \"mixed_float16\">\n",
            "209 block6e_expand_activation float32 <Policy \"mixed_float16\">\n",
            "210 block6e_dwconv2 float32 <Policy \"mixed_float16\">\n",
            "211 block6e_bn float32 <Policy \"mixed_float16\">\n",
            "212 block6e_activation float32 <Policy \"mixed_float16\">\n",
            "213 block6e_se_squeeze float32 <Policy \"mixed_float16\">\n",
            "214 block6e_se_reshape float32 <Policy \"mixed_float16\">\n",
            "215 block6e_se_reduce float32 <Policy \"mixed_float16\">\n",
            "216 block6e_se_expand float32 <Policy \"mixed_float16\">\n",
            "217 block6e_se_excite float32 <Policy \"mixed_float16\">\n",
            "218 block6e_project_conv float32 <Policy \"mixed_float16\">\n",
            "219 block6e_project_bn float32 <Policy \"mixed_float16\">\n",
            "220 block6e_drop float32 <Policy \"mixed_float16\">\n",
            "221 block6e_add float32 <Policy \"mixed_float16\">\n",
            "222 block6f_expand_conv float32 <Policy \"mixed_float16\">\n",
            "223 block6f_expand_bn float32 <Policy \"mixed_float16\">\n",
            "224 block6f_expand_activation float32 <Policy \"mixed_float16\">\n",
            "225 block6f_dwconv2 float32 <Policy \"mixed_float16\">\n",
            "226 block6f_bn float32 <Policy \"mixed_float16\">\n",
            "227 block6f_activation float32 <Policy \"mixed_float16\">\n",
            "228 block6f_se_squeeze float32 <Policy \"mixed_float16\">\n",
            "229 block6f_se_reshape float32 <Policy \"mixed_float16\">\n",
            "230 block6f_se_reduce float32 <Policy \"mixed_float16\">\n",
            "231 block6f_se_expand float32 <Policy \"mixed_float16\">\n",
            "232 block6f_se_excite float32 <Policy \"mixed_float16\">\n",
            "233 block6f_project_conv float32 <Policy \"mixed_float16\">\n",
            "234 block6f_project_bn float32 <Policy \"mixed_float16\">\n",
            "235 block6f_drop float32 <Policy \"mixed_float16\">\n",
            "236 block6f_add float32 <Policy \"mixed_float16\">\n",
            "237 block6g_expand_conv float32 <Policy \"mixed_float16\">\n",
            "238 block6g_expand_bn float32 <Policy \"mixed_float16\">\n",
            "239 block6g_expand_activation float32 <Policy \"mixed_float16\">\n",
            "240 block6g_dwconv2 float32 <Policy \"mixed_float16\">\n",
            "241 block6g_bn float32 <Policy \"mixed_float16\">\n",
            "242 block6g_activation float32 <Policy \"mixed_float16\">\n",
            "243 block6g_se_squeeze float32 <Policy \"mixed_float16\">\n",
            "244 block6g_se_reshape float32 <Policy \"mixed_float16\">\n",
            "245 block6g_se_reduce float32 <Policy \"mixed_float16\">\n",
            "246 block6g_se_expand float32 <Policy \"mixed_float16\">\n",
            "247 block6g_se_excite float32 <Policy \"mixed_float16\">\n",
            "248 block6g_project_conv float32 <Policy \"mixed_float16\">\n",
            "249 block6g_project_bn float32 <Policy \"mixed_float16\">\n",
            "250 block6g_drop float32 <Policy \"mixed_float16\">\n",
            "251 block6g_add float32 <Policy \"mixed_float16\">\n",
            "252 block6h_expand_conv float32 <Policy \"mixed_float16\">\n",
            "253 block6h_expand_bn float32 <Policy \"mixed_float16\">\n",
            "254 block6h_expand_activation float32 <Policy \"mixed_float16\">\n",
            "255 block6h_dwconv2 float32 <Policy \"mixed_float16\">\n",
            "256 block6h_bn float32 <Policy \"mixed_float16\">\n",
            "257 block6h_activation float32 <Policy \"mixed_float16\">\n",
            "258 block6h_se_squeeze float32 <Policy \"mixed_float16\">\n",
            "259 block6h_se_reshape float32 <Policy \"mixed_float16\">\n",
            "260 block6h_se_reduce float32 <Policy \"mixed_float16\">\n",
            "261 block6h_se_expand float32 <Policy \"mixed_float16\">\n",
            "262 block6h_se_excite float32 <Policy \"mixed_float16\">\n",
            "263 block6h_project_conv float32 <Policy \"mixed_float16\">\n",
            "264 block6h_project_bn float32 <Policy \"mixed_float16\">\n",
            "265 block6h_drop float32 <Policy \"mixed_float16\">\n",
            "266 block6h_add float32 <Policy \"mixed_float16\">\n",
            "267 top_conv float32 <Policy \"mixed_float16\">\n",
            "268 top_bn float32 <Policy \"mixed_float16\">\n",
            "269 top_activation float32 <Policy \"mixed_float16\">\n"
          ]
        }
      ],
      "source": [
        "# Checking the layers in our base model\n",
        "for i,layer in enumerate(model_1.layers[1].layers):\n",
        "  print(i,layer.name,layer.dtype,layer.dtype_policy)"
      ]
    },
    {
      "cell_type": "code",
      "execution_count": null,
      "metadata": {
        "colab": {
          "background_save": true,
          "base_uri": "https://localhost:8080/"
        },
        "id": "tW_mQI2xav-B",
        "outputId": "e3d810f4-335d-44a1-b0a1-845ead058030"
      },
      "outputs": [
        {
          "name": "stdout",
          "output_type": "stream",
          "text": [
            "790/790 [==============================] - 55s 68ms/step - loss: 0.9586 - accuracy: 0.7388\n"
          ]
        },
        {
          "data": {
            "text/plain": [
              "[0.9586107134819031, 0.7387722730636597]"
            ]
          },
          "execution_count": 25,
          "metadata": {},
          "output_type": "execute_result"
        }
      ],
      "source": [
        "# Evaluate on all of the test data\n",
        "model_1_results = model_1.evaluate(test_data)\n",
        "model_1_results"
      ]
    },
    {
      "cell_type": "markdown",
      "metadata": {
        "id": "XweRC7wDcRy8"
      },
      "source": [
        "## Setting up a data augmentation layer for model_2"
      ]
    },
    {
      "cell_type": "code",
      "execution_count": 21,
      "metadata": {
        "id": "Evq-KQM9cPZ1"
      },
      "outputs": [],
      "source": [
        "data_augmentation = tf.keras.Sequential([\n",
        "                    tf.keras.layers.RandomFlip(\"horizontal\"),\n",
        "                    tf.keras.layers.RandomHeight(0.2),\n",
        "                    tf.keras.layers.RandomWidth(0.2),\n",
        "                    tf.keras.layers.RandomZoom(0.3)\n",
        "                    ], name=\"data_augmentation_layer\")"
      ]
    },
    {
      "cell_type": "markdown",
      "metadata": {
        "id": "HLeX2G_Sdb5k"
      },
      "source": [
        "## Building model_2\n",
        "Model_2:\n",
        "1. Data augmentation layer\n",
        "2. Model checkpoint callback\n",
        "3. Fine tuning"
      ]
    },
    {
      "cell_type": "code",
      "execution_count": 22,
      "metadata": {
        "colab": {
          "base_uri": "https://localhost:8080/"
        },
        "id": "aVhQc9eodazq",
        "outputId": "a659403c-5b2f-412b-d45f-0d5de9b56c8d"
      },
      "outputs": [
        {
          "output_type": "stream",
          "name": "stdout",
          "text": [
            "Downloading data from https://storage.googleapis.com/tensorflow/keras-applications/efficientnet_v2/efficientnetv2-b0_notop.h5\n",
            "24274472/24274472 [==============================] - 0s 0us/step\n",
            "Model: \"model\"\n",
            "_________________________________________________________________\n",
            " Layer (type)                Output Shape              Param #   \n",
            "=================================================================\n",
            " input_layer (InputLayer)    [(None, 224, 224, 3)]     0         \n",
            "                                                                 \n",
            " data_augmentation_layer (Se  (None, 224, 224, 3)      0         \n",
            " quential)                                                       \n",
            "                                                                 \n",
            " efficientnetv2-b0 (Function  (None, None, None, 1280)  5919312  \n",
            " al)                                                             \n",
            "                                                                 \n",
            " global_average_pooling_laye  (None, 1280)             0         \n",
            " r (GlobalAveragePooling2D)                                      \n",
            "                                                                 \n",
            " dense (Dense)               (None, 101)               129381    \n",
            "                                                                 \n",
            " feature_extraction_layer (A  (None, 101)              0         \n",
            " ctivation)                                                      \n",
            "                                                                 \n",
            "=================================================================\n",
            "Total params: 6,048,693\n",
            "Trainable params: 129,381\n",
            "Non-trainable params: 5,919,312\n",
            "_________________________________________________________________\n"
          ]
        }
      ],
      "source": [
        "base_model = tf.keras.applications.efficientnet_v2.EfficientNetV2B0(include_top=False)\n",
        "base_model.trainable=False\n",
        "\n",
        "inputs = tf.keras.layers.Input(shape=(224,224,3), name=\"input_layer\")\n",
        "x = data_augmentation(inputs)\n",
        "x = base_model(x,training=False)\n",
        "x = tf.keras.layers.GlobalAveragePooling2D(name=\"global_average_pooling_layer\")(x)\n",
        "x = tf.keras.layers.Dense(len(class_names))(x)\n",
        "outputs = tf.keras.layers.Activation(\"softmax\",dtype=tf.float32,name=\"feature_extraction_layer\")(x)\n",
        "model_2 = tf.keras.Model(inputs,outputs)\n",
        "model_2.compile(loss=tf.keras.losses.SparseCategoricalCrossentropy(),optimizer=tf.keras.optimizers.Adam(),metrics=[\"accuracy\"])\n",
        "model_2.summary()"
      ]
    },
    {
      "cell_type": "code",
      "execution_count": 23,
      "metadata": {
        "colab": {
          "base_uri": "https://localhost:8080/"
        },
        "id": "ZF_HbEGJg0yh",
        "outputId": "fd1367f6-0732-486c-aa4b-c9c5e51cc402"
      },
      "outputs": [
        {
          "output_type": "stream",
          "name": "stdout",
          "text": [
            "0 input_layer True float32 <Policy \"float32\">\n",
            "1 data_augmentation_layer True float32 <Policy \"mixed_float16\">\n",
            "2 efficientnetv2-b0 False float32 <Policy \"mixed_float16\">\n",
            "3 global_average_pooling_layer True float32 <Policy \"mixed_float16\">\n",
            "4 dense True float32 <Policy \"mixed_float16\">\n",
            "5 feature_extraction_layer True float32 <Policy \"float32\">\n"
          ]
        }
      ],
      "source": [
        "for i, layer in enumerate(model_2.layers):\n",
        "  print(i, layer.name,layer.trainable, layer.dtype,layer.dtype_policy)"
      ]
    },
    {
      "cell_type": "code",
      "execution_count": 24,
      "metadata": {
        "colab": {
          "base_uri": "https://localhost:8080/"
        },
        "id": "i1CiDMDkhDTS",
        "outputId": "5306b93f-e04f-462b-949b-a8f4de93ec8b"
      },
      "outputs": [
        {
          "output_type": "stream",
          "name": "stdout",
          "text": [
            "0 input_1 False float32 <Policy \"float32\">\n",
            "1 rescaling False float32 <Policy \"mixed_float16\">\n",
            "2 normalization False float32 <Policy \"mixed_float16\">\n",
            "3 stem_conv False float32 <Policy \"mixed_float16\">\n",
            "4 stem_bn False float32 <Policy \"mixed_float16\">\n",
            "5 stem_activation False float32 <Policy \"mixed_float16\">\n",
            "6 block1a_project_conv False float32 <Policy \"mixed_float16\">\n",
            "7 block1a_project_bn False float32 <Policy \"mixed_float16\">\n",
            "8 block1a_project_activation False float32 <Policy \"mixed_float16\">\n",
            "9 block2a_expand_conv False float32 <Policy \"mixed_float16\">\n",
            "10 block2a_expand_bn False float32 <Policy \"mixed_float16\">\n",
            "11 block2a_expand_activation False float32 <Policy \"mixed_float16\">\n",
            "12 block2a_project_conv False float32 <Policy \"mixed_float16\">\n",
            "13 block2a_project_bn False float32 <Policy \"mixed_float16\">\n",
            "14 block2b_expand_conv False float32 <Policy \"mixed_float16\">\n",
            "15 block2b_expand_bn False float32 <Policy \"mixed_float16\">\n",
            "16 block2b_expand_activation False float32 <Policy \"mixed_float16\">\n",
            "17 block2b_project_conv False float32 <Policy \"mixed_float16\">\n",
            "18 block2b_project_bn False float32 <Policy \"mixed_float16\">\n",
            "19 block2b_drop False float32 <Policy \"mixed_float16\">\n",
            "20 block2b_add False float32 <Policy \"mixed_float16\">\n",
            "21 block3a_expand_conv False float32 <Policy \"mixed_float16\">\n",
            "22 block3a_expand_bn False float32 <Policy \"mixed_float16\">\n",
            "23 block3a_expand_activation False float32 <Policy \"mixed_float16\">\n",
            "24 block3a_project_conv False float32 <Policy \"mixed_float16\">\n",
            "25 block3a_project_bn False float32 <Policy \"mixed_float16\">\n",
            "26 block3b_expand_conv False float32 <Policy \"mixed_float16\">\n",
            "27 block3b_expand_bn False float32 <Policy \"mixed_float16\">\n",
            "28 block3b_expand_activation False float32 <Policy \"mixed_float16\">\n",
            "29 block3b_project_conv False float32 <Policy \"mixed_float16\">\n",
            "30 block3b_project_bn False float32 <Policy \"mixed_float16\">\n",
            "31 block3b_drop False float32 <Policy \"mixed_float16\">\n",
            "32 block3b_add False float32 <Policy \"mixed_float16\">\n",
            "33 block4a_expand_conv False float32 <Policy \"mixed_float16\">\n",
            "34 block4a_expand_bn False float32 <Policy \"mixed_float16\">\n",
            "35 block4a_expand_activation False float32 <Policy \"mixed_float16\">\n",
            "36 block4a_dwconv2 False float32 <Policy \"mixed_float16\">\n",
            "37 block4a_bn False float32 <Policy \"mixed_float16\">\n",
            "38 block4a_activation False float32 <Policy \"mixed_float16\">\n",
            "39 block4a_se_squeeze False float32 <Policy \"mixed_float16\">\n",
            "40 block4a_se_reshape False float32 <Policy \"mixed_float16\">\n",
            "41 block4a_se_reduce False float32 <Policy \"mixed_float16\">\n",
            "42 block4a_se_expand False float32 <Policy \"mixed_float16\">\n",
            "43 block4a_se_excite False float32 <Policy \"mixed_float16\">\n",
            "44 block4a_project_conv False float32 <Policy \"mixed_float16\">\n",
            "45 block4a_project_bn False float32 <Policy \"mixed_float16\">\n",
            "46 block4b_expand_conv False float32 <Policy \"mixed_float16\">\n",
            "47 block4b_expand_bn False float32 <Policy \"mixed_float16\">\n",
            "48 block4b_expand_activation False float32 <Policy \"mixed_float16\">\n",
            "49 block4b_dwconv2 False float32 <Policy \"mixed_float16\">\n",
            "50 block4b_bn False float32 <Policy \"mixed_float16\">\n",
            "51 block4b_activation False float32 <Policy \"mixed_float16\">\n",
            "52 block4b_se_squeeze False float32 <Policy \"mixed_float16\">\n",
            "53 block4b_se_reshape False float32 <Policy \"mixed_float16\">\n",
            "54 block4b_se_reduce False float32 <Policy \"mixed_float16\">\n",
            "55 block4b_se_expand False float32 <Policy \"mixed_float16\">\n",
            "56 block4b_se_excite False float32 <Policy \"mixed_float16\">\n",
            "57 block4b_project_conv False float32 <Policy \"mixed_float16\">\n",
            "58 block4b_project_bn False float32 <Policy \"mixed_float16\">\n",
            "59 block4b_drop False float32 <Policy \"mixed_float16\">\n",
            "60 block4b_add False float32 <Policy \"mixed_float16\">\n",
            "61 block4c_expand_conv False float32 <Policy \"mixed_float16\">\n",
            "62 block4c_expand_bn False float32 <Policy \"mixed_float16\">\n",
            "63 block4c_expand_activation False float32 <Policy \"mixed_float16\">\n",
            "64 block4c_dwconv2 False float32 <Policy \"mixed_float16\">\n",
            "65 block4c_bn False float32 <Policy \"mixed_float16\">\n",
            "66 block4c_activation False float32 <Policy \"mixed_float16\">\n",
            "67 block4c_se_squeeze False float32 <Policy \"mixed_float16\">\n",
            "68 block4c_se_reshape False float32 <Policy \"mixed_float16\">\n",
            "69 block4c_se_reduce False float32 <Policy \"mixed_float16\">\n",
            "70 block4c_se_expand False float32 <Policy \"mixed_float16\">\n",
            "71 block4c_se_excite False float32 <Policy \"mixed_float16\">\n",
            "72 block4c_project_conv False float32 <Policy \"mixed_float16\">\n",
            "73 block4c_project_bn False float32 <Policy \"mixed_float16\">\n",
            "74 block4c_drop False float32 <Policy \"mixed_float16\">\n",
            "75 block4c_add False float32 <Policy \"mixed_float16\">\n",
            "76 block5a_expand_conv False float32 <Policy \"mixed_float16\">\n",
            "77 block5a_expand_bn False float32 <Policy \"mixed_float16\">\n",
            "78 block5a_expand_activation False float32 <Policy \"mixed_float16\">\n",
            "79 block5a_dwconv2 False float32 <Policy \"mixed_float16\">\n",
            "80 block5a_bn False float32 <Policy \"mixed_float16\">\n",
            "81 block5a_activation False float32 <Policy \"mixed_float16\">\n",
            "82 block5a_se_squeeze False float32 <Policy \"mixed_float16\">\n",
            "83 block5a_se_reshape False float32 <Policy \"mixed_float16\">\n",
            "84 block5a_se_reduce False float32 <Policy \"mixed_float16\">\n",
            "85 block5a_se_expand False float32 <Policy \"mixed_float16\">\n",
            "86 block5a_se_excite False float32 <Policy \"mixed_float16\">\n",
            "87 block5a_project_conv False float32 <Policy \"mixed_float16\">\n",
            "88 block5a_project_bn False float32 <Policy \"mixed_float16\">\n",
            "89 block5b_expand_conv False float32 <Policy \"mixed_float16\">\n",
            "90 block5b_expand_bn False float32 <Policy \"mixed_float16\">\n",
            "91 block5b_expand_activation False float32 <Policy \"mixed_float16\">\n",
            "92 block5b_dwconv2 False float32 <Policy \"mixed_float16\">\n",
            "93 block5b_bn False float32 <Policy \"mixed_float16\">\n",
            "94 block5b_activation False float32 <Policy \"mixed_float16\">\n",
            "95 block5b_se_squeeze False float32 <Policy \"mixed_float16\">\n",
            "96 block5b_se_reshape False float32 <Policy \"mixed_float16\">\n",
            "97 block5b_se_reduce False float32 <Policy \"mixed_float16\">\n",
            "98 block5b_se_expand False float32 <Policy \"mixed_float16\">\n",
            "99 block5b_se_excite False float32 <Policy \"mixed_float16\">\n",
            "100 block5b_project_conv False float32 <Policy \"mixed_float16\">\n",
            "101 block5b_project_bn False float32 <Policy \"mixed_float16\">\n",
            "102 block5b_drop False float32 <Policy \"mixed_float16\">\n",
            "103 block5b_add False float32 <Policy \"mixed_float16\">\n",
            "104 block5c_expand_conv False float32 <Policy \"mixed_float16\">\n",
            "105 block5c_expand_bn False float32 <Policy \"mixed_float16\">\n",
            "106 block5c_expand_activation False float32 <Policy \"mixed_float16\">\n",
            "107 block5c_dwconv2 False float32 <Policy \"mixed_float16\">\n",
            "108 block5c_bn False float32 <Policy \"mixed_float16\">\n",
            "109 block5c_activation False float32 <Policy \"mixed_float16\">\n",
            "110 block5c_se_squeeze False float32 <Policy \"mixed_float16\">\n",
            "111 block5c_se_reshape False float32 <Policy \"mixed_float16\">\n",
            "112 block5c_se_reduce False float32 <Policy \"mixed_float16\">\n",
            "113 block5c_se_expand False float32 <Policy \"mixed_float16\">\n",
            "114 block5c_se_excite False float32 <Policy \"mixed_float16\">\n",
            "115 block5c_project_conv False float32 <Policy \"mixed_float16\">\n",
            "116 block5c_project_bn False float32 <Policy \"mixed_float16\">\n",
            "117 block5c_drop False float32 <Policy \"mixed_float16\">\n",
            "118 block5c_add False float32 <Policy \"mixed_float16\">\n",
            "119 block5d_expand_conv False float32 <Policy \"mixed_float16\">\n",
            "120 block5d_expand_bn False float32 <Policy \"mixed_float16\">\n",
            "121 block5d_expand_activation False float32 <Policy \"mixed_float16\">\n",
            "122 block5d_dwconv2 False float32 <Policy \"mixed_float16\">\n",
            "123 block5d_bn False float32 <Policy \"mixed_float16\">\n",
            "124 block5d_activation False float32 <Policy \"mixed_float16\">\n",
            "125 block5d_se_squeeze False float32 <Policy \"mixed_float16\">\n",
            "126 block5d_se_reshape False float32 <Policy \"mixed_float16\">\n",
            "127 block5d_se_reduce False float32 <Policy \"mixed_float16\">\n",
            "128 block5d_se_expand False float32 <Policy \"mixed_float16\">\n",
            "129 block5d_se_excite False float32 <Policy \"mixed_float16\">\n",
            "130 block5d_project_conv False float32 <Policy \"mixed_float16\">\n",
            "131 block5d_project_bn False float32 <Policy \"mixed_float16\">\n",
            "132 block5d_drop False float32 <Policy \"mixed_float16\">\n",
            "133 block5d_add False float32 <Policy \"mixed_float16\">\n",
            "134 block5e_expand_conv False float32 <Policy \"mixed_float16\">\n",
            "135 block5e_expand_bn False float32 <Policy \"mixed_float16\">\n",
            "136 block5e_expand_activation False float32 <Policy \"mixed_float16\">\n",
            "137 block5e_dwconv2 False float32 <Policy \"mixed_float16\">\n",
            "138 block5e_bn False float32 <Policy \"mixed_float16\">\n",
            "139 block5e_activation False float32 <Policy \"mixed_float16\">\n",
            "140 block5e_se_squeeze False float32 <Policy \"mixed_float16\">\n",
            "141 block5e_se_reshape False float32 <Policy \"mixed_float16\">\n",
            "142 block5e_se_reduce False float32 <Policy \"mixed_float16\">\n",
            "143 block5e_se_expand False float32 <Policy \"mixed_float16\">\n",
            "144 block5e_se_excite False float32 <Policy \"mixed_float16\">\n",
            "145 block5e_project_conv False float32 <Policy \"mixed_float16\">\n",
            "146 block5e_project_bn False float32 <Policy \"mixed_float16\">\n",
            "147 block5e_drop False float32 <Policy \"mixed_float16\">\n",
            "148 block5e_add False float32 <Policy \"mixed_float16\">\n",
            "149 block6a_expand_conv False float32 <Policy \"mixed_float16\">\n",
            "150 block6a_expand_bn False float32 <Policy \"mixed_float16\">\n",
            "151 block6a_expand_activation False float32 <Policy \"mixed_float16\">\n",
            "152 block6a_dwconv2 False float32 <Policy \"mixed_float16\">\n",
            "153 block6a_bn False float32 <Policy \"mixed_float16\">\n",
            "154 block6a_activation False float32 <Policy \"mixed_float16\">\n",
            "155 block6a_se_squeeze False float32 <Policy \"mixed_float16\">\n",
            "156 block6a_se_reshape False float32 <Policy \"mixed_float16\">\n",
            "157 block6a_se_reduce False float32 <Policy \"mixed_float16\">\n",
            "158 block6a_se_expand False float32 <Policy \"mixed_float16\">\n",
            "159 block6a_se_excite False float32 <Policy \"mixed_float16\">\n",
            "160 block6a_project_conv False float32 <Policy \"mixed_float16\">\n",
            "161 block6a_project_bn False float32 <Policy \"mixed_float16\">\n",
            "162 block6b_expand_conv False float32 <Policy \"mixed_float16\">\n",
            "163 block6b_expand_bn False float32 <Policy \"mixed_float16\">\n",
            "164 block6b_expand_activation False float32 <Policy \"mixed_float16\">\n",
            "165 block6b_dwconv2 False float32 <Policy \"mixed_float16\">\n",
            "166 block6b_bn False float32 <Policy \"mixed_float16\">\n",
            "167 block6b_activation False float32 <Policy \"mixed_float16\">\n",
            "168 block6b_se_squeeze False float32 <Policy \"mixed_float16\">\n",
            "169 block6b_se_reshape False float32 <Policy \"mixed_float16\">\n",
            "170 block6b_se_reduce False float32 <Policy \"mixed_float16\">\n",
            "171 block6b_se_expand False float32 <Policy \"mixed_float16\">\n",
            "172 block6b_se_excite False float32 <Policy \"mixed_float16\">\n",
            "173 block6b_project_conv False float32 <Policy \"mixed_float16\">\n",
            "174 block6b_project_bn False float32 <Policy \"mixed_float16\">\n",
            "175 block6b_drop False float32 <Policy \"mixed_float16\">\n",
            "176 block6b_add False float32 <Policy \"mixed_float16\">\n",
            "177 block6c_expand_conv False float32 <Policy \"mixed_float16\">\n",
            "178 block6c_expand_bn False float32 <Policy \"mixed_float16\">\n",
            "179 block6c_expand_activation False float32 <Policy \"mixed_float16\">\n",
            "180 block6c_dwconv2 False float32 <Policy \"mixed_float16\">\n",
            "181 block6c_bn False float32 <Policy \"mixed_float16\">\n",
            "182 block6c_activation False float32 <Policy \"mixed_float16\">\n",
            "183 block6c_se_squeeze False float32 <Policy \"mixed_float16\">\n",
            "184 block6c_se_reshape False float32 <Policy \"mixed_float16\">\n",
            "185 block6c_se_reduce False float32 <Policy \"mixed_float16\">\n",
            "186 block6c_se_expand False float32 <Policy \"mixed_float16\">\n",
            "187 block6c_se_excite False float32 <Policy \"mixed_float16\">\n",
            "188 block6c_project_conv False float32 <Policy \"mixed_float16\">\n",
            "189 block6c_project_bn False float32 <Policy \"mixed_float16\">\n",
            "190 block6c_drop False float32 <Policy \"mixed_float16\">\n",
            "191 block6c_add False float32 <Policy \"mixed_float16\">\n",
            "192 block6d_expand_conv False float32 <Policy \"mixed_float16\">\n",
            "193 block6d_expand_bn False float32 <Policy \"mixed_float16\">\n",
            "194 block6d_expand_activation False float32 <Policy \"mixed_float16\">\n",
            "195 block6d_dwconv2 False float32 <Policy \"mixed_float16\">\n",
            "196 block6d_bn False float32 <Policy \"mixed_float16\">\n",
            "197 block6d_activation False float32 <Policy \"mixed_float16\">\n",
            "198 block6d_se_squeeze False float32 <Policy \"mixed_float16\">\n",
            "199 block6d_se_reshape False float32 <Policy \"mixed_float16\">\n",
            "200 block6d_se_reduce False float32 <Policy \"mixed_float16\">\n",
            "201 block6d_se_expand False float32 <Policy \"mixed_float16\">\n",
            "202 block6d_se_excite False float32 <Policy \"mixed_float16\">\n",
            "203 block6d_project_conv False float32 <Policy \"mixed_float16\">\n",
            "204 block6d_project_bn False float32 <Policy \"mixed_float16\">\n",
            "205 block6d_drop False float32 <Policy \"mixed_float16\">\n",
            "206 block6d_add False float32 <Policy \"mixed_float16\">\n",
            "207 block6e_expand_conv False float32 <Policy \"mixed_float16\">\n",
            "208 block6e_expand_bn False float32 <Policy \"mixed_float16\">\n",
            "209 block6e_expand_activation False float32 <Policy \"mixed_float16\">\n",
            "210 block6e_dwconv2 False float32 <Policy \"mixed_float16\">\n",
            "211 block6e_bn False float32 <Policy \"mixed_float16\">\n",
            "212 block6e_activation False float32 <Policy \"mixed_float16\">\n",
            "213 block6e_se_squeeze False float32 <Policy \"mixed_float16\">\n",
            "214 block6e_se_reshape False float32 <Policy \"mixed_float16\">\n",
            "215 block6e_se_reduce False float32 <Policy \"mixed_float16\">\n",
            "216 block6e_se_expand False float32 <Policy \"mixed_float16\">\n",
            "217 block6e_se_excite False float32 <Policy \"mixed_float16\">\n",
            "218 block6e_project_conv False float32 <Policy \"mixed_float16\">\n",
            "219 block6e_project_bn False float32 <Policy \"mixed_float16\">\n",
            "220 block6e_drop False float32 <Policy \"mixed_float16\">\n",
            "221 block6e_add False float32 <Policy \"mixed_float16\">\n",
            "222 block6f_expand_conv False float32 <Policy \"mixed_float16\">\n",
            "223 block6f_expand_bn False float32 <Policy \"mixed_float16\">\n",
            "224 block6f_expand_activation False float32 <Policy \"mixed_float16\">\n",
            "225 block6f_dwconv2 False float32 <Policy \"mixed_float16\">\n",
            "226 block6f_bn False float32 <Policy \"mixed_float16\">\n",
            "227 block6f_activation False float32 <Policy \"mixed_float16\">\n",
            "228 block6f_se_squeeze False float32 <Policy \"mixed_float16\">\n",
            "229 block6f_se_reshape False float32 <Policy \"mixed_float16\">\n",
            "230 block6f_se_reduce False float32 <Policy \"mixed_float16\">\n",
            "231 block6f_se_expand False float32 <Policy \"mixed_float16\">\n",
            "232 block6f_se_excite False float32 <Policy \"mixed_float16\">\n",
            "233 block6f_project_conv False float32 <Policy \"mixed_float16\">\n",
            "234 block6f_project_bn False float32 <Policy \"mixed_float16\">\n",
            "235 block6f_drop False float32 <Policy \"mixed_float16\">\n",
            "236 block6f_add False float32 <Policy \"mixed_float16\">\n",
            "237 block6g_expand_conv False float32 <Policy \"mixed_float16\">\n",
            "238 block6g_expand_bn False float32 <Policy \"mixed_float16\">\n",
            "239 block6g_expand_activation False float32 <Policy \"mixed_float16\">\n",
            "240 block6g_dwconv2 False float32 <Policy \"mixed_float16\">\n",
            "241 block6g_bn False float32 <Policy \"mixed_float16\">\n",
            "242 block6g_activation False float32 <Policy \"mixed_float16\">\n",
            "243 block6g_se_squeeze False float32 <Policy \"mixed_float16\">\n",
            "244 block6g_se_reshape False float32 <Policy \"mixed_float16\">\n",
            "245 block6g_se_reduce False float32 <Policy \"mixed_float16\">\n",
            "246 block6g_se_expand False float32 <Policy \"mixed_float16\">\n",
            "247 block6g_se_excite False float32 <Policy \"mixed_float16\">\n",
            "248 block6g_project_conv False float32 <Policy \"mixed_float16\">\n",
            "249 block6g_project_bn False float32 <Policy \"mixed_float16\">\n",
            "250 block6g_drop False float32 <Policy \"mixed_float16\">\n",
            "251 block6g_add False float32 <Policy \"mixed_float16\">\n",
            "252 block6h_expand_conv False float32 <Policy \"mixed_float16\">\n",
            "253 block6h_expand_bn False float32 <Policy \"mixed_float16\">\n",
            "254 block6h_expand_activation False float32 <Policy \"mixed_float16\">\n",
            "255 block6h_dwconv2 False float32 <Policy \"mixed_float16\">\n",
            "256 block6h_bn False float32 <Policy \"mixed_float16\">\n",
            "257 block6h_activation False float32 <Policy \"mixed_float16\">\n",
            "258 block6h_se_squeeze False float32 <Policy \"mixed_float16\">\n",
            "259 block6h_se_reshape False float32 <Policy \"mixed_float16\">\n",
            "260 block6h_se_reduce False float32 <Policy \"mixed_float16\">\n",
            "261 block6h_se_expand False float32 <Policy \"mixed_float16\">\n",
            "262 block6h_se_excite False float32 <Policy \"mixed_float16\">\n",
            "263 block6h_project_conv False float32 <Policy \"mixed_float16\">\n",
            "264 block6h_project_bn False float32 <Policy \"mixed_float16\">\n",
            "265 block6h_drop False float32 <Policy \"mixed_float16\">\n",
            "266 block6h_add False float32 <Policy \"mixed_float16\">\n",
            "267 top_conv False float32 <Policy \"mixed_float16\">\n",
            "268 top_bn False float32 <Policy \"mixed_float16\">\n",
            "269 top_activation False float32 <Policy \"mixed_float16\">\n"
          ]
        }
      ],
      "source": [
        "for i, layer in enumerate(model_2.layers[2].layers):\n",
        "  print(i, layer.name,layer.trainable, layer.dtype,layer.dtype_policy)"
      ]
    },
    {
      "cell_type": "code",
      "execution_count": 25,
      "metadata": {
        "colab": {
          "base_uri": "https://localhost:8080/"
        },
        "id": "0hr9Uas9fG8v",
        "outputId": "e9753db2-c5d8-4385-84e5-a95c58fe70d3"
      },
      "outputs": [
        {
          "output_type": "stream",
          "name": "stdout",
          "text": [
            "Creating tensorboard log file in logs/model_22022$m$d-043611\n",
            "Epoch 1/5\n",
            "2368/2368 [==============================] - ETA: 0s - loss: 2.0746 - accuracy: 0.4993"
          ]
        },
        {
          "output_type": "stream",
          "name": "stderr",
          "text": [
            "WARNING:tensorflow:Can save best model only with val_acc available, skipping.\n"
          ]
        },
        {
          "output_type": "stream",
          "name": "stdout",
          "text": [
            "\b\b\b\b\b\b\b\b\b\b\b\b\b\b\b\b\b\b\b\b\b\b\b\b\b\b\b\b\b\b\b\b\b\b\b\b\b\b\b\b\b\b\b\b\b\b\b\b\b\b\b\b\b\b\b\b\b\b\b\b\b\b\b\b\b\b\b\b\b\b\b\b\b\b\b\b\b\b\b\b\b\b\b\b\b\b\r2368/2368 [==============================] - 276s 110ms/step - loss: 2.0746 - accuracy: 0.4993 - val_loss: 1.2310 - val_accuracy: 0.6757\n",
            "Epoch 2/5\n",
            "2368/2368 [==============================] - ETA: 0s - loss: 1.5599 - accuracy: 0.6013"
          ]
        },
        {
          "output_type": "stream",
          "name": "stderr",
          "text": [
            "WARNING:tensorflow:Can save best model only with val_acc available, skipping.\n"
          ]
        },
        {
          "output_type": "stream",
          "name": "stdout",
          "text": [
            "\b\b\b\b\b\b\b\b\b\b\b\b\b\b\b\b\b\b\b\b\b\b\b\b\b\b\b\b\b\b\b\b\b\b\b\b\b\b\b\b\b\b\b\b\b\b\b\b\b\b\b\b\b\b\b\b\b\b\b\b\b\b\b\b\b\b\b\b\b\b\b\b\b\b\b\b\b\b\b\b\b\b\b\b\b\b\r2368/2368 [==============================] - 222s 93ms/step - loss: 1.5599 - accuracy: 0.6013 - val_loss: 1.1199 - val_accuracy: 0.6954\n",
            "Epoch 3/5\n",
            "2368/2368 [==============================] - ETA: 0s - loss: 1.4274 - accuracy: 0.6309"
          ]
        },
        {
          "output_type": "stream",
          "name": "stderr",
          "text": [
            "WARNING:tensorflow:Can save best model only with val_acc available, skipping.\n"
          ]
        },
        {
          "output_type": "stream",
          "name": "stdout",
          "text": [
            "\b\b\b\b\b\b\b\b\b\b\b\b\b\b\b\b\b\b\b\b\b\b\b\b\b\b\b\b\b\b\b\b\b\b\b\b\b\b\b\b\b\b\b\b\b\b\b\b\b\b\b\b\b\b\b\b\b\b\b\b\b\b\b\b\b\b\b\b\b\b\b\b\b\b\b\b\b\b\b\b\b\b\b\b\b\b\r2368/2368 [==============================] - 215s 90ms/step - loss: 1.4274 - accuracy: 0.6309 - val_loss: 1.0650 - val_accuracy: 0.7135\n",
            "Epoch 4/5\n",
            "2368/2368 [==============================] - ETA: 0s - loss: 1.3575 - accuracy: 0.6471"
          ]
        },
        {
          "output_type": "stream",
          "name": "stderr",
          "text": [
            "WARNING:tensorflow:Can save best model only with val_acc available, skipping.\n"
          ]
        },
        {
          "output_type": "stream",
          "name": "stdout",
          "text": [
            "\b\b\b\b\b\b\b\b\b\b\b\b\b\b\b\b\b\b\b\b\b\b\b\b\b\b\b\b\b\b\b\b\b\b\b\b\b\b\b\b\b\b\b\b\b\b\b\b\b\b\b\b\b\b\b\b\b\b\b\b\b\b\b\b\b\b\b\b\b\b\b\b\b\b\b\b\b\b\b\b\b\b\b\b\b\b\r2368/2368 [==============================] - 212s 89ms/step - loss: 1.3575 - accuracy: 0.6471 - val_loss: 1.0409 - val_accuracy: 0.7166\n",
            "Epoch 5/5\n",
            "2368/2368 [==============================] - ETA: 0s - loss: 1.3041 - accuracy: 0.6579"
          ]
        },
        {
          "output_type": "stream",
          "name": "stderr",
          "text": [
            "WARNING:tensorflow:Can save best model only with val_acc available, skipping.\n"
          ]
        },
        {
          "output_type": "stream",
          "name": "stdout",
          "text": [
            "\b\b\b\b\b\b\b\b\b\b\b\b\b\b\b\b\b\b\b\b\b\b\b\b\b\b\b\b\b\b\b\b\b\b\b\b\b\b\b\b\b\b\b\b\b\b\b\b\b\b\b\b\b\b\b\b\b\b\b\b\b\b\b\b\b\b\b\b\b\b\b\b\b\b\b\b\b\b\b\b\b\b\b\b\b\b\r2368/2368 [==============================] - 212s 89ms/step - loss: 1.3041 - accuracy: 0.6579 - val_loss: 1.0037 - val_accuracy: 0.7195\n"
          ]
        }
      ],
      "source": [
        "initial_epochs=5\n",
        "history_model_2 = model_2.fit(train_data,epochs=initial_epochs,steps_per_epoch=len(train_data),validation_data=test_data,validation_steps=(0.15*len(test_data)),callbacks=[create_tensorboard_callback(\"logs\",\"model_2\"), checkpoint_callback])"
      ]
    },
    {
      "cell_type": "code",
      "execution_count": 26,
      "metadata": {
        "colab": {
          "base_uri": "https://localhost:8080/"
        },
        "id": "3mtewQlvgrW2",
        "outputId": "4c22023a-294f-4443-b49f-f8c4439f3f79"
      },
      "outputs": [
        {
          "output_type": "stream",
          "name": "stdout",
          "text": [
            "790/790 [==============================] - 53s 66ms/step - loss: 1.0248 - accuracy: 0.7199\n"
          ]
        },
        {
          "output_type": "execute_result",
          "data": {
            "text/plain": [
              "[1.0248303413391113, 0.7198811769485474]"
            ]
          },
          "metadata": {},
          "execution_count": 26
        }
      ],
      "source": [
        "model_2_data_augmented_results = model_2.evaluate(test_data)\n",
        "model_2_data_augmented_results"
      ]
    },
    {
      "cell_type": "markdown",
      "metadata": {
        "id": "6V4a4ffQnbSL"
      },
      "source": [
        "We can see that just by adding a data augmentation layer our model results have improved from model_2. Now let's do fine tuning"
      ]
    },
    {
      "cell_type": "markdown",
      "metadata": {
        "id": "ggZNE856no9q"
      },
      "source": [
        "## Fine tuning Model_2"
      ]
    },
    {
      "cell_type": "code",
      "execution_count": 27,
      "metadata": {
        "colab": {
          "base_uri": "https://localhost:8080/"
        },
        "id": "SGpJhzfgmgrq",
        "outputId": "d30ae943-ba9f-42b8-8986-bcd220452f4a"
      },
      "outputs": [
        {
          "output_type": "stream",
          "name": "stdout",
          "text": [
            "0 input_layer True\n",
            "1 data_augmentation_layer True\n",
            "2 efficientnetv2-b0 False\n",
            "3 global_average_pooling_layer True\n",
            "4 dense True\n",
            "5 feature_extraction_layer True\n"
          ]
        }
      ],
      "source": [
        "for i, layer in enumerate(model_2.layers):\n",
        "  print(i, layer.name, layer.trainable)"
      ]
    },
    {
      "cell_type": "code",
      "execution_count": 28,
      "metadata": {
        "id": "aTwNGbikn20x"
      },
      "outputs": [],
      "source": [
        "base_model.trainable=True\n",
        "\n",
        "## Freeze all layers except of last 10\n",
        "for layer in base_model.layers[:-10]:\n",
        "  layer.trainable=False"
      ]
    },
    {
      "cell_type": "code",
      "execution_count": 29,
      "metadata": {
        "colab": {
          "base_uri": "https://localhost:8080/"
        },
        "id": "5sOlD-CcoIFN",
        "outputId": "e42d3dc7-b8a4-4008-82dc-ec51408b100c"
      },
      "outputs": [
        {
          "output_type": "stream",
          "name": "stdout",
          "text": [
            "0 input_1 False\n",
            "1 rescaling False\n",
            "2 normalization False\n",
            "3 stem_conv False\n",
            "4 stem_bn False\n",
            "5 stem_activation False\n",
            "6 block1a_project_conv False\n",
            "7 block1a_project_bn False\n",
            "8 block1a_project_activation False\n",
            "9 block2a_expand_conv False\n",
            "10 block2a_expand_bn False\n",
            "11 block2a_expand_activation False\n",
            "12 block2a_project_conv False\n",
            "13 block2a_project_bn False\n",
            "14 block2b_expand_conv False\n",
            "15 block2b_expand_bn False\n",
            "16 block2b_expand_activation False\n",
            "17 block2b_project_conv False\n",
            "18 block2b_project_bn False\n",
            "19 block2b_drop False\n",
            "20 block2b_add False\n",
            "21 block3a_expand_conv False\n",
            "22 block3a_expand_bn False\n",
            "23 block3a_expand_activation False\n",
            "24 block3a_project_conv False\n",
            "25 block3a_project_bn False\n",
            "26 block3b_expand_conv False\n",
            "27 block3b_expand_bn False\n",
            "28 block3b_expand_activation False\n",
            "29 block3b_project_conv False\n",
            "30 block3b_project_bn False\n",
            "31 block3b_drop False\n",
            "32 block3b_add False\n",
            "33 block4a_expand_conv False\n",
            "34 block4a_expand_bn False\n",
            "35 block4a_expand_activation False\n",
            "36 block4a_dwconv2 False\n",
            "37 block4a_bn False\n",
            "38 block4a_activation False\n",
            "39 block4a_se_squeeze False\n",
            "40 block4a_se_reshape False\n",
            "41 block4a_se_reduce False\n",
            "42 block4a_se_expand False\n",
            "43 block4a_se_excite False\n",
            "44 block4a_project_conv False\n",
            "45 block4a_project_bn False\n",
            "46 block4b_expand_conv False\n",
            "47 block4b_expand_bn False\n",
            "48 block4b_expand_activation False\n",
            "49 block4b_dwconv2 False\n",
            "50 block4b_bn False\n",
            "51 block4b_activation False\n",
            "52 block4b_se_squeeze False\n",
            "53 block4b_se_reshape False\n",
            "54 block4b_se_reduce False\n",
            "55 block4b_se_expand False\n",
            "56 block4b_se_excite False\n",
            "57 block4b_project_conv False\n",
            "58 block4b_project_bn False\n",
            "59 block4b_drop False\n",
            "60 block4b_add False\n",
            "61 block4c_expand_conv False\n",
            "62 block4c_expand_bn False\n",
            "63 block4c_expand_activation False\n",
            "64 block4c_dwconv2 False\n",
            "65 block4c_bn False\n",
            "66 block4c_activation False\n",
            "67 block4c_se_squeeze False\n",
            "68 block4c_se_reshape False\n",
            "69 block4c_se_reduce False\n",
            "70 block4c_se_expand False\n",
            "71 block4c_se_excite False\n",
            "72 block4c_project_conv False\n",
            "73 block4c_project_bn False\n",
            "74 block4c_drop False\n",
            "75 block4c_add False\n",
            "76 block5a_expand_conv False\n",
            "77 block5a_expand_bn False\n",
            "78 block5a_expand_activation False\n",
            "79 block5a_dwconv2 False\n",
            "80 block5a_bn False\n",
            "81 block5a_activation False\n",
            "82 block5a_se_squeeze False\n",
            "83 block5a_se_reshape False\n",
            "84 block5a_se_reduce False\n",
            "85 block5a_se_expand False\n",
            "86 block5a_se_excite False\n",
            "87 block5a_project_conv False\n",
            "88 block5a_project_bn False\n",
            "89 block5b_expand_conv False\n",
            "90 block5b_expand_bn False\n",
            "91 block5b_expand_activation False\n",
            "92 block5b_dwconv2 False\n",
            "93 block5b_bn False\n",
            "94 block5b_activation False\n",
            "95 block5b_se_squeeze False\n",
            "96 block5b_se_reshape False\n",
            "97 block5b_se_reduce False\n",
            "98 block5b_se_expand False\n",
            "99 block5b_se_excite False\n",
            "100 block5b_project_conv False\n",
            "101 block5b_project_bn False\n",
            "102 block5b_drop False\n",
            "103 block5b_add False\n",
            "104 block5c_expand_conv False\n",
            "105 block5c_expand_bn False\n",
            "106 block5c_expand_activation False\n",
            "107 block5c_dwconv2 False\n",
            "108 block5c_bn False\n",
            "109 block5c_activation False\n",
            "110 block5c_se_squeeze False\n",
            "111 block5c_se_reshape False\n",
            "112 block5c_se_reduce False\n",
            "113 block5c_se_expand False\n",
            "114 block5c_se_excite False\n",
            "115 block5c_project_conv False\n",
            "116 block5c_project_bn False\n",
            "117 block5c_drop False\n",
            "118 block5c_add False\n",
            "119 block5d_expand_conv False\n",
            "120 block5d_expand_bn False\n",
            "121 block5d_expand_activation False\n",
            "122 block5d_dwconv2 False\n",
            "123 block5d_bn False\n",
            "124 block5d_activation False\n",
            "125 block5d_se_squeeze False\n",
            "126 block5d_se_reshape False\n",
            "127 block5d_se_reduce False\n",
            "128 block5d_se_expand False\n",
            "129 block5d_se_excite False\n",
            "130 block5d_project_conv False\n",
            "131 block5d_project_bn False\n",
            "132 block5d_drop False\n",
            "133 block5d_add False\n",
            "134 block5e_expand_conv False\n",
            "135 block5e_expand_bn False\n",
            "136 block5e_expand_activation False\n",
            "137 block5e_dwconv2 False\n",
            "138 block5e_bn False\n",
            "139 block5e_activation False\n",
            "140 block5e_se_squeeze False\n",
            "141 block5e_se_reshape False\n",
            "142 block5e_se_reduce False\n",
            "143 block5e_se_expand False\n",
            "144 block5e_se_excite False\n",
            "145 block5e_project_conv False\n",
            "146 block5e_project_bn False\n",
            "147 block5e_drop False\n",
            "148 block5e_add False\n",
            "149 block6a_expand_conv False\n",
            "150 block6a_expand_bn False\n",
            "151 block6a_expand_activation False\n",
            "152 block6a_dwconv2 False\n",
            "153 block6a_bn False\n",
            "154 block6a_activation False\n",
            "155 block6a_se_squeeze False\n",
            "156 block6a_se_reshape False\n",
            "157 block6a_se_reduce False\n",
            "158 block6a_se_expand False\n",
            "159 block6a_se_excite False\n",
            "160 block6a_project_conv False\n",
            "161 block6a_project_bn False\n",
            "162 block6b_expand_conv False\n",
            "163 block6b_expand_bn False\n",
            "164 block6b_expand_activation False\n",
            "165 block6b_dwconv2 False\n",
            "166 block6b_bn False\n",
            "167 block6b_activation False\n",
            "168 block6b_se_squeeze False\n",
            "169 block6b_se_reshape False\n",
            "170 block6b_se_reduce False\n",
            "171 block6b_se_expand False\n",
            "172 block6b_se_excite False\n",
            "173 block6b_project_conv False\n",
            "174 block6b_project_bn False\n",
            "175 block6b_drop False\n",
            "176 block6b_add False\n",
            "177 block6c_expand_conv False\n",
            "178 block6c_expand_bn False\n",
            "179 block6c_expand_activation False\n",
            "180 block6c_dwconv2 False\n",
            "181 block6c_bn False\n",
            "182 block6c_activation False\n",
            "183 block6c_se_squeeze False\n",
            "184 block6c_se_reshape False\n",
            "185 block6c_se_reduce False\n",
            "186 block6c_se_expand False\n",
            "187 block6c_se_excite False\n",
            "188 block6c_project_conv False\n",
            "189 block6c_project_bn False\n",
            "190 block6c_drop False\n",
            "191 block6c_add False\n",
            "192 block6d_expand_conv False\n",
            "193 block6d_expand_bn False\n",
            "194 block6d_expand_activation False\n",
            "195 block6d_dwconv2 False\n",
            "196 block6d_bn False\n",
            "197 block6d_activation False\n",
            "198 block6d_se_squeeze False\n",
            "199 block6d_se_reshape False\n",
            "200 block6d_se_reduce False\n",
            "201 block6d_se_expand False\n",
            "202 block6d_se_excite False\n",
            "203 block6d_project_conv False\n",
            "204 block6d_project_bn False\n",
            "205 block6d_drop False\n",
            "206 block6d_add False\n",
            "207 block6e_expand_conv False\n",
            "208 block6e_expand_bn False\n",
            "209 block6e_expand_activation False\n",
            "210 block6e_dwconv2 False\n",
            "211 block6e_bn False\n",
            "212 block6e_activation False\n",
            "213 block6e_se_squeeze False\n",
            "214 block6e_se_reshape False\n",
            "215 block6e_se_reduce False\n",
            "216 block6e_se_expand False\n",
            "217 block6e_se_excite False\n",
            "218 block6e_project_conv False\n",
            "219 block6e_project_bn False\n",
            "220 block6e_drop False\n",
            "221 block6e_add False\n",
            "222 block6f_expand_conv False\n",
            "223 block6f_expand_bn False\n",
            "224 block6f_expand_activation False\n",
            "225 block6f_dwconv2 False\n",
            "226 block6f_bn False\n",
            "227 block6f_activation False\n",
            "228 block6f_se_squeeze False\n",
            "229 block6f_se_reshape False\n",
            "230 block6f_se_reduce False\n",
            "231 block6f_se_expand False\n",
            "232 block6f_se_excite False\n",
            "233 block6f_project_conv False\n",
            "234 block6f_project_bn False\n",
            "235 block6f_drop False\n",
            "236 block6f_add False\n",
            "237 block6g_expand_conv False\n",
            "238 block6g_expand_bn False\n",
            "239 block6g_expand_activation False\n",
            "240 block6g_dwconv2 False\n",
            "241 block6g_bn False\n",
            "242 block6g_activation False\n",
            "243 block6g_se_squeeze False\n",
            "244 block6g_se_reshape False\n",
            "245 block6g_se_reduce False\n",
            "246 block6g_se_expand False\n",
            "247 block6g_se_excite False\n",
            "248 block6g_project_conv False\n",
            "249 block6g_project_bn False\n",
            "250 block6g_drop False\n",
            "251 block6g_add False\n",
            "252 block6h_expand_conv False\n",
            "253 block6h_expand_bn False\n",
            "254 block6h_expand_activation False\n",
            "255 block6h_dwconv2 False\n",
            "256 block6h_bn False\n",
            "257 block6h_activation False\n",
            "258 block6h_se_squeeze False\n",
            "259 block6h_se_reshape False\n",
            "260 block6h_se_reduce True\n",
            "261 block6h_se_expand True\n",
            "262 block6h_se_excite True\n",
            "263 block6h_project_conv True\n",
            "264 block6h_project_bn True\n",
            "265 block6h_drop True\n",
            "266 block6h_add True\n",
            "267 top_conv True\n",
            "268 top_bn True\n",
            "269 top_activation True\n"
          ]
        }
      ],
      "source": [
        "for i, layer in enumerate(base_model.layers):\n",
        "  print(i, layer.name, layer.trainable)"
      ]
    },
    {
      "cell_type": "code",
      "execution_count": 30,
      "metadata": {
        "id": "dTJRah4voMQ5"
      },
      "outputs": [],
      "source": [
        "model_2.compile(loss=tf.keras.losses.SparseCategoricalCrossentropy(),optimizer=tf.keras.optimizers.Adam(learning_rate=0.0001),metrics=[\"accuracy\"])"
      ]
    },
    {
      "cell_type": "code",
      "execution_count": 31,
      "metadata": {
        "colab": {
          "base_uri": "https://localhost:8080/"
        },
        "id": "Q9TL8m0PppSl",
        "outputId": "6d8dadbe-baee-4220-8ae4-36a9c83bd7c8"
      },
      "outputs": [
        {
          "output_type": "stream",
          "name": "stdout",
          "text": [
            "0 input_layer True\n",
            "1 data_augmentation_layer True\n",
            "2 efficientnetv2-b0 True\n",
            "3 global_average_pooling_layer True\n",
            "4 dense True\n",
            "5 feature_extraction_layer True\n"
          ]
        }
      ],
      "source": [
        "for i, layer in enumerate(model_2.layers):\n",
        "  print(i, layer.name, layer.trainable)"
      ]
    },
    {
      "cell_type": "code",
      "execution_count": 32,
      "metadata": {
        "id": "8huNUBUzp0Xx",
        "colab": {
          "base_uri": "https://localhost:8080/"
        },
        "outputId": "df1954c6-9cd9-4005-bd46-ebf8384729a8"
      },
      "outputs": [
        {
          "output_type": "stream",
          "name": "stdout",
          "text": [
            "Creating tensorboard log file in logs/fine_tuned_model_22022$m$d-045942\n",
            "Epoch 5/10\n",
            "2368/2368 [==============================] - 223s 90ms/step - loss: 1.1549 - accuracy: 0.6959 - val_loss: 0.9457 - val_accuracy: 0.7463\n",
            "Epoch 6/10\n",
            "2368/2368 [==============================] - 213s 89ms/step - loss: 1.0715 - accuracy: 0.7150 - val_loss: 0.9134 - val_accuracy: 0.7513\n",
            "Epoch 7/10\n",
            "2368/2368 [==============================] - 212s 89ms/step - loss: 1.0081 - accuracy: 0.7313 - val_loss: 0.8848 - val_accuracy: 0.7613\n",
            "Epoch 8/10\n",
            "2368/2368 [==============================] - 212s 89ms/step - loss: 0.9597 - accuracy: 0.7417 - val_loss: 0.8604 - val_accuracy: 0.7613\n",
            "Epoch 9/10\n",
            "2368/2368 [==============================] - 213s 89ms/step - loss: 0.9165 - accuracy: 0.7523 - val_loss: 0.8546 - val_accuracy: 0.7647\n",
            "Epoch 10/10\n",
            "2368/2368 [==============================] - 213s 89ms/step - loss: 0.8800 - accuracy: 0.7614 - val_loss: 0.8545 - val_accuracy: 0.7668\n"
          ]
        }
      ],
      "source": [
        "history_fine_tuned_model_2 = model_2.fit(train_data, epochs=initial_epochs+5, steps_per_epoch=len(train_data), initial_epoch=history_model_2.epoch[-1],validation_data=test_data,validation_steps=(0.15*len(test_data)),callbacks=[create_tensorboard_callback(\"logs\",\"fine_tuned_model_2\")])"
      ]
    },
    {
      "cell_type": "code",
      "execution_count": 33,
      "metadata": {
        "id": "-UfKdWhkqvIe",
        "colab": {
          "base_uri": "https://localhost:8080/"
        },
        "outputId": "61a9683b-7b69-4db9-acc9-0eacc29442cc"
      },
      "outputs": [
        {
          "output_type": "stream",
          "name": "stdout",
          "text": [
            "790/790 [==============================] - 53s 65ms/step - loss: 0.8673 - accuracy: 0.7619\n"
          ]
        },
        {
          "output_type": "execute_result",
          "data": {
            "text/plain": [
              "[0.8672589659690857, 0.7619009613990784]"
            ]
          },
          "metadata": {},
          "execution_count": 33
        }
      ],
      "source": [
        "history_fine_tuned_model_2_results = model_2.evaluate(test_data)\n",
        "history_fine_tuned_model_2_results"
      ]
    },
    {
      "cell_type": "code",
      "execution_count": 34,
      "metadata": {
        "id": "SlLfdr75snya"
      },
      "outputs": [],
      "source": [
        "model_2.save(\"/content/drive/MyDrive/food_vision_model_fine_tuned.h5\")"
      ]
    },
    {
      "cell_type": "code",
      "source": [
        "loaded_model = tf.keras.models.load_model(\"/content/drive/MyDrive/food_vision_model_fine_tuned.h5\")"
      ],
      "metadata": {
        "id": "ASBqz3tvAigK"
      },
      "execution_count": 37,
      "outputs": []
    },
    {
      "cell_type": "code",
      "source": [
        "loaded_model.evaluate(test_data)"
      ],
      "metadata": {
        "colab": {
          "base_uri": "https://localhost:8080/"
        },
        "id": "5QTXZQgMAnfa",
        "outputId": "230a3eff-f2c2-48fa-f674-c75bb5fbd778"
      },
      "execution_count": 38,
      "outputs": [
        {
          "output_type": "stream",
          "name": "stdout",
          "text": [
            "790/790 [==============================] - 55s 65ms/step - loss: 0.8673 - accuracy: 0.7619\n"
          ]
        },
        {
          "output_type": "execute_result",
          "data": {
            "text/plain": [
              "[0.867257833480835, 0.7619009613990784]"
            ]
          },
          "metadata": {},
          "execution_count": 38
        }
      ]
    }
  ],
  "metadata": {
    "accelerator": "GPU",
    "colab": {
      "collapsed_sections": [
        "JOQUoI57UGVv",
        "CbK55JA9B7mG",
        "XdsJvqkPGvAX",
        "DqzVRdM0Zuck",
        "XweRC7wDcRy8",
        "HLeX2G_Sdb5k",
        "ggZNE856no9q"
      ],
      "provenance": [],
      "mount_file_id": "1Eoc2HXIJFixbCdpQvW4ulpxJnkQf8DP9",
      "authorship_tag": "ABX9TyMWzspySzr/Oc6U+gD9mvjq",
      "include_colab_link": true
    },
    "kernelspec": {
      "display_name": "Python 3",
      "name": "python3"
    },
    "language_info": {
      "name": "python"
    },
    "widgets": {
      "application/vnd.jupyter.widget-state+json": {
        "ae12e2aeae2940dba57da9afb44374a9": {
          "model_module": "@jupyter-widgets/controls",
          "model_name": "HBoxModel",
          "model_module_version": "1.5.0",
          "state": {
            "_dom_classes": [],
            "_model_module": "@jupyter-widgets/controls",
            "_model_module_version": "1.5.0",
            "_model_name": "HBoxModel",
            "_view_count": null,
            "_view_module": "@jupyter-widgets/controls",
            "_view_module_version": "1.5.0",
            "_view_name": "HBoxView",
            "box_style": "",
            "children": [
              "IPY_MODEL_088ff8b74a3c45feb36617f0898c0887",
              "IPY_MODEL_285681d015794f79a1359b04fca75a23",
              "IPY_MODEL_4b6836fce9a54faba09b3c040da90ca9"
            ],
            "layout": "IPY_MODEL_7cd5f3e0da2744f9bf35afbdb4cf0176"
          }
        },
        "088ff8b74a3c45feb36617f0898c0887": {
          "model_module": "@jupyter-widgets/controls",
          "model_name": "HTMLModel",
          "model_module_version": "1.5.0",
          "state": {
            "_dom_classes": [],
            "_model_module": "@jupyter-widgets/controls",
            "_model_module_version": "1.5.0",
            "_model_name": "HTMLModel",
            "_view_count": null,
            "_view_module": "@jupyter-widgets/controls",
            "_view_module_version": "1.5.0",
            "_view_name": "HTMLView",
            "description": "",
            "description_tooltip": null,
            "layout": "IPY_MODEL_9a8891ba0fbf4810994a863eebfc62f5",
            "placeholder": "​",
            "style": "IPY_MODEL_721bd68073654d24b02f559b545d5ed5",
            "value": "Dl Completed...: 100%"
          }
        },
        "285681d015794f79a1359b04fca75a23": {
          "model_module": "@jupyter-widgets/controls",
          "model_name": "FloatProgressModel",
          "model_module_version": "1.5.0",
          "state": {
            "_dom_classes": [],
            "_model_module": "@jupyter-widgets/controls",
            "_model_module_version": "1.5.0",
            "_model_name": "FloatProgressModel",
            "_view_count": null,
            "_view_module": "@jupyter-widgets/controls",
            "_view_module_version": "1.5.0",
            "_view_name": "ProgressView",
            "bar_style": "success",
            "description": "",
            "description_tooltip": null,
            "layout": "IPY_MODEL_89340b76bcee4d28a964c30732cc6e94",
            "max": 1,
            "min": 0,
            "orientation": "horizontal",
            "style": "IPY_MODEL_62eaac56044748d4989e0eae0c47ab39",
            "value": 1
          }
        },
        "4b6836fce9a54faba09b3c040da90ca9": {
          "model_module": "@jupyter-widgets/controls",
          "model_name": "HTMLModel",
          "model_module_version": "1.5.0",
          "state": {
            "_dom_classes": [],
            "_model_module": "@jupyter-widgets/controls",
            "_model_module_version": "1.5.0",
            "_model_name": "HTMLModel",
            "_view_count": null,
            "_view_module": "@jupyter-widgets/controls",
            "_view_module_version": "1.5.0",
            "_view_name": "HTMLView",
            "description": "",
            "description_tooltip": null,
            "layout": "IPY_MODEL_fc5b28340cff4508a8a24b5e5849f07b",
            "placeholder": "​",
            "style": "IPY_MODEL_d662efba313349c3b68844228593d25f",
            "value": " 1/1 [06:57&lt;00:00, 330.22s/ url]"
          }
        },
        "7cd5f3e0da2744f9bf35afbdb4cf0176": {
          "model_module": "@jupyter-widgets/base",
          "model_name": "LayoutModel",
          "model_module_version": "1.2.0",
          "state": {
            "_model_module": "@jupyter-widgets/base",
            "_model_module_version": "1.2.0",
            "_model_name": "LayoutModel",
            "_view_count": null,
            "_view_module": "@jupyter-widgets/base",
            "_view_module_version": "1.2.0",
            "_view_name": "LayoutView",
            "align_content": null,
            "align_items": null,
            "align_self": null,
            "border": null,
            "bottom": null,
            "display": null,
            "flex": null,
            "flex_flow": null,
            "grid_area": null,
            "grid_auto_columns": null,
            "grid_auto_flow": null,
            "grid_auto_rows": null,
            "grid_column": null,
            "grid_gap": null,
            "grid_row": null,
            "grid_template_areas": null,
            "grid_template_columns": null,
            "grid_template_rows": null,
            "height": null,
            "justify_content": null,
            "justify_items": null,
            "left": null,
            "margin": null,
            "max_height": null,
            "max_width": null,
            "min_height": null,
            "min_width": null,
            "object_fit": null,
            "object_position": null,
            "order": null,
            "overflow": null,
            "overflow_x": null,
            "overflow_y": null,
            "padding": null,
            "right": null,
            "top": null,
            "visibility": null,
            "width": null
          }
        },
        "9a8891ba0fbf4810994a863eebfc62f5": {
          "model_module": "@jupyter-widgets/base",
          "model_name": "LayoutModel",
          "model_module_version": "1.2.0",
          "state": {
            "_model_module": "@jupyter-widgets/base",
            "_model_module_version": "1.2.0",
            "_model_name": "LayoutModel",
            "_view_count": null,
            "_view_module": "@jupyter-widgets/base",
            "_view_module_version": "1.2.0",
            "_view_name": "LayoutView",
            "align_content": null,
            "align_items": null,
            "align_self": null,
            "border": null,
            "bottom": null,
            "display": null,
            "flex": null,
            "flex_flow": null,
            "grid_area": null,
            "grid_auto_columns": null,
            "grid_auto_flow": null,
            "grid_auto_rows": null,
            "grid_column": null,
            "grid_gap": null,
            "grid_row": null,
            "grid_template_areas": null,
            "grid_template_columns": null,
            "grid_template_rows": null,
            "height": null,
            "justify_content": null,
            "justify_items": null,
            "left": null,
            "margin": null,
            "max_height": null,
            "max_width": null,
            "min_height": null,
            "min_width": null,
            "object_fit": null,
            "object_position": null,
            "order": null,
            "overflow": null,
            "overflow_x": null,
            "overflow_y": null,
            "padding": null,
            "right": null,
            "top": null,
            "visibility": null,
            "width": null
          }
        },
        "721bd68073654d24b02f559b545d5ed5": {
          "model_module": "@jupyter-widgets/controls",
          "model_name": "DescriptionStyleModel",
          "model_module_version": "1.5.0",
          "state": {
            "_model_module": "@jupyter-widgets/controls",
            "_model_module_version": "1.5.0",
            "_model_name": "DescriptionStyleModel",
            "_view_count": null,
            "_view_module": "@jupyter-widgets/base",
            "_view_module_version": "1.2.0",
            "_view_name": "StyleView",
            "description_width": ""
          }
        },
        "89340b76bcee4d28a964c30732cc6e94": {
          "model_module": "@jupyter-widgets/base",
          "model_name": "LayoutModel",
          "model_module_version": "1.2.0",
          "state": {
            "_model_module": "@jupyter-widgets/base",
            "_model_module_version": "1.2.0",
            "_model_name": "LayoutModel",
            "_view_count": null,
            "_view_module": "@jupyter-widgets/base",
            "_view_module_version": "1.2.0",
            "_view_name": "LayoutView",
            "align_content": null,
            "align_items": null,
            "align_self": null,
            "border": null,
            "bottom": null,
            "display": null,
            "flex": null,
            "flex_flow": null,
            "grid_area": null,
            "grid_auto_columns": null,
            "grid_auto_flow": null,
            "grid_auto_rows": null,
            "grid_column": null,
            "grid_gap": null,
            "grid_row": null,
            "grid_template_areas": null,
            "grid_template_columns": null,
            "grid_template_rows": null,
            "height": null,
            "justify_content": null,
            "justify_items": null,
            "left": null,
            "margin": null,
            "max_height": null,
            "max_width": null,
            "min_height": null,
            "min_width": null,
            "object_fit": null,
            "object_position": null,
            "order": null,
            "overflow": null,
            "overflow_x": null,
            "overflow_y": null,
            "padding": null,
            "right": null,
            "top": null,
            "visibility": null,
            "width": "20px"
          }
        },
        "62eaac56044748d4989e0eae0c47ab39": {
          "model_module": "@jupyter-widgets/controls",
          "model_name": "ProgressStyleModel",
          "model_module_version": "1.5.0",
          "state": {
            "_model_module": "@jupyter-widgets/controls",
            "_model_module_version": "1.5.0",
            "_model_name": "ProgressStyleModel",
            "_view_count": null,
            "_view_module": "@jupyter-widgets/base",
            "_view_module_version": "1.2.0",
            "_view_name": "StyleView",
            "bar_color": null,
            "description_width": ""
          }
        },
        "fc5b28340cff4508a8a24b5e5849f07b": {
          "model_module": "@jupyter-widgets/base",
          "model_name": "LayoutModel",
          "model_module_version": "1.2.0",
          "state": {
            "_model_module": "@jupyter-widgets/base",
            "_model_module_version": "1.2.0",
            "_model_name": "LayoutModel",
            "_view_count": null,
            "_view_module": "@jupyter-widgets/base",
            "_view_module_version": "1.2.0",
            "_view_name": "LayoutView",
            "align_content": null,
            "align_items": null,
            "align_self": null,
            "border": null,
            "bottom": null,
            "display": null,
            "flex": null,
            "flex_flow": null,
            "grid_area": null,
            "grid_auto_columns": null,
            "grid_auto_flow": null,
            "grid_auto_rows": null,
            "grid_column": null,
            "grid_gap": null,
            "grid_row": null,
            "grid_template_areas": null,
            "grid_template_columns": null,
            "grid_template_rows": null,
            "height": null,
            "justify_content": null,
            "justify_items": null,
            "left": null,
            "margin": null,
            "max_height": null,
            "max_width": null,
            "min_height": null,
            "min_width": null,
            "object_fit": null,
            "object_position": null,
            "order": null,
            "overflow": null,
            "overflow_x": null,
            "overflow_y": null,
            "padding": null,
            "right": null,
            "top": null,
            "visibility": null,
            "width": null
          }
        },
        "d662efba313349c3b68844228593d25f": {
          "model_module": "@jupyter-widgets/controls",
          "model_name": "DescriptionStyleModel",
          "model_module_version": "1.5.0",
          "state": {
            "_model_module": "@jupyter-widgets/controls",
            "_model_module_version": "1.5.0",
            "_model_name": "DescriptionStyleModel",
            "_view_count": null,
            "_view_module": "@jupyter-widgets/base",
            "_view_module_version": "1.2.0",
            "_view_name": "StyleView",
            "description_width": ""
          }
        },
        "48b1a889dca4439880ec7cb845797688": {
          "model_module": "@jupyter-widgets/controls",
          "model_name": "HBoxModel",
          "model_module_version": "1.5.0",
          "state": {
            "_dom_classes": [],
            "_model_module": "@jupyter-widgets/controls",
            "_model_module_version": "1.5.0",
            "_model_name": "HBoxModel",
            "_view_count": null,
            "_view_module": "@jupyter-widgets/controls",
            "_view_module_version": "1.5.0",
            "_view_name": "HBoxView",
            "box_style": "",
            "children": [
              "IPY_MODEL_5537017e392e487aa02682e6286a038f",
              "IPY_MODEL_d2980bbb3b36441396e48a9d78641e97",
              "IPY_MODEL_08b357fb1b9c426d8218cfe66b5c79e3"
            ],
            "layout": "IPY_MODEL_74d3c81316b54658898f8f609a24d421"
          }
        },
        "5537017e392e487aa02682e6286a038f": {
          "model_module": "@jupyter-widgets/controls",
          "model_name": "HTMLModel",
          "model_module_version": "1.5.0",
          "state": {
            "_dom_classes": [],
            "_model_module": "@jupyter-widgets/controls",
            "_model_module_version": "1.5.0",
            "_model_name": "HTMLModel",
            "_view_count": null,
            "_view_module": "@jupyter-widgets/controls",
            "_view_module_version": "1.5.0",
            "_view_name": "HTMLView",
            "description": "",
            "description_tooltip": null,
            "layout": "IPY_MODEL_0bd48358d53142f4b7c312a1566a8f58",
            "placeholder": "​",
            "style": "IPY_MODEL_b97df6c6311d4fe6a9cc92a232f6f37d",
            "value": "Dl Size...: 100%"
          }
        },
        "d2980bbb3b36441396e48a9d78641e97": {
          "model_module": "@jupyter-widgets/controls",
          "model_name": "FloatProgressModel",
          "model_module_version": "1.5.0",
          "state": {
            "_dom_classes": [],
            "_model_module": "@jupyter-widgets/controls",
            "_model_module_version": "1.5.0",
            "_model_name": "FloatProgressModel",
            "_view_count": null,
            "_view_module": "@jupyter-widgets/controls",
            "_view_module_version": "1.5.0",
            "_view_name": "ProgressView",
            "bar_style": "success",
            "description": "",
            "description_tooltip": null,
            "layout": "IPY_MODEL_b81672ac2de44bc1ae5434f67733dcd1",
            "max": 1,
            "min": 0,
            "orientation": "horizontal",
            "style": "IPY_MODEL_c071a14a126f4a7890f3e5e794c997d3",
            "value": 1
          }
        },
        "08b357fb1b9c426d8218cfe66b5c79e3": {
          "model_module": "@jupyter-widgets/controls",
          "model_name": "HTMLModel",
          "model_module_version": "1.5.0",
          "state": {
            "_dom_classes": [],
            "_model_module": "@jupyter-widgets/controls",
            "_model_module_version": "1.5.0",
            "_model_name": "HTMLModel",
            "_view_count": null,
            "_view_module": "@jupyter-widgets/controls",
            "_view_module_version": "1.5.0",
            "_view_name": "HTMLView",
            "description": "",
            "description_tooltip": null,
            "layout": "IPY_MODEL_6043a1fe4a3c4ca4ab516e1b9178edb7",
            "placeholder": "​",
            "style": "IPY_MODEL_ddc835c6111841e8af22e6c033a9a563",
            "value": " 4764/4764 [06:57&lt;00:00, 14.68 MiB/s]"
          }
        },
        "74d3c81316b54658898f8f609a24d421": {
          "model_module": "@jupyter-widgets/base",
          "model_name": "LayoutModel",
          "model_module_version": "1.2.0",
          "state": {
            "_model_module": "@jupyter-widgets/base",
            "_model_module_version": "1.2.0",
            "_model_name": "LayoutModel",
            "_view_count": null,
            "_view_module": "@jupyter-widgets/base",
            "_view_module_version": "1.2.0",
            "_view_name": "LayoutView",
            "align_content": null,
            "align_items": null,
            "align_self": null,
            "border": null,
            "bottom": null,
            "display": null,
            "flex": null,
            "flex_flow": null,
            "grid_area": null,
            "grid_auto_columns": null,
            "grid_auto_flow": null,
            "grid_auto_rows": null,
            "grid_column": null,
            "grid_gap": null,
            "grid_row": null,
            "grid_template_areas": null,
            "grid_template_columns": null,
            "grid_template_rows": null,
            "height": null,
            "justify_content": null,
            "justify_items": null,
            "left": null,
            "margin": null,
            "max_height": null,
            "max_width": null,
            "min_height": null,
            "min_width": null,
            "object_fit": null,
            "object_position": null,
            "order": null,
            "overflow": null,
            "overflow_x": null,
            "overflow_y": null,
            "padding": null,
            "right": null,
            "top": null,
            "visibility": null,
            "width": null
          }
        },
        "0bd48358d53142f4b7c312a1566a8f58": {
          "model_module": "@jupyter-widgets/base",
          "model_name": "LayoutModel",
          "model_module_version": "1.2.0",
          "state": {
            "_model_module": "@jupyter-widgets/base",
            "_model_module_version": "1.2.0",
            "_model_name": "LayoutModel",
            "_view_count": null,
            "_view_module": "@jupyter-widgets/base",
            "_view_module_version": "1.2.0",
            "_view_name": "LayoutView",
            "align_content": null,
            "align_items": null,
            "align_self": null,
            "border": null,
            "bottom": null,
            "display": null,
            "flex": null,
            "flex_flow": null,
            "grid_area": null,
            "grid_auto_columns": null,
            "grid_auto_flow": null,
            "grid_auto_rows": null,
            "grid_column": null,
            "grid_gap": null,
            "grid_row": null,
            "grid_template_areas": null,
            "grid_template_columns": null,
            "grid_template_rows": null,
            "height": null,
            "justify_content": null,
            "justify_items": null,
            "left": null,
            "margin": null,
            "max_height": null,
            "max_width": null,
            "min_height": null,
            "min_width": null,
            "object_fit": null,
            "object_position": null,
            "order": null,
            "overflow": null,
            "overflow_x": null,
            "overflow_y": null,
            "padding": null,
            "right": null,
            "top": null,
            "visibility": null,
            "width": null
          }
        },
        "b97df6c6311d4fe6a9cc92a232f6f37d": {
          "model_module": "@jupyter-widgets/controls",
          "model_name": "DescriptionStyleModel",
          "model_module_version": "1.5.0",
          "state": {
            "_model_module": "@jupyter-widgets/controls",
            "_model_module_version": "1.5.0",
            "_model_name": "DescriptionStyleModel",
            "_view_count": null,
            "_view_module": "@jupyter-widgets/base",
            "_view_module_version": "1.2.0",
            "_view_name": "StyleView",
            "description_width": ""
          }
        },
        "b81672ac2de44bc1ae5434f67733dcd1": {
          "model_module": "@jupyter-widgets/base",
          "model_name": "LayoutModel",
          "model_module_version": "1.2.0",
          "state": {
            "_model_module": "@jupyter-widgets/base",
            "_model_module_version": "1.2.0",
            "_model_name": "LayoutModel",
            "_view_count": null,
            "_view_module": "@jupyter-widgets/base",
            "_view_module_version": "1.2.0",
            "_view_name": "LayoutView",
            "align_content": null,
            "align_items": null,
            "align_self": null,
            "border": null,
            "bottom": null,
            "display": null,
            "flex": null,
            "flex_flow": null,
            "grid_area": null,
            "grid_auto_columns": null,
            "grid_auto_flow": null,
            "grid_auto_rows": null,
            "grid_column": null,
            "grid_gap": null,
            "grid_row": null,
            "grid_template_areas": null,
            "grid_template_columns": null,
            "grid_template_rows": null,
            "height": null,
            "justify_content": null,
            "justify_items": null,
            "left": null,
            "margin": null,
            "max_height": null,
            "max_width": null,
            "min_height": null,
            "min_width": null,
            "object_fit": null,
            "object_position": null,
            "order": null,
            "overflow": null,
            "overflow_x": null,
            "overflow_y": null,
            "padding": null,
            "right": null,
            "top": null,
            "visibility": null,
            "width": "20px"
          }
        },
        "c071a14a126f4a7890f3e5e794c997d3": {
          "model_module": "@jupyter-widgets/controls",
          "model_name": "ProgressStyleModel",
          "model_module_version": "1.5.0",
          "state": {
            "_model_module": "@jupyter-widgets/controls",
            "_model_module_version": "1.5.0",
            "_model_name": "ProgressStyleModel",
            "_view_count": null,
            "_view_module": "@jupyter-widgets/base",
            "_view_module_version": "1.2.0",
            "_view_name": "StyleView",
            "bar_color": null,
            "description_width": ""
          }
        },
        "6043a1fe4a3c4ca4ab516e1b9178edb7": {
          "model_module": "@jupyter-widgets/base",
          "model_name": "LayoutModel",
          "model_module_version": "1.2.0",
          "state": {
            "_model_module": "@jupyter-widgets/base",
            "_model_module_version": "1.2.0",
            "_model_name": "LayoutModel",
            "_view_count": null,
            "_view_module": "@jupyter-widgets/base",
            "_view_module_version": "1.2.0",
            "_view_name": "LayoutView",
            "align_content": null,
            "align_items": null,
            "align_self": null,
            "border": null,
            "bottom": null,
            "display": null,
            "flex": null,
            "flex_flow": null,
            "grid_area": null,
            "grid_auto_columns": null,
            "grid_auto_flow": null,
            "grid_auto_rows": null,
            "grid_column": null,
            "grid_gap": null,
            "grid_row": null,
            "grid_template_areas": null,
            "grid_template_columns": null,
            "grid_template_rows": null,
            "height": null,
            "justify_content": null,
            "justify_items": null,
            "left": null,
            "margin": null,
            "max_height": null,
            "max_width": null,
            "min_height": null,
            "min_width": null,
            "object_fit": null,
            "object_position": null,
            "order": null,
            "overflow": null,
            "overflow_x": null,
            "overflow_y": null,
            "padding": null,
            "right": null,
            "top": null,
            "visibility": null,
            "width": null
          }
        },
        "ddc835c6111841e8af22e6c033a9a563": {
          "model_module": "@jupyter-widgets/controls",
          "model_name": "DescriptionStyleModel",
          "model_module_version": "1.5.0",
          "state": {
            "_model_module": "@jupyter-widgets/controls",
            "_model_module_version": "1.5.0",
            "_model_name": "DescriptionStyleModel",
            "_view_count": null,
            "_view_module": "@jupyter-widgets/base",
            "_view_module_version": "1.2.0",
            "_view_name": "StyleView",
            "description_width": ""
          }
        },
        "a67887a7b2a946c7ba6e08f0ea066004": {
          "model_module": "@jupyter-widgets/controls",
          "model_name": "HBoxModel",
          "model_module_version": "1.5.0",
          "state": {
            "_dom_classes": [],
            "_model_module": "@jupyter-widgets/controls",
            "_model_module_version": "1.5.0",
            "_model_name": "HBoxModel",
            "_view_count": null,
            "_view_module": "@jupyter-widgets/controls",
            "_view_module_version": "1.5.0",
            "_view_name": "HBoxView",
            "box_style": "",
            "children": [
              "IPY_MODEL_773cdfcd16a5432e9c6367137524465a",
              "IPY_MODEL_fa592e1c376846228e197e91546d30a4",
              "IPY_MODEL_cad19285dd234a74b96fb3ff4993f361"
            ],
            "layout": "IPY_MODEL_72807f73a540489a9b967a914b2731cc"
          }
        },
        "773cdfcd16a5432e9c6367137524465a": {
          "model_module": "@jupyter-widgets/controls",
          "model_name": "HTMLModel",
          "model_module_version": "1.5.0",
          "state": {
            "_dom_classes": [],
            "_model_module": "@jupyter-widgets/controls",
            "_model_module_version": "1.5.0",
            "_model_name": "HTMLModel",
            "_view_count": null,
            "_view_module": "@jupyter-widgets/controls",
            "_view_module_version": "1.5.0",
            "_view_name": "HTMLView",
            "description": "",
            "description_tooltip": null,
            "layout": "IPY_MODEL_ed41ea9911044844a51159865f97f7ba",
            "placeholder": "​",
            "style": "IPY_MODEL_0384925d6c3c4e6e939892e4321511cc",
            "value": "Extraction completed...: 100%"
          }
        },
        "fa592e1c376846228e197e91546d30a4": {
          "model_module": "@jupyter-widgets/controls",
          "model_name": "FloatProgressModel",
          "model_module_version": "1.5.0",
          "state": {
            "_dom_classes": [],
            "_model_module": "@jupyter-widgets/controls",
            "_model_module_version": "1.5.0",
            "_model_name": "FloatProgressModel",
            "_view_count": null,
            "_view_module": "@jupyter-widgets/controls",
            "_view_module_version": "1.5.0",
            "_view_name": "ProgressView",
            "bar_style": "success",
            "description": "",
            "description_tooltip": null,
            "layout": "IPY_MODEL_8b048a728088433994356421dd72fc3a",
            "max": 1,
            "min": 0,
            "orientation": "horizontal",
            "style": "IPY_MODEL_b23fc2e6b43a4c36a0d23009f9d18354",
            "value": 1
          }
        },
        "cad19285dd234a74b96fb3ff4993f361": {
          "model_module": "@jupyter-widgets/controls",
          "model_name": "HTMLModel",
          "model_module_version": "1.5.0",
          "state": {
            "_dom_classes": [],
            "_model_module": "@jupyter-widgets/controls",
            "_model_module_version": "1.5.0",
            "_model_name": "HTMLModel",
            "_view_count": null,
            "_view_module": "@jupyter-widgets/controls",
            "_view_module_version": "1.5.0",
            "_view_name": "HTMLView",
            "description": "",
            "description_tooltip": null,
            "layout": "IPY_MODEL_dd4b9788194b4f81be518c72c0b1d5f3",
            "placeholder": "​",
            "style": "IPY_MODEL_0e897335861e45a093d33e01490f6a0e",
            "value": " 1/1 [06:57&lt;00:00, 417.06s/ file]"
          }
        },
        "72807f73a540489a9b967a914b2731cc": {
          "model_module": "@jupyter-widgets/base",
          "model_name": "LayoutModel",
          "model_module_version": "1.2.0",
          "state": {
            "_model_module": "@jupyter-widgets/base",
            "_model_module_version": "1.2.0",
            "_model_name": "LayoutModel",
            "_view_count": null,
            "_view_module": "@jupyter-widgets/base",
            "_view_module_version": "1.2.0",
            "_view_name": "LayoutView",
            "align_content": null,
            "align_items": null,
            "align_self": null,
            "border": null,
            "bottom": null,
            "display": null,
            "flex": null,
            "flex_flow": null,
            "grid_area": null,
            "grid_auto_columns": null,
            "grid_auto_flow": null,
            "grid_auto_rows": null,
            "grid_column": null,
            "grid_gap": null,
            "grid_row": null,
            "grid_template_areas": null,
            "grid_template_columns": null,
            "grid_template_rows": null,
            "height": null,
            "justify_content": null,
            "justify_items": null,
            "left": null,
            "margin": null,
            "max_height": null,
            "max_width": null,
            "min_height": null,
            "min_width": null,
            "object_fit": null,
            "object_position": null,
            "order": null,
            "overflow": null,
            "overflow_x": null,
            "overflow_y": null,
            "padding": null,
            "right": null,
            "top": null,
            "visibility": null,
            "width": null
          }
        },
        "ed41ea9911044844a51159865f97f7ba": {
          "model_module": "@jupyter-widgets/base",
          "model_name": "LayoutModel",
          "model_module_version": "1.2.0",
          "state": {
            "_model_module": "@jupyter-widgets/base",
            "_model_module_version": "1.2.0",
            "_model_name": "LayoutModel",
            "_view_count": null,
            "_view_module": "@jupyter-widgets/base",
            "_view_module_version": "1.2.0",
            "_view_name": "LayoutView",
            "align_content": null,
            "align_items": null,
            "align_self": null,
            "border": null,
            "bottom": null,
            "display": null,
            "flex": null,
            "flex_flow": null,
            "grid_area": null,
            "grid_auto_columns": null,
            "grid_auto_flow": null,
            "grid_auto_rows": null,
            "grid_column": null,
            "grid_gap": null,
            "grid_row": null,
            "grid_template_areas": null,
            "grid_template_columns": null,
            "grid_template_rows": null,
            "height": null,
            "justify_content": null,
            "justify_items": null,
            "left": null,
            "margin": null,
            "max_height": null,
            "max_width": null,
            "min_height": null,
            "min_width": null,
            "object_fit": null,
            "object_position": null,
            "order": null,
            "overflow": null,
            "overflow_x": null,
            "overflow_y": null,
            "padding": null,
            "right": null,
            "top": null,
            "visibility": null,
            "width": null
          }
        },
        "0384925d6c3c4e6e939892e4321511cc": {
          "model_module": "@jupyter-widgets/controls",
          "model_name": "DescriptionStyleModel",
          "model_module_version": "1.5.0",
          "state": {
            "_model_module": "@jupyter-widgets/controls",
            "_model_module_version": "1.5.0",
            "_model_name": "DescriptionStyleModel",
            "_view_count": null,
            "_view_module": "@jupyter-widgets/base",
            "_view_module_version": "1.2.0",
            "_view_name": "StyleView",
            "description_width": ""
          }
        },
        "8b048a728088433994356421dd72fc3a": {
          "model_module": "@jupyter-widgets/base",
          "model_name": "LayoutModel",
          "model_module_version": "1.2.0",
          "state": {
            "_model_module": "@jupyter-widgets/base",
            "_model_module_version": "1.2.0",
            "_model_name": "LayoutModel",
            "_view_count": null,
            "_view_module": "@jupyter-widgets/base",
            "_view_module_version": "1.2.0",
            "_view_name": "LayoutView",
            "align_content": null,
            "align_items": null,
            "align_self": null,
            "border": null,
            "bottom": null,
            "display": null,
            "flex": null,
            "flex_flow": null,
            "grid_area": null,
            "grid_auto_columns": null,
            "grid_auto_flow": null,
            "grid_auto_rows": null,
            "grid_column": null,
            "grid_gap": null,
            "grid_row": null,
            "grid_template_areas": null,
            "grid_template_columns": null,
            "grid_template_rows": null,
            "height": null,
            "justify_content": null,
            "justify_items": null,
            "left": null,
            "margin": null,
            "max_height": null,
            "max_width": null,
            "min_height": null,
            "min_width": null,
            "object_fit": null,
            "object_position": null,
            "order": null,
            "overflow": null,
            "overflow_x": null,
            "overflow_y": null,
            "padding": null,
            "right": null,
            "top": null,
            "visibility": null,
            "width": "20px"
          }
        },
        "b23fc2e6b43a4c36a0d23009f9d18354": {
          "model_module": "@jupyter-widgets/controls",
          "model_name": "ProgressStyleModel",
          "model_module_version": "1.5.0",
          "state": {
            "_model_module": "@jupyter-widgets/controls",
            "_model_module_version": "1.5.0",
            "_model_name": "ProgressStyleModel",
            "_view_count": null,
            "_view_module": "@jupyter-widgets/base",
            "_view_module_version": "1.2.0",
            "_view_name": "StyleView",
            "bar_color": null,
            "description_width": ""
          }
        },
        "dd4b9788194b4f81be518c72c0b1d5f3": {
          "model_module": "@jupyter-widgets/base",
          "model_name": "LayoutModel",
          "model_module_version": "1.2.0",
          "state": {
            "_model_module": "@jupyter-widgets/base",
            "_model_module_version": "1.2.0",
            "_model_name": "LayoutModel",
            "_view_count": null,
            "_view_module": "@jupyter-widgets/base",
            "_view_module_version": "1.2.0",
            "_view_name": "LayoutView",
            "align_content": null,
            "align_items": null,
            "align_self": null,
            "border": null,
            "bottom": null,
            "display": null,
            "flex": null,
            "flex_flow": null,
            "grid_area": null,
            "grid_auto_columns": null,
            "grid_auto_flow": null,
            "grid_auto_rows": null,
            "grid_column": null,
            "grid_gap": null,
            "grid_row": null,
            "grid_template_areas": null,
            "grid_template_columns": null,
            "grid_template_rows": null,
            "height": null,
            "justify_content": null,
            "justify_items": null,
            "left": null,
            "margin": null,
            "max_height": null,
            "max_width": null,
            "min_height": null,
            "min_width": null,
            "object_fit": null,
            "object_position": null,
            "order": null,
            "overflow": null,
            "overflow_x": null,
            "overflow_y": null,
            "padding": null,
            "right": null,
            "top": null,
            "visibility": null,
            "width": null
          }
        },
        "0e897335861e45a093d33e01490f6a0e": {
          "model_module": "@jupyter-widgets/controls",
          "model_name": "DescriptionStyleModel",
          "model_module_version": "1.5.0",
          "state": {
            "_model_module": "@jupyter-widgets/controls",
            "_model_module_version": "1.5.0",
            "_model_name": "DescriptionStyleModel",
            "_view_count": null,
            "_view_module": "@jupyter-widgets/base",
            "_view_module_version": "1.2.0",
            "_view_name": "StyleView",
            "description_width": ""
          }
        },
        "1f298dc9aa3f4cac897a13dc223576c7": {
          "model_module": "@jupyter-widgets/controls",
          "model_name": "HBoxModel",
          "model_module_version": "1.5.0",
          "state": {
            "_dom_classes": [],
            "_model_module": "@jupyter-widgets/controls",
            "_model_module_version": "1.5.0",
            "_model_name": "HBoxModel",
            "_view_count": null,
            "_view_module": "@jupyter-widgets/controls",
            "_view_module_version": "1.5.0",
            "_view_name": "HBoxView",
            "box_style": "",
            "children": [
              "IPY_MODEL_1cd6853cdd7341b4810ae8a8c3b6309d",
              "IPY_MODEL_9499d97c577f4e658138604d4601e383",
              "IPY_MODEL_b6af818e1024471d82a9ffb228091ca2"
            ],
            "layout": "IPY_MODEL_b262d0a7e3354d0380e14e974dc4a538"
          }
        },
        "1cd6853cdd7341b4810ae8a8c3b6309d": {
          "model_module": "@jupyter-widgets/controls",
          "model_name": "HTMLModel",
          "model_module_version": "1.5.0",
          "state": {
            "_dom_classes": [],
            "_model_module": "@jupyter-widgets/controls",
            "_model_module_version": "1.5.0",
            "_model_name": "HTMLModel",
            "_view_count": null,
            "_view_module": "@jupyter-widgets/controls",
            "_view_module_version": "1.5.0",
            "_view_name": "HTMLView",
            "description": "",
            "description_tooltip": null,
            "layout": "IPY_MODEL_20f4d4a37e50429ba315c17762ad87ef",
            "placeholder": "​",
            "style": "IPY_MODEL_75bf1f1c195b45d09f0f08e6b1309e60",
            "value": "Generating splits...: 100%"
          }
        },
        "9499d97c577f4e658138604d4601e383": {
          "model_module": "@jupyter-widgets/controls",
          "model_name": "FloatProgressModel",
          "model_module_version": "1.5.0",
          "state": {
            "_dom_classes": [],
            "_model_module": "@jupyter-widgets/controls",
            "_model_module_version": "1.5.0",
            "_model_name": "FloatProgressModel",
            "_view_count": null,
            "_view_module": "@jupyter-widgets/controls",
            "_view_module_version": "1.5.0",
            "_view_name": "ProgressView",
            "bar_style": "",
            "description": "",
            "description_tooltip": null,
            "layout": "IPY_MODEL_e829d5e383fe4c54a15290260a64957e",
            "max": 2,
            "min": 0,
            "orientation": "horizontal",
            "style": "IPY_MODEL_48b36c1f968c47ae91669cbe6100bbd1",
            "value": 2
          }
        },
        "b6af818e1024471d82a9ffb228091ca2": {
          "model_module": "@jupyter-widgets/controls",
          "model_name": "HTMLModel",
          "model_module_version": "1.5.0",
          "state": {
            "_dom_classes": [],
            "_model_module": "@jupyter-widgets/controls",
            "_model_module_version": "1.5.0",
            "_model_name": "HTMLModel",
            "_view_count": null,
            "_view_module": "@jupyter-widgets/controls",
            "_view_module_version": "1.5.0",
            "_view_name": "HTMLView",
            "description": "",
            "description_tooltip": null,
            "layout": "IPY_MODEL_73b6aba4feca499dbbc3db66e5cd9092",
            "placeholder": "​",
            "style": "IPY_MODEL_b3e3ebc29d93405ca1835a6e8f51bcba",
            "value": " 2/2 [04:25&lt;00:00, 124.24s/ splits]"
          }
        },
        "b262d0a7e3354d0380e14e974dc4a538": {
          "model_module": "@jupyter-widgets/base",
          "model_name": "LayoutModel",
          "model_module_version": "1.2.0",
          "state": {
            "_model_module": "@jupyter-widgets/base",
            "_model_module_version": "1.2.0",
            "_model_name": "LayoutModel",
            "_view_count": null,
            "_view_module": "@jupyter-widgets/base",
            "_view_module_version": "1.2.0",
            "_view_name": "LayoutView",
            "align_content": null,
            "align_items": null,
            "align_self": null,
            "border": null,
            "bottom": null,
            "display": null,
            "flex": null,
            "flex_flow": null,
            "grid_area": null,
            "grid_auto_columns": null,
            "grid_auto_flow": null,
            "grid_auto_rows": null,
            "grid_column": null,
            "grid_gap": null,
            "grid_row": null,
            "grid_template_areas": null,
            "grid_template_columns": null,
            "grid_template_rows": null,
            "height": null,
            "justify_content": null,
            "justify_items": null,
            "left": null,
            "margin": null,
            "max_height": null,
            "max_width": null,
            "min_height": null,
            "min_width": null,
            "object_fit": null,
            "object_position": null,
            "order": null,
            "overflow": null,
            "overflow_x": null,
            "overflow_y": null,
            "padding": null,
            "right": null,
            "top": null,
            "visibility": "hidden",
            "width": null
          }
        },
        "20f4d4a37e50429ba315c17762ad87ef": {
          "model_module": "@jupyter-widgets/base",
          "model_name": "LayoutModel",
          "model_module_version": "1.2.0",
          "state": {
            "_model_module": "@jupyter-widgets/base",
            "_model_module_version": "1.2.0",
            "_model_name": "LayoutModel",
            "_view_count": null,
            "_view_module": "@jupyter-widgets/base",
            "_view_module_version": "1.2.0",
            "_view_name": "LayoutView",
            "align_content": null,
            "align_items": null,
            "align_self": null,
            "border": null,
            "bottom": null,
            "display": null,
            "flex": null,
            "flex_flow": null,
            "grid_area": null,
            "grid_auto_columns": null,
            "grid_auto_flow": null,
            "grid_auto_rows": null,
            "grid_column": null,
            "grid_gap": null,
            "grid_row": null,
            "grid_template_areas": null,
            "grid_template_columns": null,
            "grid_template_rows": null,
            "height": null,
            "justify_content": null,
            "justify_items": null,
            "left": null,
            "margin": null,
            "max_height": null,
            "max_width": null,
            "min_height": null,
            "min_width": null,
            "object_fit": null,
            "object_position": null,
            "order": null,
            "overflow": null,
            "overflow_x": null,
            "overflow_y": null,
            "padding": null,
            "right": null,
            "top": null,
            "visibility": null,
            "width": null
          }
        },
        "75bf1f1c195b45d09f0f08e6b1309e60": {
          "model_module": "@jupyter-widgets/controls",
          "model_name": "DescriptionStyleModel",
          "model_module_version": "1.5.0",
          "state": {
            "_model_module": "@jupyter-widgets/controls",
            "_model_module_version": "1.5.0",
            "_model_name": "DescriptionStyleModel",
            "_view_count": null,
            "_view_module": "@jupyter-widgets/base",
            "_view_module_version": "1.2.0",
            "_view_name": "StyleView",
            "description_width": ""
          }
        },
        "e829d5e383fe4c54a15290260a64957e": {
          "model_module": "@jupyter-widgets/base",
          "model_name": "LayoutModel",
          "model_module_version": "1.2.0",
          "state": {
            "_model_module": "@jupyter-widgets/base",
            "_model_module_version": "1.2.0",
            "_model_name": "LayoutModel",
            "_view_count": null,
            "_view_module": "@jupyter-widgets/base",
            "_view_module_version": "1.2.0",
            "_view_name": "LayoutView",
            "align_content": null,
            "align_items": null,
            "align_self": null,
            "border": null,
            "bottom": null,
            "display": null,
            "flex": null,
            "flex_flow": null,
            "grid_area": null,
            "grid_auto_columns": null,
            "grid_auto_flow": null,
            "grid_auto_rows": null,
            "grid_column": null,
            "grid_gap": null,
            "grid_row": null,
            "grid_template_areas": null,
            "grid_template_columns": null,
            "grid_template_rows": null,
            "height": null,
            "justify_content": null,
            "justify_items": null,
            "left": null,
            "margin": null,
            "max_height": null,
            "max_width": null,
            "min_height": null,
            "min_width": null,
            "object_fit": null,
            "object_position": null,
            "order": null,
            "overflow": null,
            "overflow_x": null,
            "overflow_y": null,
            "padding": null,
            "right": null,
            "top": null,
            "visibility": null,
            "width": null
          }
        },
        "48b36c1f968c47ae91669cbe6100bbd1": {
          "model_module": "@jupyter-widgets/controls",
          "model_name": "ProgressStyleModel",
          "model_module_version": "1.5.0",
          "state": {
            "_model_module": "@jupyter-widgets/controls",
            "_model_module_version": "1.5.0",
            "_model_name": "ProgressStyleModel",
            "_view_count": null,
            "_view_module": "@jupyter-widgets/base",
            "_view_module_version": "1.2.0",
            "_view_name": "StyleView",
            "bar_color": null,
            "description_width": ""
          }
        },
        "73b6aba4feca499dbbc3db66e5cd9092": {
          "model_module": "@jupyter-widgets/base",
          "model_name": "LayoutModel",
          "model_module_version": "1.2.0",
          "state": {
            "_model_module": "@jupyter-widgets/base",
            "_model_module_version": "1.2.0",
            "_model_name": "LayoutModel",
            "_view_count": null,
            "_view_module": "@jupyter-widgets/base",
            "_view_module_version": "1.2.0",
            "_view_name": "LayoutView",
            "align_content": null,
            "align_items": null,
            "align_self": null,
            "border": null,
            "bottom": null,
            "display": null,
            "flex": null,
            "flex_flow": null,
            "grid_area": null,
            "grid_auto_columns": null,
            "grid_auto_flow": null,
            "grid_auto_rows": null,
            "grid_column": null,
            "grid_gap": null,
            "grid_row": null,
            "grid_template_areas": null,
            "grid_template_columns": null,
            "grid_template_rows": null,
            "height": null,
            "justify_content": null,
            "justify_items": null,
            "left": null,
            "margin": null,
            "max_height": null,
            "max_width": null,
            "min_height": null,
            "min_width": null,
            "object_fit": null,
            "object_position": null,
            "order": null,
            "overflow": null,
            "overflow_x": null,
            "overflow_y": null,
            "padding": null,
            "right": null,
            "top": null,
            "visibility": null,
            "width": null
          }
        },
        "b3e3ebc29d93405ca1835a6e8f51bcba": {
          "model_module": "@jupyter-widgets/controls",
          "model_name": "DescriptionStyleModel",
          "model_module_version": "1.5.0",
          "state": {
            "_model_module": "@jupyter-widgets/controls",
            "_model_module_version": "1.5.0",
            "_model_name": "DescriptionStyleModel",
            "_view_count": null,
            "_view_module": "@jupyter-widgets/base",
            "_view_module_version": "1.2.0",
            "_view_name": "StyleView",
            "description_width": ""
          }
        },
        "c35416c50f134c48b5391200595b1204": {
          "model_module": "@jupyter-widgets/controls",
          "model_name": "HBoxModel",
          "model_module_version": "1.5.0",
          "state": {
            "_dom_classes": [],
            "_model_module": "@jupyter-widgets/controls",
            "_model_module_version": "1.5.0",
            "_model_name": "HBoxModel",
            "_view_count": null,
            "_view_module": "@jupyter-widgets/controls",
            "_view_module_version": "1.5.0",
            "_view_name": "HBoxView",
            "box_style": "",
            "children": [
              "IPY_MODEL_42500622563247bcbdb1d25d89240b7b",
              "IPY_MODEL_345a875bd8474ccda2dc3003b9079e1c",
              "IPY_MODEL_adc21cc754c549269b8b5d7cc184522d"
            ],
            "layout": "IPY_MODEL_633b5c036a51428c967d83dbd4c3186a"
          }
        },
        "42500622563247bcbdb1d25d89240b7b": {
          "model_module": "@jupyter-widgets/controls",
          "model_name": "HTMLModel",
          "model_module_version": "1.5.0",
          "state": {
            "_dom_classes": [],
            "_model_module": "@jupyter-widgets/controls",
            "_model_module_version": "1.5.0",
            "_model_name": "HTMLModel",
            "_view_count": null,
            "_view_module": "@jupyter-widgets/controls",
            "_view_module_version": "1.5.0",
            "_view_name": "HTMLView",
            "description": "",
            "description_tooltip": null,
            "layout": "IPY_MODEL_e58b8da173764ae9a33775dca9607a1b",
            "placeholder": "​",
            "style": "IPY_MODEL_7b5e4b562547410a893176b7b0769844",
            "value": "Generating train examples...: 100%"
          }
        },
        "345a875bd8474ccda2dc3003b9079e1c": {
          "model_module": "@jupyter-widgets/controls",
          "model_name": "FloatProgressModel",
          "model_module_version": "1.5.0",
          "state": {
            "_dom_classes": [],
            "_model_module": "@jupyter-widgets/controls",
            "_model_module_version": "1.5.0",
            "_model_name": "FloatProgressModel",
            "_view_count": null,
            "_view_module": "@jupyter-widgets/controls",
            "_view_module_version": "1.5.0",
            "_view_name": "ProgressView",
            "bar_style": "",
            "description": "",
            "description_tooltip": null,
            "layout": "IPY_MODEL_5c9122c992a84df58bcd4d0dbe9de9fe",
            "max": 75750,
            "min": 0,
            "orientation": "horizontal",
            "style": "IPY_MODEL_3a3b648fee1541539e8a5e89caaae69c",
            "value": 75750
          }
        },
        "adc21cc754c549269b8b5d7cc184522d": {
          "model_module": "@jupyter-widgets/controls",
          "model_name": "HTMLModel",
          "model_module_version": "1.5.0",
          "state": {
            "_dom_classes": [],
            "_model_module": "@jupyter-widgets/controls",
            "_model_module_version": "1.5.0",
            "_model_name": "HTMLModel",
            "_view_count": null,
            "_view_module": "@jupyter-widgets/controls",
            "_view_module_version": "1.5.0",
            "_view_name": "HTMLView",
            "description": "",
            "description_tooltip": null,
            "layout": "IPY_MODEL_bdb6f8b89add4b209f6a3af1dc4d2644",
            "placeholder": "​",
            "style": "IPY_MODEL_da079facdde4496d8e866431595998bd",
            "value": " 75676/75750 [02:22&lt;00:00, 622.40 examples/s]"
          }
        },
        "633b5c036a51428c967d83dbd4c3186a": {
          "model_module": "@jupyter-widgets/base",
          "model_name": "LayoutModel",
          "model_module_version": "1.2.0",
          "state": {
            "_model_module": "@jupyter-widgets/base",
            "_model_module_version": "1.2.0",
            "_model_name": "LayoutModel",
            "_view_count": null,
            "_view_module": "@jupyter-widgets/base",
            "_view_module_version": "1.2.0",
            "_view_name": "LayoutView",
            "align_content": null,
            "align_items": null,
            "align_self": null,
            "border": null,
            "bottom": null,
            "display": null,
            "flex": null,
            "flex_flow": null,
            "grid_area": null,
            "grid_auto_columns": null,
            "grid_auto_flow": null,
            "grid_auto_rows": null,
            "grid_column": null,
            "grid_gap": null,
            "grid_row": null,
            "grid_template_areas": null,
            "grid_template_columns": null,
            "grid_template_rows": null,
            "height": null,
            "justify_content": null,
            "justify_items": null,
            "left": null,
            "margin": null,
            "max_height": null,
            "max_width": null,
            "min_height": null,
            "min_width": null,
            "object_fit": null,
            "object_position": null,
            "order": null,
            "overflow": null,
            "overflow_x": null,
            "overflow_y": null,
            "padding": null,
            "right": null,
            "top": null,
            "visibility": "hidden",
            "width": null
          }
        },
        "e58b8da173764ae9a33775dca9607a1b": {
          "model_module": "@jupyter-widgets/base",
          "model_name": "LayoutModel",
          "model_module_version": "1.2.0",
          "state": {
            "_model_module": "@jupyter-widgets/base",
            "_model_module_version": "1.2.0",
            "_model_name": "LayoutModel",
            "_view_count": null,
            "_view_module": "@jupyter-widgets/base",
            "_view_module_version": "1.2.0",
            "_view_name": "LayoutView",
            "align_content": null,
            "align_items": null,
            "align_self": null,
            "border": null,
            "bottom": null,
            "display": null,
            "flex": null,
            "flex_flow": null,
            "grid_area": null,
            "grid_auto_columns": null,
            "grid_auto_flow": null,
            "grid_auto_rows": null,
            "grid_column": null,
            "grid_gap": null,
            "grid_row": null,
            "grid_template_areas": null,
            "grid_template_columns": null,
            "grid_template_rows": null,
            "height": null,
            "justify_content": null,
            "justify_items": null,
            "left": null,
            "margin": null,
            "max_height": null,
            "max_width": null,
            "min_height": null,
            "min_width": null,
            "object_fit": null,
            "object_position": null,
            "order": null,
            "overflow": null,
            "overflow_x": null,
            "overflow_y": null,
            "padding": null,
            "right": null,
            "top": null,
            "visibility": null,
            "width": null
          }
        },
        "7b5e4b562547410a893176b7b0769844": {
          "model_module": "@jupyter-widgets/controls",
          "model_name": "DescriptionStyleModel",
          "model_module_version": "1.5.0",
          "state": {
            "_model_module": "@jupyter-widgets/controls",
            "_model_module_version": "1.5.0",
            "_model_name": "DescriptionStyleModel",
            "_view_count": null,
            "_view_module": "@jupyter-widgets/base",
            "_view_module_version": "1.2.0",
            "_view_name": "StyleView",
            "description_width": ""
          }
        },
        "5c9122c992a84df58bcd4d0dbe9de9fe": {
          "model_module": "@jupyter-widgets/base",
          "model_name": "LayoutModel",
          "model_module_version": "1.2.0",
          "state": {
            "_model_module": "@jupyter-widgets/base",
            "_model_module_version": "1.2.0",
            "_model_name": "LayoutModel",
            "_view_count": null,
            "_view_module": "@jupyter-widgets/base",
            "_view_module_version": "1.2.0",
            "_view_name": "LayoutView",
            "align_content": null,
            "align_items": null,
            "align_self": null,
            "border": null,
            "bottom": null,
            "display": null,
            "flex": null,
            "flex_flow": null,
            "grid_area": null,
            "grid_auto_columns": null,
            "grid_auto_flow": null,
            "grid_auto_rows": null,
            "grid_column": null,
            "grid_gap": null,
            "grid_row": null,
            "grid_template_areas": null,
            "grid_template_columns": null,
            "grid_template_rows": null,
            "height": null,
            "justify_content": null,
            "justify_items": null,
            "left": null,
            "margin": null,
            "max_height": null,
            "max_width": null,
            "min_height": null,
            "min_width": null,
            "object_fit": null,
            "object_position": null,
            "order": null,
            "overflow": null,
            "overflow_x": null,
            "overflow_y": null,
            "padding": null,
            "right": null,
            "top": null,
            "visibility": null,
            "width": null
          }
        },
        "3a3b648fee1541539e8a5e89caaae69c": {
          "model_module": "@jupyter-widgets/controls",
          "model_name": "ProgressStyleModel",
          "model_module_version": "1.5.0",
          "state": {
            "_model_module": "@jupyter-widgets/controls",
            "_model_module_version": "1.5.0",
            "_model_name": "ProgressStyleModel",
            "_view_count": null,
            "_view_module": "@jupyter-widgets/base",
            "_view_module_version": "1.2.0",
            "_view_name": "StyleView",
            "bar_color": null,
            "description_width": ""
          }
        },
        "bdb6f8b89add4b209f6a3af1dc4d2644": {
          "model_module": "@jupyter-widgets/base",
          "model_name": "LayoutModel",
          "model_module_version": "1.2.0",
          "state": {
            "_model_module": "@jupyter-widgets/base",
            "_model_module_version": "1.2.0",
            "_model_name": "LayoutModel",
            "_view_count": null,
            "_view_module": "@jupyter-widgets/base",
            "_view_module_version": "1.2.0",
            "_view_name": "LayoutView",
            "align_content": null,
            "align_items": null,
            "align_self": null,
            "border": null,
            "bottom": null,
            "display": null,
            "flex": null,
            "flex_flow": null,
            "grid_area": null,
            "grid_auto_columns": null,
            "grid_auto_flow": null,
            "grid_auto_rows": null,
            "grid_column": null,
            "grid_gap": null,
            "grid_row": null,
            "grid_template_areas": null,
            "grid_template_columns": null,
            "grid_template_rows": null,
            "height": null,
            "justify_content": null,
            "justify_items": null,
            "left": null,
            "margin": null,
            "max_height": null,
            "max_width": null,
            "min_height": null,
            "min_width": null,
            "object_fit": null,
            "object_position": null,
            "order": null,
            "overflow": null,
            "overflow_x": null,
            "overflow_y": null,
            "padding": null,
            "right": null,
            "top": null,
            "visibility": null,
            "width": null
          }
        },
        "da079facdde4496d8e866431595998bd": {
          "model_module": "@jupyter-widgets/controls",
          "model_name": "DescriptionStyleModel",
          "model_module_version": "1.5.0",
          "state": {
            "_model_module": "@jupyter-widgets/controls",
            "_model_module_version": "1.5.0",
            "_model_name": "DescriptionStyleModel",
            "_view_count": null,
            "_view_module": "@jupyter-widgets/base",
            "_view_module_version": "1.2.0",
            "_view_name": "StyleView",
            "description_width": ""
          }
        },
        "1e4992fdba3d4bf6a560391efd295019": {
          "model_module": "@jupyter-widgets/controls",
          "model_name": "HBoxModel",
          "model_module_version": "1.5.0",
          "state": {
            "_dom_classes": [],
            "_model_module": "@jupyter-widgets/controls",
            "_model_module_version": "1.5.0",
            "_model_name": "HBoxModel",
            "_view_count": null,
            "_view_module": "@jupyter-widgets/controls",
            "_view_module_version": "1.5.0",
            "_view_name": "HBoxView",
            "box_style": "",
            "children": [
              "IPY_MODEL_054686aac7a74f638e7942be209388ce",
              "IPY_MODEL_b4130112f9d4496ab2594b159b0945fa",
              "IPY_MODEL_7fb8cb0625674393b22dc4814c66f99d"
            ],
            "layout": "IPY_MODEL_12559f5f2ba5442b927a1bf380812a78"
          }
        },
        "054686aac7a74f638e7942be209388ce": {
          "model_module": "@jupyter-widgets/controls",
          "model_name": "HTMLModel",
          "model_module_version": "1.5.0",
          "state": {
            "_dom_classes": [],
            "_model_module": "@jupyter-widgets/controls",
            "_model_module_version": "1.5.0",
            "_model_name": "HTMLModel",
            "_view_count": null,
            "_view_module": "@jupyter-widgets/controls",
            "_view_module_version": "1.5.0",
            "_view_name": "HTMLView",
            "description": "",
            "description_tooltip": null,
            "layout": "IPY_MODEL_42c2896b8d514d079de23f487ad024ae",
            "placeholder": "​",
            "style": "IPY_MODEL_177482252fcd49279df019d6b8d830a8",
            "value": "Shuffling ~/tensorflow_datasets/food101/2.0.0.incomplete13ZBUU/food101-train.tfrecord*...: 100%"
          }
        },
        "b4130112f9d4496ab2594b159b0945fa": {
          "model_module": "@jupyter-widgets/controls",
          "model_name": "FloatProgressModel",
          "model_module_version": "1.5.0",
          "state": {
            "_dom_classes": [],
            "_model_module": "@jupyter-widgets/controls",
            "_model_module_version": "1.5.0",
            "_model_name": "FloatProgressModel",
            "_view_count": null,
            "_view_module": "@jupyter-widgets/controls",
            "_view_module_version": "1.5.0",
            "_view_name": "ProgressView",
            "bar_style": "",
            "description": "",
            "description_tooltip": null,
            "layout": "IPY_MODEL_8647408373a248f9b4828fd3e5609b91",
            "max": 75750,
            "min": 0,
            "orientation": "horizontal",
            "style": "IPY_MODEL_1f1cdf1e133246308763fdbe4e38ddb2",
            "value": 75750
          }
        },
        "7fb8cb0625674393b22dc4814c66f99d": {
          "model_module": "@jupyter-widgets/controls",
          "model_name": "HTMLModel",
          "model_module_version": "1.5.0",
          "state": {
            "_dom_classes": [],
            "_model_module": "@jupyter-widgets/controls",
            "_model_module_version": "1.5.0",
            "_model_name": "HTMLModel",
            "_view_count": null,
            "_view_module": "@jupyter-widgets/controls",
            "_view_module_version": "1.5.0",
            "_view_name": "HTMLView",
            "description": "",
            "description_tooltip": null,
            "layout": "IPY_MODEL_197513211d6942c89607b3b580df1b9e",
            "placeholder": "​",
            "style": "IPY_MODEL_d9b70a943eb943c8b2c90d14d025fb16",
            "value": " 75601/75750 [00:38&lt;00:00, 2291.29 examples/s]"
          }
        },
        "12559f5f2ba5442b927a1bf380812a78": {
          "model_module": "@jupyter-widgets/base",
          "model_name": "LayoutModel",
          "model_module_version": "1.2.0",
          "state": {
            "_model_module": "@jupyter-widgets/base",
            "_model_module_version": "1.2.0",
            "_model_name": "LayoutModel",
            "_view_count": null,
            "_view_module": "@jupyter-widgets/base",
            "_view_module_version": "1.2.0",
            "_view_name": "LayoutView",
            "align_content": null,
            "align_items": null,
            "align_self": null,
            "border": null,
            "bottom": null,
            "display": null,
            "flex": null,
            "flex_flow": null,
            "grid_area": null,
            "grid_auto_columns": null,
            "grid_auto_flow": null,
            "grid_auto_rows": null,
            "grid_column": null,
            "grid_gap": null,
            "grid_row": null,
            "grid_template_areas": null,
            "grid_template_columns": null,
            "grid_template_rows": null,
            "height": null,
            "justify_content": null,
            "justify_items": null,
            "left": null,
            "margin": null,
            "max_height": null,
            "max_width": null,
            "min_height": null,
            "min_width": null,
            "object_fit": null,
            "object_position": null,
            "order": null,
            "overflow": null,
            "overflow_x": null,
            "overflow_y": null,
            "padding": null,
            "right": null,
            "top": null,
            "visibility": "hidden",
            "width": null
          }
        },
        "42c2896b8d514d079de23f487ad024ae": {
          "model_module": "@jupyter-widgets/base",
          "model_name": "LayoutModel",
          "model_module_version": "1.2.0",
          "state": {
            "_model_module": "@jupyter-widgets/base",
            "_model_module_version": "1.2.0",
            "_model_name": "LayoutModel",
            "_view_count": null,
            "_view_module": "@jupyter-widgets/base",
            "_view_module_version": "1.2.0",
            "_view_name": "LayoutView",
            "align_content": null,
            "align_items": null,
            "align_self": null,
            "border": null,
            "bottom": null,
            "display": null,
            "flex": null,
            "flex_flow": null,
            "grid_area": null,
            "grid_auto_columns": null,
            "grid_auto_flow": null,
            "grid_auto_rows": null,
            "grid_column": null,
            "grid_gap": null,
            "grid_row": null,
            "grid_template_areas": null,
            "grid_template_columns": null,
            "grid_template_rows": null,
            "height": null,
            "justify_content": null,
            "justify_items": null,
            "left": null,
            "margin": null,
            "max_height": null,
            "max_width": null,
            "min_height": null,
            "min_width": null,
            "object_fit": null,
            "object_position": null,
            "order": null,
            "overflow": null,
            "overflow_x": null,
            "overflow_y": null,
            "padding": null,
            "right": null,
            "top": null,
            "visibility": null,
            "width": null
          }
        },
        "177482252fcd49279df019d6b8d830a8": {
          "model_module": "@jupyter-widgets/controls",
          "model_name": "DescriptionStyleModel",
          "model_module_version": "1.5.0",
          "state": {
            "_model_module": "@jupyter-widgets/controls",
            "_model_module_version": "1.5.0",
            "_model_name": "DescriptionStyleModel",
            "_view_count": null,
            "_view_module": "@jupyter-widgets/base",
            "_view_module_version": "1.2.0",
            "_view_name": "StyleView",
            "description_width": ""
          }
        },
        "8647408373a248f9b4828fd3e5609b91": {
          "model_module": "@jupyter-widgets/base",
          "model_name": "LayoutModel",
          "model_module_version": "1.2.0",
          "state": {
            "_model_module": "@jupyter-widgets/base",
            "_model_module_version": "1.2.0",
            "_model_name": "LayoutModel",
            "_view_count": null,
            "_view_module": "@jupyter-widgets/base",
            "_view_module_version": "1.2.0",
            "_view_name": "LayoutView",
            "align_content": null,
            "align_items": null,
            "align_self": null,
            "border": null,
            "bottom": null,
            "display": null,
            "flex": null,
            "flex_flow": null,
            "grid_area": null,
            "grid_auto_columns": null,
            "grid_auto_flow": null,
            "grid_auto_rows": null,
            "grid_column": null,
            "grid_gap": null,
            "grid_row": null,
            "grid_template_areas": null,
            "grid_template_columns": null,
            "grid_template_rows": null,
            "height": null,
            "justify_content": null,
            "justify_items": null,
            "left": null,
            "margin": null,
            "max_height": null,
            "max_width": null,
            "min_height": null,
            "min_width": null,
            "object_fit": null,
            "object_position": null,
            "order": null,
            "overflow": null,
            "overflow_x": null,
            "overflow_y": null,
            "padding": null,
            "right": null,
            "top": null,
            "visibility": null,
            "width": null
          }
        },
        "1f1cdf1e133246308763fdbe4e38ddb2": {
          "model_module": "@jupyter-widgets/controls",
          "model_name": "ProgressStyleModel",
          "model_module_version": "1.5.0",
          "state": {
            "_model_module": "@jupyter-widgets/controls",
            "_model_module_version": "1.5.0",
            "_model_name": "ProgressStyleModel",
            "_view_count": null,
            "_view_module": "@jupyter-widgets/base",
            "_view_module_version": "1.2.0",
            "_view_name": "StyleView",
            "bar_color": null,
            "description_width": ""
          }
        },
        "197513211d6942c89607b3b580df1b9e": {
          "model_module": "@jupyter-widgets/base",
          "model_name": "LayoutModel",
          "model_module_version": "1.2.0",
          "state": {
            "_model_module": "@jupyter-widgets/base",
            "_model_module_version": "1.2.0",
            "_model_name": "LayoutModel",
            "_view_count": null,
            "_view_module": "@jupyter-widgets/base",
            "_view_module_version": "1.2.0",
            "_view_name": "LayoutView",
            "align_content": null,
            "align_items": null,
            "align_self": null,
            "border": null,
            "bottom": null,
            "display": null,
            "flex": null,
            "flex_flow": null,
            "grid_area": null,
            "grid_auto_columns": null,
            "grid_auto_flow": null,
            "grid_auto_rows": null,
            "grid_column": null,
            "grid_gap": null,
            "grid_row": null,
            "grid_template_areas": null,
            "grid_template_columns": null,
            "grid_template_rows": null,
            "height": null,
            "justify_content": null,
            "justify_items": null,
            "left": null,
            "margin": null,
            "max_height": null,
            "max_width": null,
            "min_height": null,
            "min_width": null,
            "object_fit": null,
            "object_position": null,
            "order": null,
            "overflow": null,
            "overflow_x": null,
            "overflow_y": null,
            "padding": null,
            "right": null,
            "top": null,
            "visibility": null,
            "width": null
          }
        },
        "d9b70a943eb943c8b2c90d14d025fb16": {
          "model_module": "@jupyter-widgets/controls",
          "model_name": "DescriptionStyleModel",
          "model_module_version": "1.5.0",
          "state": {
            "_model_module": "@jupyter-widgets/controls",
            "_model_module_version": "1.5.0",
            "_model_name": "DescriptionStyleModel",
            "_view_count": null,
            "_view_module": "@jupyter-widgets/base",
            "_view_module_version": "1.2.0",
            "_view_name": "StyleView",
            "description_width": ""
          }
        },
        "e55b4362e87b4f04b9c5226c245f3caf": {
          "model_module": "@jupyter-widgets/controls",
          "model_name": "HBoxModel",
          "model_module_version": "1.5.0",
          "state": {
            "_dom_classes": [],
            "_model_module": "@jupyter-widgets/controls",
            "_model_module_version": "1.5.0",
            "_model_name": "HBoxModel",
            "_view_count": null,
            "_view_module": "@jupyter-widgets/controls",
            "_view_module_version": "1.5.0",
            "_view_name": "HBoxView",
            "box_style": "",
            "children": [
              "IPY_MODEL_42253f9908764df38f36f6e5dd407120",
              "IPY_MODEL_bcd9c75caba14befb9a5dc1c33880d65",
              "IPY_MODEL_7de6fb2f868449848199e1d95fc661f6"
            ],
            "layout": "IPY_MODEL_b8757f7e863f4780bdb6cc2bc9c91658"
          }
        },
        "42253f9908764df38f36f6e5dd407120": {
          "model_module": "@jupyter-widgets/controls",
          "model_name": "HTMLModel",
          "model_module_version": "1.5.0",
          "state": {
            "_dom_classes": [],
            "_model_module": "@jupyter-widgets/controls",
            "_model_module_version": "1.5.0",
            "_model_name": "HTMLModel",
            "_view_count": null,
            "_view_module": "@jupyter-widgets/controls",
            "_view_module_version": "1.5.0",
            "_view_name": "HTMLView",
            "description": "",
            "description_tooltip": null,
            "layout": "IPY_MODEL_979c2e00a3c643fd8ed3cd9f0305df32",
            "placeholder": "​",
            "style": "IPY_MODEL_c6bc586d5da74f5cab66c9b2d0ca7878",
            "value": "Generating validation examples...: 100%"
          }
        },
        "bcd9c75caba14befb9a5dc1c33880d65": {
          "model_module": "@jupyter-widgets/controls",
          "model_name": "FloatProgressModel",
          "model_module_version": "1.5.0",
          "state": {
            "_dom_classes": [],
            "_model_module": "@jupyter-widgets/controls",
            "_model_module_version": "1.5.0",
            "_model_name": "FloatProgressModel",
            "_view_count": null,
            "_view_module": "@jupyter-widgets/controls",
            "_view_module_version": "1.5.0",
            "_view_name": "ProgressView",
            "bar_style": "",
            "description": "",
            "description_tooltip": null,
            "layout": "IPY_MODEL_d74cf954478645228f475638594dc002",
            "max": 25250,
            "min": 0,
            "orientation": "horizontal",
            "style": "IPY_MODEL_36be08961b1d44f0b7f38f20b551366e",
            "value": 25250
          }
        },
        "7de6fb2f868449848199e1d95fc661f6": {
          "model_module": "@jupyter-widgets/controls",
          "model_name": "HTMLModel",
          "model_module_version": "1.5.0",
          "state": {
            "_dom_classes": [],
            "_model_module": "@jupyter-widgets/controls",
            "_model_module_version": "1.5.0",
            "_model_name": "HTMLModel",
            "_view_count": null,
            "_view_module": "@jupyter-widgets/controls",
            "_view_module_version": "1.5.0",
            "_view_name": "HTMLView",
            "description": "",
            "description_tooltip": null,
            "layout": "IPY_MODEL_5ffb8cf2c4314e7ba71e44d919094c0f",
            "placeholder": "​",
            "style": "IPY_MODEL_f83aec215493444db9148bece7319943",
            "value": " 25225/25250 [01:19&lt;00:00, 346.29 examples/s]"
          }
        },
        "b8757f7e863f4780bdb6cc2bc9c91658": {
          "model_module": "@jupyter-widgets/base",
          "model_name": "LayoutModel",
          "model_module_version": "1.2.0",
          "state": {
            "_model_module": "@jupyter-widgets/base",
            "_model_module_version": "1.2.0",
            "_model_name": "LayoutModel",
            "_view_count": null,
            "_view_module": "@jupyter-widgets/base",
            "_view_module_version": "1.2.0",
            "_view_name": "LayoutView",
            "align_content": null,
            "align_items": null,
            "align_self": null,
            "border": null,
            "bottom": null,
            "display": null,
            "flex": null,
            "flex_flow": null,
            "grid_area": null,
            "grid_auto_columns": null,
            "grid_auto_flow": null,
            "grid_auto_rows": null,
            "grid_column": null,
            "grid_gap": null,
            "grid_row": null,
            "grid_template_areas": null,
            "grid_template_columns": null,
            "grid_template_rows": null,
            "height": null,
            "justify_content": null,
            "justify_items": null,
            "left": null,
            "margin": null,
            "max_height": null,
            "max_width": null,
            "min_height": null,
            "min_width": null,
            "object_fit": null,
            "object_position": null,
            "order": null,
            "overflow": null,
            "overflow_x": null,
            "overflow_y": null,
            "padding": null,
            "right": null,
            "top": null,
            "visibility": "hidden",
            "width": null
          }
        },
        "979c2e00a3c643fd8ed3cd9f0305df32": {
          "model_module": "@jupyter-widgets/base",
          "model_name": "LayoutModel",
          "model_module_version": "1.2.0",
          "state": {
            "_model_module": "@jupyter-widgets/base",
            "_model_module_version": "1.2.0",
            "_model_name": "LayoutModel",
            "_view_count": null,
            "_view_module": "@jupyter-widgets/base",
            "_view_module_version": "1.2.0",
            "_view_name": "LayoutView",
            "align_content": null,
            "align_items": null,
            "align_self": null,
            "border": null,
            "bottom": null,
            "display": null,
            "flex": null,
            "flex_flow": null,
            "grid_area": null,
            "grid_auto_columns": null,
            "grid_auto_flow": null,
            "grid_auto_rows": null,
            "grid_column": null,
            "grid_gap": null,
            "grid_row": null,
            "grid_template_areas": null,
            "grid_template_columns": null,
            "grid_template_rows": null,
            "height": null,
            "justify_content": null,
            "justify_items": null,
            "left": null,
            "margin": null,
            "max_height": null,
            "max_width": null,
            "min_height": null,
            "min_width": null,
            "object_fit": null,
            "object_position": null,
            "order": null,
            "overflow": null,
            "overflow_x": null,
            "overflow_y": null,
            "padding": null,
            "right": null,
            "top": null,
            "visibility": null,
            "width": null
          }
        },
        "c6bc586d5da74f5cab66c9b2d0ca7878": {
          "model_module": "@jupyter-widgets/controls",
          "model_name": "DescriptionStyleModel",
          "model_module_version": "1.5.0",
          "state": {
            "_model_module": "@jupyter-widgets/controls",
            "_model_module_version": "1.5.0",
            "_model_name": "DescriptionStyleModel",
            "_view_count": null,
            "_view_module": "@jupyter-widgets/base",
            "_view_module_version": "1.2.0",
            "_view_name": "StyleView",
            "description_width": ""
          }
        },
        "d74cf954478645228f475638594dc002": {
          "model_module": "@jupyter-widgets/base",
          "model_name": "LayoutModel",
          "model_module_version": "1.2.0",
          "state": {
            "_model_module": "@jupyter-widgets/base",
            "_model_module_version": "1.2.0",
            "_model_name": "LayoutModel",
            "_view_count": null,
            "_view_module": "@jupyter-widgets/base",
            "_view_module_version": "1.2.0",
            "_view_name": "LayoutView",
            "align_content": null,
            "align_items": null,
            "align_self": null,
            "border": null,
            "bottom": null,
            "display": null,
            "flex": null,
            "flex_flow": null,
            "grid_area": null,
            "grid_auto_columns": null,
            "grid_auto_flow": null,
            "grid_auto_rows": null,
            "grid_column": null,
            "grid_gap": null,
            "grid_row": null,
            "grid_template_areas": null,
            "grid_template_columns": null,
            "grid_template_rows": null,
            "height": null,
            "justify_content": null,
            "justify_items": null,
            "left": null,
            "margin": null,
            "max_height": null,
            "max_width": null,
            "min_height": null,
            "min_width": null,
            "object_fit": null,
            "object_position": null,
            "order": null,
            "overflow": null,
            "overflow_x": null,
            "overflow_y": null,
            "padding": null,
            "right": null,
            "top": null,
            "visibility": null,
            "width": null
          }
        },
        "36be08961b1d44f0b7f38f20b551366e": {
          "model_module": "@jupyter-widgets/controls",
          "model_name": "ProgressStyleModel",
          "model_module_version": "1.5.0",
          "state": {
            "_model_module": "@jupyter-widgets/controls",
            "_model_module_version": "1.5.0",
            "_model_name": "ProgressStyleModel",
            "_view_count": null,
            "_view_module": "@jupyter-widgets/base",
            "_view_module_version": "1.2.0",
            "_view_name": "StyleView",
            "bar_color": null,
            "description_width": ""
          }
        },
        "5ffb8cf2c4314e7ba71e44d919094c0f": {
          "model_module": "@jupyter-widgets/base",
          "model_name": "LayoutModel",
          "model_module_version": "1.2.0",
          "state": {
            "_model_module": "@jupyter-widgets/base",
            "_model_module_version": "1.2.0",
            "_model_name": "LayoutModel",
            "_view_count": null,
            "_view_module": "@jupyter-widgets/base",
            "_view_module_version": "1.2.0",
            "_view_name": "LayoutView",
            "align_content": null,
            "align_items": null,
            "align_self": null,
            "border": null,
            "bottom": null,
            "display": null,
            "flex": null,
            "flex_flow": null,
            "grid_area": null,
            "grid_auto_columns": null,
            "grid_auto_flow": null,
            "grid_auto_rows": null,
            "grid_column": null,
            "grid_gap": null,
            "grid_row": null,
            "grid_template_areas": null,
            "grid_template_columns": null,
            "grid_template_rows": null,
            "height": null,
            "justify_content": null,
            "justify_items": null,
            "left": null,
            "margin": null,
            "max_height": null,
            "max_width": null,
            "min_height": null,
            "min_width": null,
            "object_fit": null,
            "object_position": null,
            "order": null,
            "overflow": null,
            "overflow_x": null,
            "overflow_y": null,
            "padding": null,
            "right": null,
            "top": null,
            "visibility": null,
            "width": null
          }
        },
        "f83aec215493444db9148bece7319943": {
          "model_module": "@jupyter-widgets/controls",
          "model_name": "DescriptionStyleModel",
          "model_module_version": "1.5.0",
          "state": {
            "_model_module": "@jupyter-widgets/controls",
            "_model_module_version": "1.5.0",
            "_model_name": "DescriptionStyleModel",
            "_view_count": null,
            "_view_module": "@jupyter-widgets/base",
            "_view_module_version": "1.2.0",
            "_view_name": "StyleView",
            "description_width": ""
          }
        },
        "f7c5044350714fa1a13a8a71c0c32e2a": {
          "model_module": "@jupyter-widgets/controls",
          "model_name": "HBoxModel",
          "model_module_version": "1.5.0",
          "state": {
            "_dom_classes": [],
            "_model_module": "@jupyter-widgets/controls",
            "_model_module_version": "1.5.0",
            "_model_name": "HBoxModel",
            "_view_count": null,
            "_view_module": "@jupyter-widgets/controls",
            "_view_module_version": "1.5.0",
            "_view_name": "HBoxView",
            "box_style": "",
            "children": [
              "IPY_MODEL_4912ed276db1416f8e722e6b8fae569b",
              "IPY_MODEL_38a34f6b0ac04640958646966cd27d21",
              "IPY_MODEL_aa1a65c8e47743469198e48fb06ee3ee"
            ],
            "layout": "IPY_MODEL_cd4323b69edf4036b2edd3eda7012120"
          }
        },
        "4912ed276db1416f8e722e6b8fae569b": {
          "model_module": "@jupyter-widgets/controls",
          "model_name": "HTMLModel",
          "model_module_version": "1.5.0",
          "state": {
            "_dom_classes": [],
            "_model_module": "@jupyter-widgets/controls",
            "_model_module_version": "1.5.0",
            "_model_name": "HTMLModel",
            "_view_count": null,
            "_view_module": "@jupyter-widgets/controls",
            "_view_module_version": "1.5.0",
            "_view_name": "HTMLView",
            "description": "",
            "description_tooltip": null,
            "layout": "IPY_MODEL_f7f50ae6552a49ecaf0cf0126cdde7da",
            "placeholder": "​",
            "style": "IPY_MODEL_53169e01c7074cd5996b343fe7a5710e",
            "value": "Shuffling ~/tensorflow_datasets/food101/2.0.0.incomplete13ZBUU/food101-validation.tfrecord*...:  99%"
          }
        },
        "38a34f6b0ac04640958646966cd27d21": {
          "model_module": "@jupyter-widgets/controls",
          "model_name": "FloatProgressModel",
          "model_module_version": "1.5.0",
          "state": {
            "_dom_classes": [],
            "_model_module": "@jupyter-widgets/controls",
            "_model_module_version": "1.5.0",
            "_model_name": "FloatProgressModel",
            "_view_count": null,
            "_view_module": "@jupyter-widgets/controls",
            "_view_module_version": "1.5.0",
            "_view_name": "ProgressView",
            "bar_style": "",
            "description": "",
            "description_tooltip": null,
            "layout": "IPY_MODEL_dfadabf7e45b44418472aee251a3ed27",
            "max": 25250,
            "min": 0,
            "orientation": "horizontal",
            "style": "IPY_MODEL_5a99a1cdd0bd4432bfb0ef0452326162",
            "value": 25250
          }
        },
        "aa1a65c8e47743469198e48fb06ee3ee": {
          "model_module": "@jupyter-widgets/controls",
          "model_name": "HTMLModel",
          "model_module_version": "1.5.0",
          "state": {
            "_dom_classes": [],
            "_model_module": "@jupyter-widgets/controls",
            "_model_module_version": "1.5.0",
            "_model_name": "HTMLModel",
            "_view_count": null,
            "_view_module": "@jupyter-widgets/controls",
            "_view_module_version": "1.5.0",
            "_view_name": "HTMLView",
            "description": "",
            "description_tooltip": null,
            "layout": "IPY_MODEL_3ac92e8b58dc42938e2ee9107b79db09",
            "placeholder": "​",
            "style": "IPY_MODEL_07da9b05a45e4b78b4cbd43740fea9e1",
            "value": " 24883/25250 [00:05&lt;00:00, 5722.90 examples/s]"
          }
        },
        "cd4323b69edf4036b2edd3eda7012120": {
          "model_module": "@jupyter-widgets/base",
          "model_name": "LayoutModel",
          "model_module_version": "1.2.0",
          "state": {
            "_model_module": "@jupyter-widgets/base",
            "_model_module_version": "1.2.0",
            "_model_name": "LayoutModel",
            "_view_count": null,
            "_view_module": "@jupyter-widgets/base",
            "_view_module_version": "1.2.0",
            "_view_name": "LayoutView",
            "align_content": null,
            "align_items": null,
            "align_self": null,
            "border": null,
            "bottom": null,
            "display": null,
            "flex": null,
            "flex_flow": null,
            "grid_area": null,
            "grid_auto_columns": null,
            "grid_auto_flow": null,
            "grid_auto_rows": null,
            "grid_column": null,
            "grid_gap": null,
            "grid_row": null,
            "grid_template_areas": null,
            "grid_template_columns": null,
            "grid_template_rows": null,
            "height": null,
            "justify_content": null,
            "justify_items": null,
            "left": null,
            "margin": null,
            "max_height": null,
            "max_width": null,
            "min_height": null,
            "min_width": null,
            "object_fit": null,
            "object_position": null,
            "order": null,
            "overflow": null,
            "overflow_x": null,
            "overflow_y": null,
            "padding": null,
            "right": null,
            "top": null,
            "visibility": "hidden",
            "width": null
          }
        },
        "f7f50ae6552a49ecaf0cf0126cdde7da": {
          "model_module": "@jupyter-widgets/base",
          "model_name": "LayoutModel",
          "model_module_version": "1.2.0",
          "state": {
            "_model_module": "@jupyter-widgets/base",
            "_model_module_version": "1.2.0",
            "_model_name": "LayoutModel",
            "_view_count": null,
            "_view_module": "@jupyter-widgets/base",
            "_view_module_version": "1.2.0",
            "_view_name": "LayoutView",
            "align_content": null,
            "align_items": null,
            "align_self": null,
            "border": null,
            "bottom": null,
            "display": null,
            "flex": null,
            "flex_flow": null,
            "grid_area": null,
            "grid_auto_columns": null,
            "grid_auto_flow": null,
            "grid_auto_rows": null,
            "grid_column": null,
            "grid_gap": null,
            "grid_row": null,
            "grid_template_areas": null,
            "grid_template_columns": null,
            "grid_template_rows": null,
            "height": null,
            "justify_content": null,
            "justify_items": null,
            "left": null,
            "margin": null,
            "max_height": null,
            "max_width": null,
            "min_height": null,
            "min_width": null,
            "object_fit": null,
            "object_position": null,
            "order": null,
            "overflow": null,
            "overflow_x": null,
            "overflow_y": null,
            "padding": null,
            "right": null,
            "top": null,
            "visibility": null,
            "width": null
          }
        },
        "53169e01c7074cd5996b343fe7a5710e": {
          "model_module": "@jupyter-widgets/controls",
          "model_name": "DescriptionStyleModel",
          "model_module_version": "1.5.0",
          "state": {
            "_model_module": "@jupyter-widgets/controls",
            "_model_module_version": "1.5.0",
            "_model_name": "DescriptionStyleModel",
            "_view_count": null,
            "_view_module": "@jupyter-widgets/base",
            "_view_module_version": "1.2.0",
            "_view_name": "StyleView",
            "description_width": ""
          }
        },
        "dfadabf7e45b44418472aee251a3ed27": {
          "model_module": "@jupyter-widgets/base",
          "model_name": "LayoutModel",
          "model_module_version": "1.2.0",
          "state": {
            "_model_module": "@jupyter-widgets/base",
            "_model_module_version": "1.2.0",
            "_model_name": "LayoutModel",
            "_view_count": null,
            "_view_module": "@jupyter-widgets/base",
            "_view_module_version": "1.2.0",
            "_view_name": "LayoutView",
            "align_content": null,
            "align_items": null,
            "align_self": null,
            "border": null,
            "bottom": null,
            "display": null,
            "flex": null,
            "flex_flow": null,
            "grid_area": null,
            "grid_auto_columns": null,
            "grid_auto_flow": null,
            "grid_auto_rows": null,
            "grid_column": null,
            "grid_gap": null,
            "grid_row": null,
            "grid_template_areas": null,
            "grid_template_columns": null,
            "grid_template_rows": null,
            "height": null,
            "justify_content": null,
            "justify_items": null,
            "left": null,
            "margin": null,
            "max_height": null,
            "max_width": null,
            "min_height": null,
            "min_width": null,
            "object_fit": null,
            "object_position": null,
            "order": null,
            "overflow": null,
            "overflow_x": null,
            "overflow_y": null,
            "padding": null,
            "right": null,
            "top": null,
            "visibility": null,
            "width": null
          }
        },
        "5a99a1cdd0bd4432bfb0ef0452326162": {
          "model_module": "@jupyter-widgets/controls",
          "model_name": "ProgressStyleModel",
          "model_module_version": "1.5.0",
          "state": {
            "_model_module": "@jupyter-widgets/controls",
            "_model_module_version": "1.5.0",
            "_model_name": "ProgressStyleModel",
            "_view_count": null,
            "_view_module": "@jupyter-widgets/base",
            "_view_module_version": "1.2.0",
            "_view_name": "StyleView",
            "bar_color": null,
            "description_width": ""
          }
        },
        "3ac92e8b58dc42938e2ee9107b79db09": {
          "model_module": "@jupyter-widgets/base",
          "model_name": "LayoutModel",
          "model_module_version": "1.2.0",
          "state": {
            "_model_module": "@jupyter-widgets/base",
            "_model_module_version": "1.2.0",
            "_model_name": "LayoutModel",
            "_view_count": null,
            "_view_module": "@jupyter-widgets/base",
            "_view_module_version": "1.2.0",
            "_view_name": "LayoutView",
            "align_content": null,
            "align_items": null,
            "align_self": null,
            "border": null,
            "bottom": null,
            "display": null,
            "flex": null,
            "flex_flow": null,
            "grid_area": null,
            "grid_auto_columns": null,
            "grid_auto_flow": null,
            "grid_auto_rows": null,
            "grid_column": null,
            "grid_gap": null,
            "grid_row": null,
            "grid_template_areas": null,
            "grid_template_columns": null,
            "grid_template_rows": null,
            "height": null,
            "justify_content": null,
            "justify_items": null,
            "left": null,
            "margin": null,
            "max_height": null,
            "max_width": null,
            "min_height": null,
            "min_width": null,
            "object_fit": null,
            "object_position": null,
            "order": null,
            "overflow": null,
            "overflow_x": null,
            "overflow_y": null,
            "padding": null,
            "right": null,
            "top": null,
            "visibility": null,
            "width": null
          }
        },
        "07da9b05a45e4b78b4cbd43740fea9e1": {
          "model_module": "@jupyter-widgets/controls",
          "model_name": "DescriptionStyleModel",
          "model_module_version": "1.5.0",
          "state": {
            "_model_module": "@jupyter-widgets/controls",
            "_model_module_version": "1.5.0",
            "_model_name": "DescriptionStyleModel",
            "_view_count": null,
            "_view_module": "@jupyter-widgets/base",
            "_view_module_version": "1.2.0",
            "_view_name": "StyleView",
            "description_width": ""
          }
        }
      }
    }
  },
  "nbformat": 4,
  "nbformat_minor": 0
}