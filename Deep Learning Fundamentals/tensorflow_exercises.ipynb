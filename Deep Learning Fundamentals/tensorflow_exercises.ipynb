{
  "nbformat": 4,
  "nbformat_minor": 0,
  "metadata": {
    "colab": {
      "provenance": []
    },
    "kernelspec": {
      "name": "python3",
      "display_name": "Python 3"
    },
    "language_info": {
      "name": "python"
    }
  },
  "cells": [
    {
      "cell_type": "code",
      "execution_count": null,
      "metadata": {
        "id": "g9CzcYMXPd5A"
      },
      "outputs": [],
      "source": [
        "import tensorflow as tf\n",
        "import numpy as np"
      ]
    },
    {
      "cell_type": "markdown",
      "source": [
        "## Create a vector, scalar, matrix and tensor"
      ],
      "metadata": {
        "id": "Gtk9qTfsPssJ"
      }
    },
    {
      "cell_type": "code",
      "source": [
        "scalar = tf.constant(4)\n",
        "scalar"
      ],
      "metadata": {
        "colab": {
          "base_uri": "https://localhost:8080/"
        },
        "id": "l9D7oUX1PkJp",
        "outputId": "f4aea208-5a92-4b0d-d96c-2eac51b0173b"
      },
      "execution_count": null,
      "outputs": [
        {
          "output_type": "execute_result",
          "data": {
            "text/plain": [
              "<tf.Tensor: shape=(), dtype=int32, numpy=4>"
            ]
          },
          "metadata": {},
          "execution_count": 5
        }
      ]
    },
    {
      "cell_type": "code",
      "source": [
        "vector= tf.constant([4,3,12,5])\n",
        "vector"
      ],
      "metadata": {
        "colab": {
          "base_uri": "https://localhost:8080/"
        },
        "id": "I1JohES3P4oF",
        "outputId": "f1423655-c4f8-4512-f92b-201a2e25c9af"
      },
      "execution_count": null,
      "outputs": [
        {
          "output_type": "execute_result",
          "data": {
            "text/plain": [
              "<tf.Tensor: shape=(4,), dtype=int32, numpy=array([ 4,  3, 12,  5], dtype=int32)>"
            ]
          },
          "metadata": {},
          "execution_count": 6
        }
      ]
    },
    {
      "cell_type": "code",
      "source": [
        "matrix = tf.constant([[4,5,9,7],[4,2,7,8]])\n",
        "matrix"
      ],
      "metadata": {
        "colab": {
          "base_uri": "https://localhost:8080/"
        },
        "id": "f-G0Wb1UQn2a",
        "outputId": "b28eb024-5d49-432c-f80d-6508dbb47ffc"
      },
      "execution_count": null,
      "outputs": [
        {
          "output_type": "execute_result",
          "data": {
            "text/plain": [
              "<tf.Tensor: shape=(2, 4), dtype=int32, numpy=\n",
              "array([[4, 5, 9, 7],\n",
              "       [4, 2, 7, 8]], dtype=int32)>"
            ]
          },
          "metadata": {},
          "execution_count": 7
        }
      ]
    },
    {
      "cell_type": "code",
      "source": [
        "tf.random.Generator.from_seed(42)\n",
        "tensor = tf.random.uniform(shape=[3,4,5,6])\n",
        "tensor"
      ],
      "metadata": {
        "colab": {
          "base_uri": "https://localhost:8080/"
        },
        "id": "56-KZv-aQ4Fy",
        "outputId": "2fd746be-7166-4adc-c55b-7c58c24bbef0"
      },
      "execution_count": null,
      "outputs": [
        {
          "output_type": "execute_result",
          "data": {
            "text/plain": [
              "<tf.Tensor: shape=(3, 4, 5, 6), dtype=float32, numpy=\n",
              "array([[[[0.72465265, 0.8739778 , 0.7333673 , 0.8349632 , 0.04280269,\n",
              "          0.14657211],\n",
              "         [0.91393566, 0.11745656, 0.52581024, 0.10750544, 0.93975437,\n",
              "          0.34477782],\n",
              "         [0.6390884 , 0.0014174 , 0.20556867, 0.9169885 , 0.39517522,\n",
              "          0.02070558],\n",
              "         [0.7853708 , 0.0777173 , 0.41127443, 0.06333029, 0.9485812 ,\n",
              "          0.9735178 ],\n",
              "         [0.05894196, 0.8511206 , 0.11014545, 0.67999077, 0.61563885,\n",
              "          0.92094886]],\n",
              "\n",
              "        [[0.10939085, 0.40946507, 0.2672497 , 0.8989773 , 0.17546701,\n",
              "          0.6913407 ],\n",
              "         [0.66065717, 0.8070688 , 0.5523157 , 0.2315085 , 0.8887017 ,\n",
              "          0.66920435],\n",
              "         [0.8167734 , 0.94939446, 0.40805423, 0.46164668, 0.9995091 ,\n",
              "          0.91847754],\n",
              "         [0.5902854 , 0.8175731 , 0.7257463 , 0.5110024 , 0.06099975,\n",
              "          0.03518224],\n",
              "         [0.3214029 , 0.00157082, 0.9920217 , 0.5629802 , 0.1401496 ,\n",
              "          0.96997464]],\n",
              "\n",
              "        [[0.871608  , 0.34342277, 0.00744629, 0.6968256 , 0.7554598 ,\n",
              "          0.40500176],\n",
              "         [0.5758307 , 0.80919206, 0.15679407, 0.44566   , 0.8435552 ,\n",
              "          0.38589704],\n",
              "         [0.70157623, 0.35598636, 0.49131095, 0.64185274, 0.77015626,\n",
              "          0.6664289 ],\n",
              "         [0.4527384 , 0.6723877 , 0.6416241 , 0.8590008 , 0.89701056,\n",
              "          0.04928577],\n",
              "         [0.9628073 , 0.08882535, 0.7705842 , 0.58302546, 0.44738114,\n",
              "          0.5881716 ]],\n",
              "\n",
              "        [[0.01738727, 0.6508399 , 0.18184912, 0.51699734, 0.02705419,\n",
              "          0.17901123],\n",
              "         [0.3078612 , 0.5511358 , 0.32662463, 0.39501286, 0.54956686,\n",
              "          0.93431294],\n",
              "         [0.14204645, 0.6393024 , 0.08398592, 0.81907153, 0.45465314,\n",
              "          0.70527697],\n",
              "         [0.19781196, 0.938962  , 0.13851655, 0.53918195, 0.80462146,\n",
              "          0.45174193],\n",
              "         [0.80924225, 0.08134651, 0.06338215, 0.6102768 , 0.18163359,\n",
              "          0.68178725]]],\n",
              "\n",
              "\n",
              "       [[[0.33550918, 0.56858563, 0.9273249 , 0.10846519, 0.18840182,\n",
              "          0.5052005 ],\n",
              "         [0.11660063, 0.7636167 , 0.3978622 , 0.9909097 , 0.7670064 ,\n",
              "          0.03147995],\n",
              "         [0.33395028, 0.2910005 , 0.05220807, 0.2133131 , 0.15914798,\n",
              "          0.17287874],\n",
              "         [0.38768852, 0.6498829 , 0.763422  , 0.43548715, 0.9759697 ,\n",
              "          0.6848576 ],\n",
              "         [0.04630589, 0.38284397, 0.8822483 , 0.24489105, 0.78605044,\n",
              "          0.24486434]],\n",
              "\n",
              "        [[0.9534341 , 0.04160154, 0.43044424, 0.03189278, 0.38371456,\n",
              "          0.36140442],\n",
              "         [0.8151827 , 0.12216496, 0.42741442, 0.8242911 , 0.4323051 ,\n",
              "          0.18085611],\n",
              "         [0.22884226, 0.32573485, 0.7198163 , 0.7193427 , 0.4155277 ,\n",
              "          0.1956594 ],\n",
              "         [0.7718843 , 0.7514216 , 0.01734388, 0.84690917, 0.82681954,\n",
              "          0.9642278 ],\n",
              "         [0.5972587 , 0.17005432, 0.08399379, 0.32122028, 0.3238027 ,\n",
              "          0.4675244 ]],\n",
              "\n",
              "        [[0.6423292 , 0.23165834, 0.58894074, 0.15896463, 0.00106966,\n",
              "          0.38625693],\n",
              "         [0.21721375, 0.2712115 , 0.08085501, 0.521085  , 0.11975968,\n",
              "          0.43885982],\n",
              "         [0.64119256, 0.9033154 , 0.4566654 , 0.7718693 , 0.337919  ,\n",
              "          0.28518033],\n",
              "         [0.23706889, 0.42819464, 0.60900784, 0.93560815, 0.5970458 ,\n",
              "          0.93731356],\n",
              "         [0.8706944 , 0.6393511 , 0.7963661 , 0.43490994, 0.99077785,\n",
              "          0.47859085]],\n",
              "\n",
              "        [[0.35762608, 0.1029166 , 0.39557493, 0.37587285, 0.84113896,\n",
              "          0.46599972],\n",
              "         [0.8670937 , 0.80339754, 0.45654   , 0.29498148, 0.18950593,\n",
              "          0.939675  ],\n",
              "         [0.19268656, 0.4747486 , 0.7679477 , 0.54494095, 0.6953471 ,\n",
              "          0.9685409 ],\n",
              "         [0.15483773, 0.25541282, 0.6547444 , 0.6301092 , 0.69188225,\n",
              "          0.01279664],\n",
              "         [0.7312716 , 0.34495735, 0.11638236, 0.23430061, 0.87017894,\n",
              "          0.58390033]]],\n",
              "\n",
              "\n",
              "       [[[0.9680126 , 0.28258348, 0.8686098 , 0.70224106, 0.7860209 ,\n",
              "          0.6067631 ],\n",
              "         [0.09136152, 0.06651771, 0.82963884, 0.8350868 , 0.73305   ,\n",
              "          0.48034918],\n",
              "         [0.7620022 , 0.11532056, 0.06853116, 0.605582  , 0.5735433 ,\n",
              "          0.53025293],\n",
              "         [0.39605498, 0.8140389 , 0.71807325, 0.20077848, 0.7283294 ,\n",
              "          0.03804314],\n",
              "         [0.0368439 , 0.18695295, 0.02562904, 0.25992858, 0.28305268,\n",
              "          0.7816402 ]],\n",
              "\n",
              "        [[0.39699912, 0.39878535, 0.77579856, 0.11401761, 0.38496363,\n",
              "          0.96037865],\n",
              "         [0.5910696 , 0.13158822, 0.41043735, 0.2954204 , 0.95705104,\n",
              "          0.5375632 ],\n",
              "         [0.8109927 , 0.53948843, 0.6360233 , 0.99593866, 0.01644087,\n",
              "          0.37636948],\n",
              "         [0.37188423, 0.21844506, 0.09226739, 0.2595502 , 0.1575042 ,\n",
              "          0.11319172],\n",
              "         [0.37053323, 0.4719249 , 0.9888195 , 0.6290164 , 0.7131916 ,\n",
              "          0.44954884]],\n",
              "\n",
              "        [[0.30039823, 0.38865805, 0.14003384, 0.62672234, 0.49987352,\n",
              "          0.7283007 ],\n",
              "         [0.39644766, 0.7982625 , 0.49843502, 0.71617305, 0.16273081,\n",
              "          0.29864717],\n",
              "         [0.3828658 , 0.524506  , 0.17306948, 0.72333074, 0.7050848 ,\n",
              "          0.5030725 ],\n",
              "         [0.5927557 , 0.68781006, 0.6776439 , 0.78818905, 0.6882    ,\n",
              "          0.03818989],\n",
              "         [0.3306545 , 0.3915069 , 0.1621778 , 0.56857836, 0.49196696,\n",
              "          0.8783114 ]],\n",
              "\n",
              "        [[0.86476696, 0.11366534, 0.66797364, 0.60948145, 0.5729077 ,\n",
              "          0.92199624],\n",
              "         [0.08688879, 0.9735981 , 0.12969255, 0.4490446 , 0.48564017,\n",
              "          0.94610345],\n",
              "         [0.52424264, 0.05869401, 0.37211907, 0.6478808 , 0.7853309 ,\n",
              "          0.36576545],\n",
              "         [0.9705392 , 0.11592138, 0.9947624 , 0.24938154, 0.4975276 ,\n",
              "          0.02324057],\n",
              "         [0.85346496, 0.19287968, 0.33537543, 0.5331805 , 0.56365967,\n",
              "          0.17309654]]]], dtype=float32)>"
            ]
          },
          "metadata": {},
          "execution_count": 26
        }
      ]
    },
    {
      "cell_type": "markdown",
      "source": [
        "## Find the shape, rank and size of the tensors "
      ],
      "metadata": {
        "id": "GUC-SqjdUUzK"
      }
    },
    {
      "cell_type": "code",
      "source": [
        "scalar.shape,scalar.ndim,tf.size(scalar)"
      ],
      "metadata": {
        "colab": {
          "base_uri": "https://localhost:8080/"
        },
        "id": "dSY691h4UYrx",
        "outputId": "40e6f6ca-d83a-4abe-de7c-acf25282d55d"
      },
      "execution_count": null,
      "outputs": [
        {
          "output_type": "execute_result",
          "data": {
            "text/plain": [
              "(TensorShape([]), 0, <tf.Tensor: shape=(), dtype=int32, numpy=1>)"
            ]
          },
          "metadata": {},
          "execution_count": 36
        }
      ]
    },
    {
      "cell_type": "code",
      "source": [
        "vector.shape,vector.ndim,tf.size(vector)"
      ],
      "metadata": {
        "colab": {
          "base_uri": "https://localhost:8080/"
        },
        "id": "454bKLttUYux",
        "outputId": "0b31d83b-7e8e-4431-8404-ef9574314d3b"
      },
      "execution_count": null,
      "outputs": [
        {
          "output_type": "execute_result",
          "data": {
            "text/plain": [
              "(TensorShape([4]), 1, <tf.Tensor: shape=(), dtype=int32, numpy=4>)"
            ]
          },
          "metadata": {},
          "execution_count": 38
        }
      ]
    },
    {
      "cell_type": "code",
      "source": [
        "matrix.shape,matrix.ndim,tf.size(matrix)"
      ],
      "metadata": {
        "colab": {
          "base_uri": "https://localhost:8080/"
        },
        "id": "xOTGM5H0UYyZ",
        "outputId": "880e3928-d7dd-43ca-e2bb-4419059366aa"
      },
      "execution_count": null,
      "outputs": [
        {
          "output_type": "execute_result",
          "data": {
            "text/plain": [
              "(TensorShape([2, 4]), 2, <tf.Tensor: shape=(), dtype=int32, numpy=8>)"
            ]
          },
          "metadata": {},
          "execution_count": 37
        }
      ]
    },
    {
      "cell_type": "code",
      "source": [
        "tensor.shape,tensor.ndim,tf.size(tensor)"
      ],
      "metadata": {
        "colab": {
          "base_uri": "https://localhost:8080/"
        },
        "id": "teUyj5SuUZIJ",
        "outputId": "5b9794b7-9644-4db2-e92d-0df6f9459306"
      },
      "execution_count": null,
      "outputs": [
        {
          "output_type": "execute_result",
          "data": {
            "text/plain": [
              "(TensorShape([3, 4, 5, 6]), 4, <tf.Tensor: shape=(), dtype=int32, numpy=360>)"
            ]
          },
          "metadata": {},
          "execution_count": 39
        }
      ]
    },
    {
      "cell_type": "markdown",
      "source": [
        "## Create two tensors containing random values between 0 and 1 with shape [5, 300]."
      ],
      "metadata": {
        "id": "jw7tccYaU6Ia"
      }
    },
    {
      "cell_type": "code",
      "source": [
        "tf.random.Generator.from_seed(42)\n",
        "A = tf.random.uniform(seed=42,minval=0,maxval=1,shape=[5,300])\n",
        "A"
      ],
      "metadata": {
        "colab": {
          "base_uri": "https://localhost:8080/"
        },
        "id": "k6l2Aqq3Se6O",
        "outputId": "c44bf73a-24c4-4255-d464-8289a2584b3c"
      },
      "execution_count": null,
      "outputs": [
        {
          "output_type": "execute_result",
          "data": {
            "text/plain": [
              "<tf.Tensor: shape=(5, 300), dtype=float32, numpy=\n",
              "array([[0.40370584, 0.00238454, 0.21895528, ..., 0.82889795, 0.2795303 ,\n",
              "        0.8489932 ],\n",
              "       [0.8986019 , 0.35739386, 0.24011791, ..., 0.5068251 , 0.7736579 ,\n",
              "        0.8722241 ],\n",
              "       [0.8301755 , 0.6732956 , 0.8681612 , ..., 0.81290936, 0.07930756,\n",
              "        0.00449634],\n",
              "       [0.9220072 , 0.8086808 , 0.11941469, ..., 0.09226739, 0.5691445 ,\n",
              "        0.70605636],\n",
              "       [0.13224578, 0.4737314 , 0.6060257 , ..., 0.63301027, 0.00664556,\n",
              "        0.40782893]], dtype=float32)>"
            ]
          },
          "metadata": {},
          "execution_count": 33
        }
      ]
    },
    {
      "cell_type": "code",
      "source": [
        "tf.random.Generator.from_seed(42)\n",
        "B = tf.random.uniform(seed=42,minval=0,maxval=1,shape=[5,300])\n",
        "B"
      ],
      "metadata": {
        "colab": {
          "base_uri": "https://localhost:8080/"
        },
        "id": "gaIZaGPDTAqb",
        "outputId": "01a1c1a8-59f4-4202-b5f6-224e7c6a39f2"
      },
      "execution_count": null,
      "outputs": [
        {
          "output_type": "execute_result",
          "data": {
            "text/plain": [
              "<tf.Tensor: shape=(5, 300), dtype=float32, numpy=\n",
              "array([[0.30655718, 0.65554893, 0.49194705, ..., 0.34030926, 0.38490272,\n",
              "        0.01581812],\n",
              "       [0.92101336, 0.86649466, 0.1880058 , ..., 0.08662891, 0.9649701 ,\n",
              "        0.37370658],\n",
              "       [0.74968433, 0.3097185 , 0.21021307, ..., 0.5211786 , 0.8617159 ,\n",
              "        0.93096995],\n",
              "       [0.92950284, 0.41946328, 0.7879014 , ..., 0.48741996, 0.17104745,\n",
              "        0.7414119 ],\n",
              "       [0.17429519, 0.10320091, 0.11817622, ..., 0.99018204, 0.9475752 ,\n",
              "        0.16960335]], dtype=float32)>"
            ]
          },
          "metadata": {},
          "execution_count": 35
        }
      ]
    },
    {
      "cell_type": "markdown",
      "source": [
        "## Multiply the two tensors you created in 3 using matrix multiplication."
      ],
      "metadata": {
        "id": "-H7NLpr3VJq5"
      }
    },
    {
      "cell_type": "code",
      "source": [
        "A * B"
      ],
      "metadata": {
        "colab": {
          "base_uri": "https://localhost:8080/"
        },
        "id": "RljHAIEJTGEO",
        "outputId": "3866d65b-5abe-4a99-f47a-6713a93ee451"
      },
      "execution_count": null,
      "outputs": [
        {
          "output_type": "execute_result",
          "data": {
            "text/plain": [
              "<tf.Tensor: shape=(5, 300), dtype=float32, numpy=\n",
              "array([[0.12375892, 0.00156318, 0.10771441, ..., 0.28208166, 0.10759196,\n",
              "        0.01342948],\n",
              "       [0.8276243 , 0.30967987, 0.04514356, ..., 0.04390571, 0.74655676,\n",
              "        0.32595587],\n",
              "       [0.6223696 , 0.2085321 , 0.18249883, ..., 0.42367098, 0.06834058,\n",
              "        0.00418595],\n",
              "       [0.85700834, 0.33921188, 0.094087  , ..., 0.04497297, 0.09735071,\n",
              "        0.5234786 ],\n",
              "       [0.0230498 , 0.04888951, 0.07161783, ..., 0.6267954 , 0.00629717,\n",
              "        0.06916915]], dtype=float32)>"
            ]
          },
          "metadata": {},
          "execution_count": 44
        }
      ]
    },
    {
      "cell_type": "markdown",
      "source": [
        "## Multiply the two tensors you created in 3 using dot product."
      ],
      "metadata": {
        "id": "0nC0eo5FX_3y"
      }
    },
    {
      "cell_type": "code",
      "source": [
        "tf.reshape(A,shape=[300,5]) @ B"
      ],
      "metadata": {
        "colab": {
          "base_uri": "https://localhost:8080/"
        },
        "id": "j8Cy7PmsXchX",
        "outputId": "8168116f-cc3d-457f-e4c4-8605c72d252e"
      },
      "execution_count": null,
      "outputs": [
        {
          "output_type": "execute_result",
          "data": {
            "text/plain": [
              "<tf.Tensor: shape=(300, 300), dtype=float32, numpy=\n",
              "array([[0.75548047, 0.55820394, 0.62310505, ..., 0.99593043, 0.941494  ,\n",
              "        0.5993406 ],\n",
              "       [1.288512  , 1.4434901 , 0.8252201 , ..., 0.63552004, 1.3138407 ,\n",
              "        0.52449965],\n",
              "       [1.458969  , 0.9987241 , 1.1770642 , ..., 1.4691434 , 1.3298794 ,\n",
              "        1.0679559 ],\n",
              "       ...,\n",
              "       [1.7154882 , 1.2631197 , 1.1044413 , ..., 1.2150955 , 1.5613527 ,\n",
              "        1.3525355 ],\n",
              "       [1.7399302 , 1.0136713 , 1.1340758 , ..., 1.3737065 , 1.476086  ,\n",
              "        1.5970099 ],\n",
              "       [1.4797409 , 1.3796309 , 0.6866577 , ..., 1.0496744 , 1.9513816 ,\n",
              "        0.96134657]], dtype=float32)>"
            ]
          },
          "metadata": {},
          "execution_count": 45
        }
      ]
    },
    {
      "cell_type": "code",
      "source": [
        "X = tf.random.uniform(minval=0,maxval=1,shape=[224, 224, 3])\n",
        "X"
      ],
      "metadata": {
        "colab": {
          "base_uri": "https://localhost:8080/"
        },
        "id": "t_IzCSmzYIRS",
        "outputId": "789875be-ab95-4ec9-bfd4-bacf9ef5c6b8"
      },
      "execution_count": null,
      "outputs": [
        {
          "output_type": "execute_result",
          "data": {
            "text/plain": [
              "<tf.Tensor: shape=(224, 224, 3), dtype=float32, numpy=\n",
              "array([[[0.20867515, 0.99178505, 0.93855035],\n",
              "        [0.39060402, 0.9630536 , 0.79308605],\n",
              "        [0.7961867 , 0.32339478, 0.6982813 ],\n",
              "        ...,\n",
              "        [0.24073231, 0.69161355, 0.41599977],\n",
              "        [0.98417425, 0.3405342 , 0.10520291],\n",
              "        [0.638885  , 0.85880506, 0.43319523]],\n",
              "\n",
              "       [[0.12049651, 0.04309213, 0.68513465],\n",
              "        [0.42894256, 0.66008174, 0.2776854 ],\n",
              "        [0.8735981 , 0.70495975, 0.17586446],\n",
              "        ...,\n",
              "        [0.587471  , 0.37336934, 0.9526644 ],\n",
              "        [0.783569  , 0.88827336, 0.6628952 ],\n",
              "        [0.76870096, 0.25163174, 0.13088524]],\n",
              "\n",
              "       [[0.27846217, 0.5945153 , 0.38370705],\n",
              "        [0.14633584, 0.48290026, 0.4459213 ],\n",
              "        [0.43053055, 0.10878778, 0.16041255],\n",
              "        ...,\n",
              "        [0.93305683, 0.59580445, 0.58861244],\n",
              "        [0.3924799 , 0.4369725 , 0.43680584],\n",
              "        [0.19065583, 0.7600212 , 0.895789  ]],\n",
              "\n",
              "       ...,\n",
              "\n",
              "       [[0.8219352 , 0.44418824, 0.33218527],\n",
              "        [0.977453  , 0.37136817, 0.99664545],\n",
              "        [0.54096055, 0.97710955, 0.90234864],\n",
              "        ...,\n",
              "        [0.59099495, 0.13793087, 0.32934153],\n",
              "        [0.3207016 , 0.7628765 , 0.79637146],\n",
              "        [0.93616045, 0.3776896 , 0.5105312 ]],\n",
              "\n",
              "       [[0.27383637, 0.64408064, 0.6283332 ],\n",
              "        [0.16352987, 0.8452246 , 0.7585112 ],\n",
              "        [0.5511329 , 0.75803757, 0.9836426 ],\n",
              "        ...,\n",
              "        [0.53166103, 0.95376134, 0.41028047],\n",
              "        [0.30587876, 0.44697142, 0.5268438 ],\n",
              "        [0.04849541, 0.56931007, 0.5373949 ]],\n",
              "\n",
              "       [[0.8837805 , 0.610062  , 0.9239305 ],\n",
              "        [0.8574877 , 0.76664793, 0.5388106 ],\n",
              "        [0.8982754 , 0.11102438, 0.26100504],\n",
              "        ...,\n",
              "        [0.53368664, 0.07952702, 0.23497832],\n",
              "        [0.25610495, 0.9731631 , 0.8422824 ],\n",
              "        [0.8264637 , 0.5658474 , 0.36776042]]], dtype=float32)>"
            ]
          },
          "metadata": {},
          "execution_count": 47
        }
      ]
    },
    {
      "cell_type": "markdown",
      "source": [
        "## Find the min and max values of the tensor"
      ],
      "metadata": {
        "id": "42UlRRC4Ymbi"
      }
    },
    {
      "cell_type": "code",
      "source": [
        "tf.reduce_min(X[0])"
      ],
      "metadata": {
        "colab": {
          "base_uri": "https://localhost:8080/"
        },
        "id": "5lSIzSG9YTjf",
        "outputId": "1b146e4a-1278-433e-897a-07dce2d2534f"
      },
      "execution_count": null,
      "outputs": [
        {
          "output_type": "execute_result",
          "data": {
            "text/plain": [
              "<tf.Tensor: shape=(), dtype=float32, numpy=0.00045073032>"
            ]
          },
          "metadata": {},
          "execution_count": 49
        }
      ]
    },
    {
      "cell_type": "code",
      "source": [
        "tf.reduce_max(X[0])"
      ],
      "metadata": {
        "colab": {
          "base_uri": "https://localhost:8080/"
        },
        "id": "0f-y6JEIYdi2",
        "outputId": "0dc264f0-6e84-4900-e467-d77327fb1e50"
      },
      "execution_count": null,
      "outputs": [
        {
          "output_type": "execute_result",
          "data": {
            "text/plain": [
              "<tf.Tensor: shape=(), dtype=float32, numpy=0.9988575>"
            ]
          },
          "metadata": {},
          "execution_count": 50
        }
      ]
    },
    {
      "cell_type": "markdown",
      "source": [
        "## Create a tensor with random values of shape [1, 224, 224, 3] then squeeze it to change the shape to [224, 224, 3]."
      ],
      "metadata": {
        "id": "JxO_pbqUYpWZ"
      }
    },
    {
      "cell_type": "code",
      "source": [
        "H = tf.constant(X,shape=[1,224,224,3])\n",
        "H.shape"
      ],
      "metadata": {
        "colab": {
          "base_uri": "https://localhost:8080/"
        },
        "id": "ARVyJLhlYj5S",
        "outputId": "5ac1bd9b-2b90-4a79-b04f-a65612807f5f"
      },
      "execution_count": null,
      "outputs": [
        {
          "output_type": "execute_result",
          "data": {
            "text/plain": [
              "TensorShape([1, 224, 224, 3])"
            ]
          },
          "metadata": {},
          "execution_count": 55
        }
      ]
    },
    {
      "cell_type": "code",
      "source": [
        "H_squeezed = tf.squeeze(H)\n",
        "H_squeezed.shape"
      ],
      "metadata": {
        "colab": {
          "base_uri": "https://localhost:8080/"
        },
        "id": "sEehdM8MY6AT",
        "outputId": "dfd36f0d-617d-4ec7-dd98-c72992360c76"
      },
      "execution_count": null,
      "outputs": [
        {
          "output_type": "execute_result",
          "data": {
            "text/plain": [
              "TensorShape([224, 224, 3])"
            ]
          },
          "metadata": {},
          "execution_count": 54
        }
      ]
    },
    {
      "cell_type": "markdown",
      "source": [
        "## Create a tensor with shape [10] using your own choice of values, then find the index which has the maximum value."
      ],
      "metadata": {
        "id": "lBNVtEDBZJqK"
      }
    },
    {
      "cell_type": "code",
      "source": [
        "G = tf.constant(np.random.randint(1,10,size=(10)))\n",
        "G"
      ],
      "metadata": {
        "colab": {
          "base_uri": "https://localhost:8080/"
        },
        "id": "uWX0efHAY_k2",
        "outputId": "31c92b40-be87-4048-bae6-05de530b6d24"
      },
      "execution_count": null,
      "outputs": [
        {
          "output_type": "execute_result",
          "data": {
            "text/plain": [
              "<tf.Tensor: shape=(10,), dtype=int64, numpy=array([7, 3, 5, 3, 5, 5, 3, 2, 3, 4])>"
            ]
          },
          "metadata": {},
          "execution_count": 63
        }
      ]
    },
    {
      "cell_type": "code",
      "source": [
        "tf.argmax(G)"
      ],
      "metadata": {
        "colab": {
          "base_uri": "https://localhost:8080/"
        },
        "id": "Jep0NfvbZSUX",
        "outputId": "5e7b349c-00bf-4093-edb9-8a45a29bee97"
      },
      "execution_count": null,
      "outputs": [
        {
          "output_type": "execute_result",
          "data": {
            "text/plain": [
              "<tf.Tensor: shape=(), dtype=int64, numpy=0>"
            ]
          },
          "metadata": {},
          "execution_count": 64
        }
      ]
    },
    {
      "cell_type": "markdown",
      "source": [
        "## One-hot encode the tensor G"
      ],
      "metadata": {
        "id": "cO5HIEySaA5q"
      }
    },
    {
      "cell_type": "code",
      "source": [
        "tf.one_hot(G,depth=(10))"
      ],
      "metadata": {
        "colab": {
          "base_uri": "https://localhost:8080/"
        },
        "id": "Wr5ebWTCZ7kU",
        "outputId": "6b3db52a-c75d-4a17-9804-c401755eda0c"
      },
      "execution_count": null,
      "outputs": [
        {
          "output_type": "execute_result",
          "data": {
            "text/plain": [
              "<tf.Tensor: shape=(10, 10), dtype=float32, numpy=\n",
              "array([[0., 0., 0., 0., 0., 0., 0., 1., 0., 0.],\n",
              "       [0., 0., 0., 1., 0., 0., 0., 0., 0., 0.],\n",
              "       [0., 0., 0., 0., 0., 1., 0., 0., 0., 0.],\n",
              "       [0., 0., 0., 1., 0., 0., 0., 0., 0., 0.],\n",
              "       [0., 0., 0., 0., 0., 1., 0., 0., 0., 0.],\n",
              "       [0., 0., 0., 0., 0., 1., 0., 0., 0., 0.],\n",
              "       [0., 0., 0., 1., 0., 0., 0., 0., 0., 0.],\n",
              "       [0., 0., 1., 0., 0., 0., 0., 0., 0., 0.],\n",
              "       [0., 0., 0., 1., 0., 0., 0., 0., 0., 0.],\n",
              "       [0., 0., 0., 0., 1., 0., 0., 0., 0., 0.]], dtype=float32)>"
            ]
          },
          "metadata": {},
          "execution_count": 66
        }
      ]
    }
  ]
}