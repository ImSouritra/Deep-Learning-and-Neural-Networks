{
  "nbformat": 4,
  "nbformat_minor": 0,
  "metadata": {
    "colab": {
      "provenance": []
    },
    "kernelspec": {
      "name": "python3",
      "display_name": "Python 3"
    },
    "language_info": {
      "name": "python"
    },
    "accelerator": "GPU",
    "gpuClass": "standard"
  },
  "cells": [
    {
      "cell_type": "code",
      "execution_count": null,
      "metadata": {
        "id": "NWJPodl8lQGu"
      },
      "outputs": [],
      "source": [
        "import tensorflow as tf\n"
      ]
    },
    {
      "cell_type": "code",
      "source": [
        "print(tf.__version__)"
      ],
      "metadata": {
        "colab": {
          "base_uri": "https://localhost:8080/"
        },
        "id": "7Cy-pV6QuSse",
        "outputId": "717c972f-06be-4b14-88ea-fe06d4743862"
      },
      "execution_count": null,
      "outputs": [
        {
          "output_type": "stream",
          "name": "stdout",
          "text": [
            "2.8.2\n"
          ]
        }
      ]
    },
    {
      "cell_type": "code",
      "source": [
        "tf.config.list_physical_devices()"
      ],
      "metadata": {
        "colab": {
          "base_uri": "https://localhost:8080/"
        },
        "id": "v-qHIRjyuV5F",
        "outputId": "6ffb4480-07e7-4e79-94ee-601ac076b8a3"
      },
      "execution_count": null,
      "outputs": [
        {
          "output_type": "execute_result",
          "data": {
            "text/plain": [
              "[PhysicalDevice(name='/physical_device:CPU:0', device_type='CPU'),\n",
              " PhysicalDevice(name='/physical_device:GPU:0', device_type='GPU')]"
            ]
          },
          "metadata": {},
          "execution_count": 4
        }
      ]
    },
    {
      "cell_type": "markdown",
      "source": [
        "## Create Data to View and Fit"
      ],
      "metadata": {
        "id": "yevC-geovWsp"
      }
    },
    {
      "cell_type": "code",
      "source": [
        "import numpy as np\n",
        "import matplotlib.pyplot as plt\n",
        "from sklearn.model_selection import train_test_split"
      ],
      "metadata": {
        "id": "XWaO5wjfvLgD"
      },
      "execution_count": null,
      "outputs": []
    },
    {
      "cell_type": "code",
      "source": [
        "# Creating the features\n",
        "X = np.array([-7.0,-4.0,-1.0,2.0,5.0,8.0,11.0])\n",
        "X"
      ],
      "metadata": {
        "colab": {
          "base_uri": "https://localhost:8080/"
        },
        "id": "n3dNDhnOvhyd",
        "outputId": "dad3dbea-d31a-4298-a051-39f1dff82608"
      },
      "execution_count": null,
      "outputs": [
        {
          "output_type": "execute_result",
          "data": {
            "text/plain": [
              "array([-7., -4., -1.,  2.,  5.,  8., 11.])"
            ]
          },
          "metadata": {},
          "execution_count": 6
        }
      ]
    },
    {
      "cell_type": "code",
      "source": [
        "y = np.array([12.0,9.0,6.0,3.0,0.0,-3.0,-6.0])\n",
        "y"
      ],
      "metadata": {
        "colab": {
          "base_uri": "https://localhost:8080/"
        },
        "id": "qbZM07zPvwB2",
        "outputId": "c893b450-f1a8-44b6-fc04-c298a1db176c"
      },
      "execution_count": null,
      "outputs": [
        {
          "output_type": "execute_result",
          "data": {
            "text/plain": [
              "array([12.,  9.,  6.,  3.,  0., -3., -6.])"
            ]
          },
          "metadata": {},
          "execution_count": 7
        }
      ]
    },
    {
      "cell_type": "code",
      "source": [
        "plt.scatter(X,y);"
      ],
      "metadata": {
        "colab": {
          "base_uri": "https://localhost:8080/",
          "height": 265
        },
        "id": "B0y8NHczwy_F",
        "outputId": "4f6523f9-c27d-45c9-93af-758627805090"
      },
      "execution_count": null,
      "outputs": [
        {
          "output_type": "display_data",
          "data": {
            "text/plain": [
              "<Figure size 432x288 with 1 Axes>"
            ],
            "image/png": "[encoded data removed]"
          },
          "metadata": {
            "needs_background": "light"
          }
        }
      ]
    },
    {
      "cell_type": "code",
      "source": [
        "## Turn our numpy array into tensors\n",
        "X = tf.constant(X)\n",
        "y = tf.constant(y)"
      ],
      "metadata": {
        "id": "MK4rl1jXw4U9"
      },
      "execution_count": null,
      "outputs": []
    },
    {
      "cell_type": "code",
      "source": [
        "input_shape = X[0].shape\n",
        "output_shape = y[0].shape"
      ],
      "metadata": {
        "id": "E_oFxt2Hx-kD"
      },
      "execution_count": null,
      "outputs": []
    },
    {
      "cell_type": "code",
      "source": [
        "input_shape"
      ],
      "metadata": {
        "colab": {
          "base_uri": "https://localhost:8080/"
        },
        "id": "wQrsZHj-0sZW",
        "outputId": "532ddf1f-8de6-4b01-ba78-127ef8f55123"
      },
      "execution_count": null,
      "outputs": [
        {
          "output_type": "execute_result",
          "data": {
            "text/plain": [
              "TensorShape([])"
            ]
          },
          "metadata": {},
          "execution_count": 11
        }
      ]
    },
    {
      "cell_type": "code",
      "source": [
        "plt.scatter(X,y)"
      ],
      "metadata": {
        "colab": {
          "base_uri": "https://localhost:8080/",
          "height": 282
        },
        "id": "5gXQtGBl0zmE",
        "outputId": "9ac24217-cffb-4f6e-aa54-3ebd8af653a5"
      },
      "execution_count": null,
      "outputs": [
        {
          "output_type": "execute_result",
          "data": {
            "text/plain": [
              "<matplotlib.collections.PathCollection at 0x7f14708dab50>"
            ]
          },
          "metadata": {},
          "execution_count": 12
        },
        {
          "output_type": "display_data",
          "data": {
            "text/plain": [
              "<Figure size 432x288 with 1 Axes>"
            ],
            "image/png": "[encoded data removed]"
          },
          "metadata": {
            "needs_background": "light"
          }
        }
      ]
    },
    {
      "cell_type": "markdown",
      "source": [
        "## Steps in modelling with tensorflow\n",
        "1. **Creating a model** - Defining the input and output layers, as well as the hidden layer of a deep learning model\n",
        "2. **Compiling a model** - We need to define a loss function and the optimizer.(optimizer tells our model how to improve the patterns its learning)\n",
        "3. **Fitting the model**-let the model find patterns between X and y"
      ],
      "metadata": {
        "id": "AtgjHtZh1OWI"
      }
    },
    {
      "cell_type": "code",
      "source": [
        "tf.random.set_seed(42)"
      ],
      "metadata": {
        "id": "9Qz4pGx71EER"
      },
      "execution_count": null,
      "outputs": []
    },
    {
      "cell_type": "code",
      "source": [
        "# Create a model\n",
        "model = tf.keras.Sequential([tf.keras.layers.Dense(1,input_shape=[1])])"
      ],
      "metadata": {
        "id": "aW1SNpnJ1Hgu"
      },
      "execution_count": null,
      "outputs": []
    },
    {
      "cell_type": "code",
      "source": [
        "# Compile the model\n",
        "model.compile(loss=tf.keras.losses.mae,optimizer=tf.keras.optimizers.SGD(),metrics=[\"mae\"])"
      ],
      "metadata": {
        "id": "RPxwpzCu2u9V"
      },
      "execution_count": null,
      "outputs": []
    },
    {
      "cell_type": "code",
      "source": [
        "# Fit the model to our data\n",
        "model.fit(tf.expand_dims(X, axis=-1), y, epochs=5)"
      ],
      "metadata": {
        "colab": {
          "base_uri": "https://localhost:8080/"
        },
        "id": "4Fcwh2KV3W5C",
        "outputId": "136290f9-c139-4837-e735-cc6dfde99181"
      },
      "execution_count": null,
      "outputs": [
        {
          "output_type": "stream",
          "name": "stdout",
          "text": [
            "Epoch 1/5\n",
            "1/1 [==============================] - 2s 2s/step - loss: 8.3403 - mae: 8.3403\n",
            "Epoch 2/5\n",
            "1/1 [==============================] - 0s 7ms/step - loss: 8.1042 - mae: 8.1042\n",
            "Epoch 3/5\n",
            "1/1 [==============================] - 0s 7ms/step - loss: 7.8680 - mae: 7.8680\n",
            "Epoch 4/5\n",
            "1/1 [==============================] - 0s 5ms/step - loss: 7.6319 - mae: 7.6319\n",
            "Epoch 5/5\n",
            "1/1 [==============================] - 0s 5ms/step - loss: 7.3958 - mae: 7.3958\n"
          ]
        },
        {
          "output_type": "execute_result",
          "data": {
            "text/plain": [
              "<keras.callbacks.History at 0x7f14708dad10>"
            ]
          },
          "metadata": {},
          "execution_count": 16
        }
      ]
    },
    {
      "cell_type": "code",
      "source": [
        "y_pred = model.predict([17.0])"
      ],
      "metadata": {
        "id": "ac-0ooTh36QK"
      },
      "execution_count": null,
      "outputs": []
    },
    {
      "cell_type": "code",
      "source": [
        "y_pred"
      ],
      "metadata": {
        "colab": {
          "base_uri": "https://localhost:8080/"
        },
        "id": "wLB5cMmzA4l6",
        "outputId": "8a93ae8f-43c3-429a-970b-f73c0c34b624"
      },
      "execution_count": null,
      "outputs": [
        {
          "output_type": "execute_result",
          "data": {
            "text/plain": [
              "array([[5.5695896]], dtype=float32)"
            ]
          },
          "metadata": {},
          "execution_count": 18
        }
      ]
    },
    {
      "cell_type": "markdown",
      "source": [
        "## Improving a model\n",
        "\n",
        "1. **Creating a model** - Here we can add more layers, increase the number of hidden layers, within each hidden layer we can change the activation function.\n",
        "2. **Compiling a model** - Here we might change the optimization function, or perhaps the learning rate of optimization function.\n",
        "3. **Fitting a model** - Change the number of epochs or give the model more examples to learn from.\n"
      ],
      "metadata": {
        "id": "81mqnoZbCDNV"
      }
    },
    {
      "cell_type": "code",
      "source": [
        "## Creating a larger model\n",
        "model = tf.keras.Sequential([\n",
        "                              tf.keras.layers.Dense(100,input_shape=[1],activation=\"relu\"),\n",
        "                             tf.keras.layers.Dense(100,input_shape=[1],activation=\"relu\"),\n",
        "                             tf.keras.layers.Dense(100,input_shape=[1],activation=\"relu\"),\n",
        "                             tf.keras.layers.Dense(100,input_shape=[1],activation=\"relu\"),\n",
        "                             tf.keras.layers.Dense(100,input_shape=[1],activation=\"relu\"),\n",
        "                             tf.keras.layers.Dense(100,input_shape=[1],activation=\"relu\"),\n",
        "                             tf.keras.layers.Dense(1,input_shape=[1])])\n",
        "model.compile(loss=tf.keras.losses.mae,optimizer = tf.keras.optimizers.Adam(learning_rate=0.001),metrics=['mae'])\n",
        "earlystopping = tf.keras.callbacks.EarlyStopping(monitor =\"mae\", \n",
        "                                        mode =\"min\", patience = 5, \n",
        "                                        restore_best_weights = True)\n",
        "model.fit(X,y,epochs=1000,callbacks=[earlystopping])"
      ],
      "metadata": {
        "colab": {
          "base_uri": "https://localhost:8080/"
        },
        "id": "WmGleNtNA--m",
        "outputId": "6887de0c-0592-424a-8769-4cf61421d1db"
      },
      "execution_count": null,
      "outputs": [
        {
          "output_type": "stream",
          "name": "stdout",
          "text": [
            "Epoch 1/1000\n",
            "1/1 [==============================] - 1s 713ms/step - loss: 5.5879 - mae: 5.5879\n",
            "Epoch 2/1000\n",
            "1/1 [==============================] - 0s 14ms/step - loss: 5.5043 - mae: 5.5043\n",
            "Epoch 3/1000\n",
            "1/1 [==============================] - 0s 14ms/step - loss: 5.4318 - mae: 5.4318\n",
            "Epoch 4/1000\n",
            "1/1 [==============================] - 0s 14ms/step - loss: 5.3546 - mae: 5.3546\n",
            "Epoch 5/1000\n",
            "1/1 [==============================] - 0s 15ms/step - loss: 5.2784 - mae: 5.2784\n",
            "Epoch 6/1000\n",
            "1/1 [==============================] - 0s 14ms/step - loss: 5.1863 - mae: 5.1863\n",
            "Epoch 7/1000\n",
            "1/1 [==============================] - 0s 15ms/step - loss: 5.0779 - mae: 5.0779\n",
            "Epoch 8/1000\n",
            "1/1 [==============================] - 0s 13ms/step - loss: 4.9476 - mae: 4.9476\n",
            "Epoch 9/1000\n",
            "1/1 [==============================] - 0s 13ms/step - loss: 4.7954 - mae: 4.7954\n",
            "Epoch 10/1000\n",
            "1/1 [==============================] - 0s 18ms/step - loss: 4.6173 - mae: 4.6173\n",
            "Epoch 11/1000\n",
            "1/1 [==============================] - 0s 14ms/step - loss: 4.4086 - mae: 4.4086\n",
            "Epoch 12/1000\n",
            "1/1 [==============================] - 0s 15ms/step - loss: 4.2236 - mae: 4.2236\n",
            "Epoch 13/1000\n",
            "1/1 [==============================] - 0s 14ms/step - loss: 4.1153 - mae: 4.1153\n",
            "Epoch 14/1000\n",
            "1/1 [==============================] - 0s 13ms/step - loss: 3.9671 - mae: 3.9671\n",
            "Epoch 15/1000\n",
            "1/1 [==============================] - 0s 18ms/step - loss: 3.7716 - mae: 3.7716\n",
            "Epoch 16/1000\n",
            "1/1 [==============================] - 0s 14ms/step - loss: 3.5248 - mae: 3.5248\n",
            "Epoch 17/1000\n",
            "1/1 [==============================] - 0s 15ms/step - loss: 3.2160 - mae: 3.2160\n",
            "Epoch 18/1000\n",
            "1/1 [==============================] - 0s 14ms/step - loss: 2.8918 - mae: 2.8918\n",
            "Epoch 19/1000\n",
            "1/1 [==============================] - 0s 14ms/step - loss: 2.5377 - mae: 2.5377\n",
            "Epoch 20/1000\n",
            "1/1 [==============================] - 0s 14ms/step - loss: 2.0557 - mae: 2.0557\n",
            "Epoch 21/1000\n",
            "1/1 [==============================] - 0s 13ms/step - loss: 1.7369 - mae: 1.7369\n",
            "Epoch 22/1000\n",
            "1/1 [==============================] - 0s 9ms/step - loss: 1.8092 - mae: 1.8092\n",
            "Epoch 23/1000\n",
            "1/1 [==============================] - 0s 9ms/step - loss: 2.0189 - mae: 2.0189\n",
            "Epoch 24/1000\n",
            "1/1 [==============================] - 0s 8ms/step - loss: 2.1841 - mae: 2.1841\n",
            "Epoch 25/1000\n",
            "1/1 [==============================] - 0s 11ms/step - loss: 2.2001 - mae: 2.2001\n",
            "Epoch 26/1000\n",
            "1/1 [==============================] - 0s 15ms/step - loss: 2.0999 - mae: 2.0999\n"
          ]
        },
        {
          "output_type": "execute_result",
          "data": {
            "text/plain": [
              "<keras.callbacks.History at 0x7f13eaa39f90>"
            ]
          },
          "metadata": {},
          "execution_count": 19
        }
      ]
    },
    {
      "cell_type": "code",
      "source": [
        "model.predict([17.0])"
      ],
      "metadata": {
        "colab": {
          "base_uri": "https://localhost:8080/"
        },
        "id": "ny3tIEGbDVdf",
        "outputId": "e371baaa-5496-4d14-9560-602951a2204c"
      },
      "execution_count": null,
      "outputs": [
        {
          "output_type": "execute_result",
          "data": {
            "text/plain": [
              "array([[-8.179444]], dtype=float32)"
            ]
          },
          "metadata": {},
          "execution_count": 20
        }
      ]
    },
    {
      "cell_type": "markdown",
      "source": [
        "## Evaluate a model"
      ],
      "metadata": {
        "id": "bz0BvesZWIIh"
      }
    },
    {
      "cell_type": "code",
      "source": [
        "X = tf.range(-100,100,4)\n",
        "X"
      ],
      "metadata": {
        "colab": {
          "base_uri": "https://localhost:8080/"
        },
        "id": "BP-GD5c2JPgN",
        "outputId": "c63993f9-0379-4a8f-f444-9dfae5f55923"
      },
      "execution_count": null,
      "outputs": [
        {
          "output_type": "execute_result",
          "data": {
            "text/plain": [
              "<tf.Tensor: shape=(50,), dtype=int32, numpy=\n",
              "array([-100,  -96,  -92,  -88,  -84,  -80,  -76,  -72,  -68,  -64,  -60,\n",
              "        -56,  -52,  -48,  -44,  -40,  -36,  -32,  -28,  -24,  -20,  -16,\n",
              "        -12,   -8,   -4,    0,    4,    8,   12,   16,   20,   24,   28,\n",
              "         32,   36,   40,   44,   48,   52,   56,   60,   64,   68,   72,\n",
              "         76,   80,   84,   88,   92,   96], dtype=int32)>"
            ]
          },
          "metadata": {},
          "execution_count": 21
        }
      ]
    },
    {
      "cell_type": "code",
      "source": [
        "y = X+10\n",
        "y"
      ],
      "metadata": {
        "colab": {
          "base_uri": "https://localhost:8080/"
        },
        "id": "i6RI012CW8IY",
        "outputId": "1cba672f-2de5-4934-8cf9-b914eb52b9fa"
      },
      "execution_count": null,
      "outputs": [
        {
          "output_type": "execute_result",
          "data": {
            "text/plain": [
              "<tf.Tensor: shape=(50,), dtype=int32, numpy=\n",
              "array([-90, -86, -82, -78, -74, -70, -66, -62, -58, -54, -50, -46, -42,\n",
              "       -38, -34, -30, -26, -22, -18, -14, -10,  -6,  -2,   2,   6,  10,\n",
              "        14,  18,  22,  26,  30,  34,  38,  42,  46,  50,  54,  58,  62,\n",
              "        66,  70,  74,  78,  82,  86,  90,  94,  98, 102, 106], dtype=int32)>"
            ]
          },
          "metadata": {},
          "execution_count": 22
        }
      ]
    },
    {
      "cell_type": "code",
      "source": [
        "plt.scatter(X,y)"
      ],
      "metadata": {
        "colab": {
          "base_uri": "https://localhost:8080/",
          "height": 282
        },
        "id": "8VmINzSeXF1q",
        "outputId": "6e737249-690f-4ea1-d73e-10e02081f7c0"
      },
      "execution_count": null,
      "outputs": [
        {
          "output_type": "execute_result",
          "data": {
            "text/plain": [
              "<matplotlib.collections.PathCollection at 0x7f13ec0d52d0>"
            ]
          },
          "metadata": {},
          "execution_count": 23
        },
        {
          "output_type": "display_data",
          "data": {
            "text/plain": [
              "<Figure size 432x288 with 1 Axes>"
            ],
            "image/png": "[encoded data removed]"
          },
          "metadata": {
            "needs_background": "light"
          }
        }
      ]
    },
    {
      "cell_type": "code",
      "source": [
        "train_index = int(X.shape[0]*0.8)\n",
        "test_index = int(X.shape[0]*0.2)"
      ],
      "metadata": {
        "id": "iZE-V-U1XOJO"
      },
      "execution_count": null,
      "outputs": []
    },
    {
      "cell_type": "code",
      "source": [
        "X_train,X_test,y_train,y_test=X[:train_index],X[train_index:],y[:train_index],y[train_index:]"
      ],
      "metadata": {
        "id": "WR2AwgwYXYfm"
      },
      "execution_count": null,
      "outputs": []
    },
    {
      "cell_type": "code",
      "source": [
        "X_train.shape,X_test.shape,y_train.shape,y_test.shape"
      ],
      "metadata": {
        "colab": {
          "base_uri": "https://localhost:8080/"
        },
        "id": "D6NzfRvVY7xu",
        "outputId": "4631d37b-8fa7-4830-faf1-1c8e1a7e7578"
      },
      "execution_count": null,
      "outputs": [
        {
          "output_type": "execute_result",
          "data": {
            "text/plain": [
              "(TensorShape([40]), TensorShape([10]), TensorShape([40]), TensorShape([10]))"
            ]
          },
          "metadata": {},
          "execution_count": 26
        }
      ]
    },
    {
      "cell_type": "code",
      "source": [
        "plt.scatter(X_train,y_train)"
      ],
      "metadata": {
        "colab": {
          "base_uri": "https://localhost:8080/",
          "height": 282
        },
        "id": "QAj4Z3N1aeYO",
        "outputId": "ed8efa32-17bc-42de-e8ae-0528cdb6c4b8"
      },
      "execution_count": null,
      "outputs": [
        {
          "output_type": "execute_result",
          "data": {
            "text/plain": [
              "<matplotlib.collections.PathCollection at 0x7f13ec04a810>"
            ]
          },
          "metadata": {},
          "execution_count": 27
        },
        {
          "output_type": "display_data",
          "data": {
            "text/plain": [
              "<Figure size 432x288 with 1 Axes>"
            ],
            "image/png": "[encoded data removed]"
          },
          "metadata": {
            "needs_background": "light"
          }
        }
      ]
    },
    {
      "cell_type": "code",
      "source": [
        "model = tf.keras.Sequential([\n",
        "                            tf.keras.layers.Dense(100,input_shape=[1],activation=\"relu\",name=\"Input_layer\"),\n",
        "                            tf.keras.layers.Dense(100,input_shape=[1],activation=\"relu\",name=\"Hidden_layer\"),\n",
        "                             tf.keras.layers.Dense(1,input_shape=[1],name=\"output_layer\"), \n",
        "                             ])\n",
        "model.compile(loss=tf.keras.losses.mae,optimizer = tf.keras.optimizers.Adam(learning_rate=0.01),metrics=[\"mae\"])\n",
        "model.fit(X_train,y_train,epochs=100,validation_data=[X_test,y_test])"
      ],
      "metadata": {
        "colab": {
          "base_uri": "https://localhost:8080/"
        },
        "id": "_v80A2jTaqnT",
        "outputId": "713b055f-fd02-4a28-a64d-7546bd7128b4"
      },
      "execution_count": null,
      "outputs": [
        {
          "output_type": "stream",
          "name": "stdout",
          "text": [
            "Epoch 1/100\n",
            "2/2 [==============================] - 1s 301ms/step - loss: 45.2750 - mae: 45.2750 - val_loss: 40.7373 - val_mae: 40.7373\n",
            "Epoch 2/100\n",
            "2/2 [==============================] - 0s 22ms/step - loss: 23.9738 - mae: 23.9738 - val_loss: 7.0789 - val_mae: 7.0789\n",
            "Epoch 3/100\n",
            "2/2 [==============================] - 0s 22ms/step - loss: 8.7160 - mae: 8.7160 - val_loss: 36.1464 - val_mae: 36.1464\n",
            "Epoch 4/100\n",
            "2/2 [==============================] - 0s 21ms/step - loss: 11.3405 - mae: 11.3405 - val_loss: 17.4074 - val_mae: 17.4074\n",
            "Epoch 5/100\n",
            "2/2 [==============================] - 0s 22ms/step - loss: 8.1762 - mae: 8.1762 - val_loss: 3.2471 - val_mae: 3.2471\n",
            "Epoch 6/100\n",
            "2/2 [==============================] - 0s 22ms/step - loss: 7.2746 - mae: 7.2746 - val_loss: 5.0469 - val_mae: 5.0469\n",
            "Epoch 7/100\n",
            "2/2 [==============================] - 0s 41ms/step - loss: 9.0837 - mae: 9.0837 - val_loss: 4.9244 - val_mae: 4.9244\n",
            "Epoch 8/100\n",
            "2/2 [==============================] - 0s 22ms/step - loss: 5.6906 - mae: 5.6906 - val_loss: 16.4335 - val_mae: 16.4335\n",
            "Epoch 9/100\n",
            "2/2 [==============================] - 0s 22ms/step - loss: 5.6895 - mae: 5.6895 - val_loss: 14.1837 - val_mae: 14.1837\n",
            "Epoch 10/100\n",
            "2/2 [==============================] - 0s 24ms/step - loss: 7.1156 - mae: 7.1156 - val_loss: 6.9208 - val_mae: 6.9208\n",
            "Epoch 11/100\n",
            "2/2 [==============================] - 0s 22ms/step - loss: 4.1830 - mae: 4.1830 - val_loss: 5.8940 - val_mae: 5.8940\n",
            "Epoch 12/100\n",
            "2/2 [==============================] - 0s 22ms/step - loss: 5.0227 - mae: 5.0227 - val_loss: 8.0925 - val_mae: 8.0925\n",
            "Epoch 13/100\n",
            "2/2 [==============================] - 0s 21ms/step - loss: 4.5478 - mae: 4.5478 - val_loss: 10.0842 - val_mae: 10.0842\n",
            "Epoch 14/100\n",
            "2/2 [==============================] - 0s 21ms/step - loss: 4.2396 - mae: 4.2396 - val_loss: 7.4432 - val_mae: 7.4432\n",
            "Epoch 15/100\n",
            "2/2 [==============================] - 0s 23ms/step - loss: 5.0696 - mae: 5.0696 - val_loss: 3.8248 - val_mae: 3.8248\n",
            "Epoch 16/100\n",
            "2/2 [==============================] - 0s 26ms/step - loss: 4.0338 - mae: 4.0338 - val_loss: 10.4525 - val_mae: 10.4525\n",
            "Epoch 17/100\n",
            "2/2 [==============================] - 0s 21ms/step - loss: 4.2568 - mae: 4.2568 - val_loss: 7.4558 - val_mae: 7.4558\n",
            "Epoch 18/100\n",
            "2/2 [==============================] - 0s 26ms/step - loss: 3.7110 - mae: 3.7110 - val_loss: 1.2630 - val_mae: 1.2630\n",
            "Epoch 19/100\n",
            "2/2 [==============================] - 0s 31ms/step - loss: 4.4466 - mae: 4.4466 - val_loss: 1.0706 - val_mae: 1.0706\n",
            "Epoch 20/100\n",
            "2/2 [==============================] - 0s 22ms/step - loss: 4.2529 - mae: 4.2529 - val_loss: 10.7788 - val_mae: 10.7788\n",
            "Epoch 21/100\n",
            "2/2 [==============================] - 0s 22ms/step - loss: 3.8495 - mae: 3.8495 - val_loss: 18.8647 - val_mae: 18.8647\n",
            "Epoch 22/100\n",
            "2/2 [==============================] - 0s 23ms/step - loss: 4.1770 - mae: 4.1770 - val_loss: 13.5465 - val_mae: 13.5465\n",
            "Epoch 23/100\n",
            "2/2 [==============================] - 0s 26ms/step - loss: 3.8764 - mae: 3.8764 - val_loss: 2.3741 - val_mae: 2.3741\n",
            "Epoch 24/100\n",
            "2/2 [==============================] - 0s 40ms/step - loss: 3.9094 - mae: 3.9094 - val_loss: 3.2770 - val_mae: 3.2770\n",
            "Epoch 25/100\n",
            "2/2 [==============================] - 0s 22ms/step - loss: 3.7258 - mae: 3.7258 - val_loss: 13.8333 - val_mae: 13.8333\n",
            "Epoch 26/100\n",
            "2/2 [==============================] - 0s 28ms/step - loss: 3.7686 - mae: 3.7686 - val_loss: 17.8072 - val_mae: 17.8072\n",
            "Epoch 27/100\n",
            "2/2 [==============================] - 0s 26ms/step - loss: 3.7976 - mae: 3.7976 - val_loss: 11.2519 - val_mae: 11.2519\n",
            "Epoch 28/100\n",
            "2/2 [==============================] - 0s 23ms/step - loss: 3.4725 - mae: 3.4725 - val_loss: 0.9720 - val_mae: 0.9720\n",
            "Epoch 29/100\n",
            "2/2 [==============================] - 0s 29ms/step - loss: 3.7085 - mae: 3.7085 - val_loss: 1.9349 - val_mae: 1.9349\n",
            "Epoch 30/100\n",
            "2/2 [==============================] - 0s 21ms/step - loss: 4.1140 - mae: 4.1140 - val_loss: 5.4170 - val_mae: 5.4170\n",
            "Epoch 31/100\n",
            "2/2 [==============================] - 0s 22ms/step - loss: 3.1276 - mae: 3.1276 - val_loss: 13.4183 - val_mae: 13.4183\n",
            "Epoch 32/100\n",
            "2/2 [==============================] - 0s 26ms/step - loss: 4.6034 - mae: 4.6034 - val_loss: 14.5503 - val_mae: 14.5503\n",
            "Epoch 33/100\n",
            "2/2 [==============================] - 0s 29ms/step - loss: 3.5482 - mae: 3.5482 - val_loss: 11.0925 - val_mae: 11.0925\n",
            "Epoch 34/100\n",
            "2/2 [==============================] - 0s 22ms/step - loss: 4.0348 - mae: 4.0348 - val_loss: 4.7935 - val_mae: 4.7935\n",
            "Epoch 35/100\n",
            "2/2 [==============================] - 0s 22ms/step - loss: 2.7709 - mae: 2.7709 - val_loss: 2.9451 - val_mae: 2.9451\n",
            "Epoch 36/100\n",
            "2/2 [==============================] - 0s 23ms/step - loss: 3.4865 - mae: 3.4865 - val_loss: 5.7119 - val_mae: 5.7119\n",
            "Epoch 37/100\n",
            "2/2 [==============================] - 0s 23ms/step - loss: 2.7133 - mae: 2.7133 - val_loss: 3.7894 - val_mae: 3.7894\n",
            "Epoch 38/100\n",
            "2/2 [==============================] - 0s 22ms/step - loss: 2.2516 - mae: 2.2516 - val_loss: 2.6727 - val_mae: 2.6727\n",
            "Epoch 39/100\n",
            "2/2 [==============================] - 0s 21ms/step - loss: 2.1727 - mae: 2.1727 - val_loss: 7.4174 - val_mae: 7.4174\n",
            "Epoch 40/100\n",
            "2/2 [==============================] - 0s 22ms/step - loss: 2.6040 - mae: 2.6040 - val_loss: 8.2260 - val_mae: 8.2260\n",
            "Epoch 41/100\n",
            "2/2 [==============================] - 0s 21ms/step - loss: 2.0467 - mae: 2.0467 - val_loss: 3.5077 - val_mae: 3.5077\n",
            "Epoch 42/100\n",
            "2/2 [==============================] - 0s 22ms/step - loss: 2.3772 - mae: 2.3772 - val_loss: 2.6381 - val_mae: 2.6381\n",
            "Epoch 43/100\n",
            "2/2 [==============================] - 0s 40ms/step - loss: 2.1893 - mae: 2.1893 - val_loss: 4.3448 - val_mae: 4.3448\n",
            "Epoch 44/100\n",
            "2/2 [==============================] - 0s 23ms/step - loss: 3.3596 - mae: 3.3596 - val_loss: 12.6749 - val_mae: 12.6749\n",
            "Epoch 45/100\n",
            "2/2 [==============================] - 0s 23ms/step - loss: 3.0032 - mae: 3.0032 - val_loss: 6.4945 - val_mae: 6.4945\n",
            "Epoch 46/100\n",
            "2/2 [==============================] - 0s 24ms/step - loss: 2.8287 - mae: 2.8287 - val_loss: 5.0643 - val_mae: 5.0643\n",
            "Epoch 47/100\n",
            "2/2 [==============================] - 0s 22ms/step - loss: 3.5210 - mae: 3.5210 - val_loss: 1.3812 - val_mae: 1.3812\n",
            "Epoch 48/100\n",
            "2/2 [==============================] - 0s 22ms/step - loss: 1.6340 - mae: 1.6340 - val_loss: 9.1374 - val_mae: 9.1374\n",
            "Epoch 49/100\n",
            "2/2 [==============================] - 0s 28ms/step - loss: 4.3603 - mae: 4.3603 - val_loss: 7.7375 - val_mae: 7.7375\n",
            "Epoch 50/100\n",
            "2/2 [==============================] - 0s 28ms/step - loss: 1.3658 - mae: 1.3658 - val_loss: 0.6022 - val_mae: 0.6022\n",
            "Epoch 51/100\n",
            "2/2 [==============================] - 0s 22ms/step - loss: 7.4130 - mae: 7.4130 - val_loss: 1.3421 - val_mae: 1.3421\n",
            "Epoch 52/100\n",
            "2/2 [==============================] - 0s 22ms/step - loss: 5.7140 - mae: 5.7140 - val_loss: 12.3611 - val_mae: 12.3611\n",
            "Epoch 53/100\n",
            "2/2 [==============================] - 0s 23ms/step - loss: 2.7701 - mae: 2.7701 - val_loss: 10.2282 - val_mae: 10.2282\n",
            "Epoch 54/100\n",
            "2/2 [==============================] - 0s 22ms/step - loss: 2.8011 - mae: 2.8011 - val_loss: 0.8109 - val_mae: 0.8109\n",
            "Epoch 55/100\n",
            "2/2 [==============================] - 0s 22ms/step - loss: 4.0267 - mae: 4.0267 - val_loss: 0.3474 - val_mae: 0.3474\n",
            "Epoch 56/100\n",
            "2/2 [==============================] - 0s 24ms/step - loss: 5.8445 - mae: 5.8445 - val_loss: 4.8282 - val_mae: 4.8282\n",
            "Epoch 57/100\n",
            "2/2 [==============================] - 0s 23ms/step - loss: 3.5400 - mae: 3.5400 - val_loss: 1.6738 - val_mae: 1.6738\n",
            "Epoch 58/100\n",
            "2/2 [==============================] - 0s 23ms/step - loss: 2.5089 - mae: 2.5089 - val_loss: 0.3356 - val_mae: 0.3356\n",
            "Epoch 59/100\n",
            "2/2 [==============================] - 0s 22ms/step - loss: 3.2579 - mae: 3.2579 - val_loss: 2.2033 - val_mae: 2.2033\n",
            "Epoch 60/100\n",
            "2/2 [==============================] - 0s 23ms/step - loss: 1.2452 - mae: 1.2452 - val_loss: 5.7833 - val_mae: 5.7833\n",
            "Epoch 61/100\n",
            "2/2 [==============================] - 0s 22ms/step - loss: 2.4302 - mae: 2.4302 - val_loss: 1.4752 - val_mae: 1.4752\n",
            "Epoch 62/100\n",
            "2/2 [==============================] - 0s 21ms/step - loss: 1.7478 - mae: 1.7478 - val_loss: 0.0634 - val_mae: 0.0634\n",
            "Epoch 63/100\n",
            "2/2 [==============================] - 0s 26ms/step - loss: 1.2722 - mae: 1.2722 - val_loss: 12.3475 - val_mae: 12.3475\n",
            "Epoch 64/100\n",
            "2/2 [==============================] - 0s 21ms/step - loss: 2.4082 - mae: 2.4082 - val_loss: 10.7928 - val_mae: 10.7928\n",
            "Epoch 65/100\n",
            "2/2 [==============================] - 0s 24ms/step - loss: 2.4701 - mae: 2.4701 - val_loss: 1.4617 - val_mae: 1.4617\n",
            "Epoch 66/100\n",
            "2/2 [==============================] - 0s 31ms/step - loss: 1.2787 - mae: 1.2787 - val_loss: 2.2061 - val_mae: 2.2061\n",
            "Epoch 67/100\n",
            "2/2 [==============================] - 0s 24ms/step - loss: 0.9493 - mae: 0.9493 - val_loss: 6.3496 - val_mae: 6.3496\n",
            "Epoch 68/100\n",
            "2/2 [==============================] - 0s 23ms/step - loss: 1.6475 - mae: 1.6475 - val_loss: 3.3460 - val_mae: 3.3460\n",
            "Epoch 69/100\n",
            "2/2 [==============================] - 0s 40ms/step - loss: 0.9583 - mae: 0.9583 - val_loss: 3.8190 - val_mae: 3.8190\n",
            "Epoch 70/100\n",
            "2/2 [==============================] - 0s 27ms/step - loss: 1.1600 - mae: 1.1600 - val_loss: 4.6113 - val_mae: 4.6113\n",
            "Epoch 71/100\n",
            "2/2 [==============================] - 0s 24ms/step - loss: 2.0414 - mae: 2.0414 - val_loss: 5.1811 - val_mae: 5.1811\n",
            "Epoch 72/100\n",
            "2/2 [==============================] - 0s 25ms/step - loss: 1.0066 - mae: 1.0066 - val_loss: 6.6428 - val_mae: 6.6428\n",
            "Epoch 73/100\n",
            "2/2 [==============================] - 0s 25ms/step - loss: 1.5511 - mae: 1.5511 - val_loss: 7.1041 - val_mae: 7.1041\n",
            "Epoch 74/100\n",
            "2/2 [==============================] - 0s 25ms/step - loss: 1.5610 - mae: 1.5610 - val_loss: 8.0386 - val_mae: 8.0386\n",
            "Epoch 75/100\n",
            "2/2 [==============================] - 0s 23ms/step - loss: 2.0969 - mae: 2.0969 - val_loss: 12.7416 - val_mae: 12.7416\n",
            "Epoch 76/100\n",
            "2/2 [==============================] - 0s 23ms/step - loss: 3.1960 - mae: 3.1960 - val_loss: 5.2112 - val_mae: 5.2112\n",
            "Epoch 77/100\n",
            "2/2 [==============================] - 0s 23ms/step - loss: 1.3919 - mae: 1.3919 - val_loss: 6.2353 - val_mae: 6.2353\n",
            "Epoch 78/100\n",
            "2/2 [==============================] - 0s 27ms/step - loss: 2.6970 - mae: 2.6970 - val_loss: 5.8410 - val_mae: 5.8410\n",
            "Epoch 79/100\n",
            "2/2 [==============================] - 0s 23ms/step - loss: 1.3675 - mae: 1.3675 - val_loss: 3.7240 - val_mae: 3.7240\n",
            "Epoch 80/100\n",
            "2/2 [==============================] - 0s 26ms/step - loss: 1.1390 - mae: 1.1390 - val_loss: 4.8803 - val_mae: 4.8803\n",
            "Epoch 81/100\n",
            "2/2 [==============================] - 0s 23ms/step - loss: 1.4804 - mae: 1.4804 - val_loss: 6.2404 - val_mae: 6.2404\n",
            "Epoch 82/100\n",
            "2/2 [==============================] - 0s 23ms/step - loss: 2.0592 - mae: 2.0592 - val_loss: 7.7906 - val_mae: 7.7906\n",
            "Epoch 83/100\n",
            "2/2 [==============================] - 0s 25ms/step - loss: 1.7295 - mae: 1.7295 - val_loss: 2.5370 - val_mae: 2.5370\n",
            "Epoch 84/100\n",
            "2/2 [==============================] - 0s 22ms/step - loss: 1.0066 - mae: 1.0066 - val_loss: 1.8220 - val_mae: 1.8220\n",
            "Epoch 85/100\n",
            "2/2 [==============================] - 0s 27ms/step - loss: 1.6473 - mae: 1.6473 - val_loss: 4.2624 - val_mae: 4.2624\n",
            "Epoch 86/100\n",
            "2/2 [==============================] - 0s 23ms/step - loss: 1.1926 - mae: 1.1926 - val_loss: 2.6120 - val_mae: 2.6120\n",
            "Epoch 87/100\n",
            "2/2 [==============================] - 0s 22ms/step - loss: 1.6659 - mae: 1.6659 - val_loss: 1.4658 - val_mae: 1.4658\n",
            "Epoch 88/100\n",
            "2/2 [==============================] - 0s 23ms/step - loss: 2.1171 - mae: 2.1171 - val_loss: 0.6562 - val_mae: 0.6562\n",
            "Epoch 89/100\n",
            "2/2 [==============================] - 0s 23ms/step - loss: 2.2241 - mae: 2.2241 - val_loss: 3.0285 - val_mae: 3.0285\n",
            "Epoch 90/100\n",
            "2/2 [==============================] - 0s 23ms/step - loss: 1.7419 - mae: 1.7419 - val_loss: 0.0562 - val_mae: 0.0562\n",
            "Epoch 91/100\n",
            "2/2 [==============================] - 0s 23ms/step - loss: 2.2096 - mae: 2.2096 - val_loss: 5.0321 - val_mae: 5.0321\n",
            "Epoch 92/100\n",
            "2/2 [==============================] - 0s 21ms/step - loss: 1.2100 - mae: 1.2100 - val_loss: 4.4753 - val_mae: 4.4753\n",
            "Epoch 93/100\n",
            "2/2 [==============================] - 0s 22ms/step - loss: 1.8925 - mae: 1.8925 - val_loss: 3.6739 - val_mae: 3.6739\n",
            "Epoch 94/100\n",
            "2/2 [==============================] - 0s 22ms/step - loss: 2.0213 - mae: 2.0213 - val_loss: 0.5797 - val_mae: 0.5797\n",
            "Epoch 95/100\n",
            "2/2 [==============================] - 0s 22ms/step - loss: 1.6939 - mae: 1.6939 - val_loss: 7.8983 - val_mae: 7.8983\n",
            "Epoch 96/100\n",
            "2/2 [==============================] - 0s 22ms/step - loss: 1.9489 - mae: 1.9489 - val_loss: 2.1700 - val_mae: 2.1700\n",
            "Epoch 97/100\n",
            "2/2 [==============================] - 0s 41ms/step - loss: 0.6790 - mae: 0.6790 - val_loss: 7.5028 - val_mae: 7.5028\n",
            "Epoch 98/100\n",
            "2/2 [==============================] - 0s 23ms/step - loss: 2.1676 - mae: 2.1676 - val_loss: 4.7678 - val_mae: 4.7678\n",
            "Epoch 99/100\n",
            "2/2 [==============================] - 0s 24ms/step - loss: 1.3289 - mae: 1.3289 - val_loss: 7.8100 - val_mae: 7.8100\n",
            "Epoch 100/100\n",
            "2/2 [==============================] - 0s 25ms/step - loss: 1.8195 - mae: 1.8195 - val_loss: 12.6089 - val_mae: 12.6089\n"
          ]
        },
        {
          "output_type": "execute_result",
          "data": {
            "text/plain": [
              "<keras.callbacks.History at 0x7f13ec01f550>"
            ]
          },
          "metadata": {},
          "execution_count": 28
        }
      ]
    },
    {
      "cell_type": "code",
      "source": [
        "y_preds = model.predict(X_test)\n",
        "y_preds,y_test"
      ],
      "metadata": {
        "colab": {
          "base_uri": "https://localhost:8080/"
        },
        "id": "_9tk1IkLbTSq",
        "outputId": "3d0984a4-ee3a-4093-edd9-2c85f27d1754"
      },
      "execution_count": null,
      "outputs": [
        {
          "output_type": "execute_result",
          "data": {
            "text/plain": [
              "(array([[ 79.749825],\n",
              "        [ 84.38664 ],\n",
              "        [ 89.02263 ],\n",
              "        [ 93.65732 ],\n",
              "        [ 98.292   ],\n",
              "        [102.92669 ],\n",
              "        [107.56138 ],\n",
              "        [112.196075],\n",
              "        [116.83078 ],\n",
              "        [121.46555 ]], dtype=float32),\n",
              " <tf.Tensor: shape=(10,), dtype=int32, numpy=array([ 70,  74,  78,  82,  86,  90,  94,  98, 102, 106], dtype=int32)>)"
            ]
          },
          "metadata": {},
          "execution_count": 29
        }
      ]
    },
    {
      "cell_type": "code",
      "source": [
        "model.summary()"
      ],
      "metadata": {
        "colab": {
          "base_uri": "https://localhost:8080/"
        },
        "id": "lR6Nq_DUbl6G",
        "outputId": "bde4f1c3-d488-4f76-fb36-7420bfd5ec35"
      },
      "execution_count": null,
      "outputs": [
        {
          "output_type": "stream",
          "name": "stdout",
          "text": [
            "Model: \"sequential_2\"\n",
            "_________________________________________________________________\n",
            " Layer (type)                Output Shape              Param #   \n",
            "=================================================================\n",
            " Input_layer (Dense)         (None, 100)               200       \n",
            "                                                                 \n",
            " Hidden_layer (Dense)        (None, 100)               10100     \n",
            "                                                                 \n",
            " output_layer (Dense)        (None, 1)                 101       \n",
            "                                                                 \n",
            "=================================================================\n",
            "Total params: 10,401\n",
            "Trainable params: 10,401\n",
            "Non-trainable params: 0\n",
            "_________________________________________________________________\n"
          ]
        }
      ]
    },
    {
      "cell_type": "code",
      "source": [
        "from tensorflow.keras.utils import plot_model"
      ],
      "metadata": {
        "id": "hpKjizUPdEwu"
      },
      "execution_count": null,
      "outputs": []
    },
    {
      "cell_type": "code",
      "source": [
        "plot_model(model,show_shapes=True)"
      ],
      "metadata": {
        "colab": {
          "base_uri": "https://localhost:8080/",
          "height": 422
        },
        "id": "N-RiuL7mkZde",
        "outputId": "bd425db6-5556-477b-9a45-37849f8d86ec"
      },
      "execution_count": null,
      "outputs": [
        {
          "output_type": "execute_result",
          "data": {
            "image/png": "[encoded data removed]",
            "text/plain": [
              "<IPython.core.display.Image object>"
            ]
          },
          "metadata": {},
          "execution_count": 32
        }
      ]
    },
    {
      "cell_type": "code",
      "source": [
        "y_pred = model.predict(X_test)"
      ],
      "metadata": {
        "id": "Ae_IglO_kfEJ"
      },
      "execution_count": null,
      "outputs": []
    },
    {
      "cell_type": "code",
      "source": [
        "y_pred"
      ],
      "metadata": {
        "colab": {
          "base_uri": "https://localhost:8080/"
        },
        "id": "YpbLiXTs6WI3",
        "outputId": "51541b74-d6b2-47a0-ad74-2cdefa352bfb"
      },
      "execution_count": null,
      "outputs": [
        {
          "output_type": "execute_result",
          "data": {
            "text/plain": [
              "array([[ 79.749825],\n",
              "       [ 84.38664 ],\n",
              "       [ 89.02263 ],\n",
              "       [ 93.65732 ],\n",
              "       [ 98.292   ],\n",
              "       [102.92669 ],\n",
              "       [107.56138 ],\n",
              "       [112.196075],\n",
              "       [116.83078 ],\n",
              "       [121.46555 ]], dtype=float32)"
            ]
          },
          "metadata": {},
          "execution_count": 34
        }
      ]
    },
    {
      "cell_type": "code",
      "source": [
        "#plotting function\n",
        "def plot_preds(X_train, y_train, X_test, y_test, y_preds):\n",
        "  plt.figure(figsize=(10,7))\n",
        "  plt.scatter(X_train,y_train,c=\"blue\",label=\"training data\")\n",
        "  plt.scatter(X_test,y_test,c=\"green\",label=\"test data\")\n",
        "  plt.scatter(X_test,y_preds,c=\"red\",label=\"Predictions\")\n",
        "  plt.legend()"
      ],
      "metadata": {
        "id": "ty1NgJWR6afC"
      },
      "execution_count": null,
      "outputs": []
    },
    {
      "cell_type": "code",
      "source": [
        "plot_preds(X_train,y_train,X_test,y_test,y_preds)"
      ],
      "metadata": {
        "colab": {
          "base_uri": "https://localhost:8080/",
          "height": 428
        },
        "id": "L5yNsOnJ79nL",
        "outputId": "679933d3-6804-4307-aa29-b85af4f3b6de"
      },
      "execution_count": null,
      "outputs": [
        {
          "output_type": "display_data",
          "data": {
            "text/plain": [
              "<Figure size 720x504 with 1 Axes>"
            ],
            "image/png": "[encoded data removed]"
          },
          "metadata": {
            "needs_background": "light"
          }
        }
      ]
    },
    {
      "cell_type": "markdown",
      "source": [
        "## Evaluating our model with regression Metrics"
      ],
      "metadata": {
        "id": "zcKYj7Eu9dmt"
      }
    },
    {
      "cell_type": "code",
      "source": [
        "model.evaluate(X_test,y_test)"
      ],
      "metadata": {
        "colab": {
          "base_uri": "https://localhost:8080/"
        },
        "id": "3kwA3Ia88Ctz",
        "outputId": "c897ac0c-b5fd-4daf-bfc9-5e9ed50ca541"
      },
      "execution_count": null,
      "outputs": [
        {
          "output_type": "stream",
          "name": "stdout",
          "text": [
            "1/1 [==============================] - 0s 20ms/step - loss: 12.6089 - mae: 12.6089\n"
          ]
        },
        {
          "output_type": "execute_result",
          "data": {
            "text/plain": [
              "[12.608888626098633, 12.608888626098633]"
            ]
          },
          "metadata": {},
          "execution_count": 37
        }
      ]
    },
    {
      "cell_type": "code",
      "source": [
        "y_test"
      ],
      "metadata": {
        "colab": {
          "base_uri": "https://localhost:8080/"
        },
        "id": "8LsZWwDyAOZe",
        "outputId": "68e476ba-2c16-49cc-a737-47d489d150a5"
      },
      "execution_count": null,
      "outputs": [
        {
          "output_type": "execute_result",
          "data": {
            "text/plain": [
              "<tf.Tensor: shape=(10,), dtype=int32, numpy=array([ 70,  74,  78,  82,  86,  90,  94,  98, 102, 106], dtype=int32)>"
            ]
          },
          "metadata": {},
          "execution_count": 38
        }
      ]
    },
    {
      "cell_type": "code",
      "source": [
        "tf.reduce_mean(tf.metrics.mean_absolute_error(tf.reshape(y_test,shape=(10,1)),tf.constant(y_preds)))"
      ],
      "metadata": {
        "colab": {
          "base_uri": "https://localhost:8080/"
        },
        "id": "_mdfaFR0-s3K",
        "outputId": "e1b4b040-af62-44fc-f80b-d55efb2efd05"
      },
      "execution_count": null,
      "outputs": [
        {
          "output_type": "execute_result",
          "data": {
            "text/plain": [
              "<tf.Tensor: shape=(), dtype=float32, numpy=12.608889>"
            ]
          },
          "metadata": {},
          "execution_count": 39
        }
      ]
    },
    {
      "cell_type": "code",
      "source": [
        "tf.metrics.mean_absolute_error(y_test,tf.squeeze(y_preds))"
      ],
      "metadata": {
        "colab": {
          "base_uri": "https://localhost:8080/"
        },
        "id": "8hFgibDI_FQq",
        "outputId": "387f68f0-8da2-4a98-be66-2582d8dbbab4"
      },
      "execution_count": null,
      "outputs": [
        {
          "output_type": "execute_result",
          "data": {
            "text/plain": [
              "<tf.Tensor: shape=(), dtype=float32, numpy=12.608889>"
            ]
          },
          "metadata": {},
          "execution_count": 40
        }
      ]
    },
    {
      "cell_type": "code",
      "source": [
        "tf.metrics.mean_squared_error(y_test,tf.squeeze(y_preds))"
      ],
      "metadata": {
        "colab": {
          "base_uri": "https://localhost:8080/"
        },
        "id": "F4eQhh7sAqfH",
        "outputId": "9e555017-1bbb-41b8-e10e-bd1473d49d4d"
      },
      "execution_count": null,
      "outputs": [
        {
          "output_type": "execute_result",
          "data": {
            "text/plain": [
              "<tf.Tensor: shape=(), dtype=float32, numpy=162.31003>"
            ]
          },
          "metadata": {},
          "execution_count": 41
        }
      ]
    },
    {
      "cell_type": "code",
      "source": [
        "## Calculating by programming\n",
        "n = 10\n",
        "sum = 0\n",
        "for i in range(n):\n",
        "  sum+= abs(y_test[i] - y_preds[i])\n",
        "error = sum/n \n",
        "error "
      ],
      "metadata": {
        "colab": {
          "base_uri": "https://localhost:8080/"
        },
        "id": "v9wpTyabA0yu",
        "outputId": "a6807ed4-f62d-4757-c721-baaf7120b191"
      },
      "execution_count": null,
      "outputs": [
        {
          "output_type": "execute_result",
          "data": {
            "text/plain": [
              "<tf.Tensor: shape=(1,), dtype=float64, numpy=array([12.1])>"
            ]
          },
          "metadata": {},
          "execution_count": 42
        }
      ]
    },
    {
      "cell_type": "code",
      "source": [
        "def evaluate_metrics(y_true,y_preds):\n",
        "  mae, mse = tf.metrics.mean_absolute_error(y_test,tf.squeeze(y_preds)),tf.metrics.mean_squared_error(y_test,tf.squeeze(y_preds))\n",
        "  return mae,mse"
      ],
      "metadata": {
        "id": "v-TybIokBKeh"
      },
      "execution_count": null,
      "outputs": []
    },
    {
      "cell_type": "code",
      "source": [
        "evaluate_metrics(y_test,y_preds)"
      ],
      "metadata": {
        "colab": {
          "base_uri": "https://localhost:8080/"
        },
        "id": "FeIBKIcJDKh-",
        "outputId": "fc1538f6-f394-4316-b970-b01bdde77e6f"
      },
      "execution_count": null,
      "outputs": [
        {
          "output_type": "execute_result",
          "data": {
            "text/plain": [
              "(<tf.Tensor: shape=(), dtype=float32, numpy=12.608889>,\n",
              " <tf.Tensor: shape=(), dtype=float32, numpy=162.31003>)"
            ]
          },
          "metadata": {},
          "execution_count": 44
        }
      ]
    },
    {
      "cell_type": "markdown",
      "source": [
        "## Experimenting With Our Model\n",
        "When model tunning keep this things in mind:\n",
        "\n",
        "1. There is no perfect formula to select number of layers and number of nodes\n",
        "\n",
        "2. More number of layers does not actually means better model.\n",
        "\n",
        "3. When Selecting number of nodes start with lowest even number and then increase by doubling or tripling the initial number. like if 1st layer has 2 node then prolly use next layer with 4 node . This is not exactly a rule but a tip that i learnt while working with models.\n",
        "\n",
        "4. Under stand the activation function . it Really makes difference when you know the activation function.\n",
        "\n",
        "5. After layer tuning move to compilation tuning . Learn about losses and optimizers because if you know what they are your model tuning will be fast.\n",
        "\n",
        "6. Create a baseline model and use it to compare your tuned model"
      ],
      "metadata": {
        "id": "gmzGhSz7FdVu"
      }
    },
    {
      "cell_type": "markdown",
      "source": [
        "Let's do 3 modelling experiments\n",
        "1. `Model-1` - 1 layer, train for 100 epochs\n",
        "2. `Model-2` - 2 layers, train for 100 epochs\n",
        "3. `Model-3` - 3 layers , train for 100 epochs\n",
        "4. `Model-4` - 3 layers, changed the learning rate to 0.01, trained for 100 epochs\n",
        "5. `Model-5` - 3 layers same as model 4, trained for 500 epochs"
      ],
      "metadata": {
        "id": "_BjlosDbJvP7"
      }
    },
    {
      "cell_type": "markdown",
      "source": [
        "**Build Model 1**"
      ],
      "metadata": {
        "id": "Fvq9GTt-KWty"
      }
    },
    {
      "cell_type": "code",
      "source": [
        "tf.random.set_seed(42)"
      ],
      "metadata": {
        "id": "w6PKOkKxKPFf"
      },
      "execution_count": null,
      "outputs": []
    },
    {
      "cell_type": "code",
      "source": [
        "model_1 = tf.keras.Sequential([tf.keras.layers.Dense(1,input_shape=[1])])\n",
        "model_1.compile(loss='mae',optimizer = tf.keras.optimizers.SGD(),metrics=[\"mae\"])\n",
        "model_1.fit(X_train,y_train,epochs=100)"
      ],
      "metadata": {
        "id": "Lqw_zGpGDY8a",
        "colab": {
          "base_uri": "https://localhost:8080/"
        },
        "outputId": "bd0f8f0c-1a92-4344-fc6f-e1a2e6a3d7a4"
      },
      "execution_count": null,
      "outputs": [
        {
          "output_type": "stream",
          "name": "stdout",
          "text": [
            "Epoch 1/100\n",
            "2/2 [==============================] - 0s 8ms/step - loss: 15.9024 - mae: 15.9024\n",
            "Epoch 2/100\n",
            "2/2 [==============================] - 0s 10ms/step - loss: 11.2837 - mae: 11.2837\n",
            "Epoch 3/100\n",
            "2/2 [==============================] - 0s 6ms/step - loss: 11.1074 - mae: 11.1074\n",
            "Epoch 4/100\n",
            "2/2 [==============================] - 0s 6ms/step - loss: 9.2990 - mae: 9.2990\n",
            "Epoch 5/100\n",
            "2/2 [==============================] - 0s 6ms/step - loss: 10.1677 - mae: 10.1677\n",
            "Epoch 6/100\n",
            "2/2 [==============================] - 0s 6ms/step - loss: 9.4303 - mae: 9.4303\n",
            "Epoch 7/100\n",
            "2/2 [==============================] - 0s 5ms/step - loss: 8.5704 - mae: 8.5704\n",
            "Epoch 8/100\n",
            "2/2 [==============================] - 0s 6ms/step - loss: 9.0442 - mae: 9.0442\n",
            "Epoch 9/100\n",
            "2/2 [==============================] - 0s 6ms/step - loss: 18.7517 - mae: 18.7517\n",
            "Epoch 10/100\n",
            "2/2 [==============================] - 0s 6ms/step - loss: 10.1142 - mae: 10.1142\n",
            "Epoch 11/100\n",
            "2/2 [==============================] - 0s 5ms/step - loss: 8.3980 - mae: 8.3980\n",
            "Epoch 12/100\n",
            "2/2 [==============================] - 0s 6ms/step - loss: 10.6639 - mae: 10.6639\n",
            "Epoch 13/100\n",
            "2/2 [==============================] - 0s 5ms/step - loss: 9.7977 - mae: 9.7977\n",
            "Epoch 14/100\n",
            "2/2 [==============================] - 0s 7ms/step - loss: 16.0103 - mae: 16.0103\n",
            "Epoch 15/100\n",
            "2/2 [==============================] - 0s 6ms/step - loss: 11.4068 - mae: 11.4068\n",
            "Epoch 16/100\n",
            "2/2 [==============================] - 0s 6ms/step - loss: 8.5393 - mae: 8.5393\n",
            "Epoch 17/100\n",
            "2/2 [==============================] - 0s 5ms/step - loss: 13.6348 - mae: 13.6348\n",
            "Epoch 18/100\n",
            "2/2 [==============================] - 0s 6ms/step - loss: 11.4629 - mae: 11.4629\n",
            "Epoch 19/100\n",
            "2/2 [==============================] - 0s 5ms/step - loss: 17.9148 - mae: 17.9148\n",
            "Epoch 20/100\n",
            "2/2 [==============================] - 0s 6ms/step - loss: 15.0494 - mae: 15.0494\n",
            "Epoch 21/100\n",
            "2/2 [==============================] - 0s 5ms/step - loss: 11.0216 - mae: 11.0216\n",
            "Epoch 22/100\n",
            "2/2 [==============================] - 0s 5ms/step - loss: 8.1558 - mae: 8.1558\n",
            "Epoch 23/100\n",
            "2/2 [==============================] - 0s 6ms/step - loss: 9.5138 - mae: 9.5138\n",
            "Epoch 24/100\n",
            "2/2 [==============================] - 0s 6ms/step - loss: 7.6617 - mae: 7.6617\n",
            "Epoch 25/100\n",
            "2/2 [==============================] - 0s 6ms/step - loss: 13.1859 - mae: 13.1859\n",
            "Epoch 26/100\n",
            "2/2 [==============================] - 0s 5ms/step - loss: 16.4211 - mae: 16.4211\n",
            "Epoch 27/100\n",
            "2/2 [==============================] - 0s 6ms/step - loss: 13.1659 - mae: 13.1659\n",
            "Epoch 28/100\n",
            "2/2 [==============================] - 0s 5ms/step - loss: 14.2559 - mae: 14.2559\n",
            "Epoch 29/100\n",
            "2/2 [==============================] - 0s 5ms/step - loss: 10.0670 - mae: 10.0670\n",
            "Epoch 30/100\n",
            "2/2 [==============================] - 0s 6ms/step - loss: 16.3409 - mae: 16.3409\n",
            "Epoch 31/100\n",
            "2/2 [==============================] - 0s 6ms/step - loss: 23.6444 - mae: 23.6444\n",
            "Epoch 32/100\n",
            "2/2 [==============================] - 0s 6ms/step - loss: 7.6215 - mae: 7.6215\n",
            "Epoch 33/100\n",
            "2/2 [==============================] - 0s 6ms/step - loss: 9.3221 - mae: 9.3221\n",
            "Epoch 34/100\n",
            "2/2 [==============================] - 0s 6ms/step - loss: 13.7313 - mae: 13.7313\n",
            "Epoch 35/100\n",
            "2/2 [==============================] - 0s 5ms/step - loss: 11.1276 - mae: 11.1276\n",
            "Epoch 36/100\n",
            "2/2 [==============================] - 0s 6ms/step - loss: 13.3222 - mae: 13.3222\n",
            "Epoch 37/100\n",
            "2/2 [==============================] - 0s 6ms/step - loss: 9.4763 - mae: 9.4763\n",
            "Epoch 38/100\n",
            "2/2 [==============================] - 0s 7ms/step - loss: 10.1381 - mae: 10.1381\n",
            "Epoch 39/100\n",
            "2/2 [==============================] - 0s 8ms/step - loss: 10.1793 - mae: 10.1793\n",
            "Epoch 40/100\n",
            "2/2 [==============================] - 0s 8ms/step - loss: 10.9137 - mae: 10.9137\n",
            "Epoch 41/100\n",
            "2/2 [==============================] - 0s 6ms/step - loss: 7.9063 - mae: 7.9063\n",
            "Epoch 42/100\n",
            "2/2 [==============================] - 0s 6ms/step - loss: 10.0914 - mae: 10.0914\n",
            "Epoch 43/100\n",
            "2/2 [==============================] - 0s 6ms/step - loss: 8.7006 - mae: 8.7006\n",
            "Epoch 44/100\n",
            "2/2 [==============================] - 0s 6ms/step - loss: 12.2047 - mae: 12.2047\n",
            "Epoch 45/100\n",
            "2/2 [==============================] - 0s 6ms/step - loss: 13.7970 - mae: 13.7970\n",
            "Epoch 46/100\n",
            "2/2 [==============================] - 0s 5ms/step - loss: 8.4687 - mae: 8.4687\n",
            "Epoch 47/100\n",
            "2/2 [==============================] - 0s 6ms/step - loss: 9.1330 - mae: 9.1330\n",
            "Epoch 48/100\n",
            "2/2 [==============================] - 0s 6ms/step - loss: 10.6190 - mae: 10.6190\n",
            "Epoch 49/100\n",
            "2/2 [==============================] - 0s 6ms/step - loss: 7.7503 - mae: 7.7503\n",
            "Epoch 50/100\n",
            "2/2 [==============================] - 0s 5ms/step - loss: 9.5407 - mae: 9.5407\n",
            "Epoch 51/100\n",
            "2/2 [==============================] - 0s 5ms/step - loss: 9.1584 - mae: 9.1584\n",
            "Epoch 52/100\n",
            "2/2 [==============================] - 0s 5ms/step - loss: 16.3630 - mae: 16.3630\n",
            "Epoch 53/100\n",
            "2/2 [==============================] - 0s 6ms/step - loss: 14.1299 - mae: 14.1299\n",
            "Epoch 54/100\n",
            "2/2 [==============================] - 0s 6ms/step - loss: 21.1247 - mae: 21.1247\n",
            "Epoch 55/100\n",
            "2/2 [==============================] - 0s 6ms/step - loss: 16.3961 - mae: 16.3961\n",
            "Epoch 56/100\n",
            "2/2 [==============================] - 0s 7ms/step - loss: 9.9806 - mae: 9.9806\n",
            "Epoch 57/100\n",
            "2/2 [==============================] - 0s 6ms/step - loss: 9.9606 - mae: 9.9606\n",
            "Epoch 58/100\n",
            "2/2 [==============================] - 0s 6ms/step - loss: 9.2209 - mae: 9.2209\n",
            "Epoch 59/100\n",
            "2/2 [==============================] - 0s 6ms/step - loss: 8.4239 - mae: 8.4239\n",
            "Epoch 60/100\n",
            "2/2 [==============================] - 0s 6ms/step - loss: 9.4869 - mae: 9.4869\n",
            "Epoch 61/100\n",
            "2/2 [==============================] - 0s 6ms/step - loss: 11.4355 - mae: 11.4355\n",
            "Epoch 62/100\n",
            "2/2 [==============================] - 0s 6ms/step - loss: 11.6887 - mae: 11.6887\n",
            "Epoch 63/100\n",
            "2/2 [==============================] - 0s 6ms/step - loss: 7.0838 - mae: 7.0838\n",
            "Epoch 64/100\n",
            "2/2 [==============================] - 0s 12ms/step - loss: 16.9675 - mae: 16.9675\n",
            "Epoch 65/100\n",
            "2/2 [==============================] - 0s 6ms/step - loss: 12.4599 - mae: 12.4599\n",
            "Epoch 66/100\n",
            "2/2 [==============================] - 0s 6ms/step - loss: 13.0184 - mae: 13.0184\n",
            "Epoch 67/100\n",
            "2/2 [==============================] - 0s 6ms/step - loss: 8.0600 - mae: 8.0600\n",
            "Epoch 68/100\n",
            "2/2 [==============================] - 0s 6ms/step - loss: 10.1888 - mae: 10.1888\n",
            "Epoch 69/100\n",
            "2/2 [==============================] - 0s 6ms/step - loss: 12.3633 - mae: 12.3633\n",
            "Epoch 70/100\n",
            "2/2 [==============================] - 0s 6ms/step - loss: 9.0516 - mae: 9.0516\n",
            "Epoch 71/100\n",
            "2/2 [==============================] - 0s 6ms/step - loss: 10.0378 - mae: 10.0378\n",
            "Epoch 72/100\n",
            "2/2 [==============================] - 0s 6ms/step - loss: 10.0516 - mae: 10.0516\n",
            "Epoch 73/100\n",
            "2/2 [==============================] - 0s 6ms/step - loss: 12.6151 - mae: 12.6151\n",
            "Epoch 74/100\n",
            "2/2 [==============================] - 0s 6ms/step - loss: 10.3819 - mae: 10.3819\n",
            "Epoch 75/100\n",
            "2/2 [==============================] - 0s 6ms/step - loss: 9.7229 - mae: 9.7229\n",
            "Epoch 76/100\n",
            "2/2 [==============================] - 0s 5ms/step - loss: 11.2252 - mae: 11.2252\n",
            "Epoch 77/100\n",
            "2/2 [==============================] - 0s 6ms/step - loss: 8.3642 - mae: 8.3642\n",
            "Epoch 78/100\n",
            "2/2 [==============================] - 0s 6ms/step - loss: 9.1274 - mae: 9.1274\n",
            "Epoch 79/100\n",
            "2/2 [==============================] - 0s 6ms/step - loss: 19.5039 - mae: 19.5039\n",
            "Epoch 80/100\n",
            "2/2 [==============================] - 0s 6ms/step - loss: 14.8945 - mae: 14.8945\n",
            "Epoch 81/100\n",
            "2/2 [==============================] - 0s 6ms/step - loss: 9.0034 - mae: 9.0034\n",
            "Epoch 82/100\n",
            "2/2 [==============================] - 0s 6ms/step - loss: 13.0206 - mae: 13.0206\n",
            "Epoch 83/100\n",
            "2/2 [==============================] - 0s 6ms/step - loss: 7.9299 - mae: 7.9299\n",
            "Epoch 84/100\n",
            "2/2 [==============================] - 0s 6ms/step - loss: 7.6872 - mae: 7.6872\n",
            "Epoch 85/100\n",
            "2/2 [==============================] - 0s 7ms/step - loss: 10.0328 - mae: 10.0328\n",
            "Epoch 86/100\n",
            "2/2 [==============================] - 0s 6ms/step - loss: 9.2433 - mae: 9.2433\n",
            "Epoch 87/100\n",
            "2/2 [==============================] - 0s 12ms/step - loss: 12.0209 - mae: 12.0209\n",
            "Epoch 88/100\n",
            "2/2 [==============================] - 0s 6ms/step - loss: 10.6389 - mae: 10.6389\n",
            "Epoch 89/100\n",
            "2/2 [==============================] - 0s 6ms/step - loss: 7.2667 - mae: 7.2667\n",
            "Epoch 90/100\n",
            "2/2 [==============================] - 0s 5ms/step - loss: 12.7786 - mae: 12.7786\n",
            "Epoch 91/100\n",
            "2/2 [==============================] - 0s 6ms/step - loss: 7.3481 - mae: 7.3481\n",
            "Epoch 92/100\n",
            "2/2 [==============================] - 0s 5ms/step - loss: 7.7175 - mae: 7.7175\n",
            "Epoch 93/100\n",
            "2/2 [==============================] - 0s 5ms/step - loss: 7.1263 - mae: 7.1263\n",
            "Epoch 94/100\n",
            "2/2 [==============================] - 0s 5ms/step - loss: 12.6190 - mae: 12.6190\n",
            "Epoch 95/100\n",
            "2/2 [==============================] - 0s 5ms/step - loss: 10.0912 - mae: 10.0912\n",
            "Epoch 96/100\n",
            "2/2 [==============================] - 0s 5ms/step - loss: 9.3558 - mae: 9.3558\n",
            "Epoch 97/100\n",
            "2/2 [==============================] - 0s 6ms/step - loss: 12.6834 - mae: 12.6834\n",
            "Epoch 98/100\n",
            "2/2 [==============================] - 0s 5ms/step - loss: 8.6762 - mae: 8.6762\n",
            "Epoch 99/100\n",
            "2/2 [==============================] - 0s 5ms/step - loss: 9.4693 - mae: 9.4693\n",
            "Epoch 100/100\n",
            "2/2 [==============================] - 0s 6ms/step - loss: 8.7067 - mae: 8.7067\n"
          ]
        },
        {
          "output_type": "execute_result",
          "data": {
            "text/plain": [
              "<keras.callbacks.History at 0x7f13eb652750>"
            ]
          },
          "metadata": {},
          "execution_count": 46
        }
      ]
    },
    {
      "cell_type": "code",
      "source": [
        "model_1.summary()"
      ],
      "metadata": {
        "colab": {
          "base_uri": "https://localhost:8080/"
        },
        "id": "Nj0GyD0ZLApt",
        "outputId": "f7368fc7-aaa8-442e-9e26-5b1538a7ebe2"
      },
      "execution_count": null,
      "outputs": [
        {
          "output_type": "stream",
          "name": "stdout",
          "text": [
            "Model: \"sequential_3\"\n",
            "_________________________________________________________________\n",
            " Layer (type)                Output Shape              Param #   \n",
            "=================================================================\n",
            " dense_8 (Dense)             (None, 1)                 2         \n",
            "                                                                 \n",
            "=================================================================\n",
            "Total params: 2\n",
            "Trainable params: 2\n",
            "Non-trainable params: 0\n",
            "_________________________________________________________________\n"
          ]
        }
      ]
    },
    {
      "cell_type": "code",
      "source": [
        "model_1_preds = model_1.predict(X_test) \n",
        "mae_1 , mse_1 = evaluate_metrics(y_test,model_1_preds)"
      ],
      "metadata": {
        "id": "AI0Q1__yhOXb"
      },
      "execution_count": null,
      "outputs": []
    },
    {
      "cell_type": "markdown",
      "source": [
        "**Build Model 2**"
      ],
      "metadata": {
        "id": "cU8e__wuLaAl"
      }
    },
    {
      "cell_type": "code",
      "source": [
        "tf.random.set_seed(42)\n",
        "model_2 = tf.keras.Sequential([\n",
        "                                tf.keras.layers.Dense(100,input_shape=[1],activation=\"relu\"),\n",
        "                                tf.keras.layers.Dense(1)])\n",
        "model_2.compile(loss=tf.keras.losses.mae,optimizer=tf.keras.optimizers.Adam(),metrics=[\"mae\"])\n",
        "model_2.fit(X_train,y_train,epochs=100)"
      ],
      "metadata": {
        "colab": {
          "base_uri": "https://localhost:8080/"
        },
        "id": "zjCLhhceLVYI",
        "outputId": "febc334a-f738-401f-d8b0-ffe964d73255"
      },
      "execution_count": null,
      "outputs": [
        {
          "output_type": "stream",
          "name": "stdout",
          "text": [
            "Epoch 1/100\n",
            "2/2 [==============================] - 0s 10ms/step - loss: 41.2123 - mae: 41.2123\n",
            "Epoch 2/100\n",
            "2/2 [==============================] - 0s 6ms/step - loss: 40.1715 - mae: 40.1715\n",
            "Epoch 3/100\n",
            "2/2 [==============================] - 0s 6ms/step - loss: 39.1841 - mae: 39.1841\n",
            "Epoch 4/100\n",
            "2/2 [==============================] - 0s 6ms/step - loss: 38.1776 - mae: 38.1776\n",
            "Epoch 5/100\n",
            "2/2 [==============================] - 0s 6ms/step - loss: 37.1992 - mae: 37.1992\n",
            "Epoch 6/100\n",
            "2/2 [==============================] - 0s 8ms/step - loss: 36.2251 - mae: 36.2251\n",
            "Epoch 7/100\n",
            "2/2 [==============================] - 0s 6ms/step - loss: 35.2339 - mae: 35.2339\n",
            "Epoch 8/100\n",
            "2/2 [==============================] - 0s 7ms/step - loss: 34.2045 - mae: 34.2045\n",
            "Epoch 9/100\n",
            "2/2 [==============================] - 0s 6ms/step - loss: 33.2354 - mae: 33.2354\n",
            "Epoch 10/100\n",
            "2/2 [==============================] - 0s 6ms/step - loss: 32.2696 - mae: 32.2696\n",
            "Epoch 11/100\n",
            "2/2 [==============================] - 0s 6ms/step - loss: 31.2365 - mae: 31.2365\n",
            "Epoch 12/100\n",
            "2/2 [==============================] - 0s 6ms/step - loss: 30.2644 - mae: 30.2644\n",
            "Epoch 13/100\n",
            "2/2 [==============================] - 0s 6ms/step - loss: 29.2510 - mae: 29.2510\n",
            "Epoch 14/100\n",
            "2/2 [==============================] - 0s 6ms/step - loss: 28.2731 - mae: 28.2731\n",
            "Epoch 15/100\n",
            "2/2 [==============================] - 0s 6ms/step - loss: 27.2883 - mae: 27.2883\n",
            "Epoch 16/100\n",
            "2/2 [==============================] - 0s 6ms/step - loss: 26.2589 - mae: 26.2589\n",
            "Epoch 17/100\n",
            "2/2 [==============================] - 0s 6ms/step - loss: 25.2392 - mae: 25.2392\n",
            "Epoch 18/100\n",
            "2/2 [==============================] - 0s 6ms/step - loss: 24.2482 - mae: 24.2482\n",
            "Epoch 19/100\n",
            "2/2 [==============================] - 0s 6ms/step - loss: 23.2551 - mae: 23.2551\n",
            "Epoch 20/100\n",
            "2/2 [==============================] - 0s 5ms/step - loss: 22.2166 - mae: 22.2166\n",
            "Epoch 21/100\n",
            "2/2 [==============================] - 0s 6ms/step - loss: 21.2211 - mae: 21.2211\n",
            "Epoch 22/100\n",
            "2/2 [==============================] - 0s 6ms/step - loss: 20.2459 - mae: 20.2459\n",
            "Epoch 23/100\n",
            "2/2 [==============================] - 0s 6ms/step - loss: 19.2580 - mae: 19.2580\n",
            "Epoch 24/100\n",
            "2/2 [==============================] - 0s 6ms/step - loss: 18.2238 - mae: 18.2238\n",
            "Epoch 25/100\n",
            "2/2 [==============================] - 0s 6ms/step - loss: 17.2020 - mae: 17.2020\n",
            "Epoch 26/100\n",
            "2/2 [==============================] - 0s 6ms/step - loss: 16.2104 - mae: 16.2104\n",
            "Epoch 27/100\n",
            "2/2 [==============================] - 0s 6ms/step - loss: 15.1844 - mae: 15.1844\n",
            "Epoch 28/100\n",
            "2/2 [==============================] - 0s 6ms/step - loss: 14.1965 - mae: 14.1965\n",
            "Epoch 29/100\n",
            "2/2 [==============================] - 0s 5ms/step - loss: 13.0848 - mae: 13.0848\n",
            "Epoch 30/100\n",
            "2/2 [==============================] - 0s 8ms/step - loss: 12.0422 - mae: 12.0422\n",
            "Epoch 31/100\n",
            "2/2 [==============================] - 0s 6ms/step - loss: 11.1010 - mae: 11.1010\n",
            "Epoch 32/100\n",
            "2/2 [==============================] - 0s 6ms/step - loss: 10.0713 - mae: 10.0713\n",
            "Epoch 33/100\n",
            "2/2 [==============================] - 0s 6ms/step - loss: 9.0293 - mae: 9.0293\n",
            "Epoch 34/100\n",
            "2/2 [==============================] - 0s 6ms/step - loss: 8.1308 - mae: 8.1308\n",
            "Epoch 35/100\n",
            "2/2 [==============================] - 0s 6ms/step - loss: 7.1700 - mae: 7.1700\n",
            "Epoch 36/100\n",
            "2/2 [==============================] - 0s 8ms/step - loss: 6.3132 - mae: 6.3132\n",
            "Epoch 37/100\n",
            "2/2 [==============================] - 0s 6ms/step - loss: 5.4820 - mae: 5.4820\n",
            "Epoch 38/100\n",
            "2/2 [==============================] - 0s 6ms/step - loss: 4.7998 - mae: 4.7998\n",
            "Epoch 39/100\n",
            "2/2 [==============================] - 0s 7ms/step - loss: 4.4021 - mae: 4.4021\n",
            "Epoch 40/100\n",
            "2/2 [==============================] - 0s 7ms/step - loss: 4.1783 - mae: 4.1783\n",
            "Epoch 41/100\n",
            "2/2 [==============================] - 0s 7ms/step - loss: 4.2362 - mae: 4.2362\n",
            "Epoch 42/100\n",
            "2/2 [==============================] - 0s 6ms/step - loss: 4.3232 - mae: 4.3232\n",
            "Epoch 43/100\n",
            "2/2 [==============================] - 0s 6ms/step - loss: 4.4835 - mae: 4.4835\n",
            "Epoch 44/100\n",
            "2/2 [==============================] - 0s 6ms/step - loss: 4.6262 - mae: 4.6262\n",
            "Epoch 45/100\n",
            "2/2 [==============================] - 0s 6ms/step - loss: 4.6388 - mae: 4.6388\n",
            "Epoch 46/100\n",
            "2/2 [==============================] - 0s 6ms/step - loss: 4.5383 - mae: 4.5383\n",
            "Epoch 47/100\n",
            "2/2 [==============================] - 0s 6ms/step - loss: 4.3889 - mae: 4.3889\n",
            "Epoch 48/100\n",
            "2/2 [==============================] - 0s 6ms/step - loss: 4.2877 - mae: 4.2877\n",
            "Epoch 49/100\n",
            "2/2 [==============================] - 0s 11ms/step - loss: 4.2397 - mae: 4.2397\n",
            "Epoch 50/100\n",
            "2/2 [==============================] - 0s 9ms/step - loss: 4.2091 - mae: 4.2091\n",
            "Epoch 51/100\n",
            "2/2 [==============================] - 0s 6ms/step - loss: 4.2456 - mae: 4.2456\n",
            "Epoch 52/100\n",
            "2/2 [==============================] - 0s 6ms/step - loss: 4.2508 - mae: 4.2508\n",
            "Epoch 53/100\n",
            "2/2 [==============================] - 0s 6ms/step - loss: 4.2788 - mae: 4.2788\n",
            "Epoch 54/100\n",
            "2/2 [==============================] - 0s 6ms/step - loss: 4.2671 - mae: 4.2671\n",
            "Epoch 55/100\n",
            "2/2 [==============================] - 0s 6ms/step - loss: 4.2389 - mae: 4.2389\n",
            "Epoch 56/100\n",
            "2/2 [==============================] - 0s 6ms/step - loss: 4.1887 - mae: 4.1887\n",
            "Epoch 57/100\n",
            "2/2 [==============================] - 0s 7ms/step - loss: 4.1478 - mae: 4.1478\n",
            "Epoch 58/100\n",
            "2/2 [==============================] - 0s 6ms/step - loss: 4.1070 - mae: 4.1070\n",
            "Epoch 59/100\n",
            "2/2 [==============================] - 0s 6ms/step - loss: 4.1059 - mae: 4.1059\n",
            "Epoch 60/100\n",
            "2/2 [==============================] - 0s 6ms/step - loss: 4.0751 - mae: 4.0751\n",
            "Epoch 61/100\n",
            "2/2 [==============================] - 0s 6ms/step - loss: 4.0815 - mae: 4.0815\n",
            "Epoch 62/100\n",
            "2/2 [==============================] - 0s 6ms/step - loss: 4.0771 - mae: 4.0771\n",
            "Epoch 63/100\n",
            "2/2 [==============================] - 0s 7ms/step - loss: 4.0706 - mae: 4.0706\n",
            "Epoch 64/100\n",
            "2/2 [==============================] - 0s 6ms/step - loss: 4.0656 - mae: 4.0656\n",
            "Epoch 65/100\n",
            "2/2 [==============================] - 0s 7ms/step - loss: 4.0546 - mae: 4.0546\n",
            "Epoch 66/100\n",
            "2/2 [==============================] - 0s 6ms/step - loss: 4.0495 - mae: 4.0495\n",
            "Epoch 67/100\n",
            "2/2 [==============================] - 0s 6ms/step - loss: 4.0467 - mae: 4.0467\n",
            "Epoch 68/100\n",
            "2/2 [==============================] - 0s 6ms/step - loss: 4.0426 - mae: 4.0426\n",
            "Epoch 69/100\n",
            "2/2 [==============================] - 0s 7ms/step - loss: 4.0372 - mae: 4.0372\n",
            "Epoch 70/100\n",
            "2/2 [==============================] - 0s 6ms/step - loss: 4.0400 - mae: 4.0400\n",
            "Epoch 71/100\n",
            "2/2 [==============================] - 0s 6ms/step - loss: 4.0352 - mae: 4.0352\n",
            "Epoch 72/100\n",
            "2/2 [==============================] - 0s 8ms/step - loss: 4.0306 - mae: 4.0306\n",
            "Epoch 73/100\n",
            "2/2 [==============================] - 0s 7ms/step - loss: 4.0182 - mae: 4.0182\n",
            "Epoch 74/100\n",
            "2/2 [==============================] - 0s 6ms/step - loss: 4.0011 - mae: 4.0011\n",
            "Epoch 75/100\n",
            "2/2 [==============================] - 0s 6ms/step - loss: 3.9950 - mae: 3.9950\n",
            "Epoch 76/100\n",
            "2/2 [==============================] - 0s 6ms/step - loss: 4.0049 - mae: 4.0049\n",
            "Epoch 77/100\n",
            "2/2 [==============================] - 0s 6ms/step - loss: 4.0194 - mae: 4.0194\n",
            "Epoch 78/100\n",
            "2/2 [==============================] - 0s 6ms/step - loss: 4.0619 - mae: 4.0619\n",
            "Epoch 79/100\n",
            "2/2 [==============================] - 0s 6ms/step - loss: 4.0800 - mae: 4.0800\n",
            "Epoch 80/100\n",
            "2/2 [==============================] - 0s 7ms/step - loss: 4.0860 - mae: 4.0860\n",
            "Epoch 81/100\n",
            "2/2 [==============================] - 0s 6ms/step - loss: 4.0785 - mae: 4.0785\n",
            "Epoch 82/100\n",
            "2/2 [==============================] - 0s 6ms/step - loss: 4.0406 - mae: 4.0406\n",
            "Epoch 83/100\n",
            "2/2 [==============================] - 0s 6ms/step - loss: 4.0017 - mae: 4.0017\n",
            "Epoch 84/100\n",
            "2/2 [==============================] - 0s 8ms/step - loss: 3.9797 - mae: 3.9797\n",
            "Epoch 85/100\n",
            "2/2 [==============================] - 0s 7ms/step - loss: 3.9456 - mae: 3.9456\n",
            "Epoch 86/100\n",
            "2/2 [==============================] - 0s 7ms/step - loss: 3.9394 - mae: 3.9394\n",
            "Epoch 87/100\n",
            "2/2 [==============================] - 0s 6ms/step - loss: 3.9420 - mae: 3.9420\n",
            "Epoch 88/100\n",
            "2/2 [==============================] - 0s 5ms/step - loss: 3.9582 - mae: 3.9582\n",
            "Epoch 89/100\n",
            "2/2 [==============================] - 0s 7ms/step - loss: 4.0037 - mae: 4.0037\n",
            "Epoch 90/100\n",
            "2/2 [==============================] - 0s 6ms/step - loss: 4.0665 - mae: 4.0665\n",
            "Epoch 91/100\n",
            "2/2 [==============================] - 0s 6ms/step - loss: 4.0693 - mae: 4.0693\n",
            "Epoch 92/100\n",
            "2/2 [==============================] - 0s 6ms/step - loss: 4.0342 - mae: 4.0342\n",
            "Epoch 93/100\n",
            "2/2 [==============================] - 0s 7ms/step - loss: 3.9790 - mae: 3.9790\n",
            "Epoch 94/100\n",
            "2/2 [==============================] - 0s 7ms/step - loss: 3.9398 - mae: 3.9398\n",
            "Epoch 95/100\n",
            "2/2 [==============================] - 0s 7ms/step - loss: 3.9063 - mae: 3.9063\n",
            "Epoch 96/100\n",
            "2/2 [==============================] - 0s 7ms/step - loss: 3.9184 - mae: 3.9184\n",
            "Epoch 97/100\n",
            "2/2 [==============================] - 0s 7ms/step - loss: 3.9105 - mae: 3.9105\n",
            "Epoch 98/100\n",
            "2/2 [==============================] - 0s 7ms/step - loss: 3.9216 - mae: 3.9216\n",
            "Epoch 99/100\n",
            "2/2 [==============================] - 0s 6ms/step - loss: 3.9206 - mae: 3.9206\n",
            "Epoch 100/100\n",
            "2/2 [==============================] - 0s 6ms/step - loss: 3.9115 - mae: 3.9115\n"
          ]
        },
        {
          "output_type": "execute_result",
          "data": {
            "text/plain": [
              "<keras.callbacks.History at 0x7f13ebe1bc50>"
            ]
          },
          "metadata": {},
          "execution_count": 49
        }
      ]
    },
    {
      "cell_type": "code",
      "source": [
        "model_2.summary()"
      ],
      "metadata": {
        "colab": {
          "base_uri": "https://localhost:8080/"
        },
        "id": "_d0-JKoaMk5f",
        "outputId": "3afcd3e8-eb6f-4de3-e216-79b8f79f23ab"
      },
      "execution_count": null,
      "outputs": [
        {
          "output_type": "stream",
          "name": "stdout",
          "text": [
            "Model: \"sequential_4\"\n",
            "_________________________________________________________________\n",
            " Layer (type)                Output Shape              Param #   \n",
            "=================================================================\n",
            " dense_9 (Dense)             (None, 100)               200       \n",
            "                                                                 \n",
            " dense_10 (Dense)            (None, 1)                 101       \n",
            "                                                                 \n",
            "=================================================================\n",
            "Total params: 301\n",
            "Trainable params: 301\n",
            "Non-trainable params: 0\n",
            "_________________________________________________________________\n"
          ]
        }
      ]
    },
    {
      "cell_type": "code",
      "source": [
        "plot_model(model_2,show_shapes=True)"
      ],
      "metadata": {
        "colab": {
          "base_uri": "https://localhost:8080/",
          "height": 312
        },
        "id": "FrsPCJjRMuPo",
        "outputId": "66b40bbf-e2dd-40cb-9be9-eff820f2757b"
      },
      "execution_count": null,
      "outputs": [
        {
          "output_type": "execute_result",
          "data": {
            "image/png": "[encoded data removed]",
            "text/plain": [
              "<IPython.core.display.Image object>"
            ]
          },
          "metadata": {},
          "execution_count": 51
        }
      ]
    },
    {
      "cell_type": "code",
      "source": [
        "y_preds = model_2.predict(X_test)\n",
        "mae_2,mse_2 = evaluate_metrics(y_test,y_preds)\n",
        "plot_preds(X_train,y_train,X_test,y_test,y_preds)"
      ],
      "metadata": {
        "colab": {
          "base_uri": "https://localhost:8080/",
          "height": 465
        },
        "id": "gjxPnKUrPrgg",
        "outputId": "6a17234d-637a-415c-8038-7a523fd782e7"
      },
      "execution_count": null,
      "outputs": [
        {
          "output_type": "stream",
          "name": "stderr",
          "text": [
            "WARNING:tensorflow:5 out of the last 6 calls to <function Model.make_predict_function.<locals>.predict_function at 0x7f13ebd137a0> triggered tf.function retracing. Tracing is expensive and the excessive number of tracings could be due to (1) creating @tf.function repeatedly in a loop, (2) passing tensors with different shapes, (3) passing Python objects instead of tensors. For (1), please define your @tf.function outside of the loop. For (2), @tf.function has experimental_relax_shapes=True option that relaxes argument shapes that can avoid unnecessary retracing. For (3), please refer to https://www.tensorflow.org/guide/function#controlling_retracing and https://www.tensorflow.org/api_docs/python/tf/function for  more details.\n"
          ]
        },
        {
          "output_type": "display_data",
          "data": {
            "text/plain": [
              "<Figure size 720x504 with 1 Axes>"
            ],
            "image/png": "[encoded data removed]"
          },
          "metadata": {
            "needs_background": "light"
          }
        }
      ]
    },
    {
      "cell_type": "markdown",
      "source": [
        "**Build Model 3**"
      ],
      "metadata": {
        "id": "SMA4O7CnMZ-Q"
      }
    },
    {
      "cell_type": "code",
      "source": [
        "tf.random.set_seed(42)\n",
        "model_3 = tf.keras.Sequential([\n",
        "                                tf.keras.layers.Dense(100,input_shape=[1],activation='relu'),\n",
        "                                tf.keras.layers.Dense(100,input_shape=[1],activation='relu'),\n",
        "                               tf.keras.layers.Dense(1)\n",
        "])\n",
        "\n",
        "model_3.compile(loss=tf.keras.losses.mae,optimizer=tf.keras.optimizers.Adam(),metrics=[\"mae\"])\n",
        "model_3.fit(X_train,y_train,epochs=100)"
      ],
      "metadata": {
        "colab": {
          "base_uri": "https://localhost:8080/"
        },
        "id": "6NnMDrjhMVAB",
        "outputId": "4eb0a81d-acb2-4a62-d6d4-5242cde7e4a9"
      },
      "execution_count": null,
      "outputs": [
        {
          "output_type": "stream",
          "name": "stdout",
          "text": [
            "Epoch 1/100\n",
            "2/2 [==============================] - 0s 8ms/step - loss: 41.6971 - mae: 41.6971\n",
            "Epoch 2/100\n",
            "2/2 [==============================] - 0s 6ms/step - loss: 38.0372 - mae: 38.0372\n",
            "Epoch 3/100\n",
            "2/2 [==============================] - 0s 7ms/step - loss: 34.6713 - mae: 34.6713\n",
            "Epoch 4/100\n",
            "2/2 [==============================] - 0s 6ms/step - loss: 31.4066 - mae: 31.4066\n",
            "Epoch 5/100\n",
            "2/2 [==============================] - 0s 6ms/step - loss: 28.3796 - mae: 28.3796\n",
            "Epoch 6/100\n",
            "2/2 [==============================] - 0s 6ms/step - loss: 25.5006 - mae: 25.5006\n",
            "Epoch 7/100\n",
            "2/2 [==============================] - 0s 6ms/step - loss: 22.6733 - mae: 22.6733\n",
            "Epoch 8/100\n",
            "2/2 [==============================] - 0s 6ms/step - loss: 19.8073 - mae: 19.8073\n",
            "Epoch 9/100\n",
            "2/2 [==============================] - 0s 6ms/step - loss: 17.1294 - mae: 17.1294\n",
            "Epoch 10/100\n",
            "2/2 [==============================] - 0s 6ms/step - loss: 14.5737 - mae: 14.5737\n",
            "Epoch 11/100\n",
            "2/2 [==============================] - 0s 7ms/step - loss: 11.8730 - mae: 11.8730\n",
            "Epoch 12/100\n",
            "2/2 [==============================] - 0s 6ms/step - loss: 9.3195 - mae: 9.3195\n",
            "Epoch 13/100\n",
            "2/2 [==============================] - 0s 6ms/step - loss: 7.1794 - mae: 7.1794\n",
            "Epoch 14/100\n",
            "2/2 [==============================] - 0s 6ms/step - loss: 6.4142 - mae: 6.4142\n",
            "Epoch 15/100\n",
            "2/2 [==============================] - 0s 6ms/step - loss: 6.8361 - mae: 6.8361\n",
            "Epoch 16/100\n",
            "2/2 [==============================] - 0s 8ms/step - loss: 6.5558 - mae: 6.5558\n",
            "Epoch 17/100\n",
            "2/2 [==============================] - 0s 6ms/step - loss: 6.1779 - mae: 6.1779\n",
            "Epoch 18/100\n",
            "2/2 [==============================] - 0s 6ms/step - loss: 5.3557 - mae: 5.3557\n",
            "Epoch 19/100\n",
            "2/2 [==============================] - 0s 7ms/step - loss: 4.6575 - mae: 4.6575\n",
            "Epoch 20/100\n",
            "2/2 [==============================] - 0s 5ms/step - loss: 4.7061 - mae: 4.7061\n",
            "Epoch 21/100\n",
            "2/2 [==============================] - 0s 6ms/step - loss: 4.9440 - mae: 4.9440\n",
            "Epoch 22/100\n",
            "2/2 [==============================] - 0s 6ms/step - loss: 4.9827 - mae: 4.9827\n",
            "Epoch 23/100\n",
            "2/2 [==============================] - 0s 6ms/step - loss: 4.8683 - mae: 4.8683\n",
            "Epoch 24/100\n",
            "2/2 [==============================] - 0s 6ms/step - loss: 4.6007 - mae: 4.6007\n",
            "Epoch 25/100\n",
            "2/2 [==============================] - 0s 6ms/step - loss: 4.3445 - mae: 4.3445\n",
            "Epoch 26/100\n",
            "2/2 [==============================] - 0s 7ms/step - loss: 4.1228 - mae: 4.1228\n",
            "Epoch 27/100\n",
            "2/2 [==============================] - 0s 8ms/step - loss: 4.0900 - mae: 4.0900\n",
            "Epoch 28/100\n",
            "2/2 [==============================] - 0s 12ms/step - loss: 4.2706 - mae: 4.2706\n",
            "Epoch 29/100\n",
            "2/2 [==============================] - 0s 5ms/step - loss: 4.3278 - mae: 4.3278\n",
            "Epoch 30/100\n",
            "2/2 [==============================] - 0s 8ms/step - loss: 4.2090 - mae: 4.2090\n",
            "Epoch 31/100\n",
            "2/2 [==============================] - 0s 4ms/step - loss: 4.0943 - mae: 4.0943\n",
            "Epoch 32/100\n",
            "2/2 [==============================] - 0s 7ms/step - loss: 4.0510 - mae: 4.0510\n",
            "Epoch 33/100\n",
            "2/2 [==============================] - 0s 6ms/step - loss: 4.1044 - mae: 4.1044\n",
            "Epoch 34/100\n",
            "2/2 [==============================] - 0s 6ms/step - loss: 4.1111 - mae: 4.1111\n",
            "Epoch 35/100\n",
            "2/2 [==============================] - 0s 6ms/step - loss: 4.1089 - mae: 4.1089\n",
            "Epoch 36/100\n",
            "2/2 [==============================] - 0s 9ms/step - loss: 4.1233 - mae: 4.1233\n",
            "Epoch 37/100\n",
            "2/2 [==============================] - 0s 6ms/step - loss: 4.1116 - mae: 4.1116\n",
            "Epoch 38/100\n",
            "2/2 [==============================] - 0s 6ms/step - loss: 4.0710 - mae: 4.0710\n",
            "Epoch 39/100\n",
            "2/2 [==============================] - 0s 6ms/step - loss: 4.0384 - mae: 4.0384\n",
            "Epoch 40/100\n",
            "2/2 [==============================] - 0s 7ms/step - loss: 4.0105 - mae: 4.0105\n",
            "Epoch 41/100\n",
            "2/2 [==============================] - 0s 6ms/step - loss: 4.0030 - mae: 4.0030\n",
            "Epoch 42/100\n",
            "2/2 [==============================] - 0s 6ms/step - loss: 3.9811 - mae: 3.9811\n",
            "Epoch 43/100\n",
            "2/2 [==============================] - 0s 6ms/step - loss: 3.9846 - mae: 3.9846\n",
            "Epoch 44/100\n",
            "2/2 [==============================] - 0s 6ms/step - loss: 3.9816 - mae: 3.9816\n",
            "Epoch 45/100\n",
            "2/2 [==============================] - 0s 6ms/step - loss: 3.9709 - mae: 3.9709\n",
            "Epoch 46/100\n",
            "2/2 [==============================] - 0s 6ms/step - loss: 3.9625 - mae: 3.9625\n",
            "Epoch 47/100\n",
            "2/2 [==============================] - 0s 6ms/step - loss: 3.9451 - mae: 3.9451\n",
            "Epoch 48/100\n",
            "2/2 [==============================] - 0s 6ms/step - loss: 3.9648 - mae: 3.9648\n",
            "Epoch 49/100\n",
            "2/2 [==============================] - 0s 8ms/step - loss: 3.9751 - mae: 3.9751\n",
            "Epoch 50/100\n",
            "2/2 [==============================] - 0s 6ms/step - loss: 3.9972 - mae: 3.9972\n",
            "Epoch 51/100\n",
            "2/2 [==============================] - 0s 6ms/step - loss: 3.9952 - mae: 3.9952\n",
            "Epoch 52/100\n",
            "2/2 [==============================] - 0s 6ms/step - loss: 3.9817 - mae: 3.9817\n",
            "Epoch 53/100\n",
            "2/2 [==============================] - 0s 6ms/step - loss: 3.9015 - mae: 3.9015\n",
            "Epoch 54/100\n",
            "2/2 [==============================] - 0s 6ms/step - loss: 3.8681 - mae: 3.8681\n",
            "Epoch 55/100\n",
            "2/2 [==============================] - 0s 7ms/step - loss: 3.9069 - mae: 3.9069\n",
            "Epoch 56/100\n",
            "2/2 [==============================] - 0s 6ms/step - loss: 3.9646 - mae: 3.9646\n",
            "Epoch 57/100\n",
            "2/2 [==============================] - 0s 6ms/step - loss: 3.9631 - mae: 3.9631\n",
            "Epoch 58/100\n",
            "2/2 [==============================] - 0s 6ms/step - loss: 3.9461 - mae: 3.9461\n",
            "Epoch 59/100\n",
            "2/2 [==============================] - 0s 6ms/step - loss: 3.8641 - mae: 3.8641\n",
            "Epoch 60/100\n",
            "2/2 [==============================] - 0s 6ms/step - loss: 3.8472 - mae: 3.8472\n",
            "Epoch 61/100\n",
            "2/2 [==============================] - 0s 6ms/step - loss: 3.8772 - mae: 3.8772\n",
            "Epoch 62/100\n",
            "2/2 [==============================] - 0s 6ms/step - loss: 3.9299 - mae: 3.9299\n",
            "Epoch 63/100\n",
            "2/2 [==============================] - 0s 5ms/step - loss: 3.9049 - mae: 3.9049\n",
            "Epoch 64/100\n",
            "2/2 [==============================] - 0s 6ms/step - loss: 3.8206 - mae: 3.8206\n",
            "Epoch 65/100\n",
            "2/2 [==============================] - 0s 6ms/step - loss: 3.7845 - mae: 3.7845\n",
            "Epoch 66/100\n",
            "2/2 [==============================] - 0s 7ms/step - loss: 3.8432 - mae: 3.8432\n",
            "Epoch 67/100\n",
            "2/2 [==============================] - 0s 6ms/step - loss: 3.8707 - mae: 3.8707\n",
            "Epoch 68/100\n",
            "2/2 [==============================] - 0s 6ms/step - loss: 3.8211 - mae: 3.8211\n",
            "Epoch 69/100\n",
            "2/2 [==============================] - 0s 6ms/step - loss: 3.7974 - mae: 3.7974\n",
            "Epoch 70/100\n",
            "2/2 [==============================] - 0s 6ms/step - loss: 3.8143 - mae: 3.8143\n",
            "Epoch 71/100\n",
            "2/2 [==============================] - 0s 6ms/step - loss: 3.7835 - mae: 3.7835\n",
            "Epoch 72/100\n",
            "2/2 [==============================] - 0s 6ms/step - loss: 3.7473 - mae: 3.7473\n",
            "Epoch 73/100\n",
            "2/2 [==============================] - 0s 6ms/step - loss: 3.7174 - mae: 3.7174\n",
            "Epoch 74/100\n",
            "2/2 [==============================] - 0s 6ms/step - loss: 3.7238 - mae: 3.7238\n",
            "Epoch 75/100\n",
            "2/2 [==============================] - 0s 6ms/step - loss: 3.7180 - mae: 3.7180\n",
            "Epoch 76/100\n",
            "2/2 [==============================] - 0s 6ms/step - loss: 3.8476 - mae: 3.8476\n",
            "Epoch 77/100\n",
            "2/2 [==============================] - 0s 7ms/step - loss: 3.9555 - mae: 3.9555\n",
            "Epoch 78/100\n",
            "2/2 [==============================] - 0s 6ms/step - loss: 3.8704 - mae: 3.8704\n",
            "Epoch 79/100\n",
            "2/2 [==============================] - 0s 6ms/step - loss: 3.7237 - mae: 3.7237\n",
            "Epoch 80/100\n",
            "2/2 [==============================] - 0s 7ms/step - loss: 3.7251 - mae: 3.7251\n",
            "Epoch 81/100\n",
            "2/2 [==============================] - 0s 6ms/step - loss: 3.7236 - mae: 3.7236\n",
            "Epoch 82/100\n",
            "2/2 [==============================] - 0s 6ms/step - loss: 3.6724 - mae: 3.6724\n",
            "Epoch 83/100\n",
            "2/2 [==============================] - 0s 6ms/step - loss: 3.6630 - mae: 3.6630\n",
            "Epoch 84/100\n",
            "2/2 [==============================] - 0s 12ms/step - loss: 3.7545 - mae: 3.7545\n",
            "Epoch 85/100\n",
            "2/2 [==============================] - 0s 7ms/step - loss: 3.7410 - mae: 3.7410\n",
            "Epoch 86/100\n",
            "2/2 [==============================] - 0s 5ms/step - loss: 3.6056 - mae: 3.6056\n",
            "Epoch 87/100\n",
            "2/2 [==============================] - 0s 6ms/step - loss: 3.5563 - mae: 3.5563\n",
            "Epoch 88/100\n",
            "2/2 [==============================] - 0s 5ms/step - loss: 4.0533 - mae: 4.0533\n",
            "Epoch 89/100\n",
            "2/2 [==============================] - 0s 5ms/step - loss: 4.1013 - mae: 4.1013\n",
            "Epoch 90/100\n",
            "2/2 [==============================] - 0s 6ms/step - loss: 3.5964 - mae: 3.5964\n",
            "Epoch 91/100\n",
            "2/2 [==============================] - 0s 6ms/step - loss: 3.6366 - mae: 3.6366\n",
            "Epoch 92/100\n",
            "2/2 [==============================] - 0s 5ms/step - loss: 3.9145 - mae: 3.9145\n",
            "Epoch 93/100\n",
            "2/2 [==============================] - 0s 6ms/step - loss: 3.9990 - mae: 3.9990\n",
            "Epoch 94/100\n",
            "2/2 [==============================] - 0s 6ms/step - loss: 3.8583 - mae: 3.8583\n",
            "Epoch 95/100\n",
            "2/2 [==============================] - 0s 6ms/step - loss: 3.7159 - mae: 3.7159\n",
            "Epoch 96/100\n",
            "2/2 [==============================] - 0s 6ms/step - loss: 3.6038 - mae: 3.6038\n",
            "Epoch 97/100\n",
            "2/2 [==============================] - 0s 6ms/step - loss: 3.6197 - mae: 3.6197\n",
            "Epoch 98/100\n",
            "2/2 [==============================] - 0s 6ms/step - loss: 3.6247 - mae: 3.6247\n",
            "Epoch 99/100\n",
            "2/2 [==============================] - 0s 5ms/step - loss: 3.5796 - mae: 3.5796\n",
            "Epoch 100/100\n",
            "2/2 [==============================] - 0s 5ms/step - loss: 3.5348 - mae: 3.5348\n"
          ]
        },
        {
          "output_type": "execute_result",
          "data": {
            "text/plain": [
              "<keras.callbacks.History at 0x7f13ebc37490>"
            ]
          },
          "metadata": {},
          "execution_count": 53
        }
      ]
    },
    {
      "cell_type": "code",
      "source": [
        "model_3.summary()"
      ],
      "metadata": {
        "colab": {
          "base_uri": "https://localhost:8080/"
        },
        "id": "1bvMGQ8RN6RA",
        "outputId": "9bec71a1-5b89-4d94-e478-ae19d6b30926"
      },
      "execution_count": null,
      "outputs": [
        {
          "output_type": "stream",
          "name": "stdout",
          "text": [
            "Model: \"sequential_5\"\n",
            "_________________________________________________________________\n",
            " Layer (type)                Output Shape              Param #   \n",
            "=================================================================\n",
            " dense_11 (Dense)            (None, 100)               200       \n",
            "                                                                 \n",
            " dense_12 (Dense)            (None, 100)               10100     \n",
            "                                                                 \n",
            " dense_13 (Dense)            (None, 1)                 101       \n",
            "                                                                 \n",
            "=================================================================\n",
            "Total params: 10,401\n",
            "Trainable params: 10,401\n",
            "Non-trainable params: 0\n",
            "_________________________________________________________________\n"
          ]
        }
      ]
    },
    {
      "cell_type": "code",
      "source": [
        "plot_model(model_3,show_shapes=True)"
      ],
      "metadata": {
        "colab": {
          "base_uri": "https://localhost:8080/",
          "height": 422
        },
        "id": "tfsNm_GLN8_A",
        "outputId": "de89100f-c28c-478f-9d18-f1c00119b6c7"
      },
      "execution_count": null,
      "outputs": [
        {
          "output_type": "execute_result",
          "data": {
            "image/png": "[encoded data removed]",
            "text/plain": [
              "<IPython.core.display.Image object>"
            ]
          },
          "metadata": {},
          "execution_count": 55
        }
      ]
    },
    {
      "cell_type": "code",
      "source": [
        "y_preds = model_3.predict(X_test)\n",
        "mae_3,mse_3 = evaluate_metrics(y_test,y_preds)\n",
        "plot_preds(X_train,y_train,X_test,y_test,y_preds)"
      ],
      "metadata": {
        "colab": {
          "base_uri": "https://localhost:8080/",
          "height": 465
        },
        "id": "0GKJH_L5PlG4",
        "outputId": "d20e501a-8cec-4349-aba7-3327a433f5f0"
      },
      "execution_count": null,
      "outputs": [
        {
          "output_type": "stream",
          "name": "stderr",
          "text": [
            "WARNING:tensorflow:6 out of the last 7 calls to <function Model.make_predict_function.<locals>.predict_function at 0x7f13ebb39e60> triggered tf.function retracing. Tracing is expensive and the excessive number of tracings could be due to (1) creating @tf.function repeatedly in a loop, (2) passing tensors with different shapes, (3) passing Python objects instead of tensors. For (1), please define your @tf.function outside of the loop. For (2), @tf.function has experimental_relax_shapes=True option that relaxes argument shapes that can avoid unnecessary retracing. For (3), please refer to https://www.tensorflow.org/guide/function#controlling_retracing and https://www.tensorflow.org/api_docs/python/tf/function for  more details.\n"
          ]
        },
        {
          "output_type": "display_data",
          "data": {
            "text/plain": [
              "<Figure size 720x504 with 1 Axes>"
            ],
            "image/png": "[encoded data removed]"
          },
          "metadata": {
            "needs_background": "light"
          }
        }
      ]
    },
    {
      "cell_type": "markdown",
      "source": [
        "**Build Model 4**"
      ],
      "metadata": {
        "id": "pOMCquhzNrRI"
      }
    },
    {
      "cell_type": "code",
      "source": [
        "tf.random.set_seed(42)\n",
        "model_4 = tf.keras.Sequential([\n",
        "                                tf.keras.layers.Dense(100,input_shape=[1],activation='relu'),\n",
        "                                tf.keras.layers.Dense(100,input_shape=[1],activation='relu'),\n",
        "                               tf.keras.layers.Dense(1)\n",
        "])\n",
        "\n",
        "model_4.compile(loss=tf.keras.losses.mae,optimizer=tf.keras.optimizers.Adam(learning_rate=0.01),metrics=[\"mae\"])\n",
        "model_4.fit(X_train,y_train,epochs=100)"
      ],
      "metadata": {
        "colab": {
          "base_uri": "https://localhost:8080/"
        },
        "id": "iY1HqvKMNYcO",
        "outputId": "dbdbb9ca-9910-4d6c-9088-2dba9f0fed3e"
      },
      "execution_count": null,
      "outputs": [
        {
          "output_type": "stream",
          "name": "stdout",
          "text": [
            "Epoch 1/100\n",
            "2/2 [==============================] - 0s 7ms/step - loss: 39.1866 - mae: 39.1866\n",
            "Epoch 2/100\n",
            "2/2 [==============================] - 0s 6ms/step - loss: 12.6233 - mae: 12.6233\n",
            "Epoch 3/100\n",
            "2/2 [==============================] - 0s 6ms/step - loss: 7.8631 - mae: 7.8631\n",
            "Epoch 4/100\n",
            "2/2 [==============================] - 0s 7ms/step - loss: 8.7138 - mae: 8.7138\n",
            "Epoch 5/100\n",
            "2/2 [==============================] - 0s 6ms/step - loss: 6.7156 - mae: 6.7156\n",
            "Epoch 6/100\n",
            "2/2 [==============================] - 0s 6ms/step - loss: 6.1763 - mae: 6.1763\n",
            "Epoch 7/100\n",
            "2/2 [==============================] - 0s 6ms/step - loss: 5.3610 - mae: 5.3610\n",
            "Epoch 8/100\n",
            "2/2 [==============================] - 0s 6ms/step - loss: 6.2242 - mae: 6.2242\n",
            "Epoch 9/100\n",
            "2/2 [==============================] - 0s 6ms/step - loss: 5.7453 - mae: 5.7453\n",
            "Epoch 10/100\n",
            "2/2 [==============================] - 0s 6ms/step - loss: 6.8323 - mae: 6.8323\n",
            "Epoch 11/100\n",
            "2/2 [==============================] - 0s 12ms/step - loss: 5.2981 - mae: 5.2981\n",
            "Epoch 12/100\n",
            "2/2 [==============================] - 0s 7ms/step - loss: 6.1982 - mae: 6.1982\n",
            "Epoch 13/100\n",
            "2/2 [==============================] - 0s 6ms/step - loss: 5.9003 - mae: 5.9003\n",
            "Epoch 14/100\n",
            "2/2 [==============================] - 0s 6ms/step - loss: 4.5910 - mae: 4.5910\n",
            "Epoch 15/100\n",
            "2/2 [==============================] - 0s 8ms/step - loss: 4.9713 - mae: 4.9713\n",
            "Epoch 16/100\n",
            "2/2 [==============================] - 0s 7ms/step - loss: 5.2092 - mae: 5.2092\n",
            "Epoch 17/100\n",
            "2/2 [==============================] - 0s 7ms/step - loss: 5.0055 - mae: 5.0055\n",
            "Epoch 18/100\n",
            "2/2 [==============================] - 0s 7ms/step - loss: 4.1858 - mae: 4.1858\n",
            "Epoch 19/100\n",
            "2/2 [==============================] - 0s 6ms/step - loss: 5.2404 - mae: 5.2404\n",
            "Epoch 20/100\n",
            "2/2 [==============================] - 0s 6ms/step - loss: 4.1091 - mae: 4.1091\n",
            "Epoch 21/100\n",
            "2/2 [==============================] - 0s 6ms/step - loss: 3.7449 - mae: 3.7449\n",
            "Epoch 22/100\n",
            "2/2 [==============================] - 0s 6ms/step - loss: 3.5726 - mae: 3.5726\n",
            "Epoch 23/100\n",
            "2/2 [==============================] - 0s 6ms/step - loss: 3.2847 - mae: 3.2847\n",
            "Epoch 24/100\n",
            "2/2 [==============================] - 0s 7ms/step - loss: 3.4399 - mae: 3.4399\n",
            "Epoch 25/100\n",
            "2/2 [==============================] - 0s 6ms/step - loss: 3.4521 - mae: 3.4521\n",
            "Epoch 26/100\n",
            "2/2 [==============================] - 0s 7ms/step - loss: 3.2159 - mae: 3.2159\n",
            "Epoch 27/100\n",
            "2/2 [==============================] - 0s 6ms/step - loss: 3.5557 - mae: 3.5557\n",
            "Epoch 28/100\n",
            "2/2 [==============================] - 0s 6ms/step - loss: 3.1661 - mae: 3.1661\n",
            "Epoch 29/100\n",
            "2/2 [==============================] - 0s 6ms/step - loss: 3.0980 - mae: 3.0980\n",
            "Epoch 30/100\n",
            "2/2 [==============================] - 0s 6ms/step - loss: 3.3203 - mae: 3.3203\n",
            "Epoch 31/100\n",
            "2/2 [==============================] - 0s 6ms/step - loss: 4.5683 - mae: 4.5683\n",
            "Epoch 32/100\n",
            "2/2 [==============================] - 0s 6ms/step - loss: 4.9971 - mae: 4.9971\n",
            "Epoch 33/100\n",
            "2/2 [==============================] - 0s 7ms/step - loss: 4.1543 - mae: 4.1543\n",
            "Epoch 34/100\n",
            "2/2 [==============================] - 0s 6ms/step - loss: 5.2457 - mae: 5.2457\n",
            "Epoch 35/100\n",
            "2/2 [==============================] - 0s 6ms/step - loss: 3.7605 - mae: 3.7605\n",
            "Epoch 36/100\n",
            "2/2 [==============================] - 0s 8ms/step - loss: 2.9186 - mae: 2.9186\n",
            "Epoch 37/100\n",
            "2/2 [==============================] - 0s 6ms/step - loss: 2.6343 - mae: 2.6343\n",
            "Epoch 38/100\n",
            "2/2 [==============================] - 0s 6ms/step - loss: 2.4718 - mae: 2.4718\n",
            "Epoch 39/100\n",
            "2/2 [==============================] - 0s 6ms/step - loss: 2.9412 - mae: 2.9412\n",
            "Epoch 40/100\n",
            "2/2 [==============================] - 0s 7ms/step - loss: 2.7517 - mae: 2.7517\n",
            "Epoch 41/100\n",
            "2/2 [==============================] - 0s 6ms/step - loss: 3.1388 - mae: 3.1388\n",
            "Epoch 42/100\n",
            "2/2 [==============================] - 0s 6ms/step - loss: 3.3503 - mae: 3.3503\n",
            "Epoch 43/100\n",
            "2/2 [==============================] - 0s 6ms/step - loss: 3.1566 - mae: 3.1566\n",
            "Epoch 44/100\n",
            "2/2 [==============================] - 0s 6ms/step - loss: 2.3257 - mae: 2.3257\n",
            "Epoch 45/100\n",
            "2/2 [==============================] - 0s 6ms/step - loss: 1.8110 - mae: 1.8110\n",
            "Epoch 46/100\n",
            "2/2 [==============================] - 0s 6ms/step - loss: 1.6474 - mae: 1.6474\n",
            "Epoch 47/100\n",
            "2/2 [==============================] - 0s 7ms/step - loss: 1.6386 - mae: 1.6386\n",
            "Epoch 48/100\n",
            "2/2 [==============================] - 0s 6ms/step - loss: 1.8292 - mae: 1.8292\n",
            "Epoch 49/100\n",
            "2/2 [==============================] - 0s 6ms/step - loss: 1.8407 - mae: 1.8407\n",
            "Epoch 50/100\n",
            "2/2 [==============================] - 0s 6ms/step - loss: 1.5413 - mae: 1.5413\n",
            "Epoch 51/100\n",
            "2/2 [==============================] - 0s 6ms/step - loss: 1.7164 - mae: 1.7164\n",
            "Epoch 52/100\n",
            "2/2 [==============================] - 0s 6ms/step - loss: 1.0357 - mae: 1.0357\n",
            "Epoch 53/100\n",
            "2/2 [==============================] - 0s 6ms/step - loss: 1.3274 - mae: 1.3274\n",
            "Epoch 54/100\n",
            "2/2 [==============================] - 0s 8ms/step - loss: 4.2558 - mae: 4.2558\n",
            "Epoch 55/100\n",
            "2/2 [==============================] - 0s 6ms/step - loss: 3.1192 - mae: 3.1192\n",
            "Epoch 56/100\n",
            "2/2 [==============================] - 0s 6ms/step - loss: 4.1532 - mae: 4.1532\n",
            "Epoch 57/100\n",
            "2/2 [==============================] - 0s 6ms/step - loss: 4.5827 - mae: 4.5827\n",
            "Epoch 58/100\n",
            "2/2 [==============================] - 0s 6ms/step - loss: 0.5031 - mae: 0.5031\n",
            "Epoch 59/100\n",
            "2/2 [==============================] - 0s 7ms/step - loss: 1.4961 - mae: 1.4961\n",
            "Epoch 60/100\n",
            "2/2 [==============================] - 0s 6ms/step - loss: 3.2020 - mae: 3.2020\n",
            "Epoch 61/100\n",
            "2/2 [==============================] - 0s 9ms/step - loss: 2.4865 - mae: 2.4865\n",
            "Epoch 62/100\n",
            "2/2 [==============================] - 0s 6ms/step - loss: 4.4795 - mae: 4.4795\n",
            "Epoch 63/100\n",
            "2/2 [==============================] - 0s 6ms/step - loss: 2.0505 - mae: 2.0505\n",
            "Epoch 64/100\n",
            "2/2 [==============================] - 0s 10ms/step - loss: 4.0363 - mae: 4.0363\n",
            "Epoch 65/100\n",
            "2/2 [==============================] - 0s 6ms/step - loss: 1.7726 - mae: 1.7726\n",
            "Epoch 66/100\n",
            "2/2 [==============================] - 0s 6ms/step - loss: 2.6798 - mae: 2.6798\n",
            "Epoch 67/100\n",
            "2/2 [==============================] - 0s 6ms/step - loss: 2.8608 - mae: 2.8608\n",
            "Epoch 68/100\n",
            "2/2 [==============================] - 0s 10ms/step - loss: 1.6524 - mae: 1.6524\n",
            "Epoch 69/100\n",
            "2/2 [==============================] - 0s 8ms/step - loss: 2.7320 - mae: 2.7320\n",
            "Epoch 70/100\n",
            "2/2 [==============================] - 0s 6ms/step - loss: 2.9919 - mae: 2.9919\n",
            "Epoch 71/100\n",
            "2/2 [==============================] - 0s 6ms/step - loss: 1.5695 - mae: 1.5695\n",
            "Epoch 72/100\n",
            "2/2 [==============================] - 0s 7ms/step - loss: 1.7933 - mae: 1.7933\n",
            "Epoch 73/100\n",
            "2/2 [==============================] - 0s 6ms/step - loss: 2.3594 - mae: 2.3594\n",
            "Epoch 74/100\n",
            "2/2 [==============================] - 0s 6ms/step - loss: 1.6232 - mae: 1.6232\n",
            "Epoch 75/100\n",
            "2/2 [==============================] - 0s 7ms/step - loss: 2.4608 - mae: 2.4608\n",
            "Epoch 76/100\n",
            "2/2 [==============================] - 0s 6ms/step - loss: 1.2311 - mae: 1.2311\n",
            "Epoch 77/100\n",
            "2/2 [==============================] - 0s 6ms/step - loss: 1.5747 - mae: 1.5747\n",
            "Epoch 78/100\n",
            "2/2 [==============================] - 0s 6ms/step - loss: 1.3985 - mae: 1.3985\n",
            "Epoch 79/100\n",
            "2/2 [==============================] - 0s 7ms/step - loss: 0.8073 - mae: 0.8073\n",
            "Epoch 80/100\n",
            "2/2 [==============================] - 0s 7ms/step - loss: 1.5635 - mae: 1.5635\n",
            "Epoch 81/100\n",
            "2/2 [==============================] - 0s 6ms/step - loss: 0.9197 - mae: 0.9197\n",
            "Epoch 82/100\n",
            "2/2 [==============================] - 0s 8ms/step - loss: 1.8599 - mae: 1.8599\n",
            "Epoch 83/100\n",
            "2/2 [==============================] - 0s 6ms/step - loss: 2.3515 - mae: 2.3515\n",
            "Epoch 84/100\n",
            "2/2 [==============================] - 0s 7ms/step - loss: 1.7270 - mae: 1.7270\n",
            "Epoch 85/100\n",
            "2/2 [==============================] - 0s 6ms/step - loss: 0.9787 - mae: 0.9787\n",
            "Epoch 86/100\n",
            "2/2 [==============================] - 0s 7ms/step - loss: 1.0292 - mae: 1.0292\n",
            "Epoch 87/100\n",
            "2/2 [==============================] - 0s 6ms/step - loss: 0.8015 - mae: 0.8015\n",
            "Epoch 88/100\n",
            "2/2 [==============================] - 0s 6ms/step - loss: 1.3968 - mae: 1.3968\n",
            "Epoch 89/100\n",
            "2/2 [==============================] - 0s 6ms/step - loss: 1.5010 - mae: 1.5010\n",
            "Epoch 90/100\n",
            "2/2 [==============================] - 0s 10ms/step - loss: 1.8013 - mae: 1.8013\n",
            "Epoch 91/100\n",
            "2/2 [==============================] - 0s 6ms/step - loss: 1.4999 - mae: 1.4999\n",
            "Epoch 92/100\n",
            "2/2 [==============================] - 0s 7ms/step - loss: 2.7196 - mae: 2.7196\n",
            "Epoch 93/100\n",
            "2/2 [==============================] - 0s 7ms/step - loss: 0.1975 - mae: 0.1975\n",
            "Epoch 94/100\n",
            "2/2 [==============================] - 0s 6ms/step - loss: 1.0063 - mae: 1.0063\n",
            "Epoch 95/100\n",
            "2/2 [==============================] - 0s 6ms/step - loss: 0.7609 - mae: 0.7609\n",
            "Epoch 96/100\n",
            "2/2 [==============================] - 0s 6ms/step - loss: 0.6782 - mae: 0.6782\n",
            "Epoch 97/100\n",
            "2/2 [==============================] - 0s 7ms/step - loss: 1.1714 - mae: 1.1714\n",
            "Epoch 98/100\n",
            "2/2 [==============================] - 0s 6ms/step - loss: 0.5904 - mae: 0.5904\n",
            "Epoch 99/100\n",
            "2/2 [==============================] - 0s 8ms/step - loss: 1.3595 - mae: 1.3595\n",
            "Epoch 100/100\n",
            "2/2 [==============================] - 0s 10ms/step - loss: 0.9707 - mae: 0.9707\n"
          ]
        },
        {
          "output_type": "execute_result",
          "data": {
            "text/plain": [
              "<keras.callbacks.History at 0x7f13ebca3ad0>"
            ]
          },
          "metadata": {},
          "execution_count": 57
        }
      ]
    },
    {
      "cell_type": "code",
      "source": [
        "model_4.summary()"
      ],
      "metadata": {
        "colab": {
          "base_uri": "https://localhost:8080/"
        },
        "id": "_6YgtbXrNysz",
        "outputId": "e152bea8-f1f5-4c41-93c5-910f2a639862"
      },
      "execution_count": null,
      "outputs": [
        {
          "output_type": "stream",
          "name": "stdout",
          "text": [
            "Model: \"sequential_6\"\n",
            "_________________________________________________________________\n",
            " Layer (type)                Output Shape              Param #   \n",
            "=================================================================\n",
            " dense_14 (Dense)            (None, 100)               200       \n",
            "                                                                 \n",
            " dense_15 (Dense)            (None, 100)               10100     \n",
            "                                                                 \n",
            " dense_16 (Dense)            (None, 1)                 101       \n",
            "                                                                 \n",
            "=================================================================\n",
            "Total params: 10,401\n",
            "Trainable params: 10,401\n",
            "Non-trainable params: 0\n",
            "_________________________________________________________________\n"
          ]
        }
      ]
    },
    {
      "cell_type": "code",
      "source": [
        "plot_model(model_4,show_shapes=True)"
      ],
      "metadata": {
        "colab": {
          "base_uri": "https://localhost:8080/",
          "height": 422
        },
        "id": "4Y1IUefrOCuZ",
        "outputId": "929064a3-bbdc-4db5-ca2c-d0816b40f7e8"
      },
      "execution_count": null,
      "outputs": [
        {
          "output_type": "execute_result",
          "data": {
            "image/png": "[encoded data removed]",
            "text/plain": [
              "<IPython.core.display.Image object>"
            ]
          },
          "metadata": {},
          "execution_count": 59
        }
      ]
    },
    {
      "cell_type": "code",
      "source": [
        "y_preds = model_4.predict(X_test)\n",
        "mae_4,mse_4 = evaluate_metrics(y_test,y_preds)\n",
        "plot_preds(X_train,y_train,X_test,y_test,y_preds)"
      ],
      "metadata": {
        "colab": {
          "base_uri": "https://localhost:8080/",
          "height": 428
        },
        "id": "X_rYJ3asPgJI",
        "outputId": "518040de-a02b-4217-ba94-36cab7015ab4"
      },
      "execution_count": null,
      "outputs": [
        {
          "output_type": "display_data",
          "data": {
            "text/plain": [
              "<Figure size 720x504 with 1 Axes>"
            ],
            "image/png": "[encoded data removed]"
          },
          "metadata": {
            "needs_background": "light"
          }
        }
      ]
    },
    {
      "cell_type": "markdown",
      "source": [
        "**Build Model 5**"
      ],
      "metadata": {
        "id": "xRHahMB-OL8A"
      }
    },
    {
      "cell_type": "code",
      "source": [
        "tf.random.set_seed(42)\n",
        "model_5 = tf.keras.Sequential([\n",
        "                                tf.keras.layers.Dense(100,input_shape=[1],activation='relu'),\n",
        "                                tf.keras.layers.Dense(100,input_shape=[1],activation='relu'),\n",
        "                               tf.keras.layers.Dense(1)\n",
        "])\n",
        "\n",
        "model_5.compile(loss=tf.keras.losses.mae,optimizer=tf.keras.optimizers.Adam(learning_rate=0.01),metrics=[\"mae\"])\n",
        "model_5.fit(X_train,y_train,epochs=500)"
      ],
      "metadata": {
        "colab": {
          "base_uri": "https://localhost:8080/"
        },
        "id": "FF489l9UOGjQ",
        "outputId": "6b9fe600-5596-43f6-be63-b63cb007fd1c"
      },
      "execution_count": null,
      "outputs": [
        {
          "output_type": "stream",
          "name": "stdout",
          "text": [
            "Epoch 1/500\n",
            "2/2 [==============================] - 0s 7ms/step - loss: 39.1866 - mae: 39.1866\n",
            "Epoch 2/500\n",
            "2/2 [==============================] - 0s 5ms/step - loss: 12.6233 - mae: 12.6233\n",
            "Epoch 3/500\n",
            "2/2 [==============================] - 0s 6ms/step - loss: 7.8631 - mae: 7.8631\n",
            "Epoch 4/500\n",
            "2/2 [==============================] - 0s 6ms/step - loss: 8.7138 - mae: 8.7138\n",
            "Epoch 5/500\n",
            "2/2 [==============================] - 0s 6ms/step - loss: 6.7156 - mae: 6.7156\n",
            "Epoch 6/500\n",
            "2/2 [==============================] - 0s 6ms/step - loss: 6.1763 - mae: 6.1763\n",
            "Epoch 7/500\n",
            "2/2 [==============================] - 0s 7ms/step - loss: 5.3610 - mae: 5.3610\n",
            "Epoch 8/500\n",
            "2/2 [==============================] - 0s 6ms/step - loss: 6.2242 - mae: 6.2242\n",
            "Epoch 9/500\n",
            "2/2 [==============================] - 0s 6ms/step - loss: 5.7453 - mae: 5.7453\n",
            "Epoch 10/500\n",
            "2/2 [==============================] - 0s 5ms/step - loss: 6.8323 - mae: 6.8323\n",
            "Epoch 11/500\n",
            "2/2 [==============================] - 0s 6ms/step - loss: 5.2981 - mae: 5.2981\n",
            "Epoch 12/500\n",
            "2/2 [==============================] - 0s 6ms/step - loss: 6.1982 - mae: 6.1982\n",
            "Epoch 13/500\n",
            "2/2 [==============================] - 0s 6ms/step - loss: 5.9003 - mae: 5.9003\n",
            "Epoch 14/500\n",
            "2/2 [==============================] - 0s 7ms/step - loss: 4.5910 - mae: 4.5910\n",
            "Epoch 15/500\n",
            "2/2 [==============================] - 0s 5ms/step - loss: 4.9713 - mae: 4.9713\n",
            "Epoch 16/500\n",
            "2/2 [==============================] - 0s 6ms/step - loss: 5.2092 - mae: 5.2092\n",
            "Epoch 17/500\n",
            "2/2 [==============================] - 0s 6ms/step - loss: 5.0055 - mae: 5.0055\n",
            "Epoch 18/500\n",
            "2/2 [==============================] - 0s 6ms/step - loss: 4.1858 - mae: 4.1858\n",
            "Epoch 19/500\n",
            "2/2 [==============================] - 0s 6ms/step - loss: 5.2404 - mae: 5.2404\n",
            "Epoch 20/500\n",
            "2/2 [==============================] - 0s 6ms/step - loss: 4.1091 - mae: 4.1091\n",
            "Epoch 21/500\n",
            "2/2 [==============================] - 0s 5ms/step - loss: 3.7449 - mae: 3.7449\n",
            "Epoch 22/500\n",
            "2/2 [==============================] - 0s 7ms/step - loss: 3.5726 - mae: 3.5726\n",
            "Epoch 23/500\n",
            "2/2 [==============================] - 0s 6ms/step - loss: 3.2847 - mae: 3.2847\n",
            "Epoch 24/500\n",
            "2/2 [==============================] - 0s 6ms/step - loss: 3.4399 - mae: 3.4399\n",
            "Epoch 25/500\n",
            "2/2 [==============================] - 0s 6ms/step - loss: 3.4521 - mae: 3.4521\n",
            "Epoch 26/500\n",
            "2/2 [==============================] - 0s 6ms/step - loss: 3.2159 - mae: 3.2159\n",
            "Epoch 27/500\n",
            "2/2 [==============================] - 0s 6ms/step - loss: 3.5557 - mae: 3.5557\n",
            "Epoch 28/500\n",
            "2/2 [==============================] - 0s 7ms/step - loss: 3.1661 - mae: 3.1661\n",
            "Epoch 29/500\n",
            "2/2 [==============================] - 0s 6ms/step - loss: 3.0980 - mae: 3.0980\n",
            "Epoch 30/500\n",
            "2/2 [==============================] - 0s 6ms/step - loss: 3.3203 - mae: 3.3203\n",
            "Epoch 31/500\n",
            "2/2 [==============================] - 0s 7ms/step - loss: 4.5683 - mae: 4.5683\n",
            "Epoch 32/500\n",
            "2/2 [==============================] - 0s 6ms/step - loss: 4.9971 - mae: 4.9971\n",
            "Epoch 33/500\n",
            "2/2 [==============================] - 0s 6ms/step - loss: 4.1543 - mae: 4.1543\n",
            "Epoch 34/500\n",
            "2/2 [==============================] - 0s 5ms/step - loss: 5.2457 - mae: 5.2457\n",
            "Epoch 35/500\n",
            "2/2 [==============================] - 0s 7ms/step - loss: 3.7605 - mae: 3.7605\n",
            "Epoch 36/500\n",
            "2/2 [==============================] - 0s 6ms/step - loss: 2.9186 - mae: 2.9186\n",
            "Epoch 37/500\n",
            "2/2 [==============================] - 0s 6ms/step - loss: 2.6343 - mae: 2.6343\n",
            "Epoch 38/500\n",
            "2/2 [==============================] - 0s 6ms/step - loss: 2.4718 - mae: 2.4718\n",
            "Epoch 39/500\n",
            "2/2 [==============================] - 0s 7ms/step - loss: 2.9412 - mae: 2.9412\n",
            "Epoch 40/500\n",
            "2/2 [==============================] - 0s 6ms/step - loss: 2.7517 - mae: 2.7517\n",
            "Epoch 41/500\n",
            "2/2 [==============================] - 0s 6ms/step - loss: 3.1388 - mae: 3.1388\n",
            "Epoch 42/500\n",
            "2/2 [==============================] - 0s 6ms/step - loss: 3.3503 - mae: 3.3503\n",
            "Epoch 43/500\n",
            "2/2 [==============================] - 0s 7ms/step - loss: 3.1566 - mae: 3.1566\n",
            "Epoch 44/500\n",
            "2/2 [==============================] - 0s 6ms/step - loss: 2.3257 - mae: 2.3257\n",
            "Epoch 45/500\n",
            "2/2 [==============================] - 0s 7ms/step - loss: 1.8110 - mae: 1.8110\n",
            "Epoch 46/500\n",
            "2/2 [==============================] - 0s 7ms/step - loss: 1.6474 - mae: 1.6474\n",
            "Epoch 47/500\n",
            "2/2 [==============================] - 0s 6ms/step - loss: 1.6386 - mae: 1.6386\n",
            "Epoch 48/500\n",
            "2/2 [==============================] - 0s 6ms/step - loss: 1.8292 - mae: 1.8292\n",
            "Epoch 49/500\n",
            "2/2 [==============================] - 0s 6ms/step - loss: 1.8407 - mae: 1.8407\n",
            "Epoch 50/500\n",
            "2/2 [==============================] - 0s 10ms/step - loss: 1.5413 - mae: 1.5413\n",
            "Epoch 51/500\n",
            "2/2 [==============================] - 0s 7ms/step - loss: 1.7164 - mae: 1.7164\n",
            "Epoch 52/500\n",
            "2/2 [==============================] - 0s 7ms/step - loss: 1.0357 - mae: 1.0357\n",
            "Epoch 53/500\n",
            "2/2 [==============================] - 0s 6ms/step - loss: 1.3274 - mae: 1.3274\n",
            "Epoch 54/500\n",
            "2/2 [==============================] - 0s 8ms/step - loss: 4.2558 - mae: 4.2558\n",
            "Epoch 55/500\n",
            "2/2 [==============================] - 0s 6ms/step - loss: 3.1192 - mae: 3.1192\n",
            "Epoch 56/500\n",
            "2/2 [==============================] - 0s 6ms/step - loss: 4.1532 - mae: 4.1532\n",
            "Epoch 57/500\n",
            "2/2 [==============================] - 0s 6ms/step - loss: 4.5827 - mae: 4.5827\n",
            "Epoch 58/500\n",
            "2/2 [==============================] - 0s 6ms/step - loss: 0.5031 - mae: 0.5031\n",
            "Epoch 59/500\n",
            "2/2 [==============================] - 0s 6ms/step - loss: 1.4961 - mae: 1.4961\n",
            "Epoch 60/500\n",
            "2/2 [==============================] - 0s 6ms/step - loss: 3.2020 - mae: 3.2020\n",
            "Epoch 61/500\n",
            "2/2 [==============================] - 0s 5ms/step - loss: 2.4865 - mae: 2.4865\n",
            "Epoch 62/500\n",
            "2/2 [==============================] - 0s 6ms/step - loss: 4.4795 - mae: 4.4795\n",
            "Epoch 63/500\n",
            "2/2 [==============================] - 0s 6ms/step - loss: 2.0505 - mae: 2.0505\n",
            "Epoch 64/500\n",
            "2/2 [==============================] - 0s 6ms/step - loss: 4.0363 - mae: 4.0363\n",
            "Epoch 65/500\n",
            "2/2 [==============================] - 0s 6ms/step - loss: 1.7726 - mae: 1.7726\n",
            "Epoch 66/500\n",
            "2/2 [==============================] - 0s 7ms/step - loss: 2.6798 - mae: 2.6798\n",
            "Epoch 67/500\n",
            "2/2 [==============================] - 0s 6ms/step - loss: 2.8608 - mae: 2.8608\n",
            "Epoch 68/500\n",
            "2/2 [==============================] - 0s 8ms/step - loss: 1.6525 - mae: 1.6525\n",
            "Epoch 69/500\n",
            "2/2 [==============================] - 0s 8ms/step - loss: 2.7320 - mae: 2.7320\n",
            "Epoch 70/500\n",
            "2/2 [==============================] - 0s 13ms/step - loss: 2.9919 - mae: 2.9919\n",
            "Epoch 71/500\n",
            "2/2 [==============================] - 0s 7ms/step - loss: 1.5695 - mae: 1.5695\n",
            "Epoch 72/500\n",
            "2/2 [==============================] - 0s 11ms/step - loss: 1.7933 - mae: 1.7933\n",
            "Epoch 73/500\n",
            "2/2 [==============================] - 0s 12ms/step - loss: 2.3594 - mae: 2.3594\n",
            "Epoch 74/500\n",
            "2/2 [==============================] - 0s 9ms/step - loss: 1.6232 - mae: 1.6232\n",
            "Epoch 75/500\n",
            "2/2 [==============================] - 0s 7ms/step - loss: 2.4608 - mae: 2.4608\n",
            "Epoch 76/500\n",
            "2/2 [==============================] - 0s 12ms/step - loss: 1.2311 - mae: 1.2311\n",
            "Epoch 77/500\n",
            "2/2 [==============================] - 0s 9ms/step - loss: 1.5747 - mae: 1.5747\n",
            "Epoch 78/500\n",
            "2/2 [==============================] - 0s 8ms/step - loss: 1.3985 - mae: 1.3985\n",
            "Epoch 79/500\n",
            "2/2 [==============================] - 0s 20ms/step - loss: 0.8073 - mae: 0.8073\n",
            "Epoch 80/500\n",
            "2/2 [==============================] - 0s 7ms/step - loss: 1.5635 - mae: 1.5635\n",
            "Epoch 81/500\n",
            "2/2 [==============================] - 0s 8ms/step - loss: 0.9197 - mae: 0.9197\n",
            "Epoch 82/500\n",
            "2/2 [==============================] - 0s 7ms/step - loss: 1.8599 - mae: 1.8599\n",
            "Epoch 83/500\n",
            "2/2 [==============================] - 0s 8ms/step - loss: 2.3515 - mae: 2.3515\n",
            "Epoch 84/500\n",
            "2/2 [==============================] - 0s 6ms/step - loss: 1.7270 - mae: 1.7270\n",
            "Epoch 85/500\n",
            "2/2 [==============================] - 0s 6ms/step - loss: 0.9787 - mae: 0.9787\n",
            "Epoch 86/500\n",
            "2/2 [==============================] - 0s 17ms/step - loss: 1.0292 - mae: 1.0292\n",
            "Epoch 87/500\n",
            "2/2 [==============================] - 0s 12ms/step - loss: 0.8015 - mae: 0.8015\n",
            "Epoch 88/500\n",
            "2/2 [==============================] - 0s 10ms/step - loss: 1.3968 - mae: 1.3968\n",
            "Epoch 89/500\n",
            "2/2 [==============================] - 0s 10ms/step - loss: 1.5010 - mae: 1.5010\n",
            "Epoch 90/500\n",
            "2/2 [==============================] - 0s 7ms/step - loss: 1.8013 - mae: 1.8013\n",
            "Epoch 91/500\n",
            "2/2 [==============================] - 0s 5ms/step - loss: 1.4999 - mae: 1.4999\n",
            "Epoch 92/500\n",
            "2/2 [==============================] - 0s 12ms/step - loss: 2.7197 - mae: 2.7197\n",
            "Epoch 93/500\n",
            "2/2 [==============================] - 0s 12ms/step - loss: 0.1975 - mae: 0.1975\n",
            "Epoch 94/500\n",
            "2/2 [==============================] - 0s 13ms/step - loss: 1.0063 - mae: 1.0063\n",
            "Epoch 95/500\n",
            "2/2 [==============================] - 0s 8ms/step - loss: 0.7609 - mae: 0.7609\n",
            "Epoch 96/500\n",
            "2/2 [==============================] - 0s 6ms/step - loss: 0.6782 - mae: 0.6782\n",
            "Epoch 97/500\n",
            "2/2 [==============================] - 0s 6ms/step - loss: 1.1714 - mae: 1.1714\n",
            "Epoch 98/500\n",
            "2/2 [==============================] - 0s 8ms/step - loss: 0.5904 - mae: 0.5904\n",
            "Epoch 99/500\n",
            "2/2 [==============================] - 0s 7ms/step - loss: 1.3595 - mae: 1.3595\n",
            "Epoch 100/500\n",
            "2/2 [==============================] - 0s 7ms/step - loss: 0.9707 - mae: 0.9707\n",
            "Epoch 101/500\n",
            "2/2 [==============================] - 0s 7ms/step - loss: 1.1271 - mae: 1.1271\n",
            "Epoch 102/500\n",
            "2/2 [==============================] - 0s 6ms/step - loss: 2.0519 - mae: 2.0519\n",
            "Epoch 103/500\n",
            "2/2 [==============================] - 0s 7ms/step - loss: 0.9914 - mae: 0.9914\n",
            "Epoch 104/500\n",
            "2/2 [==============================] - 0s 6ms/step - loss: 0.4230 - mae: 0.4230\n",
            "Epoch 105/500\n",
            "2/2 [==============================] - 0s 7ms/step - loss: 1.4318 - mae: 1.4318\n",
            "Epoch 106/500\n",
            "2/2 [==============================] - 0s 6ms/step - loss: 0.7354 - mae: 0.7354\n",
            "Epoch 107/500\n",
            "2/2 [==============================] - 0s 6ms/step - loss: 0.9493 - mae: 0.9493\n",
            "Epoch 108/500\n",
            "2/2 [==============================] - 0s 7ms/step - loss: 1.2751 - mae: 1.2751\n",
            "Epoch 109/500\n",
            "2/2 [==============================] - 0s 7ms/step - loss: 1.2700 - mae: 1.2700\n",
            "Epoch 110/500\n",
            "2/2 [==============================] - 0s 7ms/step - loss: 1.1109 - mae: 1.1109\n",
            "Epoch 111/500\n",
            "2/2 [==============================] - 0s 6ms/step - loss: 2.1335 - mae: 2.1335\n",
            "Epoch 112/500\n",
            "2/2 [==============================] - 0s 14ms/step - loss: 0.8472 - mae: 0.8472\n",
            "Epoch 113/500\n",
            "2/2 [==============================] - 0s 7ms/step - loss: 1.7531 - mae: 1.7531\n",
            "Epoch 114/500\n",
            "2/2 [==============================] - 0s 8ms/step - loss: 1.1486 - mae: 1.1486\n",
            "Epoch 115/500\n",
            "2/2 [==============================] - 0s 6ms/step - loss: 0.4429 - mae: 0.4429\n",
            "Epoch 116/500\n",
            "2/2 [==============================] - 0s 6ms/step - loss: 0.6281 - mae: 0.6281\n",
            "Epoch 117/500\n",
            "2/2 [==============================] - 0s 6ms/step - loss: 0.2980 - mae: 0.2980\n",
            "Epoch 118/500\n",
            "2/2 [==============================] - 0s 7ms/step - loss: 0.7734 - mae: 0.7734\n",
            "Epoch 119/500\n",
            "2/2 [==============================] - 0s 7ms/step - loss: 1.6274 - mae: 1.6274\n",
            "Epoch 120/500\n",
            "2/2 [==============================] - 0s 7ms/step - loss: 2.1122 - mae: 2.1122\n",
            "Epoch 121/500\n",
            "2/2 [==============================] - 0s 7ms/step - loss: 2.8022 - mae: 2.8022\n",
            "Epoch 122/500\n",
            "2/2 [==============================] - 0s 7ms/step - loss: 0.8613 - mae: 0.8613\n",
            "Epoch 123/500\n",
            "2/2 [==============================] - 0s 7ms/step - loss: 1.2901 - mae: 1.2901\n",
            "Epoch 124/500\n",
            "2/2 [==============================] - 0s 6ms/step - loss: 1.0074 - mae: 1.0074\n",
            "Epoch 125/500\n",
            "2/2 [==============================] - 0s 7ms/step - loss: 0.4802 - mae: 0.4802\n",
            "Epoch 126/500\n",
            "2/2 [==============================] - 0s 6ms/step - loss: 0.7917 - mae: 0.7917\n",
            "Epoch 127/500\n",
            "2/2 [==============================] - 0s 6ms/step - loss: 0.6207 - mae: 0.6207\n",
            "Epoch 128/500\n",
            "2/2 [==============================] - 0s 7ms/step - loss: 1.5437 - mae: 1.5437\n",
            "Epoch 129/500\n",
            "2/2 [==============================] - 0s 6ms/step - loss: 1.4974 - mae: 1.4974\n",
            "Epoch 130/500\n",
            "2/2 [==============================] - 0s 8ms/step - loss: 1.4589 - mae: 1.4589\n",
            "Epoch 131/500\n",
            "2/2 [==============================] - 0s 7ms/step - loss: 1.0524 - mae: 1.0524\n",
            "Epoch 132/500\n",
            "2/2 [==============================] - 0s 7ms/step - loss: 2.0543 - mae: 2.0543\n",
            "Epoch 133/500\n",
            "2/2 [==============================] - 0s 6ms/step - loss: 0.5774 - mae: 0.5774\n",
            "Epoch 134/500\n",
            "2/2 [==============================] - 0s 7ms/step - loss: 1.2058 - mae: 1.2058\n",
            "Epoch 135/500\n",
            "2/2 [==============================] - 0s 7ms/step - loss: 1.8003 - mae: 1.8003\n",
            "Epoch 136/500\n",
            "2/2 [==============================] - 0s 4ms/step - loss: 1.9450 - mae: 1.9450\n",
            "Epoch 137/500\n",
            "2/2 [==============================] - 0s 6ms/step - loss: 1.5866 - mae: 1.5866\n",
            "Epoch 138/500\n",
            "2/2 [==============================] - 0s 7ms/step - loss: 2.3321 - mae: 2.3321\n",
            "Epoch 139/500\n",
            "2/2 [==============================] - 0s 7ms/step - loss: 0.5827 - mae: 0.5827\n",
            "Epoch 140/500\n",
            "2/2 [==============================] - 0s 7ms/step - loss: 1.4559 - mae: 1.4559\n",
            "Epoch 141/500\n",
            "2/2 [==============================] - 0s 7ms/step - loss: 0.9400 - mae: 0.9400\n",
            "Epoch 142/500\n",
            "2/2 [==============================] - 0s 7ms/step - loss: 1.2080 - mae: 1.2080\n",
            "Epoch 143/500\n",
            "2/2 [==============================] - 0s 7ms/step - loss: 0.8808 - mae: 0.8808\n",
            "Epoch 144/500\n",
            "2/2 [==============================] - 0s 9ms/step - loss: 1.0622 - mae: 1.0622\n",
            "Epoch 145/500\n",
            "2/2 [==============================] - 0s 6ms/step - loss: 1.2129 - mae: 1.2129\n",
            "Epoch 146/500\n",
            "2/2 [==============================] - 0s 7ms/step - loss: 1.1975 - mae: 1.1975\n",
            "Epoch 147/500\n",
            "2/2 [==============================] - 0s 6ms/step - loss: 1.2645 - mae: 1.2645\n",
            "Epoch 148/500\n",
            "2/2 [==============================] - 0s 7ms/step - loss: 0.7209 - mae: 0.7209\n",
            "Epoch 149/500\n",
            "2/2 [==============================] - 0s 6ms/step - loss: 2.1105 - mae: 2.1105\n",
            "Epoch 150/500\n",
            "2/2 [==============================] - 0s 7ms/step - loss: 0.8563 - mae: 0.8563\n",
            "Epoch 151/500\n",
            "2/2 [==============================] - 0s 7ms/step - loss: 1.5999 - mae: 1.5999\n",
            "Epoch 152/500\n",
            "2/2 [==============================] - 0s 7ms/step - loss: 1.5777 - mae: 1.5777\n",
            "Epoch 153/500\n",
            "2/2 [==============================] - 0s 7ms/step - loss: 0.4879 - mae: 0.4879\n",
            "Epoch 154/500\n",
            "2/2 [==============================] - 0s 7ms/step - loss: 0.8449 - mae: 0.8449\n",
            "Epoch 155/500\n",
            "2/2 [==============================] - 0s 7ms/step - loss: 0.8407 - mae: 0.8407\n",
            "Epoch 156/500\n",
            "2/2 [==============================] - 0s 7ms/step - loss: 0.9411 - mae: 0.9411\n",
            "Epoch 157/500\n",
            "2/2 [==============================] - 0s 7ms/step - loss: 0.9078 - mae: 0.9078\n",
            "Epoch 158/500\n",
            "2/2 [==============================] - 0s 8ms/step - loss: 0.8534 - mae: 0.8534\n",
            "Epoch 159/500\n",
            "2/2 [==============================] - 0s 9ms/step - loss: 0.9520 - mae: 0.9520\n",
            "Epoch 160/500\n",
            "2/2 [==============================] - 0s 7ms/step - loss: 1.9210 - mae: 1.9210\n",
            "Epoch 161/500\n",
            "2/2 [==============================] - 0s 7ms/step - loss: 0.6598 - mae: 0.6598\n",
            "Epoch 162/500\n",
            "2/2 [==============================] - 0s 7ms/step - loss: 1.8764 - mae: 1.8764\n",
            "Epoch 163/500\n",
            "2/2 [==============================] - 0s 7ms/step - loss: 1.3569 - mae: 1.3569\n",
            "Epoch 164/500\n",
            "2/2 [==============================] - 0s 6ms/step - loss: 1.7843 - mae: 1.7843\n",
            "Epoch 165/500\n",
            "2/2 [==============================] - 0s 7ms/step - loss: 1.1786 - mae: 1.1786\n",
            "Epoch 166/500\n",
            "2/2 [==============================] - 0s 8ms/step - loss: 1.0654 - mae: 1.0654\n",
            "Epoch 167/500\n",
            "2/2 [==============================] - 0s 7ms/step - loss: 1.4994 - mae: 1.4994\n",
            "Epoch 168/500\n",
            "2/2 [==============================] - 0s 7ms/step - loss: 0.7761 - mae: 0.7761\n",
            "Epoch 169/500\n",
            "2/2 [==============================] - 0s 6ms/step - loss: 0.8912 - mae: 0.8912\n",
            "Epoch 170/500\n",
            "2/2 [==============================] - 0s 7ms/step - loss: 0.6748 - mae: 0.6748\n",
            "Epoch 171/500\n",
            "2/2 [==============================] - 0s 7ms/step - loss: 0.5933 - mae: 0.5933\n",
            "Epoch 172/500\n",
            "2/2 [==============================] - 0s 7ms/step - loss: 0.6988 - mae: 0.6988\n",
            "Epoch 173/500\n",
            "2/2 [==============================] - 0s 6ms/step - loss: 1.2287 - mae: 1.2287\n",
            "Epoch 174/500\n",
            "2/2 [==============================] - 0s 6ms/step - loss: 1.0383 - mae: 1.0383\n",
            "Epoch 175/500\n",
            "2/2 [==============================] - 0s 7ms/step - loss: 0.7667 - mae: 0.7667\n",
            "Epoch 176/500\n",
            "2/2 [==============================] - 0s 7ms/step - loss: 0.8378 - mae: 0.8378\n",
            "Epoch 177/500\n",
            "2/2 [==============================] - 0s 8ms/step - loss: 0.5944 - mae: 0.5944\n",
            "Epoch 178/500\n",
            "2/2 [==============================] - 0s 6ms/step - loss: 0.8069 - mae: 0.8069\n",
            "Epoch 179/500\n",
            "2/2 [==============================] - 0s 7ms/step - loss: 1.0648 - mae: 1.0648\n",
            "Epoch 180/500\n",
            "2/2 [==============================] - 0s 7ms/step - loss: 1.1766 - mae: 1.1766\n",
            "Epoch 181/500\n",
            "2/2 [==============================] - 0s 7ms/step - loss: 0.8450 - mae: 0.8450\n",
            "Epoch 182/500\n",
            "2/2 [==============================] - 0s 14ms/step - loss: 1.0298 - mae: 1.0298\n",
            "Epoch 183/500\n",
            "2/2 [==============================] - 0s 7ms/step - loss: 0.8833 - mae: 0.8833\n",
            "Epoch 184/500\n",
            "2/2 [==============================] - 0s 7ms/step - loss: 1.2868 - mae: 1.2868\n",
            "Epoch 185/500\n",
            "2/2 [==============================] - 0s 7ms/step - loss: 1.4285 - mae: 1.4285\n",
            "Epoch 186/500\n",
            "2/2 [==============================] - 0s 7ms/step - loss: 1.9089 - mae: 1.9089\n",
            "Epoch 187/500\n",
            "2/2 [==============================] - 0s 7ms/step - loss: 2.4319 - mae: 2.4319\n",
            "Epoch 188/500\n",
            "2/2 [==============================] - 0s 6ms/step - loss: 0.6030 - mae: 0.6030\n",
            "Epoch 189/500\n",
            "2/2 [==============================] - 0s 7ms/step - loss: 4.5861 - mae: 4.5861\n",
            "Epoch 190/500\n",
            "2/2 [==============================] - 0s 8ms/step - loss: 4.5675 - mae: 4.5675\n",
            "Epoch 191/500\n",
            "2/2 [==============================] - 0s 7ms/step - loss: 1.6595 - mae: 1.6595\n",
            "Epoch 192/500\n",
            "2/2 [==============================] - 0s 7ms/step - loss: 3.5774 - mae: 3.5774\n",
            "Epoch 193/500\n",
            "2/2 [==============================] - 0s 8ms/step - loss: 3.8333 - mae: 3.8333\n",
            "Epoch 194/500\n",
            "2/2 [==============================] - 0s 8ms/step - loss: 1.2760 - mae: 1.2760\n",
            "Epoch 195/500\n",
            "2/2 [==============================] - 0s 7ms/step - loss: 3.2114 - mae: 3.2114\n",
            "Epoch 196/500\n",
            "2/2 [==============================] - 0s 6ms/step - loss: 3.2916 - mae: 3.2916\n",
            "Epoch 197/500\n",
            "2/2 [==============================] - 0s 8ms/step - loss: 1.1718 - mae: 1.1718\n",
            "Epoch 198/500\n",
            "2/2 [==============================] - 0s 7ms/step - loss: 2.0447 - mae: 2.0447\n",
            "Epoch 199/500\n",
            "2/2 [==============================] - 0s 6ms/step - loss: 3.1337 - mae: 3.1337\n",
            "Epoch 200/500\n",
            "2/2 [==============================] - 0s 6ms/step - loss: 2.3942 - mae: 2.3942\n",
            "Epoch 201/500\n",
            "2/2 [==============================] - 0s 7ms/step - loss: 2.1862 - mae: 2.1862\n",
            "Epoch 202/500\n",
            "2/2 [==============================] - 0s 7ms/step - loss: 3.1545 - mae: 3.1545\n",
            "Epoch 203/500\n",
            "2/2 [==============================] - 0s 7ms/step - loss: 2.4487 - mae: 2.4487\n",
            "Epoch 204/500\n",
            "2/2 [==============================] - 0s 7ms/step - loss: 1.6307 - mae: 1.6307\n",
            "Epoch 205/500\n",
            "2/2 [==============================] - 0s 7ms/step - loss: 2.9894 - mae: 2.9894\n",
            "Epoch 206/500\n",
            "2/2 [==============================] - 0s 7ms/step - loss: 3.2747 - mae: 3.2747\n",
            "Epoch 207/500\n",
            "2/2 [==============================] - 0s 7ms/step - loss: 0.7115 - mae: 0.7115\n",
            "Epoch 208/500\n",
            "2/2 [==============================] - 0s 7ms/step - loss: 2.1190 - mae: 2.1190\n",
            "Epoch 209/500\n",
            "2/2 [==============================] - 0s 5ms/step - loss: 1.3851 - mae: 1.3851\n",
            "Epoch 210/500\n",
            "2/2 [==============================] - 0s 7ms/step - loss: 1.8697 - mae: 1.8697\n",
            "Epoch 211/500\n",
            "2/2 [==============================] - 0s 7ms/step - loss: 2.0956 - mae: 2.0956\n",
            "Epoch 212/500\n",
            "2/2 [==============================] - 0s 11ms/step - loss: 0.4625 - mae: 0.4625\n",
            "Epoch 213/500\n",
            "2/2 [==============================] - 0s 11ms/step - loss: 1.8260 - mae: 1.8260\n",
            "Epoch 214/500\n",
            "2/2 [==============================] - 0s 6ms/step - loss: 1.1084 - mae: 1.1084\n",
            "Epoch 215/500\n",
            "2/2 [==============================] - 0s 5ms/step - loss: 0.5630 - mae: 0.5630\n",
            "Epoch 216/500\n",
            "2/2 [==============================] - 0s 6ms/step - loss: 1.6681 - mae: 1.6681\n",
            "Epoch 217/500\n",
            "2/2 [==============================] - 0s 7ms/step - loss: 0.9721 - mae: 0.9721\n",
            "Epoch 218/500\n",
            "2/2 [==============================] - 0s 7ms/step - loss: 2.3915 - mae: 2.3915\n",
            "Epoch 219/500\n",
            "2/2 [==============================] - 0s 7ms/step - loss: 2.7093 - mae: 2.7093\n",
            "Epoch 220/500\n",
            "2/2 [==============================] - 0s 8ms/step - loss: 1.1149 - mae: 1.1149\n",
            "Epoch 221/500\n",
            "2/2 [==============================] - 0s 7ms/step - loss: 1.7931 - mae: 1.7931\n",
            "Epoch 222/500\n",
            "2/2 [==============================] - 0s 8ms/step - loss: 0.7961 - mae: 0.7961\n",
            "Epoch 223/500\n",
            "2/2 [==============================] - 0s 7ms/step - loss: 1.6440 - mae: 1.6440\n",
            "Epoch 224/500\n",
            "2/2 [==============================] - 0s 7ms/step - loss: 1.3136 - mae: 1.3136\n",
            "Epoch 225/500\n",
            "2/2 [==============================] - 0s 12ms/step - loss: 1.3171 - mae: 1.3171\n",
            "Epoch 226/500\n",
            "2/2 [==============================] - 0s 8ms/step - loss: 1.0848 - mae: 1.0848\n",
            "Epoch 227/500\n",
            "2/2 [==============================] - 0s 7ms/step - loss: 0.7535 - mae: 0.7535\n",
            "Epoch 228/500\n",
            "2/2 [==============================] - 0s 7ms/step - loss: 0.5202 - mae: 0.5202\n",
            "Epoch 229/500\n",
            "2/2 [==============================] - 0s 7ms/step - loss: 1.5139 - mae: 1.5139\n",
            "Epoch 230/500\n",
            "2/2 [==============================] - 0s 8ms/step - loss: 0.6241 - mae: 0.6241\n",
            "Epoch 231/500\n",
            "2/2 [==============================] - 0s 7ms/step - loss: 0.8801 - mae: 0.8801\n",
            "Epoch 232/500\n",
            "2/2 [==============================] - 0s 7ms/step - loss: 0.8241 - mae: 0.8241\n",
            "Epoch 233/500\n",
            "2/2 [==============================] - 0s 7ms/step - loss: 0.7664 - mae: 0.7664\n",
            "Epoch 234/500\n",
            "2/2 [==============================] - 0s 7ms/step - loss: 0.5711 - mae: 0.5711\n",
            "Epoch 235/500\n",
            "2/2 [==============================] - 0s 7ms/step - loss: 0.4698 - mae: 0.4698\n",
            "Epoch 236/500\n",
            "2/2 [==============================] - 0s 7ms/step - loss: 0.8495 - mae: 0.8495\n",
            "Epoch 237/500\n",
            "2/2 [==============================] - 0s 7ms/step - loss: 0.8479 - mae: 0.8479\n",
            "Epoch 238/500\n",
            "2/2 [==============================] - 0s 8ms/step - loss: 0.9219 - mae: 0.9219\n",
            "Epoch 239/500\n",
            "2/2 [==============================] - 0s 7ms/step - loss: 0.5579 - mae: 0.5579\n",
            "Epoch 240/500\n",
            "2/2 [==============================] - 0s 6ms/step - loss: 0.9275 - mae: 0.9275\n",
            "Epoch 241/500\n",
            "2/2 [==============================] - 0s 8ms/step - loss: 0.8540 - mae: 0.8540\n",
            "Epoch 242/500\n",
            "2/2 [==============================] - 0s 7ms/step - loss: 0.7030 - mae: 0.7030\n",
            "Epoch 243/500\n",
            "2/2 [==============================] - 0s 6ms/step - loss: 1.4748 - mae: 1.4748\n",
            "Epoch 244/500\n",
            "2/2 [==============================] - 0s 8ms/step - loss: 1.2417 - mae: 1.2417\n",
            "Epoch 245/500\n",
            "2/2 [==============================] - 0s 7ms/step - loss: 0.3494 - mae: 0.3494\n",
            "Epoch 246/500\n",
            "2/2 [==============================] - 0s 6ms/step - loss: 0.5405 - mae: 0.5405\n",
            "Epoch 247/500\n",
            "2/2 [==============================] - 0s 7ms/step - loss: 0.3767 - mae: 0.3767\n",
            "Epoch 248/500\n",
            "2/2 [==============================] - 0s 8ms/step - loss: 0.5052 - mae: 0.5052\n",
            "Epoch 249/500\n",
            "2/2 [==============================] - 0s 11ms/step - loss: 0.9958 - mae: 0.9958\n",
            "Epoch 250/500\n",
            "2/2 [==============================] - 0s 7ms/step - loss: 1.4696 - mae: 1.4696\n",
            "Epoch 251/500\n",
            "2/2 [==============================] - 0s 7ms/step - loss: 1.9995 - mae: 1.9995\n",
            "Epoch 252/500\n",
            "2/2 [==============================] - 0s 10ms/step - loss: 2.2064 - mae: 2.2064\n",
            "Epoch 253/500\n",
            "2/2 [==============================] - 0s 7ms/step - loss: 3.2160 - mae: 3.2160\n",
            "Epoch 254/500\n",
            "2/2 [==============================] - 0s 7ms/step - loss: 1.8329 - mae: 1.8329\n",
            "Epoch 255/500\n",
            "2/2 [==============================] - 0s 9ms/step - loss: 1.6183 - mae: 1.6183\n",
            "Epoch 256/500\n",
            "2/2 [==============================] - 0s 7ms/step - loss: 1.4173 - mae: 1.4173\n",
            "Epoch 257/500\n",
            "2/2 [==============================] - 0s 7ms/step - loss: 1.4591 - mae: 1.4591\n",
            "Epoch 258/500\n",
            "2/2 [==============================] - 0s 8ms/step - loss: 1.9288 - mae: 1.9288\n",
            "Epoch 259/500\n",
            "2/2 [==============================] - 0s 6ms/step - loss: 0.6957 - mae: 0.6957\n",
            "Epoch 260/500\n",
            "2/2 [==============================] - 0s 7ms/step - loss: 0.9166 - mae: 0.9166\n",
            "Epoch 261/500\n",
            "2/2 [==============================] - 0s 8ms/step - loss: 1.8376 - mae: 1.8376\n",
            "Epoch 262/500\n",
            "2/2 [==============================] - 0s 9ms/step - loss: 1.5712 - mae: 1.5712\n",
            "Epoch 263/500\n",
            "2/2 [==============================] - 0s 8ms/step - loss: 1.3193 - mae: 1.3193\n",
            "Epoch 264/500\n",
            "2/2 [==============================] - 0s 7ms/step - loss: 0.6085 - mae: 0.6085\n",
            "Epoch 265/500\n",
            "2/2 [==============================] - 0s 7ms/step - loss: 0.9918 - mae: 0.9918\n",
            "Epoch 266/500\n",
            "2/2 [==============================] - 0s 8ms/step - loss: 0.9708 - mae: 0.9708\n",
            "Epoch 267/500\n",
            "2/2 [==============================] - 0s 7ms/step - loss: 1.6288 - mae: 1.6288\n",
            "Epoch 268/500\n",
            "2/2 [==============================] - 0s 8ms/step - loss: 1.7192 - mae: 1.7192\n",
            "Epoch 269/500\n",
            "2/2 [==============================] - 0s 7ms/step - loss: 1.5851 - mae: 1.5851\n",
            "Epoch 270/500\n",
            "2/2 [==============================] - 0s 7ms/step - loss: 1.4974 - mae: 1.4974\n",
            "Epoch 271/500\n",
            "2/2 [==============================] - 0s 7ms/step - loss: 1.1741 - mae: 1.1741\n",
            "Epoch 272/500\n",
            "2/2 [==============================] - 0s 7ms/step - loss: 0.9650 - mae: 0.9650\n",
            "Epoch 273/500\n",
            "2/2 [==============================] - 0s 7ms/step - loss: 1.3132 - mae: 1.3132\n",
            "Epoch 274/500\n",
            "2/2 [==============================] - 0s 10ms/step - loss: 1.0548 - mae: 1.0548\n",
            "Epoch 275/500\n",
            "2/2 [==============================] - 0s 8ms/step - loss: 0.6748 - mae: 0.6748\n",
            "Epoch 276/500\n",
            "2/2 [==============================] - 0s 7ms/step - loss: 1.3305 - mae: 1.3305\n",
            "Epoch 277/500\n",
            "2/2 [==============================] - 0s 7ms/step - loss: 0.7993 - mae: 0.7993\n",
            "Epoch 278/500\n",
            "2/2 [==============================] - 0s 7ms/step - loss: 1.3976 - mae: 1.3976\n",
            "Epoch 279/500\n",
            "2/2 [==============================] - 0s 7ms/step - loss: 1.4539 - mae: 1.4539\n",
            "Epoch 280/500\n",
            "2/2 [==============================] - 0s 8ms/step - loss: 1.4542 - mae: 1.4542\n",
            "Epoch 281/500\n",
            "2/2 [==============================] - 0s 7ms/step - loss: 1.7584 - mae: 1.7584\n",
            "Epoch 282/500\n",
            "2/2 [==============================] - 0s 8ms/step - loss: 1.1404 - mae: 1.1404\n",
            "Epoch 283/500\n",
            "2/2 [==============================] - 0s 7ms/step - loss: 1.5990 - mae: 1.5990\n",
            "Epoch 284/500\n",
            "2/2 [==============================] - 0s 8ms/step - loss: 0.8392 - mae: 0.8392\n",
            "Epoch 285/500\n",
            "2/2 [==============================] - 0s 7ms/step - loss: 1.0706 - mae: 1.0706\n",
            "Epoch 286/500\n",
            "2/2 [==============================] - 0s 8ms/step - loss: 0.7715 - mae: 0.7715\n",
            "Epoch 287/500\n",
            "2/2 [==============================] - 0s 9ms/step - loss: 1.0289 - mae: 1.0289\n",
            "Epoch 288/500\n",
            "2/2 [==============================] - 0s 9ms/step - loss: 0.3826 - mae: 0.3826\n",
            "Epoch 289/500\n",
            "2/2 [==============================] - 0s 7ms/step - loss: 0.4179 - mae: 0.4179\n",
            "Epoch 290/500\n",
            "2/2 [==============================] - 0s 7ms/step - loss: 0.4285 - mae: 0.4285\n",
            "Epoch 291/500\n",
            "2/2 [==============================] - 0s 7ms/step - loss: 0.8482 - mae: 0.8482\n",
            "Epoch 292/500\n",
            "2/2 [==============================] - 0s 8ms/step - loss: 0.5498 - mae: 0.5498\n",
            "Epoch 293/500\n",
            "2/2 [==============================] - 0s 7ms/step - loss: 0.9083 - mae: 0.9083\n",
            "Epoch 294/500\n",
            "2/2 [==============================] - 0s 7ms/step - loss: 0.7833 - mae: 0.7833\n",
            "Epoch 295/500\n",
            "2/2 [==============================] - 0s 7ms/step - loss: 1.0882 - mae: 1.0882\n",
            "Epoch 296/500\n",
            "2/2 [==============================] - 0s 6ms/step - loss: 1.1496 - mae: 1.1496\n",
            "Epoch 297/500\n",
            "2/2 [==============================] - 0s 5ms/step - loss: 1.0713 - mae: 1.0713\n",
            "Epoch 298/500\n",
            "2/2 [==============================] - 0s 6ms/step - loss: 0.9105 - mae: 0.9105\n",
            "Epoch 299/500\n",
            "2/2 [==============================] - 0s 7ms/step - loss: 1.5416 - mae: 1.5416\n",
            "Epoch 300/500\n",
            "2/2 [==============================] - 0s 9ms/step - loss: 0.8499 - mae: 0.8499\n",
            "Epoch 301/500\n",
            "2/2 [==============================] - 0s 9ms/step - loss: 1.6610 - mae: 1.6610\n",
            "Epoch 302/500\n",
            "2/2 [==============================] - 0s 5ms/step - loss: 1.1980 - mae: 1.1980\n",
            "Epoch 303/500\n",
            "2/2 [==============================] - 0s 6ms/step - loss: 1.0147 - mae: 1.0147\n",
            "Epoch 304/500\n",
            "2/2 [==============================] - 0s 6ms/step - loss: 1.0044 - mae: 1.0044\n",
            "Epoch 305/500\n",
            "2/2 [==============================] - 0s 9ms/step - loss: 0.6402 - mae: 0.6402\n",
            "Epoch 306/500\n",
            "2/2 [==============================] - 0s 9ms/step - loss: 0.6407 - mae: 0.6407\n",
            "Epoch 307/500\n",
            "2/2 [==============================] - 0s 6ms/step - loss: 0.3398 - mae: 0.3398\n",
            "Epoch 308/500\n",
            "2/2 [==============================] - 0s 4ms/step - loss: 0.5145 - mae: 0.5145\n",
            "Epoch 309/500\n",
            "2/2 [==============================] - 0s 5ms/step - loss: 0.9615 - mae: 0.9615\n",
            "Epoch 310/500\n",
            "2/2 [==============================] - 0s 4ms/step - loss: 0.2659 - mae: 0.2659\n",
            "Epoch 311/500\n",
            "2/2 [==============================] - 0s 5ms/step - loss: 0.8655 - mae: 0.8655\n",
            "Epoch 312/500\n",
            "2/2 [==============================] - 0s 7ms/step - loss: 1.8751 - mae: 1.8751\n",
            "Epoch 313/500\n",
            "2/2 [==============================] - 0s 6ms/step - loss: 2.0307 - mae: 2.0307\n",
            "Epoch 314/500\n",
            "2/2 [==============================] - 0s 6ms/step - loss: 0.9009 - mae: 0.9009\n",
            "Epoch 315/500\n",
            "2/2 [==============================] - 0s 6ms/step - loss: 0.8049 - mae: 0.8049\n",
            "Epoch 316/500\n",
            "2/2 [==============================] - 0s 5ms/step - loss: 2.0138 - mae: 2.0138\n",
            "Epoch 317/500\n",
            "2/2 [==============================] - 0s 5ms/step - loss: 1.1543 - mae: 1.1543\n",
            "Epoch 318/500\n",
            "2/2 [==============================] - 0s 4ms/step - loss: 2.1906 - mae: 2.1906\n",
            "Epoch 319/500\n",
            "2/2 [==============================] - 0s 7ms/step - loss: 1.3757 - mae: 1.3757\n",
            "Epoch 320/500\n",
            "2/2 [==============================] - 0s 7ms/step - loss: 1.5783 - mae: 1.5783\n",
            "Epoch 321/500\n",
            "2/2 [==============================] - 0s 7ms/step - loss: 1.1692 - mae: 1.1692\n",
            "Epoch 322/500\n",
            "2/2 [==============================] - 0s 12ms/step - loss: 1.8494 - mae: 1.8494\n",
            "Epoch 323/500\n",
            "2/2 [==============================] - 0s 8ms/step - loss: 1.5369 - mae: 1.5369\n",
            "Epoch 324/500\n",
            "2/2 [==============================] - 0s 9ms/step - loss: 1.7450 - mae: 1.7450\n",
            "Epoch 325/500\n",
            "2/2 [==============================] - 0s 7ms/step - loss: 1.5917 - mae: 1.5917\n",
            "Epoch 326/500\n",
            "2/2 [==============================] - 0s 10ms/step - loss: 2.5856 - mae: 2.5856\n",
            "Epoch 327/500\n",
            "2/2 [==============================] - 0s 7ms/step - loss: 1.3488 - mae: 1.3488\n",
            "Epoch 328/500\n",
            "2/2 [==============================] - 0s 7ms/step - loss: 2.8831 - mae: 2.8831\n",
            "Epoch 329/500\n",
            "2/2 [==============================] - 0s 8ms/step - loss: 2.1551 - mae: 2.1551\n",
            "Epoch 330/500\n",
            "2/2 [==============================] - 0s 9ms/step - loss: 1.3172 - mae: 1.3172\n",
            "Epoch 331/500\n",
            "2/2 [==============================] - 0s 9ms/step - loss: 1.1385 - mae: 1.1385\n",
            "Epoch 332/500\n",
            "2/2 [==============================] - 0s 8ms/step - loss: 1.7278 - mae: 1.7278\n",
            "Epoch 333/500\n",
            "2/2 [==============================] - 0s 8ms/step - loss: 1.2085 - mae: 1.2085\n",
            "Epoch 334/500\n",
            "2/2 [==============================] - 0s 7ms/step - loss: 0.9033 - mae: 0.9033\n",
            "Epoch 335/500\n",
            "2/2 [==============================] - 0s 7ms/step - loss: 0.7958 - mae: 0.7958\n",
            "Epoch 336/500\n",
            "2/2 [==============================] - 0s 6ms/step - loss: 0.6147 - mae: 0.6147\n",
            "Epoch 337/500\n",
            "2/2 [==============================] - 0s 8ms/step - loss: 0.5654 - mae: 0.5654\n",
            "Epoch 338/500\n",
            "2/2 [==============================] - 0s 7ms/step - loss: 1.4784 - mae: 1.4784\n",
            "Epoch 339/500\n",
            "2/2 [==============================] - 0s 7ms/step - loss: 0.5435 - mae: 0.5435\n",
            "Epoch 340/500\n",
            "2/2 [==============================] - 0s 7ms/step - loss: 0.6352 - mae: 0.6352\n",
            "Epoch 341/500\n",
            "2/2 [==============================] - 0s 8ms/step - loss: 0.1943 - mae: 0.1943\n",
            "Epoch 342/500\n",
            "2/2 [==============================] - 0s 8ms/step - loss: 0.4325 - mae: 0.4325\n",
            "Epoch 343/500\n",
            "2/2 [==============================] - 0s 8ms/step - loss: 1.7008 - mae: 1.7008\n",
            "Epoch 344/500\n",
            "2/2 [==============================] - 0s 8ms/step - loss: 1.0469 - mae: 1.0469\n",
            "Epoch 345/500\n",
            "2/2 [==============================] - 0s 9ms/step - loss: 0.6838 - mae: 0.6838\n",
            "Epoch 346/500\n",
            "2/2 [==============================] - 0s 7ms/step - loss: 0.6850 - mae: 0.6850\n",
            "Epoch 347/500\n",
            "2/2 [==============================] - 0s 7ms/step - loss: 0.7037 - mae: 0.7037\n",
            "Epoch 348/500\n",
            "2/2 [==============================] - 0s 7ms/step - loss: 0.6009 - mae: 0.6009\n",
            "Epoch 349/500\n",
            "2/2 [==============================] - 0s 8ms/step - loss: 0.6619 - mae: 0.6619\n",
            "Epoch 350/500\n",
            "2/2 [==============================] - 0s 9ms/step - loss: 0.4756 - mae: 0.4756\n",
            "Epoch 351/500\n",
            "2/2 [==============================] - 0s 8ms/step - loss: 0.7554 - mae: 0.7554\n",
            "Epoch 352/500\n",
            "2/2 [==============================] - 0s 8ms/step - loss: 0.5063 - mae: 0.5063\n",
            "Epoch 353/500\n",
            "2/2 [==============================] - 0s 6ms/step - loss: 0.5182 - mae: 0.5182\n",
            "Epoch 354/500\n",
            "2/2 [==============================] - 0s 9ms/step - loss: 0.8915 - mae: 0.8915\n",
            "Epoch 355/500\n",
            "2/2 [==============================] - 0s 6ms/step - loss: 1.1169 - mae: 1.1169\n",
            "Epoch 356/500\n",
            "2/2 [==============================] - 0s 8ms/step - loss: 0.7433 - mae: 0.7433\n",
            "Epoch 357/500\n",
            "2/2 [==============================] - 0s 6ms/step - loss: 2.1727 - mae: 2.1727\n",
            "Epoch 358/500\n",
            "2/2 [==============================] - 0s 6ms/step - loss: 1.5402 - mae: 1.5402\n",
            "Epoch 359/500\n",
            "2/2 [==============================] - 0s 9ms/step - loss: 1.1257 - mae: 1.1257\n",
            "Epoch 360/500\n",
            "2/2 [==============================] - 0s 8ms/step - loss: 0.7234 - mae: 0.7234\n",
            "Epoch 361/500\n",
            "2/2 [==============================] - 0s 5ms/step - loss: 0.7714 - mae: 0.7714\n",
            "Epoch 362/500\n",
            "2/2 [==============================] - 0s 5ms/step - loss: 0.7336 - mae: 0.7336\n",
            "Epoch 363/500\n",
            "2/2 [==============================] - 0s 4ms/step - loss: 0.5893 - mae: 0.5893\n",
            "Epoch 364/500\n",
            "2/2 [==============================] - 0s 5ms/step - loss: 0.8015 - mae: 0.8015\n",
            "Epoch 365/500\n",
            "2/2 [==============================] - 0s 7ms/step - loss: 0.3875 - mae: 0.3875\n",
            "Epoch 366/500\n",
            "2/2 [==============================] - 0s 5ms/step - loss: 1.7491 - mae: 1.7491\n",
            "Epoch 367/500\n",
            "2/2 [==============================] - 0s 7ms/step - loss: 0.7327 - mae: 0.7327\n",
            "Epoch 368/500\n",
            "2/2 [==============================] - 0s 4ms/step - loss: 2.7325 - mae: 2.7325\n",
            "Epoch 369/500\n",
            "2/2 [==============================] - 0s 10ms/step - loss: 1.9689 - mae: 1.9689\n",
            "Epoch 370/500\n",
            "2/2 [==============================] - 0s 5ms/step - loss: 1.5223 - mae: 1.5223\n",
            "Epoch 371/500\n",
            "2/2 [==============================] - 0s 5ms/step - loss: 1.3023 - mae: 1.3023\n",
            "Epoch 372/500\n",
            "2/2 [==============================] - 0s 4ms/step - loss: 1.0392 - mae: 1.0392\n",
            "Epoch 373/500\n",
            "2/2 [==============================] - 0s 5ms/step - loss: 0.6023 - mae: 0.6023\n",
            "Epoch 374/500\n",
            "2/2 [==============================] - 0s 4ms/step - loss: 0.9090 - mae: 0.9090\n",
            "Epoch 375/500\n",
            "2/2 [==============================] - 0s 5ms/step - loss: 0.8336 - mae: 0.8336\n",
            "Epoch 376/500\n",
            "2/2 [==============================] - 0s 5ms/step - loss: 0.9885 - mae: 0.9885\n",
            "Epoch 377/500\n",
            "2/2 [==============================] - 0s 5ms/step - loss: 0.4243 - mae: 0.4243\n",
            "Epoch 378/500\n",
            "2/2 [==============================] - 0s 5ms/step - loss: 1.9479 - mae: 1.9479\n",
            "Epoch 379/500\n",
            "2/2 [==============================] - 0s 12ms/step - loss: 2.3454 - mae: 2.3454\n",
            "Epoch 380/500\n",
            "2/2 [==============================] - 0s 7ms/step - loss: 0.9485 - mae: 0.9485\n",
            "Epoch 381/500\n",
            "2/2 [==============================] - 0s 8ms/step - loss: 2.0066 - mae: 2.0066\n",
            "Epoch 382/500\n",
            "2/2 [==============================] - 0s 9ms/step - loss: 1.8482 - mae: 1.8482\n",
            "Epoch 383/500\n",
            "2/2 [==============================] - 0s 8ms/step - loss: 0.9507 - mae: 0.9507\n",
            "Epoch 384/500\n",
            "2/2 [==============================] - 0s 7ms/step - loss: 0.8065 - mae: 0.8065\n",
            "Epoch 385/500\n",
            "2/2 [==============================] - 0s 5ms/step - loss: 1.7580 - mae: 1.7580\n",
            "Epoch 386/500\n",
            "2/2 [==============================] - 0s 8ms/step - loss: 0.5521 - mae: 0.5521\n",
            "Epoch 387/500\n",
            "2/2 [==============================] - 0s 5ms/step - loss: 1.1974 - mae: 1.1974\n",
            "Epoch 388/500\n",
            "2/2 [==============================] - 0s 5ms/step - loss: 1.3418 - mae: 1.3418\n",
            "Epoch 389/500\n",
            "2/2 [==============================] - 0s 4ms/step - loss: 1.5353 - mae: 1.5353\n",
            "Epoch 390/500\n",
            "2/2 [==============================] - 0s 5ms/step - loss: 1.9087 - mae: 1.9087\n",
            "Epoch 391/500\n",
            "2/2 [==============================] - 0s 6ms/step - loss: 1.5446 - mae: 1.5446\n",
            "Epoch 392/500\n",
            "2/2 [==============================] - 0s 6ms/step - loss: 1.2947 - mae: 1.2947\n",
            "Epoch 393/500\n",
            "2/2 [==============================] - 0s 4ms/step - loss: 1.3673 - mae: 1.3673\n",
            "Epoch 394/500\n",
            "2/2 [==============================] - 0s 5ms/step - loss: 0.9693 - mae: 0.9693\n",
            "Epoch 395/500\n",
            "2/2 [==============================] - 0s 13ms/step - loss: 2.1059 - mae: 2.1059\n",
            "Epoch 396/500\n",
            "2/2 [==============================] - 0s 4ms/step - loss: 1.8265 - mae: 1.8265\n",
            "Epoch 397/500\n",
            "2/2 [==============================] - 0s 5ms/step - loss: 1.1806 - mae: 1.1806\n",
            "Epoch 398/500\n",
            "2/2 [==============================] - 0s 4ms/step - loss: 1.4733 - mae: 1.4733\n",
            "Epoch 399/500\n",
            "2/2 [==============================] - 0s 5ms/step - loss: 1.7273 - mae: 1.7273\n",
            "Epoch 400/500\n",
            "2/2 [==============================] - 0s 6ms/step - loss: 1.1998 - mae: 1.1998\n",
            "Epoch 401/500\n",
            "2/2 [==============================] - 0s 5ms/step - loss: 1.6096 - mae: 1.6096\n",
            "Epoch 402/500\n",
            "2/2 [==============================] - 0s 8ms/step - loss: 1.5257 - mae: 1.5257\n",
            "Epoch 403/500\n",
            "2/2 [==============================] - 0s 5ms/step - loss: 2.4511 - mae: 2.4511\n",
            "Epoch 404/500\n",
            "2/2 [==============================] - 0s 5ms/step - loss: 1.0620 - mae: 1.0620\n",
            "Epoch 405/500\n",
            "2/2 [==============================] - 0s 6ms/step - loss: 2.2053 - mae: 2.2053\n",
            "Epoch 406/500\n",
            "2/2 [==============================] - 0s 5ms/step - loss: 1.6208 - mae: 1.6208\n",
            "Epoch 407/500\n",
            "2/2 [==============================] - 0s 10ms/step - loss: 1.5423 - mae: 1.5423\n",
            "Epoch 408/500\n",
            "2/2 [==============================] - 0s 7ms/step - loss: 1.4445 - mae: 1.4445\n",
            "Epoch 409/500\n",
            "2/2 [==============================] - 0s 4ms/step - loss: 1.4261 - mae: 1.4261\n",
            "Epoch 410/500\n",
            "2/2 [==============================] - 0s 5ms/step - loss: 1.9695 - mae: 1.9695\n",
            "Epoch 411/500\n",
            "2/2 [==============================] - 0s 5ms/step - loss: 1.6065 - mae: 1.6065\n",
            "Epoch 412/500\n",
            "2/2 [==============================] - 0s 5ms/step - loss: 1.3784 - mae: 1.3784\n",
            "Epoch 413/500\n",
            "2/2 [==============================] - 0s 11ms/step - loss: 1.0583 - mae: 1.0583\n",
            "Epoch 414/500\n",
            "2/2 [==============================] - 0s 4ms/step - loss: 0.9481 - mae: 0.9481\n",
            "Epoch 415/500\n",
            "2/2 [==============================] - 0s 5ms/step - loss: 0.8472 - mae: 0.8472\n",
            "Epoch 416/500\n",
            "2/2 [==============================] - 0s 5ms/step - loss: 0.4071 - mae: 0.4071\n",
            "Epoch 417/500\n",
            "2/2 [==============================] - 0s 6ms/step - loss: 0.6495 - mae: 0.6495\n",
            "Epoch 418/500\n",
            "2/2 [==============================] - 0s 5ms/step - loss: 1.0193 - mae: 1.0193\n",
            "Epoch 419/500\n",
            "2/2 [==============================] - 0s 5ms/step - loss: 0.6224 - mae: 0.6224\n",
            "Epoch 420/500\n",
            "2/2 [==============================] - 0s 5ms/step - loss: 0.7080 - mae: 0.7080\n",
            "Epoch 421/500\n",
            "2/2 [==============================] - 0s 5ms/step - loss: 0.7518 - mae: 0.7518\n",
            "Epoch 422/500\n",
            "2/2 [==============================] - 0s 6ms/step - loss: 0.9898 - mae: 0.9898\n",
            "Epoch 423/500\n",
            "2/2 [==============================] - 0s 5ms/step - loss: 0.5069 - mae: 0.5069\n",
            "Epoch 424/500\n",
            "2/2 [==============================] - 0s 10ms/step - loss: 1.9847 - mae: 1.9847\n",
            "Epoch 425/500\n",
            "2/2 [==============================] - 0s 5ms/step - loss: 0.6741 - mae: 0.6741\n",
            "Epoch 426/500\n",
            "2/2 [==============================] - 0s 5ms/step - loss: 2.3881 - mae: 2.3881\n",
            "Epoch 427/500\n",
            "2/2 [==============================] - 0s 5ms/step - loss: 1.1809 - mae: 1.1809\n",
            "Epoch 428/500\n",
            "2/2 [==============================] - 0s 6ms/step - loss: 1.1392 - mae: 1.1392\n",
            "Epoch 429/500\n",
            "2/2 [==============================] - 0s 4ms/step - loss: 0.6600 - mae: 0.6600\n",
            "Epoch 430/500\n",
            "2/2 [==============================] - 0s 5ms/step - loss: 1.2981 - mae: 1.2981\n",
            "Epoch 431/500\n",
            "2/2 [==============================] - 0s 5ms/step - loss: 1.1554 - mae: 1.1554\n",
            "Epoch 432/500\n",
            "2/2 [==============================] - 0s 5ms/step - loss: 1.7646 - mae: 1.7646\n",
            "Epoch 433/500\n",
            "2/2 [==============================] - 0s 7ms/step - loss: 1.1447 - mae: 1.1447\n",
            "Epoch 434/500\n",
            "2/2 [==============================] - 0s 4ms/step - loss: 0.8613 - mae: 0.8613\n",
            "Epoch 435/500\n",
            "2/2 [==============================] - 0s 5ms/step - loss: 0.8779 - mae: 0.8779\n",
            "Epoch 436/500\n",
            "2/2 [==============================] - 0s 5ms/step - loss: 0.7511 - mae: 0.7511\n",
            "Epoch 437/500\n",
            "2/2 [==============================] - 0s 5ms/step - loss: 0.9707 - mae: 0.9707\n",
            "Epoch 438/500\n",
            "2/2 [==============================] - 0s 5ms/step - loss: 1.3478 - mae: 1.3478\n",
            "Epoch 439/500\n",
            "2/2 [==============================] - 0s 4ms/step - loss: 1.1104 - mae: 1.1104\n",
            "Epoch 440/500\n",
            "2/2 [==============================] - 0s 5ms/step - loss: 0.4482 - mae: 0.4482\n",
            "Epoch 441/500\n",
            "2/2 [==============================] - 0s 5ms/step - loss: 0.7701 - mae: 0.7701\n",
            "Epoch 442/500\n",
            "2/2 [==============================] - 0s 5ms/step - loss: 0.4783 - mae: 0.4783\n",
            "Epoch 443/500\n",
            "2/2 [==============================] - 0s 5ms/step - loss: 0.5381 - mae: 0.5381\n",
            "Epoch 444/500\n",
            "2/2 [==============================] - 0s 5ms/step - loss: 0.8593 - mae: 0.8593\n",
            "Epoch 445/500\n",
            "2/2 [==============================] - 0s 4ms/step - loss: 0.3053 - mae: 0.3053\n",
            "Epoch 446/500\n",
            "2/2 [==============================] - 0s 5ms/step - loss: 0.9664 - mae: 0.9664\n",
            "Epoch 447/500\n",
            "2/2 [==============================] - 0s 5ms/step - loss: 1.0331 - mae: 1.0331\n",
            "Epoch 448/500\n",
            "2/2 [==============================] - 0s 5ms/step - loss: 0.6247 - mae: 0.6247\n",
            "Epoch 449/500\n",
            "2/2 [==============================] - 0s 6ms/step - loss: 0.4243 - mae: 0.4243\n",
            "Epoch 450/500\n",
            "2/2 [==============================] - 0s 5ms/step - loss: 0.5127 - mae: 0.5127\n",
            "Epoch 451/500\n",
            "2/2 [==============================] - 0s 5ms/step - loss: 0.2560 - mae: 0.2560\n",
            "Epoch 452/500\n",
            "2/2 [==============================] - 0s 4ms/step - loss: 0.8312 - mae: 0.8312\n",
            "Epoch 453/500\n",
            "2/2 [==============================] - 0s 5ms/step - loss: 0.7758 - mae: 0.7758\n",
            "Epoch 454/500\n",
            "2/2 [==============================] - 0s 5ms/step - loss: 0.8502 - mae: 0.8502\n",
            "Epoch 455/500\n",
            "2/2 [==============================] - 0s 6ms/step - loss: 0.5205 - mae: 0.5205\n",
            "Epoch 456/500\n",
            "2/2 [==============================] - 0s 9ms/step - loss: 0.6770 - mae: 0.6770\n",
            "Epoch 457/500\n",
            "2/2 [==============================] - 0s 5ms/step - loss: 0.7793 - mae: 0.7793\n",
            "Epoch 458/500\n",
            "2/2 [==============================] - 0s 6ms/step - loss: 0.4559 - mae: 0.4559\n",
            "Epoch 459/500\n",
            "2/2 [==============================] - 0s 6ms/step - loss: 2.2740 - mae: 2.2740\n",
            "Epoch 460/500\n",
            "2/2 [==============================] - 0s 9ms/step - loss: 2.0203 - mae: 2.0203\n",
            "Epoch 461/500\n",
            "2/2 [==============================] - 0s 6ms/step - loss: 0.5529 - mae: 0.5529\n",
            "Epoch 462/500\n",
            "2/2 [==============================] - 0s 5ms/step - loss: 2.5038 - mae: 2.5038\n",
            "Epoch 463/500\n",
            "2/2 [==============================] - 0s 5ms/step - loss: 2.2924 - mae: 2.2924\n",
            "Epoch 464/500\n",
            "2/2 [==============================] - 0s 5ms/step - loss: 2.8435 - mae: 2.8435\n",
            "Epoch 465/500\n",
            "2/2 [==============================] - 0s 5ms/step - loss: 1.6153 - mae: 1.6153\n",
            "Epoch 466/500\n",
            "2/2 [==============================] - 0s 5ms/step - loss: 2.4394 - mae: 2.4394\n",
            "Epoch 467/500\n",
            "2/2 [==============================] - 0s 4ms/step - loss: 1.1493 - mae: 1.1493\n",
            "Epoch 468/500\n",
            "2/2 [==============================] - 0s 5ms/step - loss: 2.2092 - mae: 2.2092\n",
            "Epoch 469/500\n",
            "2/2 [==============================] - 0s 5ms/step - loss: 1.9073 - mae: 1.9073\n",
            "Epoch 470/500\n",
            "2/2 [==============================] - 0s 4ms/step - loss: 2.4353 - mae: 2.4353\n",
            "Epoch 471/500\n",
            "2/2 [==============================] - 0s 5ms/step - loss: 0.2528 - mae: 0.2528\n",
            "Epoch 472/500\n",
            "2/2 [==============================] - 0s 7ms/step - loss: 1.8693 - mae: 1.8693\n",
            "Epoch 473/500\n",
            "2/2 [==============================] - 0s 4ms/step - loss: 0.6054 - mae: 0.6054\n",
            "Epoch 474/500\n",
            "2/2 [==============================] - 0s 5ms/step - loss: 0.6438 - mae: 0.6438\n",
            "Epoch 475/500\n",
            "2/2 [==============================] - 0s 5ms/step - loss: 0.7322 - mae: 0.7322\n",
            "Epoch 476/500\n",
            "2/2 [==============================] - 0s 4ms/step - loss: 0.6381 - mae: 0.6381\n",
            "Epoch 477/500\n",
            "2/2 [==============================] - 0s 6ms/step - loss: 0.9222 - mae: 0.9222\n",
            "Epoch 478/500\n",
            "2/2 [==============================] - 0s 5ms/step - loss: 0.7791 - mae: 0.7791\n",
            "Epoch 479/500\n",
            "2/2 [==============================] - 0s 4ms/step - loss: 1.1387 - mae: 1.1387\n",
            "Epoch 480/500\n",
            "2/2 [==============================] - 0s 5ms/step - loss: 1.1312 - mae: 1.1312\n",
            "Epoch 481/500\n",
            "2/2 [==============================] - 0s 5ms/step - loss: 0.5591 - mae: 0.5591\n",
            "Epoch 482/500\n",
            "2/2 [==============================] - 0s 4ms/step - loss: 0.5331 - mae: 0.5331\n",
            "Epoch 483/500\n",
            "2/2 [==============================] - 0s 5ms/step - loss: 0.9438 - mae: 0.9438\n",
            "Epoch 484/500\n",
            "2/2 [==============================] - 0s 5ms/step - loss: 0.4679 - mae: 0.4679\n",
            "Epoch 485/500\n",
            "2/2 [==============================] - 0s 5ms/step - loss: 0.4991 - mae: 0.4991\n",
            "Epoch 486/500\n",
            "2/2 [==============================] - 0s 5ms/step - loss: 0.4629 - mae: 0.4629\n",
            "Epoch 487/500\n",
            "2/2 [==============================] - 0s 5ms/step - loss: 1.2878 - mae: 1.2878\n",
            "Epoch 488/500\n",
            "2/2 [==============================] - 0s 4ms/step - loss: 0.5356 - mae: 0.5356\n",
            "Epoch 489/500\n",
            "2/2 [==============================] - 0s 9ms/step - loss: 3.0711 - mae: 3.0711\n",
            "Epoch 490/500\n",
            "2/2 [==============================] - 0s 12ms/step - loss: 3.4755 - mae: 3.4755\n",
            "Epoch 491/500\n",
            "2/2 [==============================] - 0s 7ms/step - loss: 1.7295 - mae: 1.7295\n",
            "Epoch 492/500\n",
            "2/2 [==============================] - 0s 4ms/step - loss: 1.9209 - mae: 1.9209\n",
            "Epoch 493/500\n",
            "2/2 [==============================] - 0s 5ms/step - loss: 2.9692 - mae: 2.9692\n",
            "Epoch 494/500\n",
            "2/2 [==============================] - 0s 5ms/step - loss: 2.0778 - mae: 2.0778\n",
            "Epoch 495/500\n",
            "2/2 [==============================] - 0s 5ms/step - loss: 1.8319 - mae: 1.8319\n",
            "Epoch 496/500\n",
            "2/2 [==============================] - 0s 4ms/step - loss: 2.5210 - mae: 2.5210\n",
            "Epoch 497/500\n",
            "2/2 [==============================] - 0s 4ms/step - loss: 0.9295 - mae: 0.9295\n",
            "Epoch 498/500\n",
            "2/2 [==============================] - 0s 5ms/step - loss: 2.1232 - mae: 2.1232\n",
            "Epoch 499/500\n",
            "2/2 [==============================] - 0s 5ms/step - loss: 1.2102 - mae: 1.2102\n",
            "Epoch 500/500\n",
            "2/2 [==============================] - 0s 7ms/step - loss: 0.6904 - mae: 0.6904\n"
          ]
        },
        {
          "output_type": "execute_result",
          "data": {
            "text/plain": [
              "<keras.callbacks.History at 0x7f13eb994950>"
            ]
          },
          "metadata": {},
          "execution_count": 61
        }
      ]
    },
    {
      "cell_type": "code",
      "source": [
        "model_5.summary()"
      ],
      "metadata": {
        "colab": {
          "base_uri": "https://localhost:8080/"
        },
        "id": "pJ8LT79MOWh8",
        "outputId": "14c3832f-5b45-494d-f0a6-8a3eb2079ac2"
      },
      "execution_count": null,
      "outputs": [
        {
          "output_type": "stream",
          "name": "stdout",
          "text": [
            "Model: \"sequential_7\"\n",
            "_________________________________________________________________\n",
            " Layer (type)                Output Shape              Param #   \n",
            "=================================================================\n",
            " dense_17 (Dense)            (None, 100)               200       \n",
            "                                                                 \n",
            " dense_18 (Dense)            (None, 100)               10100     \n",
            "                                                                 \n",
            " dense_19 (Dense)            (None, 1)                 101       \n",
            "                                                                 \n",
            "=================================================================\n",
            "Total params: 10,401\n",
            "Trainable params: 10,401\n",
            "Non-trainable params: 0\n",
            "_________________________________________________________________\n"
          ]
        }
      ]
    },
    {
      "cell_type": "code",
      "source": [
        "y_preds = model_5.predict(X_test)\n",
        "mae_5,mse_5 = evaluate_metrics(y_test,y_preds)\n",
        "plot_preds(X_train,y_train,X_test,y_test,y_preds)"
      ],
      "metadata": {
        "colab": {
          "base_uri": "https://localhost:8080/",
          "height": 428
        },
        "id": "3AOxoxd1OeS_",
        "outputId": "0919fe2d-5a02-4f51-acec-171f6337ad54"
      },
      "execution_count": null,
      "outputs": [
        {
          "output_type": "display_data",
          "data": {
            "text/plain": [
              "<Figure size 720x504 with 1 Axes>"
            ],
            "image/png": "[encoded data removed]"
          },
          "metadata": {
            "needs_background": "light"
          }
        }
      ]
    },
    {
      "cell_type": "code",
      "source": [
        "\n"
      ],
      "metadata": {
        "id": "4EU4GxhDT-JJ"
      },
      "execution_count": null,
      "outputs": []
    },
    {
      "cell_type": "markdown",
      "source": [
        "## Let's compare our models results in a dataframe"
      ],
      "metadata": {
        "id": "s4qXQvEcT-XZ"
      }
    },
    {
      "cell_type": "code",
      "source": [
        "import pandas as pd\n",
        "\n",
        "models = [[\"model_1\",mae_1.numpy(),mse_1.numpy()],\n",
        "          [\"model_2\",mae_2.numpy(),mse_2.numpy()],\n",
        "          [\"model_3\",mae_3.numpy(),mse_3.numpy()],\n",
        "          [\"model_4\",mae_4.numpy(),mse_4.numpy()],\n",
        "          [\"model_5\",mae_5.numpy(),mse_5.numpy()]]"
      ],
      "metadata": {
        "id": "lQcE0onHPbo5"
      },
      "execution_count": null,
      "outputs": []
    },
    {
      "cell_type": "code",
      "source": [
        "all_results = pd.DataFrame(models,columns=[\"Model\",\"MAE\",\"MSE\"])"
      ],
      "metadata": {
        "id": "No7tyvTSYJDg"
      },
      "execution_count": null,
      "outputs": []
    },
    {
      "cell_type": "code",
      "source": [
        "all_results"
      ],
      "metadata": {
        "colab": {
          "base_uri": "https://localhost:8080/",
          "height": 206
        },
        "id": "jDCgvXFLYJ0W",
        "outputId": "6c077435-a794-4375-b8e0-cbf9e591e301"
      },
      "execution_count": null,
      "outputs": [
        {
          "output_type": "execute_result",
          "data": {
            "text/plain": [
              "     Model        MAE         MSE\n",
              "0  model_1  18.745327  353.573395\n",
              "1  model_2   7.182925   57.071766\n",
              "2  model_3   4.993410   28.552881\n",
              "3  model_4   4.978035   25.212864\n",
              "4  model_5   3.304018   11.126681"
            ],
            "text/html": [
              "\n",
              "  <div id=\"df-a99c9a35-d755-4f22-9602-471067ec1e7e\">\n",
              "    <div class=\"colab-df-container\">\n",
              "      <div>\n",
              "<style scoped>\n",
              "    .dataframe tbody tr th:only-of-type {\n",
              "        vertical-align: middle;\n",
              "    }\n",
              "\n",
              "    .dataframe tbody tr th {\n",
              "        vertical-align: top;\n",
              "    }\n",
              "\n",
              "    .dataframe thead th {\n",
              "        text-align: right;\n",
              "    }\n",
              "</style>\n",
              "<table border=\"1\" class=\"dataframe\">\n",
              "  <thead>\n",
              "    <tr style=\"text-align: right;\">\n",
              "      <th></th>\n",
              "      <th>Model</th>\n",
              "      <th>MAE</th>\n",
              "      <th>MSE</th>\n",
              "    </tr>\n",
              "  </thead>\n",
              "  <tbody>\n",
              "    <tr>\n",
              "      <th>0</th>\n",
              "      <td>model_1</td>\n",
              "      <td>18.745327</td>\n",
              "      <td>353.573395</td>\n",
              "    </tr>\n",
              "    <tr>\n",
              "      <th>1</th>\n",
              "      <td>model_2</td>\n",
              "      <td>7.182925</td>\n",
              "      <td>57.071766</td>\n",
              "    </tr>\n",
              "    <tr>\n",
              "      <th>2</th>\n",
              "      <td>model_3</td>\n",
              "      <td>4.993410</td>\n",
              "      <td>28.552881</td>\n",
              "    </tr>\n",
              "    <tr>\n",
              "      <th>3</th>\n",
              "      <td>model_4</td>\n",
              "      <td>4.978035</td>\n",
              "      <td>25.212864</td>\n",
              "    </tr>\n",
              "    <tr>\n",
              "      <th>4</th>\n",
              "      <td>model_5</td>\n",
              "      <td>3.304018</td>\n",
              "      <td>11.126681</td>\n",
              "    </tr>\n",
              "  </tbody>\n",
              "</table>\n",
              "</div>\n",
              "      <button class=\"colab-df-convert\" onclick=\"convertToInteractive('df-a99c9a35-d755-4f22-9602-471067ec1e7e')\"\n",
              "              title=\"Convert this dataframe to an interactive table.\"\n",
              "              style=\"display:none;\">\n",
              "        \n",
              "  <svg xmlns=\"http://www.w3.org/2000/svg\" height=\"24px\"viewBox=\"0 0 24 24\"\n",
              "       width=\"24px\">\n",
              "    <path d=\"M0 0h24v24H0V0z\" fill=\"none\"/>\n",
              "    <path d=\"M18.56 5.44l.94 2.06.94-2.06 2.06-.94-2.06-.94-.94-2.06-.94 2.06-2.06.94zm-11 1L8.5 8.5l.94-2.06 2.06-.94-2.06-.94L8.5 2.5l-.94 2.06-2.06.94zm10 10l.94 2.06.94-2.06 2.06-.94-2.06-.94-.94-2.06-.94 2.06-2.06.94z\"/><path d=\"M17.41 7.96l-1.37-1.37c-.4-.4-.92-.59-1.43-.59-.52 0-1.04.2-1.43.59L10.3 9.45l-7.72 7.72c-.78.78-.78 2.05 0 2.83L4 21.41c.39.39.9.59 1.41.59.51 0 1.02-.2 1.41-.59l7.78-7.78 2.81-2.81c.8-.78.8-2.07 0-2.86zM5.41 20L4 18.59l7.72-7.72 1.47 1.35L5.41 20z\"/>\n",
              "  </svg>\n",
              "      </button>\n",
              "      \n",
              "  <style>\n",
              "    .colab-df-container {\n",
              "      display:flex;\n",
              "      flex-wrap:wrap;\n",
              "      gap: 12px;\n",
              "    }\n",
              "\n",
              "    .colab-df-convert {\n",
              "      background-color: #E8F0FE;\n",
              "      border: none;\n",
              "      border-radius: 50%;\n",
              "      cursor: pointer;\n",
              "      display: none;\n",
              "      fill: #1967D2;\n",
              "      height: 32px;\n",
              "      padding: 0 0 0 0;\n",
              "      width: 32px;\n",
              "    }\n",
              "\n",
              "    .colab-df-convert:hover {\n",
              "      background-color: #E2EBFA;\n",
              "      box-shadow: 0px 1px 2px rgba(60, 64, 67, 0.3), 0px 1px 3px 1px rgba(60, 64, 67, 0.15);\n",
              "      fill: #174EA6;\n",
              "    }\n",
              "\n",
              "    [theme=dark] .colab-df-convert {\n",
              "      background-color: #3B4455;\n",
              "      fill: #D2E3FC;\n",
              "    }\n",
              "\n",
              "    [theme=dark] .colab-df-convert:hover {\n",
              "      background-color: #434B5C;\n",
              "      box-shadow: 0px 1px 3px 1px rgba(0, 0, 0, 0.15);\n",
              "      filter: drop-shadow(0px 1px 2px rgba(0, 0, 0, 0.3));\n",
              "      fill: #FFFFFF;\n",
              "    }\n",
              "  </style>\n",
              "\n",
              "      <script>\n",
              "        const buttonEl =\n",
              "          document.querySelector('#df-a99c9a35-d755-4f22-9602-471067ec1e7e button.colab-df-convert');\n",
              "        buttonEl.style.display =\n",
              "          google.colab.kernel.accessAllowed ? 'block' : 'none';\n",
              "\n",
              "        async function convertToInteractive(key) {\n",
              "          const element = document.querySelector('#df-a99c9a35-d755-4f22-9602-471067ec1e7e');\n",
              "          const dataTable =\n",
              "            await google.colab.kernel.invokeFunction('convertToInteractive',\n",
              "                                                     [key], {});\n",
              "          if (!dataTable) return;\n",
              "\n",
              "          const docLinkHtml = 'Like what you see? Visit the ' +\n",
              "            '<a target=\"_blank\" href=https://colab.research.google.com/notebooks/data_table.ipynb>data table notebook</a>'\n",
              "            + ' to learn more about interactive tables.';\n",
              "          element.innerHTML = '';\n",
              "          dataTable['output_type'] = 'display_data';\n",
              "          await google.colab.output.renderOutput(dataTable, element);\n",
              "          const docLink = document.createElement('div');\n",
              "          docLink.innerHTML = docLinkHtml;\n",
              "          element.appendChild(docLink);\n",
              "        }\n",
              "      </script>\n",
              "    </div>\n",
              "  </div>\n",
              "  "
            ]
          },
          "metadata": {},
          "execution_count": 68
        }
      ]
    },
    {
      "cell_type": "markdown",
      "source": [
        "## Saving a model"
      ],
      "metadata": {
        "id": "K6Ab5kbPkbm0"
      }
    },
    {
      "cell_type": "code",
      "source": [
        "model_5.save(\"best_model\")"
      ],
      "metadata": {
        "id": "MlH4srFSioXL"
      },
      "execution_count": null,
      "outputs": []
    },
    {
      "cell_type": "code",
      "source": [
        "model_5.save(\"best_model_5.h5\")"
      ],
      "metadata": {
        "id": "olsnED9DlxrL"
      },
      "execution_count": null,
      "outputs": []
    },
    {
      "cell_type": "markdown",
      "source": [
        "## Loading a saved model"
      ],
      "metadata": {
        "id": "0t8uxs8Imyi2"
      }
    },
    {
      "cell_type": "code",
      "source": [
        "loaded_model = tf.keras.models.load_model(\"best_model_5.h5\")"
      ],
      "metadata": {
        "id": "gbMN-wqEmYx5"
      },
      "execution_count": null,
      "outputs": []
    },
    {
      "cell_type": "code",
      "source": [
        "loaded_model.summary()"
      ],
      "metadata": {
        "colab": {
          "base_uri": "https://localhost:8080/"
        },
        "id": "a0ZMzZaVnBhc",
        "outputId": "b9c3fba1-ee63-4b97-defb-3e0b01c387a5"
      },
      "execution_count": null,
      "outputs": [
        {
          "output_type": "stream",
          "name": "stdout",
          "text": [
            "Model: \"sequential_7\"\n",
            "_________________________________________________________________\n",
            " Layer (type)                Output Shape              Param #   \n",
            "=================================================================\n",
            " dense_17 (Dense)            (None, 100)               200       \n",
            "                                                                 \n",
            " dense_18 (Dense)            (None, 100)               10100     \n",
            "                                                                 \n",
            " dense_19 (Dense)            (None, 1)                 101       \n",
            "                                                                 \n",
            "=================================================================\n",
            "Total params: 10,401\n",
            "Trainable params: 10,401\n",
            "Non-trainable params: 0\n",
            "_________________________________________________________________\n"
          ]
        }
      ]
    },
    {
      "cell_type": "code",
      "source": [
        "model_5_preds = model_5.predict(X_test)\n",
        "loaded_model_preds = loaded_model.predict(X_test)\n",
        "model_5_preds == loaded_model_preds"
      ],
      "metadata": {
        "colab": {
          "base_uri": "https://localhost:8080/"
        },
        "id": "IBVBvNRcnDVc",
        "outputId": "ab5976bc-e373-417f-abad-64f9b1ca4d31"
      },
      "execution_count": null,
      "outputs": [
        {
          "output_type": "execute_result",
          "data": {
            "text/plain": [
              "array([[ True],\n",
              "       [ True],\n",
              "       [ True],\n",
              "       [ True],\n",
              "       [ True],\n",
              "       [ True],\n",
              "       [ True],\n",
              "       [ True],\n",
              "       [ True],\n",
              "       [ True]])"
            ]
          },
          "metadata": {},
          "execution_count": 73
        }
      ]
    },
    {
      "cell_type": "code",
      "source": [],
      "metadata": {
        "id": "JRHfof_xuDe3"
      },
      "execution_count": null,
      "outputs": []
    }
  ]
}